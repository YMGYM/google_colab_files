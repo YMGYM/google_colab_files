{
  "nbformat": 4,
  "nbformat_minor": 0,
  "metadata": {
    "colab": {
      "name": "Emotionline.ipynb",
      "provenance": [],
      "collapsed_sections": [],
      "toc_visible": true,
      "mount_file_id": "1eEtqzVDfOr9QDMj_YIOfk9flgMSVKwwT",
      "authorship_tag": "ABX9TyOEdvUa3bBHodse+am648DY",
      "include_colab_link": true
    },
    "kernelspec": {
      "name": "python3",
      "display_name": "Python 3"
    }
  },
  "cells": [
    {
      "cell_type": "markdown",
      "metadata": {
        "id": "view-in-github",
        "colab_type": "text"
      },
      "source": [
        "<a href=\"https://colab.research.google.com/github/YMGYM/google_colab_files/blob/master/Emotionline.ipynb\" target=\"_parent\"><img src=\"https://colab.research.google.com/assets/colab-badge.svg\" alt=\"Open In Colab\"/></a>"
      ]
    },
    {
      "cell_type": "markdown",
      "metadata": {
        "id": "IpTVd_Ps1Q0X",
        "colab_type": "text"
      },
      "source": [
        "# Emitionline 데이터셋"
      ]
    },
    {
      "cell_type": "code",
      "metadata": {
        "id": "d9tvJZGcAFGZ",
        "colab_type": "code",
        "colab": {
          "base_uri": "https://localhost:8080/",
          "height": 85
        },
        "outputId": "06e7c96b-3073-4d37-e5ef-8f4869dc03d5"
      },
      "source": [
        "! tar -xvzf /content/drive/My\\ Drive/Datasets/Emotionlines/EmotionLines_friends_annotation.tar.gz"
      ],
      "execution_count": 1,
      "outputs": [
        {
          "output_type": "stream",
          "text": [
            "EmotionLines/Friends/friends_train.json\n",
            "EmotionLines/Friends/friends_dev.json\n",
            "EmotionLines/Friends/friends_test.json\n",
            "EmotionLines/README\n"
          ],
          "name": "stdout"
        }
      ]
    },
    {
      "cell_type": "code",
      "metadata": {
        "id": "8mVIBAkgAZNf",
        "colab_type": "code",
        "colab": {}
      },
      "source": [
        "import pandas as pd\n",
        "import json"
      ],
      "execution_count": 2,
      "outputs": []
    },
    {
      "cell_type": "code",
      "metadata": {
        "id": "kGeUpe16WhOW",
        "colab_type": "code",
        "colab": {
          "base_uri": "https://localhost:8080/",
          "height": 34
        },
        "outputId": "b52a5f43-3682-465b-9067-83151757621e"
      },
      "source": [
        "with open('/content/EmotionLines/Friends/friends_train.json', encoding='utf-8', mode='r') as f:\n",
        "  array = json.load(f)\n",
        "\n",
        "data =[]\n",
        "for i in range(len(array)):\n",
        "  data += array[i]\n",
        "print(f\"Total length of data : {len(data)}\")\n",
        "df = pd.DataFrame(data)"
      ],
      "execution_count": 3,
      "outputs": [
        {
          "output_type": "stream",
          "text": [
            "Total length of data : 10561\n"
          ],
          "name": "stdout"
        }
      ]
    },
    {
      "cell_type": "code",
      "metadata": {
        "id": "e0V0XA3mWkup",
        "colab_type": "code",
        "colab": {
          "base_uri": "https://localhost:8080/",
          "height": 419
        },
        "outputId": "d7874ab7-63d8-4ce6-84bd-9206fe0aaef1"
      },
      "source": [
        "df"
      ],
      "execution_count": 4,
      "outputs": [
        {
          "output_type": "execute_result",
          "data": {
            "text/html": [
              "<div>\n",
              "<style scoped>\n",
              "    .dataframe tbody tr th:only-of-type {\n",
              "        vertical-align: middle;\n",
              "    }\n",
              "\n",
              "    .dataframe tbody tr th {\n",
              "        vertical-align: top;\n",
              "    }\n",
              "\n",
              "    .dataframe thead th {\n",
              "        text-align: right;\n",
              "    }\n",
              "</style>\n",
              "<table border=\"1\" class=\"dataframe\">\n",
              "  <thead>\n",
              "    <tr style=\"text-align: right;\">\n",
              "      <th></th>\n",
              "      <th>speaker</th>\n",
              "      <th>utterance</th>\n",
              "      <th>emotion</th>\n",
              "      <th>annotation</th>\n",
              "    </tr>\n",
              "  </thead>\n",
              "  <tbody>\n",
              "    <tr>\n",
              "      <th>0</th>\n",
              "      <td>Chandler</td>\n",
              "      <td>also I was the point person on my companys tr...</td>\n",
              "      <td>neutral</td>\n",
              "      <td>4100000</td>\n",
              "    </tr>\n",
              "    <tr>\n",
              "      <th>1</th>\n",
              "      <td>The Interviewer</td>\n",
              "      <td>You mustve had your hands full.</td>\n",
              "      <td>neutral</td>\n",
              "      <td>5000000</td>\n",
              "    </tr>\n",
              "    <tr>\n",
              "      <th>2</th>\n",
              "      <td>Chandler</td>\n",
              "      <td>That I did. That I did.</td>\n",
              "      <td>neutral</td>\n",
              "      <td>5000000</td>\n",
              "    </tr>\n",
              "    <tr>\n",
              "      <th>3</th>\n",
              "      <td>The Interviewer</td>\n",
              "      <td>So lets talk a little bit about your duties.</td>\n",
              "      <td>neutral</td>\n",
              "      <td>5000000</td>\n",
              "    </tr>\n",
              "    <tr>\n",
              "      <th>4</th>\n",
              "      <td>Chandler</td>\n",
              "      <td>My duties?  All right.</td>\n",
              "      <td>surprise</td>\n",
              "      <td>2000030</td>\n",
              "    </tr>\n",
              "    <tr>\n",
              "      <th>...</th>\n",
              "      <td>...</td>\n",
              "      <td>...</td>\n",
              "      <td>...</td>\n",
              "      <td>...</td>\n",
              "    </tr>\n",
              "    <tr>\n",
              "      <th>10556</th>\n",
              "      <td>Chandler</td>\n",
              "      <td>You or me?</td>\n",
              "      <td>neutral</td>\n",
              "      <td>3000011</td>\n",
              "    </tr>\n",
              "    <tr>\n",
              "      <th>10557</th>\n",
              "      <td>Ross</td>\n",
              "      <td>I got it. Uh, Joey, women don't have Adam's ap...</td>\n",
              "      <td>non-neutral</td>\n",
              "      <td>2100011</td>\n",
              "    </tr>\n",
              "    <tr>\n",
              "      <th>10558</th>\n",
              "      <td>Joey</td>\n",
              "      <td>You guys are messing with me, right?</td>\n",
              "      <td>surprise</td>\n",
              "      <td>0000050</td>\n",
              "    </tr>\n",
              "    <tr>\n",
              "      <th>10559</th>\n",
              "      <td>All</td>\n",
              "      <td>Yeah.</td>\n",
              "      <td>neutral</td>\n",
              "      <td>4000010</td>\n",
              "    </tr>\n",
              "    <tr>\n",
              "      <th>10560</th>\n",
              "      <td>Joey</td>\n",
              "      <td>That was a good one. For a second there, I was...</td>\n",
              "      <td>non-neutral</td>\n",
              "      <td>1200020</td>\n",
              "    </tr>\n",
              "  </tbody>\n",
              "</table>\n",
              "<p>10561 rows × 4 columns</p>\n",
              "</div>"
            ],
            "text/plain": [
              "               speaker  ... annotation\n",
              "0             Chandler  ...    4100000\n",
              "1      The Interviewer  ...    5000000\n",
              "2             Chandler  ...    5000000\n",
              "3      The Interviewer  ...    5000000\n",
              "4             Chandler  ...    2000030\n",
              "...                ...  ...        ...\n",
              "10556         Chandler  ...    3000011\n",
              "10557             Ross  ...    2100011\n",
              "10558             Joey  ...    0000050\n",
              "10559              All  ...    4000010\n",
              "10560             Joey  ...    1200020\n",
              "\n",
              "[10561 rows x 4 columns]"
            ]
          },
          "metadata": {
            "tags": []
          },
          "execution_count": 4
        }
      ]
    },
    {
      "cell_type": "code",
      "metadata": {
        "id": "F8bp21VZXJ3d",
        "colab_type": "code",
        "colab": {
          "base_uri": "https://localhost:8080/",
          "height": 170
        },
        "outputId": "5ab9fc36-2db2-474c-c338-58eae2cb689e"
      },
      "source": [
        "df['emotion'].value_counts()"
      ],
      "execution_count": 5,
      "outputs": [
        {
          "output_type": "execute_result",
          "data": {
            "text/plain": [
              "neutral        4752\n",
              "non-neutral    2017\n",
              "joy            1283\n",
              "surprise       1220\n",
              "anger           513\n",
              "sadness         351\n",
              "disgust         240\n",
              "fear            185\n",
              "Name: emotion, dtype: int64"
            ]
          },
          "metadata": {
            "tags": []
          },
          "execution_count": 5
        }
      ]
    },
    {
      "cell_type": "code",
      "metadata": {
        "id": "liyUrlIkYL22",
        "colab_type": "code",
        "colab": {}
      },
      "source": [
        "# change the value to dtype: Category\n",
        "df['emotion'] = pd.Categorical(df['emotion'])\n",
        "\n",
        "# cat(egory).codes print the code of category\n",
        "emotion_codes = df.emotion.cat.codes"
      ],
      "execution_count": 6,
      "outputs": []
    },
    {
      "cell_type": "code",
      "metadata": {
        "id": "UGUArjpScEO7",
        "colab_type": "code",
        "colab": {
          "base_uri": "https://localhost:8080/",
          "height": 221
        },
        "outputId": "16935ab6-4616-4ad6-8c42-613ddf9adbe8"
      },
      "source": [
        "emotion_codes"
      ],
      "execution_count": 7,
      "outputs": [
        {
          "output_type": "execute_result",
          "data": {
            "text/plain": [
              "0        4\n",
              "1        4\n",
              "2        4\n",
              "3        4\n",
              "4        7\n",
              "        ..\n",
              "10556    4\n",
              "10557    5\n",
              "10558    7\n",
              "10559    4\n",
              "10560    5\n",
              "Length: 10561, dtype: int8"
            ]
          },
          "metadata": {
            "tags": []
          },
          "execution_count": 7
        }
      ]
    },
    {
      "cell_type": "code",
      "metadata": {
        "id": "BIolQTTcaHAu",
        "colab_type": "code",
        "colab": {
          "base_uri": "https://localhost:8080/",
          "height": 170
        },
        "outputId": "161f3d0c-bbfd-4ba9-86e8-2a304991c6f0"
      },
      "source": [
        "df['emotion'].value_counts()"
      ],
      "execution_count": 8,
      "outputs": [
        {
          "output_type": "execute_result",
          "data": {
            "text/plain": [
              "neutral        4752\n",
              "non-neutral    2017\n",
              "joy            1283\n",
              "surprise       1220\n",
              "anger           513\n",
              "sadness         351\n",
              "disgust         240\n",
              "fear            185\n",
              "Name: emotion, dtype: int64"
            ]
          },
          "metadata": {
            "tags": []
          },
          "execution_count": 8
        }
      ]
    },
    {
      "cell_type": "code",
      "metadata": {
        "id": "EGAVz_mabuNO",
        "colab_type": "code",
        "colab": {
          "base_uri": "https://localhost:8080/",
          "height": 102
        },
        "outputId": "92bab55f-13bf-4576-efc0-2dbf32ca18fe"
      },
      "source": [
        "for i, utter in enumerate(df.utterance):\n",
        "  if i < 5:\n",
        "    print(utter)\n",
        "  else:\n",
        "    break"
      ],
      "execution_count": 9,
      "outputs": [
        {
          "output_type": "stream",
          "text": [
            "also I was the point person on my companys transition from the KL-5 to GR-6 system.\n",
            "You mustve had your hands full.\n",
            "That I did. That I did.\n",
            "So lets talk a little bit about your duties.\n",
            "My duties?  All right.\n"
          ],
          "name": "stdout"
        }
      ]
    },
    {
      "cell_type": "markdown",
      "metadata": {
        "id": "mIwT7Dbeb0e1",
        "colab_type": "text"
      },
      "source": [
        "# make data\n",
        "\n"
      ]
    },
    {
      "cell_type": "markdown",
      "metadata": {
        "id": "evBZTTfOn6bk",
        "colab_type": "text"
      },
      "source": [
        "make the dataset to tensor"
      ]
    },
    {
      "cell_type": "code",
      "metadata": {
        "id": "1DwnbuoPhKns",
        "colab_type": "code",
        "colab": {}
      },
      "source": [
        "import tensorflow as tf\n",
        "import tensorflow.keras as K\n",
        "import numpy as np"
      ],
      "execution_count": 10,
      "outputs": []
    },
    {
      "cell_type": "code",
      "metadata": {
        "id": "zHOZFFwEhL7F",
        "colab_type": "code",
        "colab": {}
      },
      "source": [
        "x_train = df.pop('utterance')\n",
        "y_train = emotion_codes"
      ],
      "execution_count": 11,
      "outputs": []
    },
    {
      "cell_type": "code",
      "metadata": {
        "id": "eAzNnSqeiwEp",
        "colab_type": "code",
        "colab": {
          "base_uri": "https://localhost:8080/",
          "height": 102
        },
        "outputId": "4de3fcf3-6353-4549-f57a-3b8caa1c4a37"
      },
      "source": [
        "x_train.values"
      ],
      "execution_count": 12,
      "outputs": [
        {
          "output_type": "execute_result",
          "data": {
            "text/plain": [
              "array(['also I was the point person on my company\\x92s transition from the KL-5 to GR-6 system.',\n",
              "       'You must\\x92ve had your hands full.', 'That I did. That I did.',\n",
              "       ..., 'You guys are messing with me, right?', 'Yeah.',\n",
              "       'That was a good one. For a second there, I was like, \"whoa.\"'],\n",
              "      dtype=object)"
            ]
          },
          "metadata": {
            "tags": []
          },
          "execution_count": 12
        }
      ]
    },
    {
      "cell_type": "code",
      "metadata": {
        "id": "85lOGO-Zj8VN",
        "colab_type": "code",
        "colab": {
          "base_uri": "https://localhost:8080/",
          "height": 34
        },
        "outputId": "f610fe18-af4a-4779-d5cc-ef0ebd8e71ec"
      },
      "source": [
        "y_onehot = tf.one_hot(y_train, depth=8)\n",
        "y_onehot.shape"
      ],
      "execution_count": 13,
      "outputs": [
        {
          "output_type": "execute_result",
          "data": {
            "text/plain": [
              "TensorShape([10561, 8])"
            ]
          },
          "metadata": {
            "tags": []
          },
          "execution_count": 13
        }
      ]
    },
    {
      "cell_type": "markdown",
      "metadata": {
        "id": "pCBi4Mr36tND",
        "colab_type": "text"
      },
      "source": [
        "이 이하는 실행 안 해도 됨"
      ]
    },
    {
      "cell_type": "code",
      "metadata": {
        "id": "doWsMuOmj9Vp",
        "colab_type": "code",
        "colab": {}
      },
      "source": [
        "dataset = tf.data.Dataset.from_tensor_slices(x_train)"
      ],
      "execution_count": 14,
      "outputs": []
    },
    {
      "cell_type": "code",
      "metadata": {
        "id": "BQGItl9ekfmi",
        "colab_type": "code",
        "colab": {
          "base_uri": "https://localhost:8080/",
          "height": 122
        },
        "outputId": "23a4b869-2649-45d9-c036-eab5c794faf3"
      },
      "source": [
        "for t in dataset.take(5):\n",
        "  print(t)"
      ],
      "execution_count": 15,
      "outputs": [
        {
          "output_type": "stream",
          "text": [
            "tf.Tensor(b'also I was the point person on my company\\xc2\\x92s transition from the KL-5 to GR-6 system.', shape=(), dtype=string)\n",
            "tf.Tensor(b'You must\\xc2\\x92ve had your hands full.', shape=(), dtype=string)\n",
            "tf.Tensor(b'That I did. That I did.', shape=(), dtype=string)\n",
            "tf.Tensor(b'So let\\xc2\\x92s talk a little bit about your duties.', shape=(), dtype=string)\n",
            "tf.Tensor(b'My duties?  All right.', shape=(), dtype=string)\n"
          ],
          "name": "stdout"
        }
      ]
    },
    {
      "cell_type": "code",
      "metadata": {
        "id": "aT-zJgsakja5",
        "colab_type": "code",
        "colab": {
          "base_uri": "https://localhost:8080/",
          "height": 102
        },
        "outputId": "ef928392-81dd-4e43-a100-8a166e813ec8"
      },
      "source": [
        "train_data = dataset.shuffle(len(df))\n",
        "for t in train_data.take(5):\n",
        "  print(t)"
      ],
      "execution_count": 16,
      "outputs": [
        {
          "output_type": "stream",
          "text": [
            "tf.Tensor(b'Hey. What, what are you doing here?', shape=(), dtype=string)\n",
            "tf.Tensor(b'No!', shape=(), dtype=string)\n",
            "tf.Tensor(b'Y\\xc2\\x92know when we move in together, can I get a gumball machine?', shape=(), dtype=string)\n",
            "tf.Tensor(b'Hey Rach! Hey, you mind if I read my comic books in here?', shape=(), dtype=string)\n",
            "tf.Tensor(b'I know, just quick-quick question, quick question. Which one was', shape=(), dtype=string)\n"
          ],
          "name": "stdout"
        }
      ]
    },
    {
      "cell_type": "markdown",
      "metadata": {
        "id": "U4WWAtZolFnO",
        "colab_type": "text"
      },
      "source": [
        "# Tokenizer"
      ]
    },
    {
      "cell_type": "code",
      "metadata": {
        "id": "C5FUP8lnlxcD",
        "colab_type": "code",
        "colab": {}
      },
      "source": [
        "tokenizer = K.preprocessing.text.Tokenizer(num_words = 4000, char_level=False)"
      ],
      "execution_count": 17,
      "outputs": []
    },
    {
      "cell_type": "code",
      "metadata": {
        "id": "yRc-9tfyl6GZ",
        "colab_type": "code",
        "colab": {}
      },
      "source": [
        "tokenizer.fit_on_texts(x_train.values)"
      ],
      "execution_count": 18,
      "outputs": []
    },
    {
      "cell_type": "code",
      "metadata": {
        "id": "SWR4PfYHmAHB",
        "colab_type": "code",
        "colab": {}
      },
      "source": [
        "x_in = tokenizer.texts_to_sequences(x_train)"
      ],
      "execution_count": 19,
      "outputs": []
    },
    {
      "cell_type": "code",
      "metadata": {
        "id": "U3gwgbfkTK2Z",
        "colab_type": "code",
        "colab": {
          "base_uri": "https://localhost:8080/",
          "height": 136
        },
        "outputId": "fa83a16e-f2a5-43d0-caf9-f0ac610084f4"
      },
      "source": [
        "x_in = tf.keras.preprocessing.sequence.pad_sequences(x_in)\n",
        "print(x_in)"
      ],
      "execution_count": 20,
      "outputs": [
        {
          "output_type": "stream",
          "text": [
            "[[   0    0    0 ... 2888  905  906]\n",
            " [   0    0    0 ...   40  709  827]\n",
            " [   0    0    0 ...    9    1   73]\n",
            " ...\n",
            " [   0    0    0 ...   36   14   34]\n",
            " [   0    0    0 ...    0    0   17]\n",
            " [   0    0    0 ...   35   42  177]]\n"
          ],
          "name": "stdout"
        }
      ]
    },
    {
      "cell_type": "code",
      "metadata": {
        "id": "MdP4Wy19VYza",
        "colab_type": "code",
        "colab": {
          "base_uri": "https://localhost:8080/",
          "height": 34
        },
        "outputId": "9b9664ab-da85-405d-bb3a-df8576ee4ffb"
      },
      "source": [
        "x_in.shape"
      ],
      "execution_count": 21,
      "outputs": [
        {
          "output_type": "execute_result",
          "data": {
            "text/plain": [
              "(10561, 68)"
            ]
          },
          "metadata": {
            "tags": []
          },
          "execution_count": 21
        }
      ]
    },
    {
      "cell_type": "markdown",
      "metadata": {
        "id": "8iZehXXAE8hZ",
        "colab_type": "text"
      },
      "source": [
        "# Embedding"
      ]
    },
    {
      "cell_type": "code",
      "metadata": {
        "id": "Y6dj6GHmG9k3",
        "colab_type": "code",
        "colab": {}
      },
      "source": [
        "from tensorflow.keras.layers import Embedding, Flatten, Dense, ReLU, Softmax"
      ],
      "execution_count": 22,
      "outputs": []
    },
    {
      "cell_type": "markdown",
      "metadata": {
        "id": "EX_PZNkE64-e",
        "colab_type": "text"
      },
      "source": [
        "## Hyperparameter"
      ]
    },
    {
      "cell_type": "code",
      "metadata": {
        "id": "7LyqwmXO67vK",
        "colab_type": "code",
        "colab": {}
      },
      "source": [
        "INPUT_DIM = 4000\n",
        "EMBED_DIM = 1000\n",
        "INPUT_LEN = 68\n",
        "RNN_DEPTH = 128\n",
        "FIRST_DENSE = 64\n",
        "OUTPUT_LEN = 8\n",
        "BATCH_SIZE = 100\n",
        "EPOCHS = 10\n",
        "SHUFFLE = True"
      ],
      "execution_count": 42,
      "outputs": []
    },
    {
      "cell_type": "markdown",
      "metadata": {
        "id": "ZqlVTXJmHnP9",
        "colab_type": "text"
      },
      "source": [
        "Model Create"
      ]
    },
    {
      "cell_type": "code",
      "metadata": {
        "id": "QYemcBkcHuFp",
        "colab_type": "code",
        "colab": {
          "base_uri": "https://localhost:8080/",
          "height": 357
        },
        "outputId": "78fb29f0-74cf-4b90-a0ca-773ad22d5db9"
      },
      "source": [
        "model = K.Sequential()\n",
        "model.add(Embedding(input_dim = INPUT_DIM, output_dim=EMBED_DIM, input_length=INPUT_LEN))\n",
        "model.add(Flatten())\n",
        "model.add(Dense(FIRST_DENSE))\n",
        "model.add(ReLU())\n",
        "model.add(Dense(OUTPUT_LEN))\n",
        "model.add(Softmax())\n",
        "\n",
        "model.summary()"
      ],
      "execution_count": 24,
      "outputs": [
        {
          "output_type": "stream",
          "text": [
            "Model: \"sequential\"\n",
            "_________________________________________________________________\n",
            "Layer (type)                 Output Shape              Param #   \n",
            "=================================================================\n",
            "embedding (Embedding)        (None, 68, 100)           400000    \n",
            "_________________________________________________________________\n",
            "flatten (Flatten)            (None, 6800)              0         \n",
            "_________________________________________________________________\n",
            "dense (Dense)                (None, 500)               3400500   \n",
            "_________________________________________________________________\n",
            "re_lu (ReLU)                 (None, 500)               0         \n",
            "_________________________________________________________________\n",
            "dense_1 (Dense)              (None, 8)                 4008      \n",
            "_________________________________________________________________\n",
            "softmax (Softmax)            (None, 8)                 0         \n",
            "=================================================================\n",
            "Total params: 3,804,508\n",
            "Trainable params: 3,804,508\n",
            "Non-trainable params: 0\n",
            "_________________________________________________________________\n"
          ],
          "name": "stdout"
        }
      ]
    },
    {
      "cell_type": "code",
      "metadata": {
        "id": "2KtiGkBMIXYe",
        "colab_type": "code",
        "colab": {}
      },
      "source": [
        "model.compile(optimizer=\"Adam\", loss=K.losses.CategoricalCrossentropy())"
      ],
      "execution_count": 25,
      "outputs": []
    },
    {
      "cell_type": "code",
      "metadata": {
        "id": "L6NNFeSEI2ZN",
        "colab_type": "code",
        "colab": {
          "base_uri": "https://localhost:8080/",
          "height": 374
        },
        "outputId": "9d9c9df7-7bcb-4fde-9d58-46663ea61c8c"
      },
      "source": [
        "model.fit(x=x_in, y=y_onehot, batch_size=BATCH_SIZE, epochs=EPOCHS, shuffle=SHUFFLE)"
      ],
      "execution_count": 26,
      "outputs": [
        {
          "output_type": "stream",
          "text": [
            "Epoch 1/10\n",
            "106/106 [==============================] - 6s 59ms/step - loss: 1.5783\n",
            "Epoch 2/10\n",
            "106/106 [==============================] - 6s 58ms/step - loss: 1.3570\n",
            "Epoch 3/10\n",
            "106/106 [==============================] - 6s 59ms/step - loss: 1.0809\n",
            "Epoch 4/10\n",
            "106/106 [==============================] - 6s 58ms/step - loss: 0.8159\n",
            "Epoch 5/10\n",
            "106/106 [==============================] - 6s 58ms/step - loss: 0.6142\n",
            "Epoch 6/10\n",
            "106/106 [==============================] - 6s 58ms/step - loss: 0.4867\n",
            "Epoch 7/10\n",
            "106/106 [==============================] - 6s 57ms/step - loss: 0.4098\n",
            "Epoch 8/10\n",
            "106/106 [==============================] - 6s 58ms/step - loss: 0.3579\n",
            "Epoch 9/10\n",
            "106/106 [==============================] - 6s 58ms/step - loss: 0.3309\n",
            "Epoch 10/10\n",
            "106/106 [==============================] - 6s 59ms/step - loss: 0.3059\n"
          ],
          "name": "stdout"
        },
        {
          "output_type": "execute_result",
          "data": {
            "text/plain": [
              "<tensorflow.python.keras.callbacks.History at 0x7f5d42666e80>"
            ]
          },
          "metadata": {
            "tags": []
          },
          "execution_count": 26
        }
      ]
    },
    {
      "cell_type": "markdown",
      "metadata": {
        "id": "NrmGvMhYcvk4",
        "colab_type": "text"
      },
      "source": [
        "# Model evaluation"
      ]
    },
    {
      "cell_type": "code",
      "metadata": {
        "id": "gQ_S9XRH7z4m",
        "colab_type": "code",
        "colab": {}
      },
      "source": [
        "def make_test_sample(text):\n",
        "  test_data = tokenizer.texts_to_sequences(text)\n",
        "  test_data = tf.keras.preprocessing.sequence.pad_sequences(test_data, maxlen=68)\n",
        "  print(test_data)\n",
        "  print(test_data.shape)\n",
        "  return test_data"
      ],
      "execution_count": 27,
      "outputs": []
    },
    {
      "cell_type": "code",
      "metadata": {
        "id": "j9x26DlPI_hF",
        "colab_type": "code",
        "colab": {
          "base_uri": "https://localhost:8080/",
          "height": 102
        },
        "outputId": "9822a7a3-31f8-4d37-ee7a-21a2fbe09a88"
      },
      "source": [
        "test_data = make_test_sample([\"Hello Hello I'm Jisoo\"])"
      ],
      "execution_count": 28,
      "outputs": [
        {
          "output_type": "stream",
          "text": [
            "[[  0   0   0   0   0   0   0   0   0   0   0   0   0   0   0   0   0   0\n",
            "    0   0   0   0   0   0   0   0   0   0   0   0   0   0   0   0   0   0\n",
            "    0   0   0   0   0   0   0   0   0   0   0   0   0   0   0   0   0   0\n",
            "    0   0   0   0   0   0   0   0   0   0   0 191 191  52]]\n",
            "(1, 68)\n"
          ],
          "name": "stdout"
        }
      ]
    },
    {
      "cell_type": "code",
      "metadata": {
        "id": "DsxkXNzGQknQ",
        "colab_type": "code",
        "colab": {}
      },
      "source": [
        "result = model.predict(test_data, batch_size=BATCH_SIZE)"
      ],
      "execution_count": 29,
      "outputs": []
    },
    {
      "cell_type": "code",
      "metadata": {
        "id": "aHuKASBydSGi",
        "colab_type": "code",
        "colab": {
          "base_uri": "https://localhost:8080/",
          "height": 34
        },
        "outputId": "6c2fe442-00e1-4a87-8162-2de8e039e51c"
      },
      "source": [
        "answer = result.argmax()\n",
        "print(emo_cat.categories[answer])"
      ],
      "execution_count": 36,
      "outputs": [
        {
          "output_type": "stream",
          "text": [
            "neutral\n"
          ],
          "name": "stdout"
        }
      ]
    },
    {
      "cell_type": "markdown",
      "metadata": {
        "id": "X4rvjX2SjkJF",
        "colab_type": "text"
      },
      "source": [
        "# Categories And codes"
      ]
    },
    {
      "cell_type": "code",
      "metadata": {
        "id": "-Ldwzys0ejTM",
        "colab_type": "code",
        "colab": {
          "base_uri": "https://localhost:8080/",
          "height": 34
        },
        "outputId": "b35b4e38-0390-4e35-83b2-d7fdb72b9ae8"
      },
      "source": [
        "emo_cat = pd.Categorical(df['emotion'])\n",
        "emo_cat.categories\n",
        "emo_cat.codes"
      ],
      "execution_count": 34,
      "outputs": [
        {
          "output_type": "execute_result",
          "data": {
            "text/plain": [
              "array([4, 4, 4, ..., 7, 4, 5], dtype=int8)"
            ]
          },
          "metadata": {
            "tags": []
          },
          "execution_count": 34
        }
      ]
    },
    {
      "cell_type": "code",
      "metadata": {
        "id": "TaMBw3cxg7S_",
        "colab_type": "code",
        "colab": {
          "base_uri": "https://localhost:8080/",
          "height": 297
        },
        "outputId": "3d157026-1e72-49e3-9f5e-ca3abee5dde8"
      },
      "source": [
        "emo_df = pd.DataFrame(\n",
        "    {\"emotion\" : emo_cat.categories}\n",
        ")\n",
        "emo_df"
      ],
      "execution_count": 35,
      "outputs": [
        {
          "output_type": "execute_result",
          "data": {
            "text/html": [
              "<div>\n",
              "<style scoped>\n",
              "    .dataframe tbody tr th:only-of-type {\n",
              "        vertical-align: middle;\n",
              "    }\n",
              "\n",
              "    .dataframe tbody tr th {\n",
              "        vertical-align: top;\n",
              "    }\n",
              "\n",
              "    .dataframe thead th {\n",
              "        text-align: right;\n",
              "    }\n",
              "</style>\n",
              "<table border=\"1\" class=\"dataframe\">\n",
              "  <thead>\n",
              "    <tr style=\"text-align: right;\">\n",
              "      <th></th>\n",
              "      <th>emotion</th>\n",
              "    </tr>\n",
              "  </thead>\n",
              "  <tbody>\n",
              "    <tr>\n",
              "      <th>0</th>\n",
              "      <td>anger</td>\n",
              "    </tr>\n",
              "    <tr>\n",
              "      <th>1</th>\n",
              "      <td>disgust</td>\n",
              "    </tr>\n",
              "    <tr>\n",
              "      <th>2</th>\n",
              "      <td>fear</td>\n",
              "    </tr>\n",
              "    <tr>\n",
              "      <th>3</th>\n",
              "      <td>joy</td>\n",
              "    </tr>\n",
              "    <tr>\n",
              "      <th>4</th>\n",
              "      <td>neutral</td>\n",
              "    </tr>\n",
              "    <tr>\n",
              "      <th>5</th>\n",
              "      <td>non-neutral</td>\n",
              "    </tr>\n",
              "    <tr>\n",
              "      <th>6</th>\n",
              "      <td>sadness</td>\n",
              "    </tr>\n",
              "    <tr>\n",
              "      <th>7</th>\n",
              "      <td>surprise</td>\n",
              "    </tr>\n",
              "  </tbody>\n",
              "</table>\n",
              "</div>"
            ],
            "text/plain": [
              "       emotion\n",
              "0        anger\n",
              "1      disgust\n",
              "2         fear\n",
              "3          joy\n",
              "4      neutral\n",
              "5  non-neutral\n",
              "6      sadness\n",
              "7     surprise"
            ]
          },
          "metadata": {
            "tags": []
          },
          "execution_count": 35
        }
      ]
    },
    {
      "cell_type": "markdown",
      "metadata": {
        "id": "YTZIXzffi2Vu",
        "colab_type": "text"
      },
      "source": [
        "# Make RNN model"
      ]
    },
    {
      "cell_type": "code",
      "metadata": {
        "id": "ppI-d7UUjpjK",
        "colab_type": "code",
        "colab": {}
      },
      "source": [
        "from tensorflow.keras.layers import SimpleRNN"
      ],
      "execution_count": 38,
      "outputs": []
    },
    {
      "cell_type": "code",
      "metadata": {
        "id": "43bf_ksXf_7D",
        "colab_type": "code",
        "colab": {
          "base_uri": "https://localhost:8080/",
          "height": 391
        },
        "outputId": "725ac935-9cf6-43d3-ca96-4b3985f74aab"
      },
      "source": [
        "rnnModel = K.Sequential()\n",
        "rnnModel.add(Embedding(input_dim = INPUT_DIM, output_dim=EMBED_DIM, input_length=INPUT_LEN))\n",
        "rnnModel.add(SimpleRNN(RNN_DEPTH))\n",
        "rnnModel.add(Flatten())\n",
        "rnnModel.add(Dense(FIRST_DENSE))\n",
        "rnnModel.add(ReLU())\n",
        "rnnModel.add(Dense(OUTPUT_LEN))\n",
        "rnnModel.add(Softmax())\n",
        "\n",
        "rnnModel.summary()"
      ],
      "execution_count": 45,
      "outputs": [
        {
          "output_type": "stream",
          "text": [
            "Model: \"sequential_2\"\n",
            "_________________________________________________________________\n",
            "Layer (type)                 Output Shape              Param #   \n",
            "=================================================================\n",
            "embedding_2 (Embedding)      (None, 68, 1000)          4000000   \n",
            "_________________________________________________________________\n",
            "simple_rnn_1 (SimpleRNN)     (None, 128)               144512    \n",
            "_________________________________________________________________\n",
            "flatten_2 (Flatten)          (None, 128)               0         \n",
            "_________________________________________________________________\n",
            "dense_4 (Dense)              (None, 64)                8256      \n",
            "_________________________________________________________________\n",
            "re_lu_2 (ReLU)               (None, 64)                0         \n",
            "_________________________________________________________________\n",
            "dense_5 (Dense)              (None, 8)                 520       \n",
            "_________________________________________________________________\n",
            "softmax_2 (Softmax)          (None, 8)                 0         \n",
            "=================================================================\n",
            "Total params: 4,153,288\n",
            "Trainable params: 4,153,288\n",
            "Non-trainable params: 0\n",
            "_________________________________________________________________\n"
          ],
          "name": "stdout"
        }
      ]
    },
    {
      "cell_type": "code",
      "metadata": {
        "id": "COGm0HbBiLTI",
        "colab_type": "code",
        "colab": {}
      },
      "source": [
        "rnnModel.compile(optimizer=\"Adam\", loss=K.losses.CategoricalCrossentropy())"
      ],
      "execution_count": 46,
      "outputs": []
    },
    {
      "cell_type": "code",
      "metadata": {
        "id": "tT8CZBmUilLT",
        "colab_type": "code",
        "colab": {
          "base_uri": "https://localhost:8080/",
          "height": 374
        },
        "outputId": "a31a7cc0-5c61-472c-fe9d-d57a340f7996"
      },
      "source": [
        "rnnModel.fit(x=x_in, y=y_onehot, batch_size=BATCH_SIZE, epochs=EPOCHS, shuffle=SHUFFLE)"
      ],
      "execution_count": 47,
      "outputs": [
        {
          "output_type": "stream",
          "text": [
            "Epoch 1/10\n",
            "106/106 [==============================] - 26s 241ms/step - loss: 1.5589\n",
            "Epoch 2/10\n",
            "106/106 [==============================] - 25s 240ms/step - loss: 1.2506\n",
            "Epoch 3/10\n",
            "106/106 [==============================] - 25s 236ms/step - loss: 0.8820\n",
            "Epoch 4/10\n",
            "106/106 [==============================] - 25s 238ms/step - loss: 0.6190\n",
            "Epoch 5/10\n",
            "106/106 [==============================] - 25s 238ms/step - loss: 0.4839\n",
            "Epoch 6/10\n",
            "106/106 [==============================] - 25s 238ms/step - loss: 0.4066\n",
            "Epoch 7/10\n",
            "106/106 [==============================] - 25s 238ms/step - loss: 0.3610\n",
            "Epoch 8/10\n",
            "106/106 [==============================] - 26s 242ms/step - loss: 0.3204\n",
            "Epoch 9/10\n",
            "106/106 [==============================] - 25s 239ms/step - loss: 0.2959\n",
            "Epoch 10/10\n",
            "106/106 [==============================] - 26s 244ms/step - loss: 0.2769\n"
          ],
          "name": "stdout"
        },
        {
          "output_type": "execute_result",
          "data": {
            "text/plain": [
              "<tensorflow.python.keras.callbacks.History at 0x7f5cf7338400>"
            ]
          },
          "metadata": {
            "tags": []
          },
          "execution_count": 47
        }
      ]
    },
    {
      "cell_type": "code",
      "metadata": {
        "id": "yoGARyX4io3R",
        "colab_type": "code",
        "colab": {}
      },
      "source": [
        ""
      ],
      "execution_count": null,
      "outputs": []
    }
  ]
}