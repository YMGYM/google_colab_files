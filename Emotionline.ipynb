{
  "nbformat": 4,
  "nbformat_minor": 0,
  "metadata": {
    "colab": {
      "name": "Emotionline.ipynb",
      "provenance": [],
      "collapsed_sections": [],
      "toc_visible": true,
      "mount_file_id": "1eEtqzVDfOr9QDMj_YIOfk9flgMSVKwwT",
      "authorship_tag": "ABX9TyPXdSemLABUv52Oxc0ldypG",
      "include_colab_link": true
    },
    "kernelspec": {
      "name": "python3",
      "display_name": "Python 3"
    }
  },
  "cells": [
    {
      "cell_type": "markdown",
      "metadata": {
        "id": "view-in-github",
        "colab_type": "text"
      },
      "source": [
        "<a href=\"https://colab.research.google.com/github/YMGYM/google_colab_files/blob/master/Emotionline.ipynb\" target=\"_parent\"><img src=\"https://colab.research.google.com/assets/colab-badge.svg\" alt=\"Open In Colab\"/></a>"
      ]
    },
    {
      "cell_type": "markdown",
      "metadata": {
        "id": "IpTVd_Ps1Q0X",
        "colab_type": "text"
      },
      "source": [
        "# Emitionline 데이터셋"
      ]
    },
    {
      "cell_type": "code",
      "metadata": {
        "id": "d9tvJZGcAFGZ",
        "colab_type": "code",
        "colab": {
          "base_uri": "https://localhost:8080/",
          "height": 85
        },
        "outputId": "21f39726-795b-4a15-8019-b3dd23754148"
      },
      "source": [
        "! tar -xvzf /content/drive/My\\ Drive/Datasets/Emotionlines/EmotionLines_friends_annotation.tar.gz"
      ],
      "execution_count": 200,
      "outputs": [
        {
          "output_type": "stream",
          "text": [
            "EmotionLines/Friends/friends_train.json\n",
            "EmotionLines/Friends/friends_dev.json\n",
            "EmotionLines/Friends/friends_test.json\n",
            "EmotionLines/README\n"
          ],
          "name": "stdout"
        }
      ]
    },
    {
      "cell_type": "code",
      "metadata": {
        "id": "8mVIBAkgAZNf",
        "colab_type": "code",
        "colab": {}
      },
      "source": [
        "import pandas as pd\n",
        "import json"
      ],
      "execution_count": 201,
      "outputs": []
    },
    {
      "cell_type": "code",
      "metadata": {
        "id": "kGeUpe16WhOW",
        "colab_type": "code",
        "colab": {
          "base_uri": "https://localhost:8080/",
          "height": 34
        },
        "outputId": "88079c5f-7058-4cac-dbec-40dda9448c1a"
      },
      "source": [
        "with open('/content/EmotionLines/Friends/friends_train.json', encoding='utf-8', mode='r') as f:\n",
        "  array = json.load(f)\n",
        "\n",
        "data =[]\n",
        "for i in range(len(array)):\n",
        "  data += array[i]\n",
        "print(f\"Total length of data : {len(data)}\")\n",
        "df = pd.DataFrame(data)"
      ],
      "execution_count": 214,
      "outputs": [
        {
          "output_type": "stream",
          "text": [
            "Total length of data : 10561\n"
          ],
          "name": "stdout"
        }
      ]
    },
    {
      "cell_type": "code",
      "metadata": {
        "id": "e0V0XA3mWkup",
        "colab_type": "code",
        "colab": {
          "base_uri": "https://localhost:8080/",
          "height": 419
        },
        "outputId": "0bcf27d2-b9bc-49d6-bead-255d12913dc1"
      },
      "source": [
        "df"
      ],
      "execution_count": 215,
      "outputs": [
        {
          "output_type": "execute_result",
          "data": {
            "text/html": [
              "<div>\n",
              "<style scoped>\n",
              "    .dataframe tbody tr th:only-of-type {\n",
              "        vertical-align: middle;\n",
              "    }\n",
              "\n",
              "    .dataframe tbody tr th {\n",
              "        vertical-align: top;\n",
              "    }\n",
              "\n",
              "    .dataframe thead th {\n",
              "        text-align: right;\n",
              "    }\n",
              "</style>\n",
              "<table border=\"1\" class=\"dataframe\">\n",
              "  <thead>\n",
              "    <tr style=\"text-align: right;\">\n",
              "      <th></th>\n",
              "      <th>speaker</th>\n",
              "      <th>utterance</th>\n",
              "      <th>emotion</th>\n",
              "      <th>annotation</th>\n",
              "    </tr>\n",
              "  </thead>\n",
              "  <tbody>\n",
              "    <tr>\n",
              "      <th>0</th>\n",
              "      <td>Chandler</td>\n",
              "      <td>also I was the point person on my companys tr...</td>\n",
              "      <td>neutral</td>\n",
              "      <td>4100000</td>\n",
              "    </tr>\n",
              "    <tr>\n",
              "      <th>1</th>\n",
              "      <td>The Interviewer</td>\n",
              "      <td>You mustve had your hands full.</td>\n",
              "      <td>neutral</td>\n",
              "      <td>5000000</td>\n",
              "    </tr>\n",
              "    <tr>\n",
              "      <th>2</th>\n",
              "      <td>Chandler</td>\n",
              "      <td>That I did. That I did.</td>\n",
              "      <td>neutral</td>\n",
              "      <td>5000000</td>\n",
              "    </tr>\n",
              "    <tr>\n",
              "      <th>3</th>\n",
              "      <td>The Interviewer</td>\n",
              "      <td>So lets talk a little bit about your duties.</td>\n",
              "      <td>neutral</td>\n",
              "      <td>5000000</td>\n",
              "    </tr>\n",
              "    <tr>\n",
              "      <th>4</th>\n",
              "      <td>Chandler</td>\n",
              "      <td>My duties?  All right.</td>\n",
              "      <td>surprise</td>\n",
              "      <td>2000030</td>\n",
              "    </tr>\n",
              "    <tr>\n",
              "      <th>...</th>\n",
              "      <td>...</td>\n",
              "      <td>...</td>\n",
              "      <td>...</td>\n",
              "      <td>...</td>\n",
              "    </tr>\n",
              "    <tr>\n",
              "      <th>10556</th>\n",
              "      <td>Chandler</td>\n",
              "      <td>You or me?</td>\n",
              "      <td>neutral</td>\n",
              "      <td>3000011</td>\n",
              "    </tr>\n",
              "    <tr>\n",
              "      <th>10557</th>\n",
              "      <td>Ross</td>\n",
              "      <td>I got it. Uh, Joey, women don't have Adam's ap...</td>\n",
              "      <td>non-neutral</td>\n",
              "      <td>2100011</td>\n",
              "    </tr>\n",
              "    <tr>\n",
              "      <th>10558</th>\n",
              "      <td>Joey</td>\n",
              "      <td>You guys are messing with me, right?</td>\n",
              "      <td>surprise</td>\n",
              "      <td>0000050</td>\n",
              "    </tr>\n",
              "    <tr>\n",
              "      <th>10559</th>\n",
              "      <td>All</td>\n",
              "      <td>Yeah.</td>\n",
              "      <td>neutral</td>\n",
              "      <td>4000010</td>\n",
              "    </tr>\n",
              "    <tr>\n",
              "      <th>10560</th>\n",
              "      <td>Joey</td>\n",
              "      <td>That was a good one. For a second there, I was...</td>\n",
              "      <td>non-neutral</td>\n",
              "      <td>1200020</td>\n",
              "    </tr>\n",
              "  </tbody>\n",
              "</table>\n",
              "<p>10561 rows × 4 columns</p>\n",
              "</div>"
            ],
            "text/plain": [
              "               speaker  ... annotation\n",
              "0             Chandler  ...    4100000\n",
              "1      The Interviewer  ...    5000000\n",
              "2             Chandler  ...    5000000\n",
              "3      The Interviewer  ...    5000000\n",
              "4             Chandler  ...    2000030\n",
              "...                ...  ...        ...\n",
              "10556         Chandler  ...    3000011\n",
              "10557             Ross  ...    2100011\n",
              "10558             Joey  ...    0000050\n",
              "10559              All  ...    4000010\n",
              "10560             Joey  ...    1200020\n",
              "\n",
              "[10561 rows x 4 columns]"
            ]
          },
          "metadata": {
            "tags": []
          },
          "execution_count": 215
        }
      ]
    },
    {
      "cell_type": "code",
      "metadata": {
        "id": "F8bp21VZXJ3d",
        "colab_type": "code",
        "colab": {
          "base_uri": "https://localhost:8080/",
          "height": 170
        },
        "outputId": "5264358d-1927-46ec-fe4b-4d8c54d945a4"
      },
      "source": [
        "df['emotion'].value_counts()"
      ],
      "execution_count": 216,
      "outputs": [
        {
          "output_type": "execute_result",
          "data": {
            "text/plain": [
              "neutral        4752\n",
              "non-neutral    2017\n",
              "joy            1283\n",
              "surprise       1220\n",
              "anger           513\n",
              "sadness         351\n",
              "disgust         240\n",
              "fear            185\n",
              "Name: emotion, dtype: int64"
            ]
          },
          "metadata": {
            "tags": []
          },
          "execution_count": 216
        }
      ]
    },
    {
      "cell_type": "code",
      "metadata": {
        "id": "liyUrlIkYL22",
        "colab_type": "code",
        "colab": {}
      },
      "source": [
        "# change the value to dtype: Category\n",
        "df['emotion'] = pd.Categorical(df['emotion'])\n",
        "\n",
        "# cat(egory).codes print the code of category\n",
        "emotion_codes = df.emotion.cat.codes"
      ],
      "execution_count": 217,
      "outputs": []
    },
    {
      "cell_type": "code",
      "metadata": {
        "id": "UGUArjpScEO7",
        "colab_type": "code",
        "colab": {
          "base_uri": "https://localhost:8080/",
          "height": 221
        },
        "outputId": "ff6f8fef-c25a-482c-e538-1c75dc440440"
      },
      "source": [
        "emotion_codes"
      ],
      "execution_count": 218,
      "outputs": [
        {
          "output_type": "execute_result",
          "data": {
            "text/plain": [
              "0        4\n",
              "1        4\n",
              "2        4\n",
              "3        4\n",
              "4        7\n",
              "        ..\n",
              "10556    4\n",
              "10557    5\n",
              "10558    7\n",
              "10559    4\n",
              "10560    5\n",
              "Length: 10561, dtype: int8"
            ]
          },
          "metadata": {
            "tags": []
          },
          "execution_count": 218
        }
      ]
    },
    {
      "cell_type": "code",
      "metadata": {
        "id": "BIolQTTcaHAu",
        "colab_type": "code",
        "colab": {
          "base_uri": "https://localhost:8080/",
          "height": 170
        },
        "outputId": "1754b8dd-2c03-4d58-82fc-e0f6ec9ebb3d"
      },
      "source": [
        "df['emotion'].value_counts()"
      ],
      "execution_count": 219,
      "outputs": [
        {
          "output_type": "execute_result",
          "data": {
            "text/plain": [
              "neutral        4752\n",
              "non-neutral    2017\n",
              "joy            1283\n",
              "surprise       1220\n",
              "anger           513\n",
              "sadness         351\n",
              "disgust         240\n",
              "fear            185\n",
              "Name: emotion, dtype: int64"
            ]
          },
          "metadata": {
            "tags": []
          },
          "execution_count": 219
        }
      ]
    },
    {
      "cell_type": "code",
      "metadata": {
        "id": "EGAVz_mabuNO",
        "colab_type": "code",
        "colab": {
          "base_uri": "https://localhost:8080/",
          "height": 102
        },
        "outputId": "c1d6b9e9-2eee-4e9f-b6d9-3b5b89a66529"
      },
      "source": [
        "for i, utter in enumerate(df.utterance):\n",
        "  if i < 5:\n",
        "    print(utter)\n",
        "  else:\n",
        "    break"
      ],
      "execution_count": 220,
      "outputs": [
        {
          "output_type": "stream",
          "text": [
            "also I was the point person on my companys transition from the KL-5 to GR-6 system.\n",
            "You mustve had your hands full.\n",
            "That I did. That I did.\n",
            "So lets talk a little bit about your duties.\n",
            "My duties?  All right.\n"
          ],
          "name": "stdout"
        }
      ]
    },
    {
      "cell_type": "markdown",
      "metadata": {
        "id": "mIwT7Dbeb0e1",
        "colab_type": "text"
      },
      "source": [
        "# make data\n",
        "\n"
      ]
    },
    {
      "cell_type": "markdown",
      "metadata": {
        "id": "evBZTTfOn6bk",
        "colab_type": "text"
      },
      "source": [
        "make the dataset to tensor"
      ]
    },
    {
      "cell_type": "code",
      "metadata": {
        "id": "1DwnbuoPhKns",
        "colab_type": "code",
        "colab": {}
      },
      "source": [
        "import tensorflow as tf\n",
        "import tensorflow.keras as K\n",
        "import numpy as np"
      ],
      "execution_count": 221,
      "outputs": []
    },
    {
      "cell_type": "code",
      "metadata": {
        "id": "zHOZFFwEhL7F",
        "colab_type": "code",
        "colab": {}
      },
      "source": [
        "x_train = df.pop('utterance')\n",
        "y_train = emotion_codes"
      ],
      "execution_count": 222,
      "outputs": []
    },
    {
      "cell_type": "code",
      "metadata": {
        "id": "eAzNnSqeiwEp",
        "colab_type": "code",
        "colab": {
          "base_uri": "https://localhost:8080/",
          "height": 102
        },
        "outputId": "d2d24b67-2f9c-4c99-9d21-de6d42c096a0"
      },
      "source": [
        "x_train.values"
      ],
      "execution_count": 223,
      "outputs": [
        {
          "output_type": "execute_result",
          "data": {
            "text/plain": [
              "array(['also I was the point person on my company\\x92s transition from the KL-5 to GR-6 system.',\n",
              "       'You must\\x92ve had your hands full.', 'That I did. That I did.',\n",
              "       ..., 'You guys are messing with me, right?', 'Yeah.',\n",
              "       'That was a good one. For a second there, I was like, \"whoa.\"'],\n",
              "      dtype=object)"
            ]
          },
          "metadata": {
            "tags": []
          },
          "execution_count": 223
        }
      ]
    },
    {
      "cell_type": "code",
      "metadata": {
        "id": "85lOGO-Zj8VN",
        "colab_type": "code",
        "colab": {
          "base_uri": "https://localhost:8080/",
          "height": 34
        },
        "outputId": "4bf2f4a5-d8bb-43ca-e341-64bb4308e73c"
      },
      "source": [
        "y_onehot = tf.one_hot(y_train, depth=8)\n",
        "y_onehot.shape"
      ],
      "execution_count": 224,
      "outputs": [
        {
          "output_type": "execute_result",
          "data": {
            "text/plain": [
              "TensorShape([10561, 8])"
            ]
          },
          "metadata": {
            "tags": []
          },
          "execution_count": 224
        }
      ]
    },
    {
      "cell_type": "code",
      "metadata": {
        "id": "doWsMuOmj9Vp",
        "colab_type": "code",
        "colab": {}
      },
      "source": [
        "dataset = tf.data.Dataset.from_tensor_slices(x_train)"
      ],
      "execution_count": 225,
      "outputs": []
    },
    {
      "cell_type": "code",
      "metadata": {
        "id": "BQGItl9ekfmi",
        "colab_type": "code",
        "colab": {
          "base_uri": "https://localhost:8080/",
          "height": 122
        },
        "outputId": "f50b94b0-0ae1-4927-d789-d46517fc5237"
      },
      "source": [
        "for t in dataset.take(5):\n",
        "  print(t)"
      ],
      "execution_count": 226,
      "outputs": [
        {
          "output_type": "stream",
          "text": [
            "tf.Tensor(b'also I was the point person on my company\\xc2\\x92s transition from the KL-5 to GR-6 system.', shape=(), dtype=string)\n",
            "tf.Tensor(b'You must\\xc2\\x92ve had your hands full.', shape=(), dtype=string)\n",
            "tf.Tensor(b'That I did. That I did.', shape=(), dtype=string)\n",
            "tf.Tensor(b'So let\\xc2\\x92s talk a little bit about your duties.', shape=(), dtype=string)\n",
            "tf.Tensor(b'My duties?  All right.', shape=(), dtype=string)\n"
          ],
          "name": "stdout"
        }
      ]
    },
    {
      "cell_type": "code",
      "metadata": {
        "id": "aT-zJgsakja5",
        "colab_type": "code",
        "colab": {
          "base_uri": "https://localhost:8080/",
          "height": 122
        },
        "outputId": "76bb6d2b-0116-4d60-9dab-2949c8b82486"
      },
      "source": [
        "train_data = dataset.shuffle(len(df))\n",
        "for t in train_data.take(5):\n",
        "  print(t)"
      ],
      "execution_count": 227,
      "outputs": [
        {
          "output_type": "stream",
          "text": [
            "tf.Tensor(b\"Well, I've been reading up and for your information, minks are not very nice.\", shape=(), dtype=string)\n",
            "tf.Tensor(b'Huh, what can we do in 17 minutes?', shape=(), dtype=string)\n",
            "tf.Tensor(b'But ah, hey, oh, somebody\\xc2\\x92s off the phone, how \\xc2\\x91bout a glass of wine by the fire, I could get it going again.', shape=(), dtype=string)\n",
            "tf.Tensor(b'A TV as if it appears from nowhere! That\\xc2\\x92s the dream! Man, how did you afford this stuff?', shape=(), dtype=string)\n",
            "tf.Tensor(b'Yeah, that really calms me down.', shape=(), dtype=string)\n"
          ],
          "name": "stdout"
        }
      ]
    },
    {
      "cell_type": "markdown",
      "metadata": {
        "id": "U4WWAtZolFnO",
        "colab_type": "text"
      },
      "source": [
        "# Tokenizer"
      ]
    },
    {
      "cell_type": "code",
      "metadata": {
        "id": "C5FUP8lnlxcD",
        "colab_type": "code",
        "colab": {}
      },
      "source": [
        "tokenizer = K.preprocessing.text.Tokenizer(num_words = 4000, char_level=False)"
      ],
      "execution_count": 228,
      "outputs": []
    },
    {
      "cell_type": "code",
      "metadata": {
        "id": "yRc-9tfyl6GZ",
        "colab_type": "code",
        "colab": {}
      },
      "source": [
        "tokenizer.fit_on_texts(x_train.values)"
      ],
      "execution_count": 229,
      "outputs": []
    },
    {
      "cell_type": "code",
      "metadata": {
        "id": "SWR4PfYHmAHB",
        "colab_type": "code",
        "colab": {}
      },
      "source": [
        "x_in = tokenizer.texts_to_sequences(x_train)"
      ],
      "execution_count": 230,
      "outputs": []
    },
    {
      "cell_type": "code",
      "metadata": {
        "id": "U3gwgbfkTK2Z",
        "colab_type": "code",
        "colab": {
          "base_uri": "https://localhost:8080/",
          "height": 136
        },
        "outputId": "37ea8d80-d4b0-4c85-f9eb-838c203818f9"
      },
      "source": [
        "x_in = tf.keras.preprocessing.sequence.pad_sequences(x_in)\n",
        "print(x_in)"
      ],
      "execution_count": 231,
      "outputs": [
        {
          "output_type": "stream",
          "text": [
            "[[   0    0    0 ... 2888  905  906]\n",
            " [   0    0    0 ...   40  709  827]\n",
            " [   0    0    0 ...    9    1   73]\n",
            " ...\n",
            " [   0    0    0 ...   36   14   34]\n",
            " [   0    0    0 ...    0    0   17]\n",
            " [   0    0    0 ...   35   42  177]]\n"
          ],
          "name": "stdout"
        }
      ]
    },
    {
      "cell_type": "code",
      "metadata": {
        "id": "MdP4Wy19VYza",
        "colab_type": "code",
        "colab": {
          "base_uri": "https://localhost:8080/",
          "height": 34
        },
        "outputId": "c3e24343-da65-42eb-b17e-f3ca1be92647"
      },
      "source": [
        "x_in.shape"
      ],
      "execution_count": 232,
      "outputs": [
        {
          "output_type": "execute_result",
          "data": {
            "text/plain": [
              "(10561, 68)"
            ]
          },
          "metadata": {
            "tags": []
          },
          "execution_count": 232
        }
      ]
    },
    {
      "cell_type": "markdown",
      "metadata": {
        "id": "8iZehXXAE8hZ",
        "colab_type": "text"
      },
      "source": [
        "# Embedding"
      ]
    },
    {
      "cell_type": "code",
      "metadata": {
        "id": "Y6dj6GHmG9k3",
        "colab_type": "code",
        "colab": {}
      },
      "source": [
        "from tensorflow.keras.layers import Embedding, Flatten, Dense, ReLU, Softmax"
      ],
      "execution_count": 233,
      "outputs": []
    },
    {
      "cell_type": "markdown",
      "metadata": {
        "id": "ZqlVTXJmHnP9",
        "colab_type": "text"
      },
      "source": [
        "Model Create"
      ]
    },
    {
      "cell_type": "code",
      "metadata": {
        "id": "QYemcBkcHuFp",
        "colab_type": "code",
        "colab": {
          "base_uri": "https://localhost:8080/",
          "height": 357
        },
        "outputId": "2f72ed7e-5bf4-4cde-e39b-fe0660e8cb88"
      },
      "source": [
        "model = K.Sequential()\n",
        "model.add(Embedding(input_dim = 4000, output_dim=100, input_length=68))\n",
        "model.add(Flatten())\n",
        "model.add(Dense(500))\n",
        "model.add(ReLU())\n",
        "model.add(Dense(8))\n",
        "model.add(Softmax())\n",
        "\n",
        "model.summary()"
      ],
      "execution_count": 234,
      "outputs": [
        {
          "output_type": "stream",
          "text": [
            "Model: \"sequential_11\"\n",
            "_________________________________________________________________\n",
            "Layer (type)                 Output Shape              Param #   \n",
            "=================================================================\n",
            "embedding_16 (Embedding)     (None, 68, 100)           400000    \n",
            "_________________________________________________________________\n",
            "flatten_9 (Flatten)          (None, 6800)              0         \n",
            "_________________________________________________________________\n",
            "dense_13 (Dense)             (None, 500)               3400500   \n",
            "_________________________________________________________________\n",
            "re_lu_6 (ReLU)               (None, 500)               0         \n",
            "_________________________________________________________________\n",
            "dense_14 (Dense)             (None, 8)                 4008      \n",
            "_________________________________________________________________\n",
            "softmax_4 (Softmax)          (None, 8)                 0         \n",
            "=================================================================\n",
            "Total params: 3,804,508\n",
            "Trainable params: 3,804,508\n",
            "Non-trainable params: 0\n",
            "_________________________________________________________________\n"
          ],
          "name": "stdout"
        }
      ]
    },
    {
      "cell_type": "code",
      "metadata": {
        "id": "2KtiGkBMIXYe",
        "colab_type": "code",
        "colab": {}
      },
      "source": [
        "model.compile(optimizer=\"Adam\", loss=K.losses.CategoricalCrossentropy())"
      ],
      "execution_count": 235,
      "outputs": []
    },
    {
      "cell_type": "code",
      "metadata": {
        "id": "L6NNFeSEI2ZN",
        "colab_type": "code",
        "colab": {
          "base_uri": "https://localhost:8080/",
          "height": 374
        },
        "outputId": "1aa93793-f32a-4086-94e1-9bd734808f0a"
      },
      "source": [
        "model.fit(x=x_in, y=y_onehot, batch_size=100, epochs=10, shuffle=True)"
      ],
      "execution_count": 236,
      "outputs": [
        {
          "output_type": "stream",
          "text": [
            "Epoch 1/10\n",
            "106/106 [==============================] - 7s 66ms/step - loss: 1.5789\n",
            "Epoch 2/10\n",
            "106/106 [==============================] - 7s 66ms/step - loss: 1.3343\n",
            "Epoch 3/10\n",
            "106/106 [==============================] - 7s 66ms/step - loss: 1.0439\n",
            "Epoch 4/10\n",
            "106/106 [==============================] - 7s 66ms/step - loss: 0.7734\n",
            "Epoch 5/10\n",
            "106/106 [==============================] - 7s 66ms/step - loss: 0.5815\n",
            "Epoch 6/10\n",
            "106/106 [==============================] - 7s 66ms/step - loss: 0.4682\n",
            "Epoch 7/10\n",
            "106/106 [==============================] - 7s 66ms/step - loss: 0.3996\n",
            "Epoch 8/10\n",
            "106/106 [==============================] - 7s 66ms/step - loss: 0.3531\n",
            "Epoch 9/10\n",
            "106/106 [==============================] - 7s 66ms/step - loss: 0.3227\n",
            "Epoch 10/10\n",
            "106/106 [==============================] - 7s 66ms/step - loss: 0.3039\n"
          ],
          "name": "stdout"
        },
        {
          "output_type": "execute_result",
          "data": {
            "text/plain": [
              "<tensorflow.python.keras.callbacks.History at 0x7fd8a7684390>"
            ]
          },
          "metadata": {
            "tags": []
          },
          "execution_count": 236
        }
      ]
    },
    {
      "cell_type": "markdown",
      "metadata": {
        "id": "NrmGvMhYcvk4",
        "colab_type": "text"
      },
      "source": [
        "# Model evaluation"
      ]
    },
    {
      "cell_type": "code",
      "metadata": {
        "id": "j9x26DlPI_hF",
        "colab_type": "code",
        "colab": {
          "base_uri": "https://localhost:8080/",
          "height": 34
        },
        "outputId": "ba9ab00a-5c74-44d4-fa87-03f5e20fce44"
      },
      "source": [
        "test_data = tokenizer.texts_to_sequences([\"Hey Ross! Listen, do you want to go see that new Imax movie on tide pools?\"])\n",
        "test_data = tf.keras.preprocessing.sequence.pad_sequences(test_data, maxlen=68)\n",
        "test_data.shape"
      ],
      "execution_count": 256,
      "outputs": [
        {
          "output_type": "execute_result",
          "data": {
            "text/plain": [
              "(1, 68)"
            ]
          },
          "metadata": {
            "tags": []
          },
          "execution_count": 256
        }
      ]
    },
    {
      "cell_type": "code",
      "metadata": {
        "id": "DsxkXNzGQknQ",
        "colab_type": "code",
        "colab": {}
      },
      "source": [
        "result = model.predict(test_data, batch_size=100)"
      ],
      "execution_count": 257,
      "outputs": []
    },
    {
      "cell_type": "code",
      "metadata": {
        "id": "aHuKASBydSGi",
        "colab_type": "code",
        "colab": {
          "base_uri": "https://localhost:8080/",
          "height": 34
        },
        "outputId": "eb82790e-43c4-4597-940e-bd7230ebd7e6"
      },
      "source": [
        "answer = result.argmax()\n",
        "print(answer)"
      ],
      "execution_count": 258,
      "outputs": [
        {
          "output_type": "stream",
          "text": [
            "3\n"
          ],
          "name": "stdout"
        }
      ]
    },
    {
      "cell_type": "code",
      "metadata": {
        "id": "-Ldwzys0ejTM",
        "colab_type": "code",
        "colab": {
          "base_uri": "https://localhost:8080/",
          "height": 34
        },
        "outputId": "2eb02975-1d71-4ea1-b74b-d73901666670"
      },
      "source": [
        "emo_cat = pd.Categorical(df['emotion'])\n",
        "emo_cat.categories\n",
        "emo_cat.codes"
      ],
      "execution_count": 250,
      "outputs": [
        {
          "output_type": "execute_result",
          "data": {
            "text/plain": [
              "array([4, 4, 4, ..., 7, 4, 5], dtype=int8)"
            ]
          },
          "metadata": {
            "tags": []
          },
          "execution_count": 250
        }
      ]
    },
    {
      "cell_type": "code",
      "metadata": {
        "id": "TaMBw3cxg7S_",
        "colab_type": "code",
        "colab": {
          "base_uri": "https://localhost:8080/",
          "height": 297
        },
        "outputId": "e4db7427-62a0-4a0d-af2f-d3dee0165f18"
      },
      "source": [
        "emo_df = pd.DataFrame(\n",
        "    {\"emotion\" : emo_cat.categories}\n",
        ")\n",
        "emo_df"
      ],
      "execution_count": 252,
      "outputs": [
        {
          "output_type": "execute_result",
          "data": {
            "text/html": [
              "<div>\n",
              "<style scoped>\n",
              "    .dataframe tbody tr th:only-of-type {\n",
              "        vertical-align: middle;\n",
              "    }\n",
              "\n",
              "    .dataframe tbody tr th {\n",
              "        vertical-align: top;\n",
              "    }\n",
              "\n",
              "    .dataframe thead th {\n",
              "        text-align: right;\n",
              "    }\n",
              "</style>\n",
              "<table border=\"1\" class=\"dataframe\">\n",
              "  <thead>\n",
              "    <tr style=\"text-align: right;\">\n",
              "      <th></th>\n",
              "      <th>emotion</th>\n",
              "    </tr>\n",
              "  </thead>\n",
              "  <tbody>\n",
              "    <tr>\n",
              "      <th>0</th>\n",
              "      <td>anger</td>\n",
              "    </tr>\n",
              "    <tr>\n",
              "      <th>1</th>\n",
              "      <td>disgust</td>\n",
              "    </tr>\n",
              "    <tr>\n",
              "      <th>2</th>\n",
              "      <td>fear</td>\n",
              "    </tr>\n",
              "    <tr>\n",
              "      <th>3</th>\n",
              "      <td>joy</td>\n",
              "    </tr>\n",
              "    <tr>\n",
              "      <th>4</th>\n",
              "      <td>neutral</td>\n",
              "    </tr>\n",
              "    <tr>\n",
              "      <th>5</th>\n",
              "      <td>non-neutral</td>\n",
              "    </tr>\n",
              "    <tr>\n",
              "      <th>6</th>\n",
              "      <td>sadness</td>\n",
              "    </tr>\n",
              "    <tr>\n",
              "      <th>7</th>\n",
              "      <td>surprise</td>\n",
              "    </tr>\n",
              "  </tbody>\n",
              "</table>\n",
              "</div>"
            ],
            "text/plain": [
              "       emotion\n",
              "0        anger\n",
              "1      disgust\n",
              "2         fear\n",
              "3          joy\n",
              "4      neutral\n",
              "5  non-neutral\n",
              "6      sadness\n",
              "7     surprise"
            ]
          },
          "metadata": {
            "tags": []
          },
          "execution_count": 252
        }
      ]
    },
    {
      "cell_type": "code",
      "metadata": {
        "id": "YTZIXzffi2Vu",
        "colab_type": "code",
        "colab": {}
      },
      "source": [
        ""
      ],
      "execution_count": null,
      "outputs": []
    }
  ]
}