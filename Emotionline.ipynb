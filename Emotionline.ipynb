{
  "nbformat": 4,
  "nbformat_minor": 0,
  "metadata": {
    "colab": {
      "name": "Emotionline.ipynb",
      "provenance": [],
      "collapsed_sections": [],
      "toc_visible": true,
      "mount_file_id": "1eEtqzVDfOr9QDMj_YIOfk9flgMSVKwwT",
      "authorship_tag": "ABX9TyOJ0QP+HQMz5+9s8OJK0O2T",
      "include_colab_link": true
    },
    "kernelspec": {
      "name": "python3",
      "display_name": "Python 3"
    }
  },
  "cells": [
    {
      "cell_type": "markdown",
      "metadata": {
        "id": "view-in-github",
        "colab_type": "text"
      },
      "source": [
        "<a href=\"https://colab.research.google.com/github/YMGYM/google_colab_files/blob/master/Emotionline.ipynb\" target=\"_parent\"><img src=\"https://colab.research.google.com/assets/colab-badge.svg\" alt=\"Open In Colab\"/></a>"
      ]
    },
    {
      "cell_type": "markdown",
      "metadata": {
        "id": "IpTVd_Ps1Q0X",
        "colab_type": "text"
      },
      "source": [
        "# Emitionline 데이터셋"
      ]
    },
    {
      "cell_type": "code",
      "metadata": {
        "id": "d9tvJZGcAFGZ",
        "colab_type": "code",
        "colab": {
          "base_uri": "https://localhost:8080/",
          "height": 85
        },
        "outputId": "63452bb9-81be-4e67-cd9d-6581399cd764"
      },
      "source": [
        "! tar -xvzf /content/drive/My\\ Drive/Datasets/Emotionlines/EmotionLines_friends_annotation.tar.gz"
      ],
      "execution_count": 9,
      "outputs": [
        {
          "output_type": "stream",
          "text": [
            "EmotionLines/Friends/friends_train.json\n",
            "EmotionLines/Friends/friends_dev.json\n",
            "EmotionLines/Friends/friends_test.json\n",
            "EmotionLines/README\n"
          ],
          "name": "stdout"
        }
      ]
    },
    {
      "cell_type": "code",
      "metadata": {
        "id": "8mVIBAkgAZNf",
        "colab_type": "code",
        "colab": {}
      },
      "source": [
        "import pandas as pd\n",
        "import json"
      ],
      "execution_count": 50,
      "outputs": []
    },
    {
      "cell_type": "code",
      "metadata": {
        "id": "kGeUpe16WhOW",
        "colab_type": "code",
        "colab": {
          "base_uri": "https://localhost:8080/",
          "height": 34
        },
        "outputId": "7fdaa71a-c289-492f-f699-0d94c56500ae"
      },
      "source": [
        "with open('/content/EmotionLines/Friends/friends_train.json', encoding='utf-8', mode='r') as f:\n",
        "  array = json.load(f)\n",
        "\n",
        "data =[]\n",
        "for i in range(len(array)):\n",
        "  data += array[i]\n",
        "print(f\"Total length of data : {len(data)}\")\n",
        "df = pd.DataFrame(data)"
      ],
      "execution_count": 58,
      "outputs": [
        {
          "output_type": "stream",
          "text": [
            "Total length of data : 10561\n"
          ],
          "name": "stdout"
        }
      ]
    },
    {
      "cell_type": "code",
      "metadata": {
        "id": "e0V0XA3mWkup",
        "colab_type": "code",
        "colab": {
          "base_uri": "https://localhost:8080/",
          "height": 419
        },
        "outputId": "36f8f25a-b7ba-48e2-c4e9-83003a7aa17e"
      },
      "source": [
        "df"
      ],
      "execution_count": 59,
      "outputs": [
        {
          "output_type": "execute_result",
          "data": {
            "text/html": [
              "<div>\n",
              "<style scoped>\n",
              "    .dataframe tbody tr th:only-of-type {\n",
              "        vertical-align: middle;\n",
              "    }\n",
              "\n",
              "    .dataframe tbody tr th {\n",
              "        vertical-align: top;\n",
              "    }\n",
              "\n",
              "    .dataframe thead th {\n",
              "        text-align: right;\n",
              "    }\n",
              "</style>\n",
              "<table border=\"1\" class=\"dataframe\">\n",
              "  <thead>\n",
              "    <tr style=\"text-align: right;\">\n",
              "      <th></th>\n",
              "      <th>speaker</th>\n",
              "      <th>utterance</th>\n",
              "      <th>emotion</th>\n",
              "      <th>annotation</th>\n",
              "    </tr>\n",
              "  </thead>\n",
              "  <tbody>\n",
              "    <tr>\n",
              "      <th>0</th>\n",
              "      <td>Chandler</td>\n",
              "      <td>also I was the point person on my companys tr...</td>\n",
              "      <td>neutral</td>\n",
              "      <td>4100000</td>\n",
              "    </tr>\n",
              "    <tr>\n",
              "      <th>1</th>\n",
              "      <td>The Interviewer</td>\n",
              "      <td>You mustve had your hands full.</td>\n",
              "      <td>neutral</td>\n",
              "      <td>5000000</td>\n",
              "    </tr>\n",
              "    <tr>\n",
              "      <th>2</th>\n",
              "      <td>Chandler</td>\n",
              "      <td>That I did. That I did.</td>\n",
              "      <td>neutral</td>\n",
              "      <td>5000000</td>\n",
              "    </tr>\n",
              "    <tr>\n",
              "      <th>3</th>\n",
              "      <td>The Interviewer</td>\n",
              "      <td>So lets talk a little bit about your duties.</td>\n",
              "      <td>neutral</td>\n",
              "      <td>5000000</td>\n",
              "    </tr>\n",
              "    <tr>\n",
              "      <th>4</th>\n",
              "      <td>Chandler</td>\n",
              "      <td>My duties?  All right.</td>\n",
              "      <td>surprise</td>\n",
              "      <td>2000030</td>\n",
              "    </tr>\n",
              "    <tr>\n",
              "      <th>...</th>\n",
              "      <td>...</td>\n",
              "      <td>...</td>\n",
              "      <td>...</td>\n",
              "      <td>...</td>\n",
              "    </tr>\n",
              "    <tr>\n",
              "      <th>10556</th>\n",
              "      <td>Chandler</td>\n",
              "      <td>You or me?</td>\n",
              "      <td>neutral</td>\n",
              "      <td>3000011</td>\n",
              "    </tr>\n",
              "    <tr>\n",
              "      <th>10557</th>\n",
              "      <td>Ross</td>\n",
              "      <td>I got it. Uh, Joey, women don't have Adam's ap...</td>\n",
              "      <td>non-neutral</td>\n",
              "      <td>2100011</td>\n",
              "    </tr>\n",
              "    <tr>\n",
              "      <th>10558</th>\n",
              "      <td>Joey</td>\n",
              "      <td>You guys are messing with me, right?</td>\n",
              "      <td>surprise</td>\n",
              "      <td>0000050</td>\n",
              "    </tr>\n",
              "    <tr>\n",
              "      <th>10559</th>\n",
              "      <td>All</td>\n",
              "      <td>Yeah.</td>\n",
              "      <td>neutral</td>\n",
              "      <td>4000010</td>\n",
              "    </tr>\n",
              "    <tr>\n",
              "      <th>10560</th>\n",
              "      <td>Joey</td>\n",
              "      <td>That was a good one. For a second there, I was...</td>\n",
              "      <td>non-neutral</td>\n",
              "      <td>1200020</td>\n",
              "    </tr>\n",
              "  </tbody>\n",
              "</table>\n",
              "<p>10561 rows × 4 columns</p>\n",
              "</div>"
            ],
            "text/plain": [
              "               speaker  ... annotation\n",
              "0             Chandler  ...    4100000\n",
              "1      The Interviewer  ...    5000000\n",
              "2             Chandler  ...    5000000\n",
              "3      The Interviewer  ...    5000000\n",
              "4             Chandler  ...    2000030\n",
              "...                ...  ...        ...\n",
              "10556         Chandler  ...    3000011\n",
              "10557             Ross  ...    2100011\n",
              "10558             Joey  ...    0000050\n",
              "10559              All  ...    4000010\n",
              "10560             Joey  ...    1200020\n",
              "\n",
              "[10561 rows x 4 columns]"
            ]
          },
          "metadata": {
            "tags": []
          },
          "execution_count": 59
        }
      ]
    },
    {
      "cell_type": "code",
      "metadata": {
        "id": "F8bp21VZXJ3d",
        "colab_type": "code",
        "colab": {
          "base_uri": "https://localhost:8080/",
          "height": 170
        },
        "outputId": "be32f69b-eb3c-4d58-8a16-ceb8c090c474"
      },
      "source": [
        "df['emotion'].value_counts()"
      ],
      "execution_count": 53,
      "outputs": [
        {
          "output_type": "execute_result",
          "data": {
            "text/plain": [
              "neutral        4752\n",
              "non-neutral    2017\n",
              "joy            1283\n",
              "surprise       1220\n",
              "anger           513\n",
              "sadness         351\n",
              "disgust         240\n",
              "fear            185\n",
              "Name: emotion, dtype: int64"
            ]
          },
          "metadata": {
            "tags": []
          },
          "execution_count": 53
        }
      ]
    },
    {
      "cell_type": "code",
      "metadata": {
        "id": "liyUrlIkYL22",
        "colab_type": "code",
        "colab": {}
      },
      "source": [
        "# change the value to dtype: Category\n",
        "df['emotion'] = pd.Categorical(df['emotion'])\n",
        "\n",
        "# cat(egory).codes print the code of category\n",
        "df['emotion'] = df.emotion.cat.codes"
      ],
      "execution_count": 78,
      "outputs": []
    },
    {
      "cell_type": "code",
      "metadata": {
        "id": "UGUArjpScEO7",
        "colab_type": "code",
        "colab": {
          "base_uri": "https://localhost:8080/",
          "height": 221
        },
        "outputId": "fa144d6b-ba8a-40af-afa6-7a8a49f1e960"
      },
      "source": [
        "df.emotion"
      ],
      "execution_count": 79,
      "outputs": [
        {
          "output_type": "execute_result",
          "data": {
            "text/plain": [
              "0        4\n",
              "1        4\n",
              "2        4\n",
              "3        4\n",
              "4        7\n",
              "        ..\n",
              "10556    4\n",
              "10557    5\n",
              "10558    7\n",
              "10559    4\n",
              "10560    5\n",
              "Name: emotion, Length: 10561, dtype: int8"
            ]
          },
          "metadata": {
            "tags": []
          },
          "execution_count": 79
        }
      ]
    },
    {
      "cell_type": "code",
      "metadata": {
        "id": "BIolQTTcaHAu",
        "colab_type": "code",
        "colab": {
          "base_uri": "https://localhost:8080/",
          "height": 170
        },
        "outputId": "7ca715b1-d4ba-456d-bbaf-d3792a48f5ba"
      },
      "source": [
        "df['emotion'].value_counts()"
      ],
      "execution_count": 57,
      "outputs": [
        {
          "output_type": "execute_result",
          "data": {
            "text/plain": [
              "4    4752\n",
              "5    2017\n",
              "3    1283\n",
              "7    1220\n",
              "0     513\n",
              "6     351\n",
              "1     240\n",
              "2     185\n",
              "Name: emotion, dtype: int64"
            ]
          },
          "metadata": {
            "tags": []
          },
          "execution_count": 57
        }
      ]
    },
    {
      "cell_type": "code",
      "metadata": {
        "id": "EGAVz_mabuNO",
        "colab_type": "code",
        "colab": {
          "base_uri": "https://localhost:8080/",
          "height": 102
        },
        "outputId": "3bdc47bb-7f0f-47f4-947d-2b2a1fe6f42d"
      },
      "source": [
        "for i, utter in enumerate(df.utterance):\n",
        "  if i < 5:\n",
        "    print(utter)\n",
        "  else:\n",
        "    break"
      ],
      "execution_count": 87,
      "outputs": [
        {
          "output_type": "stream",
          "text": [
            "also I was the point person on my companys transition from the KL-5 to GR-6 system.\n",
            "You mustve had your hands full.\n",
            "That I did. That I did.\n",
            "So lets talk a little bit about your duties.\n",
            "My duties?  All right.\n"
          ],
          "name": "stdout"
        }
      ]
    },
    {
      "cell_type": "markdown",
      "metadata": {
        "id": "mIwT7Dbeb0e1",
        "colab_type": "text"
      },
      "source": [
        "# Tensorflow"
      ]
    },
    {
      "cell_type": "markdown",
      "metadata": {
        "id": "evBZTTfOn6bk",
        "colab_type": "text"
      },
      "source": [
        "make the dataset to tensor"
      ]
    },
    {
      "cell_type": "code",
      "metadata": {
        "id": "1DwnbuoPhKns",
        "colab_type": "code",
        "colab": {}
      },
      "source": [
        "import tensorflow as tf\n",
        "import tensorflow.keras as K\n",
        "import numpy as np"
      ],
      "execution_count": 91,
      "outputs": []
    },
    {
      "cell_type": "code",
      "metadata": {
        "id": "zHOZFFwEhL7F",
        "colab_type": "code",
        "colab": {}
      },
      "source": [
        "target = df.pop('utterance')"
      ],
      "execution_count": null,
      "outputs": []
    },
    {
      "cell_type": "code",
      "metadata": {
        "id": "eAzNnSqeiwEp",
        "colab_type": "code",
        "colab": {
          "base_uri": "https://localhost:8080/",
          "height": 221
        },
        "outputId": "1e39d112-e6b0-4ec4-b06e-69c4869a3a07"
      },
      "source": [
        "target"
      ],
      "execution_count": 97,
      "outputs": [
        {
          "output_type": "execute_result",
          "data": {
            "text/plain": [
              "0        also I was the point person on my companys tr...\n",
              "1                         You mustve had your hands full.\n",
              "2                                  That I did. That I did.\n",
              "3            So lets talk a little bit about your duties.\n",
              "4                                   My duties?  All right.\n",
              "                               ...                        \n",
              "10556                                           You or me?\n",
              "10557    I got it. Uh, Joey, women don't have Adam's ap...\n",
              "10558                 You guys are messing with me, right?\n",
              "10559                                                Yeah.\n",
              "10560    That was a good one. For a second there, I was...\n",
              "Name: utterance, Length: 10561, dtype: object"
            ]
          },
          "metadata": {
            "tags": []
          },
          "execution_count": 97
        }
      ]
    },
    {
      "cell_type": "code",
      "metadata": {
        "id": "85lOGO-Zj8VN",
        "colab_type": "code",
        "colab": {
          "base_uri": "https://localhost:8080/",
          "height": 136
        },
        "outputId": "73e2871f-3184-4d7b-d845-1031c6b620b3"
      },
      "source": [
        "df.values"
      ],
      "execution_count": 99,
      "outputs": [
        {
          "output_type": "execute_result",
          "data": {
            "text/plain": [
              "array([['Chandler', 4, '4100000'],\n",
              "       ['The Interviewer', 4, '5000000'],\n",
              "       ['Chandler', 4, '5000000'],\n",
              "       ...,\n",
              "       ['Joey', 7, '0000050'],\n",
              "       ['All', 4, '4000010'],\n",
              "       ['Joey', 5, '1200020']], dtype=object)"
            ]
          },
          "metadata": {
            "tags": []
          },
          "execution_count": 99
        }
      ]
    },
    {
      "cell_type": "code",
      "metadata": {
        "id": "doWsMuOmj9Vp",
        "colab_type": "code",
        "colab": {}
      },
      "source": [
        "dataset = tf.data.Dataset.from_tensor_slices(target)"
      ],
      "execution_count": 100,
      "outputs": []
    },
    {
      "cell_type": "code",
      "metadata": {
        "id": "BQGItl9ekfmi",
        "colab_type": "code",
        "colab": {
          "base_uri": "https://localhost:8080/",
          "height": 122
        },
        "outputId": "c8b03af9-1759-469d-eef5-899a35dfcd40"
      },
      "source": [
        "for t in dataset.take(5):\n",
        "  print(t)"
      ],
      "execution_count": 106,
      "outputs": [
        {
          "output_type": "stream",
          "text": [
            "tf.Tensor(b'also I was the point person on my company\\xc2\\x92s transition from the KL-5 to GR-6 system.', shape=(), dtype=string)\n",
            "tf.Tensor(b'You must\\xc2\\x92ve had your hands full.', shape=(), dtype=string)\n",
            "tf.Tensor(b'That I did. That I did.', shape=(), dtype=string)\n",
            "tf.Tensor(b'So let\\xc2\\x92s talk a little bit about your duties.', shape=(), dtype=string)\n",
            "tf.Tensor(b'My duties?  All right.', shape=(), dtype=string)\n"
          ],
          "name": "stdout"
        }
      ]
    },
    {
      "cell_type": "code",
      "metadata": {
        "id": "aT-zJgsakja5",
        "colab_type": "code",
        "colab": {
          "base_uri": "https://localhost:8080/",
          "height": 122
        },
        "outputId": "14b52db3-e743-43fb-cf87-23961e5a224a"
      },
      "source": [
        "train_data = dataset.shuffle(len(df))\n",
        "for t in train_data.take(5):\n",
        "  print(t)"
      ],
      "execution_count": 108,
      "outputs": [
        {
          "output_type": "stream",
          "text": [
            "tf.Tensor(b'Nothing, nothing.', shape=(), dtype=string)\n",
            "tf.Tensor(b'Yeah, I mean whatever.', shape=(), dtype=string)\n",
            "tf.Tensor(b'Sounds nice.', shape=(), dtype=string)\n",
            "tf.Tensor(b'Ohhh, I', shape=(), dtype=string)\n",
            "tf.Tensor(b'Good runnin\\xc2\\x92 into you at the bank today, so ah, here\\xc2\\x92s my number, 555-9323. Give me a call. Later.', shape=(), dtype=string)\n"
          ],
          "name": "stdout"
        }
      ]
    },
    {
      "cell_type": "markdown",
      "metadata": {
        "id": "U4WWAtZolFnO",
        "colab_type": "text"
      },
      "source": [
        "# Tokenizer"
      ]
    },
    {
      "cell_type": "code",
      "metadata": {
        "id": "C5FUP8lnlxcD",
        "colab_type": "code",
        "colab": {}
      },
      "source": [
        "tokenizer = K.preprocessing.text.Tokenizer(char_level=False)"
      ],
      "execution_count": 121,
      "outputs": []
    },
    {
      "cell_type": "code",
      "metadata": {
        "id": "yRc-9tfyl6GZ",
        "colab_type": "code",
        "colab": {}
      },
      "source": [
        "tokenizer.fit_on_texts(\"Hello Hello I'm Josoo. I drank Helium gas and became like this\")"
      ],
      "execution_count": 124,
      "outputs": []
    },
    {
      "cell_type": "code",
      "metadata": {
        "id": "SWR4PfYHmAHB",
        "colab_type": "code",
        "colab": {}
      },
      "source": [
        ""
      ],
      "execution_count": null,
      "outputs": []
    }
  ]
}