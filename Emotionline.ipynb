{
  "nbformat": 4,
  "nbformat_minor": 0,
  "metadata": {
    "colab": {
      "name": "Emotionline.ipynb",
      "provenance": [],
      "collapsed_sections": [],
      "toc_visible": true,
      "mount_file_id": "1eEtqzVDfOr9QDMj_YIOfk9flgMSVKwwT",
      "authorship_tag": "ABX9TyMlbNIotD8xa3MPJwHXuViL",
      "include_colab_link": true
    },
    "kernelspec": {
      "name": "python3",
      "display_name": "Python 3"
    },
    "accelerator": "GPU"
  },
  "cells": [
    {
      "cell_type": "markdown",
      "metadata": {
        "id": "view-in-github",
        "colab_type": "text"
      },
      "source": [
        "<a href=\"https://colab.research.google.com/github/YMGYM/google_colab_files/blob/master/Emotionline.ipynb\" target=\"_parent\"><img src=\"https://colab.research.google.com/assets/colab-badge.svg\" alt=\"Open In Colab\"/></a>"
      ]
    },
    {
      "cell_type": "markdown",
      "metadata": {
        "id": "IpTVd_Ps1Q0X",
        "colab_type": "text"
      },
      "source": [
        "# Emitionline 데이터셋"
      ]
    },
    {
      "cell_type": "code",
      "metadata": {
        "id": "d9tvJZGcAFGZ",
        "colab_type": "code",
        "colab": {
          "base_uri": "https://localhost:8080/",
          "height": 85
        },
        "outputId": "724091ac-2474-4357-8173-85f05de44ef9"
      },
      "source": [
        "! tar -xvzf /content/drive/My\\ Drive/Datasets/Emotionlines/EmotionLines_friends_annotation.tar.gz"
      ],
      "execution_count": 1,
      "outputs": [
        {
          "output_type": "stream",
          "text": [
            "EmotionLines/Friends/friends_train.json\n",
            "EmotionLines/Friends/friends_dev.json\n",
            "EmotionLines/Friends/friends_test.json\n",
            "EmotionLines/README\n"
          ],
          "name": "stdout"
        }
      ]
    },
    {
      "cell_type": "code",
      "metadata": {
        "id": "8mVIBAkgAZNf",
        "colab_type": "code",
        "colab": {}
      },
      "source": [
        "import pandas as pd\n",
        "import json"
      ],
      "execution_count": 68,
      "outputs": []
    },
    {
      "cell_type": "code",
      "metadata": {
        "id": "kGeUpe16WhOW",
        "colab_type": "code",
        "colab": {
          "base_uri": "https://localhost:8080/",
          "height": 34
        },
        "outputId": "f498198c-0f44-4edd-c526-bafcdefff535"
      },
      "source": [
        "with open('/content/EmotionLines/Friends/friends_train.json', encoding='utf-8', mode='r') as f:\n",
        "  array = json.load(f)\n",
        "\n",
        "data =[]\n",
        "for i in range(len(array)):\n",
        "  data += array[i]\n",
        "print(f\"Total length of data : {len(data)}\")\n",
        "df = pd.DataFrame(data)"
      ],
      "execution_count": 69,
      "outputs": [
        {
          "output_type": "stream",
          "text": [
            "Total length of data : 10561\n"
          ],
          "name": "stdout"
        }
      ]
    },
    {
      "cell_type": "code",
      "metadata": {
        "id": "e0V0XA3mWkup",
        "colab_type": "code",
        "colab": {
          "base_uri": "https://localhost:8080/",
          "height": 419
        },
        "outputId": "a3f61008-f84d-4336-e885-7b79023a7c1b"
      },
      "source": [
        "df"
      ],
      "execution_count": 70,
      "outputs": [
        {
          "output_type": "execute_result",
          "data": {
            "text/html": [
              "<div>\n",
              "<style scoped>\n",
              "    .dataframe tbody tr th:only-of-type {\n",
              "        vertical-align: middle;\n",
              "    }\n",
              "\n",
              "    .dataframe tbody tr th {\n",
              "        vertical-align: top;\n",
              "    }\n",
              "\n",
              "    .dataframe thead th {\n",
              "        text-align: right;\n",
              "    }\n",
              "</style>\n",
              "<table border=\"1\" class=\"dataframe\">\n",
              "  <thead>\n",
              "    <tr style=\"text-align: right;\">\n",
              "      <th></th>\n",
              "      <th>speaker</th>\n",
              "      <th>utterance</th>\n",
              "      <th>emotion</th>\n",
              "      <th>annotation</th>\n",
              "    </tr>\n",
              "  </thead>\n",
              "  <tbody>\n",
              "    <tr>\n",
              "      <th>0</th>\n",
              "      <td>Chandler</td>\n",
              "      <td>also I was the point person on my companys tr...</td>\n",
              "      <td>neutral</td>\n",
              "      <td>4100000</td>\n",
              "    </tr>\n",
              "    <tr>\n",
              "      <th>1</th>\n",
              "      <td>The Interviewer</td>\n",
              "      <td>You mustve had your hands full.</td>\n",
              "      <td>neutral</td>\n",
              "      <td>5000000</td>\n",
              "    </tr>\n",
              "    <tr>\n",
              "      <th>2</th>\n",
              "      <td>Chandler</td>\n",
              "      <td>That I did. That I did.</td>\n",
              "      <td>neutral</td>\n",
              "      <td>5000000</td>\n",
              "    </tr>\n",
              "    <tr>\n",
              "      <th>3</th>\n",
              "      <td>The Interviewer</td>\n",
              "      <td>So lets talk a little bit about your duties.</td>\n",
              "      <td>neutral</td>\n",
              "      <td>5000000</td>\n",
              "    </tr>\n",
              "    <tr>\n",
              "      <th>4</th>\n",
              "      <td>Chandler</td>\n",
              "      <td>My duties?  All right.</td>\n",
              "      <td>surprise</td>\n",
              "      <td>2000030</td>\n",
              "    </tr>\n",
              "    <tr>\n",
              "      <th>...</th>\n",
              "      <td>...</td>\n",
              "      <td>...</td>\n",
              "      <td>...</td>\n",
              "      <td>...</td>\n",
              "    </tr>\n",
              "    <tr>\n",
              "      <th>10556</th>\n",
              "      <td>Chandler</td>\n",
              "      <td>You or me?</td>\n",
              "      <td>neutral</td>\n",
              "      <td>3000011</td>\n",
              "    </tr>\n",
              "    <tr>\n",
              "      <th>10557</th>\n",
              "      <td>Ross</td>\n",
              "      <td>I got it. Uh, Joey, women don't have Adam's ap...</td>\n",
              "      <td>non-neutral</td>\n",
              "      <td>2100011</td>\n",
              "    </tr>\n",
              "    <tr>\n",
              "      <th>10558</th>\n",
              "      <td>Joey</td>\n",
              "      <td>You guys are messing with me, right?</td>\n",
              "      <td>surprise</td>\n",
              "      <td>0000050</td>\n",
              "    </tr>\n",
              "    <tr>\n",
              "      <th>10559</th>\n",
              "      <td>All</td>\n",
              "      <td>Yeah.</td>\n",
              "      <td>neutral</td>\n",
              "      <td>4000010</td>\n",
              "    </tr>\n",
              "    <tr>\n",
              "      <th>10560</th>\n",
              "      <td>Joey</td>\n",
              "      <td>That was a good one. For a second there, I was...</td>\n",
              "      <td>non-neutral</td>\n",
              "      <td>1200020</td>\n",
              "    </tr>\n",
              "  </tbody>\n",
              "</table>\n",
              "<p>10561 rows × 4 columns</p>\n",
              "</div>"
            ],
            "text/plain": [
              "               speaker  ... annotation\n",
              "0             Chandler  ...    4100000\n",
              "1      The Interviewer  ...    5000000\n",
              "2             Chandler  ...    5000000\n",
              "3      The Interviewer  ...    5000000\n",
              "4             Chandler  ...    2000030\n",
              "...                ...  ...        ...\n",
              "10556         Chandler  ...    3000011\n",
              "10557             Ross  ...    2100011\n",
              "10558             Joey  ...    0000050\n",
              "10559              All  ...    4000010\n",
              "10560             Joey  ...    1200020\n",
              "\n",
              "[10561 rows x 4 columns]"
            ]
          },
          "metadata": {
            "tags": []
          },
          "execution_count": 70
        }
      ]
    },
    {
      "cell_type": "code",
      "metadata": {
        "id": "F8bp21VZXJ3d",
        "colab_type": "code",
        "colab": {
          "base_uri": "https://localhost:8080/",
          "height": 170
        },
        "outputId": "ae6da5fe-3d5b-4557-b192-a4bfafba6ad7"
      },
      "source": [
        "df['emotion'].value_counts()"
      ],
      "execution_count": 71,
      "outputs": [
        {
          "output_type": "execute_result",
          "data": {
            "text/plain": [
              "neutral        4752\n",
              "non-neutral    2017\n",
              "joy            1283\n",
              "surprise       1220\n",
              "anger           513\n",
              "sadness         351\n",
              "disgust         240\n",
              "fear            185\n",
              "Name: emotion, dtype: int64"
            ]
          },
          "metadata": {
            "tags": []
          },
          "execution_count": 71
        }
      ]
    },
    {
      "cell_type": "code",
      "metadata": {
        "id": "liyUrlIkYL22",
        "colab_type": "code",
        "colab": {}
      },
      "source": [
        "# change the value to dtype: Category\n",
        "df['emotion'] = pd.Categorical(df['emotion'])\n",
        "\n",
        "# cat(egory).codes print the code of category\n",
        "emotion_codes = df.emotion.cat.codes"
      ],
      "execution_count": 72,
      "outputs": []
    },
    {
      "cell_type": "code",
      "metadata": {
        "id": "UGUArjpScEO7",
        "colab_type": "code",
        "colab": {
          "base_uri": "https://localhost:8080/",
          "height": 221
        },
        "outputId": "d61c1f9f-04f0-432e-8e13-b3171523832c"
      },
      "source": [
        "emotion_codes"
      ],
      "execution_count": 73,
      "outputs": [
        {
          "output_type": "execute_result",
          "data": {
            "text/plain": [
              "0        4\n",
              "1        4\n",
              "2        4\n",
              "3        4\n",
              "4        7\n",
              "        ..\n",
              "10556    4\n",
              "10557    5\n",
              "10558    7\n",
              "10559    4\n",
              "10560    5\n",
              "Length: 10561, dtype: int8"
            ]
          },
          "metadata": {
            "tags": []
          },
          "execution_count": 73
        }
      ]
    },
    {
      "cell_type": "code",
      "metadata": {
        "id": "BIolQTTcaHAu",
        "colab_type": "code",
        "colab": {
          "base_uri": "https://localhost:8080/",
          "height": 170
        },
        "outputId": "c9bce170-9ce3-4aa1-f6fb-e5e453bf58c5"
      },
      "source": [
        "df['emotion'].value_counts()"
      ],
      "execution_count": 74,
      "outputs": [
        {
          "output_type": "execute_result",
          "data": {
            "text/plain": [
              "neutral        4752\n",
              "non-neutral    2017\n",
              "joy            1283\n",
              "surprise       1220\n",
              "anger           513\n",
              "sadness         351\n",
              "disgust         240\n",
              "fear            185\n",
              "Name: emotion, dtype: int64"
            ]
          },
          "metadata": {
            "tags": []
          },
          "execution_count": 74
        }
      ]
    },
    {
      "cell_type": "code",
      "metadata": {
        "id": "EGAVz_mabuNO",
        "colab_type": "code",
        "colab": {
          "base_uri": "https://localhost:8080/",
          "height": 102
        },
        "outputId": "ee66f0ae-f13b-4c1a-e567-e38349c858eb"
      },
      "source": [
        "for i, utter in enumerate(df.utterance):\n",
        "  if i < 5:\n",
        "    print(utter)\n",
        "  else:\n",
        "    break"
      ],
      "execution_count": 75,
      "outputs": [
        {
          "output_type": "stream",
          "text": [
            "also I was the point person on my companys transition from the KL-5 to GR-6 system.\n",
            "You mustve had your hands full.\n",
            "That I did. That I did.\n",
            "So lets talk a little bit about your duties.\n",
            "My duties?  All right.\n"
          ],
          "name": "stdout"
        }
      ]
    },
    {
      "cell_type": "markdown",
      "metadata": {
        "id": "mIwT7Dbeb0e1",
        "colab_type": "text"
      },
      "source": [
        "# make data\n",
        "\n"
      ]
    },
    {
      "cell_type": "markdown",
      "metadata": {
        "id": "evBZTTfOn6bk",
        "colab_type": "text"
      },
      "source": [
        "make the dataset to tensor"
      ]
    },
    {
      "cell_type": "code",
      "metadata": {
        "id": "1DwnbuoPhKns",
        "colab_type": "code",
        "colab": {}
      },
      "source": [
        "import tensorflow as tf\n",
        "import tensorflow.keras as K\n",
        "import numpy as np"
      ],
      "execution_count": 76,
      "outputs": []
    },
    {
      "cell_type": "code",
      "metadata": {
        "id": "zHOZFFwEhL7F",
        "colab_type": "code",
        "colab": {}
      },
      "source": [
        "x_train = df.pop('utterance')\n",
        "y_train = emotion_codes"
      ],
      "execution_count": 77,
      "outputs": []
    },
    {
      "cell_type": "code",
      "metadata": {
        "id": "eAzNnSqeiwEp",
        "colab_type": "code",
        "colab": {
          "base_uri": "https://localhost:8080/",
          "height": 102
        },
        "outputId": "83288215-aaca-4b55-fb9e-2ad8e875ca60"
      },
      "source": [
        "x_train.values"
      ],
      "execution_count": 78,
      "outputs": [
        {
          "output_type": "execute_result",
          "data": {
            "text/plain": [
              "array(['also I was the point person on my company\\x92s transition from the KL-5 to GR-6 system.',\n",
              "       'You must\\x92ve had your hands full.', 'That I did. That I did.',\n",
              "       ..., 'You guys are messing with me, right?', 'Yeah.',\n",
              "       'That was a good one. For a second there, I was like, \"whoa.\"'],\n",
              "      dtype=object)"
            ]
          },
          "metadata": {
            "tags": []
          },
          "execution_count": 78
        }
      ]
    },
    {
      "cell_type": "code",
      "metadata": {
        "id": "85lOGO-Zj8VN",
        "colab_type": "code",
        "colab": {
          "base_uri": "https://localhost:8080/",
          "height": 34
        },
        "outputId": "f379e30e-724e-4cad-9f5b-5770b8bdc493"
      },
      "source": [
        "y_onehot = tf.one_hot(y_train, depth=8)\n",
        "y_onehot.shape"
      ],
      "execution_count": 79,
      "outputs": [
        {
          "output_type": "execute_result",
          "data": {
            "text/plain": [
              "TensorShape([10561, 8])"
            ]
          },
          "metadata": {
            "tags": []
          },
          "execution_count": 79
        }
      ]
    },
    {
      "cell_type": "markdown",
      "metadata": {
        "id": "pCBi4Mr36tND",
        "colab_type": "text"
      },
      "source": [
        "이 이하는 실행 안 해도 됨"
      ]
    },
    {
      "cell_type": "code",
      "metadata": {
        "id": "doWsMuOmj9Vp",
        "colab_type": "code",
        "colab": {}
      },
      "source": [
        "dataset = tf.data.Dataset.from_tensor_slices(x_train)"
      ],
      "execution_count": 59,
      "outputs": []
    },
    {
      "cell_type": "code",
      "metadata": {
        "id": "BQGItl9ekfmi",
        "colab_type": "code",
        "colab": {
          "base_uri": "https://localhost:8080/",
          "height": 122
        },
        "outputId": "7b49899d-4352-4411-b446-a983bcb0ef2a"
      },
      "source": [
        "for t in dataset.take(5):\n",
        "  print(t)"
      ],
      "execution_count": 15,
      "outputs": [
        {
          "output_type": "stream",
          "text": [
            "tf.Tensor(b'also I was the point person on my company\\xc2\\x92s transition from the KL-5 to GR-6 system.', shape=(), dtype=string)\n",
            "tf.Tensor(b'You must\\xc2\\x92ve had your hands full.', shape=(), dtype=string)\n",
            "tf.Tensor(b'That I did. That I did.', shape=(), dtype=string)\n",
            "tf.Tensor(b'So let\\xc2\\x92s talk a little bit about your duties.', shape=(), dtype=string)\n",
            "tf.Tensor(b'My duties?  All right.', shape=(), dtype=string)\n"
          ],
          "name": "stdout"
        }
      ]
    },
    {
      "cell_type": "code",
      "metadata": {
        "id": "aT-zJgsakja5",
        "colab_type": "code",
        "colab": {
          "base_uri": "https://localhost:8080/",
          "height": 102
        },
        "outputId": "4f7887e9-381f-4c17-81ba-3c2b8fd4198b"
      },
      "source": [
        "train_data = dataset.shuffle(len(df))\n",
        "for t in train_data.take(5):\n",
        "  print(t)"
      ],
      "execution_count": 16,
      "outputs": [
        {
          "output_type": "stream",
          "text": [
            "tf.Tensor(b'I uh, went to a bar. And then I just uh, just walked around for a while.', shape=(), dtype=string)\n",
            "tf.Tensor(b'Okay.', shape=(), dtype=string)\n",
            "tf.Tensor(b'Oh.', shape=(), dtype=string)\n",
            "tf.Tensor(b'Yeah, I\\xc2\\x92m just, I\\xc2\\x92m just in town for a conference. Umm,', shape=(), dtype=string)\n",
            "tf.Tensor(b'What about these? These look the same?', shape=(), dtype=string)\n"
          ],
          "name": "stdout"
        }
      ]
    },
    {
      "cell_type": "markdown",
      "metadata": {
        "id": "U4WWAtZolFnO",
        "colab_type": "text"
      },
      "source": [
        "# Tokenizer"
      ]
    },
    {
      "cell_type": "code",
      "metadata": {
        "id": "C5FUP8lnlxcD",
        "colab_type": "code",
        "colab": {}
      },
      "source": [
        "tokenizer = K.preprocessing.text.Tokenizer(num_words = 4000, char_level=False)"
      ],
      "execution_count": 17,
      "outputs": []
    },
    {
      "cell_type": "code",
      "metadata": {
        "id": "yRc-9tfyl6GZ",
        "colab_type": "code",
        "colab": {}
      },
      "source": [
        "tokenizer.fit_on_texts(x_train.values)"
      ],
      "execution_count": 18,
      "outputs": []
    },
    {
      "cell_type": "code",
      "metadata": {
        "id": "SWR4PfYHmAHB",
        "colab_type": "code",
        "colab": {}
      },
      "source": [
        "x_in = tokenizer.texts_to_sequences(x_train)"
      ],
      "execution_count": 60,
      "outputs": []
    },
    {
      "cell_type": "code",
      "metadata": {
        "id": "U3gwgbfkTK2Z",
        "colab_type": "code",
        "colab": {
          "base_uri": "https://localhost:8080/",
          "height": 136
        },
        "outputId": "8dc2ef95-c5e0-485e-cc16-ad7a13c04b99"
      },
      "source": [
        "x_in = tf.keras.preprocessing.sequence.pad_sequences(x_in)\n",
        "print(x_in)"
      ],
      "execution_count": 61,
      "outputs": [
        {
          "output_type": "stream",
          "text": [
            "[[   0    0    0 ... 3069  968  969]\n",
            " [   0    0    0 ...   39  760  882]\n",
            " [   0    0    0 ...    9    1   71]\n",
            " ...\n",
            " [   0    0    0 ...   37   14   35]\n",
            " [   0    0    0 ...    0    0   17]\n",
            " [   0    0    0 ...   33   41  184]]\n"
          ],
          "name": "stdout"
        }
      ]
    },
    {
      "cell_type": "code",
      "metadata": {
        "id": "MdP4Wy19VYza",
        "colab_type": "code",
        "colab": {
          "base_uri": "https://localhost:8080/",
          "height": 34
        },
        "outputId": "388ca9e7-749e-4bd1-b941-1f5c4cbdfe19"
      },
      "source": [
        "x_in.shape"
      ],
      "execution_count": 63,
      "outputs": [
        {
          "output_type": "execute_result",
          "data": {
            "text/plain": [
              "(10561, 68)"
            ]
          },
          "metadata": {
            "tags": []
          },
          "execution_count": 63
        }
      ]
    },
    {
      "cell_type": "markdown",
      "metadata": {
        "id": "8iZehXXAE8hZ",
        "colab_type": "text"
      },
      "source": [
        "# Embedding"
      ]
    },
    {
      "cell_type": "code",
      "metadata": {
        "id": "Y6dj6GHmG9k3",
        "colab_type": "code",
        "colab": {}
      },
      "source": [
        "from tensorflow.keras.layers import Embedding, Flatten, Dense, ReLU, Softmax"
      ],
      "execution_count": 22,
      "outputs": []
    },
    {
      "cell_type": "markdown",
      "metadata": {
        "id": "EX_PZNkE64-e",
        "colab_type": "text"
      },
      "source": [
        "## Hyperparameter"
      ]
    },
    {
      "cell_type": "code",
      "metadata": {
        "id": "7LyqwmXO67vK",
        "colab_type": "code",
        "colab": {}
      },
      "source": [
        "INPUT_DIM = 4000\n",
        "EMBED_DIM = 1000\n",
        "INPUT_LEN = 68\n",
        "RNN_DEPTH = 128\n",
        "FIRST_DENSE = 64\n",
        "OUTPUT_LEN = 8\n",
        "BATCH_SIZE = 100\n",
        "EPOCHS = 10\n",
        "SHUFFLE = True"
      ],
      "execution_count": 23,
      "outputs": []
    },
    {
      "cell_type": "markdown",
      "metadata": {
        "id": "ZqlVTXJmHnP9",
        "colab_type": "text"
      },
      "source": [
        "Model Create"
      ]
    },
    {
      "cell_type": "code",
      "metadata": {
        "id": "QYemcBkcHuFp",
        "colab_type": "code",
        "colab": {
          "base_uri": "https://localhost:8080/",
          "height": 357
        },
        "outputId": "9eec70c5-b0b4-420c-d856-e9bb9baaa483"
      },
      "source": [
        "model = K.Sequential()\n",
        "model.add(Embedding(input_dim = INPUT_DIM, output_dim=EMBED_DIM, input_length=INPUT_LEN))\n",
        "model.add(Flatten())\n",
        "model.add(Dense(FIRST_DENSE))\n",
        "model.add(ReLU())\n",
        "model.add(Dense(OUTPUT_LEN))\n",
        "model.add(Softmax())\n",
        "\n",
        "model.summary()"
      ],
      "execution_count": 24,
      "outputs": [
        {
          "output_type": "stream",
          "text": [
            "Model: \"sequential\"\n",
            "_________________________________________________________________\n",
            "Layer (type)                 Output Shape              Param #   \n",
            "=================================================================\n",
            "embedding (Embedding)        (None, 68, 1000)          4000000   \n",
            "_________________________________________________________________\n",
            "flatten (Flatten)            (None, 68000)             0         \n",
            "_________________________________________________________________\n",
            "dense (Dense)                (None, 64)                4352064   \n",
            "_________________________________________________________________\n",
            "re_lu (ReLU)                 (None, 64)                0         \n",
            "_________________________________________________________________\n",
            "dense_1 (Dense)              (None, 8)                 520       \n",
            "_________________________________________________________________\n",
            "softmax (Softmax)            (None, 8)                 0         \n",
            "=================================================================\n",
            "Total params: 8,352,584\n",
            "Trainable params: 8,352,584\n",
            "Non-trainable params: 0\n",
            "_________________________________________________________________\n"
          ],
          "name": "stdout"
        }
      ]
    },
    {
      "cell_type": "code",
      "metadata": {
        "id": "2KtiGkBMIXYe",
        "colab_type": "code",
        "colab": {}
      },
      "source": [
        "model.compile(optimizer=\"Adam\", loss=K.losses.CategoricalCrossentropy())"
      ],
      "execution_count": 25,
      "outputs": []
    },
    {
      "cell_type": "code",
      "metadata": {
        "id": "L6NNFeSEI2ZN",
        "colab_type": "code",
        "colab": {
          "base_uri": "https://localhost:8080/",
          "height": 374
        },
        "outputId": "b0366d1e-41e7-4960-dcfe-5a6b9b2404bb"
      },
      "source": [
        "model.fit(x=x_in, y=y_onehot, batch_size=BATCH_SIZE, epochs=EPOCHS, shuffle=SHUFFLE)"
      ],
      "execution_count": 26,
      "outputs": [
        {
          "output_type": "stream",
          "text": [
            "Epoch 1/10\n",
            "106/106 [==============================] - 7s 62ms/step - loss: 1.6018\n",
            "Epoch 2/10\n",
            "106/106 [==============================] - 7s 62ms/step - loss: 1.2653\n",
            "Epoch 3/10\n",
            "106/106 [==============================] - 6s 61ms/step - loss: 0.9284\n",
            "Epoch 4/10\n",
            "106/106 [==============================] - 7s 62ms/step - loss: 0.6862\n",
            "Epoch 5/10\n",
            "106/106 [==============================] - 6s 61ms/step - loss: 0.5377\n",
            "Epoch 6/10\n",
            "106/106 [==============================] - 7s 62ms/step - loss: 0.4481\n",
            "Epoch 7/10\n",
            "106/106 [==============================] - 7s 61ms/step - loss: 0.3885\n",
            "Epoch 8/10\n",
            "106/106 [==============================] - 6s 61ms/step - loss: 0.3549\n",
            "Epoch 9/10\n",
            "106/106 [==============================] - 7s 62ms/step - loss: 0.3316\n",
            "Epoch 10/10\n",
            "106/106 [==============================] - 7s 62ms/step - loss: 0.3099\n"
          ],
          "name": "stdout"
        },
        {
          "output_type": "execute_result",
          "data": {
            "text/plain": [
              "<tensorflow.python.keras.callbacks.History at 0x7f45f3045e48>"
            ]
          },
          "metadata": {
            "tags": []
          },
          "execution_count": 26
        }
      ]
    },
    {
      "cell_type": "markdown",
      "metadata": {
        "id": "NrmGvMhYcvk4",
        "colab_type": "text"
      },
      "source": [
        "# Model evaluation"
      ]
    },
    {
      "cell_type": "code",
      "metadata": {
        "id": "gQ_S9XRH7z4m",
        "colab_type": "code",
        "colab": {}
      },
      "source": [
        "def make_test_sample(text):\n",
        "  test_data = tokenizer.texts_to_sequences(text)\n",
        "  test_data = tf.keras.preprocessing.sequence.pad_sequences(test_data, maxlen=68)\n",
        "  print(test_data)\n",
        "  print(test_data.shape)\n",
        "  return test_data"
      ],
      "execution_count": 27,
      "outputs": []
    },
    {
      "cell_type": "code",
      "metadata": {
        "id": "j9x26DlPI_hF",
        "colab_type": "code",
        "colab": {
          "base_uri": "https://localhost:8080/",
          "height": 102
        },
        "outputId": "85c12c0a-0679-40ce-d56b-db10e7a9e9e6"
      },
      "source": [
        "test_data = make_test_sample([\"Hello Hello I'm Jisoo\"])"
      ],
      "execution_count": 28,
      "outputs": [
        {
          "output_type": "stream",
          "text": [
            "[[  0   0   0   0   0   0   0   0   0   0   0   0   0   0   0   0   0   0\n",
            "    0   0   0   0   0   0   0   0   0   0   0   0   0   0   0   0   0   0\n",
            "    0   0   0   0   0   0   0   0   0   0   0   0   0   0   0   0   0   0\n",
            "    0   0   0   0   0   0   0   0   0   0   0 191 191  52]]\n",
            "(1, 68)\n"
          ],
          "name": "stdout"
        }
      ]
    },
    {
      "cell_type": "code",
      "metadata": {
        "id": "DsxkXNzGQknQ",
        "colab_type": "code",
        "colab": {}
      },
      "source": [
        "result = model.predict(test_data, batch_size=BATCH_SIZE)"
      ],
      "execution_count": 29,
      "outputs": []
    },
    {
      "cell_type": "code",
      "metadata": {
        "id": "aHuKASBydSGi",
        "colab_type": "code",
        "colab": {
          "base_uri": "https://localhost:8080/",
          "height": 181
        },
        "outputId": "9972d90d-a49f-4769-e8a2-06387c640604"
      },
      "source": [
        "answer = result.argmax()\n",
        "print(emo_cat.categories[answer])"
      ],
      "execution_count": 30,
      "outputs": [
        {
          "output_type": "error",
          "ename": "NameError",
          "evalue": "ignored",
          "traceback": [
            "\u001b[0;31m---------------------------------------------------------------------------\u001b[0m",
            "\u001b[0;31mNameError\u001b[0m                                 Traceback (most recent call last)",
            "\u001b[0;32m<ipython-input-30-ba1afa786a43>\u001b[0m in \u001b[0;36m<module>\u001b[0;34m()\u001b[0m\n\u001b[1;32m      1\u001b[0m \u001b[0manswer\u001b[0m \u001b[0;34m=\u001b[0m \u001b[0mresult\u001b[0m\u001b[0;34m.\u001b[0m\u001b[0margmax\u001b[0m\u001b[0;34m(\u001b[0m\u001b[0;34m)\u001b[0m\u001b[0;34m\u001b[0m\u001b[0;34m\u001b[0m\u001b[0m\n\u001b[0;32m----> 2\u001b[0;31m \u001b[0mprint\u001b[0m\u001b[0;34m(\u001b[0m\u001b[0memo_cat\u001b[0m\u001b[0;34m.\u001b[0m\u001b[0mcategories\u001b[0m\u001b[0;34m[\u001b[0m\u001b[0manswer\u001b[0m\u001b[0;34m]\u001b[0m\u001b[0;34m)\u001b[0m\u001b[0;34m\u001b[0m\u001b[0;34m\u001b[0m\u001b[0m\n\u001b[0m",
            "\u001b[0;31mNameError\u001b[0m: name 'emo_cat' is not defined"
          ]
        }
      ]
    },
    {
      "cell_type": "markdown",
      "metadata": {
        "id": "X4rvjX2SjkJF",
        "colab_type": "text"
      },
      "source": [
        "# Categories And codes"
      ]
    },
    {
      "cell_type": "code",
      "metadata": {
        "id": "-Ldwzys0ejTM",
        "colab_type": "code",
        "colab": {
          "base_uri": "https://localhost:8080/",
          "height": 34
        },
        "outputId": "c271a27d-e7cd-472e-be6a-8d5e887080dd"
      },
      "source": [
        "emo_cat = pd.Categorical(df['emotion'])\n",
        "emo_cat.categories\n",
        "emo_cat.codes"
      ],
      "execution_count": 31,
      "outputs": [
        {
          "output_type": "execute_result",
          "data": {
            "text/plain": [
              "array([4, 4, 4, ..., 7, 4, 5], dtype=int8)"
            ]
          },
          "metadata": {
            "tags": []
          },
          "execution_count": 31
        }
      ]
    },
    {
      "cell_type": "code",
      "metadata": {
        "id": "TaMBw3cxg7S_",
        "colab_type": "code",
        "colab": {
          "base_uri": "https://localhost:8080/",
          "height": 297
        },
        "outputId": "9db874fc-d785-4d62-a5d9-05dc30cad6d9"
      },
      "source": [
        "emo_df = pd.DataFrame(\n",
        "    {\"emotion\" : emo_cat.categories}\n",
        ")\n",
        "emo_df"
      ],
      "execution_count": 32,
      "outputs": [
        {
          "output_type": "execute_result",
          "data": {
            "text/html": [
              "<div>\n",
              "<style scoped>\n",
              "    .dataframe tbody tr th:only-of-type {\n",
              "        vertical-align: middle;\n",
              "    }\n",
              "\n",
              "    .dataframe tbody tr th {\n",
              "        vertical-align: top;\n",
              "    }\n",
              "\n",
              "    .dataframe thead th {\n",
              "        text-align: right;\n",
              "    }\n",
              "</style>\n",
              "<table border=\"1\" class=\"dataframe\">\n",
              "  <thead>\n",
              "    <tr style=\"text-align: right;\">\n",
              "      <th></th>\n",
              "      <th>emotion</th>\n",
              "    </tr>\n",
              "  </thead>\n",
              "  <tbody>\n",
              "    <tr>\n",
              "      <th>0</th>\n",
              "      <td>anger</td>\n",
              "    </tr>\n",
              "    <tr>\n",
              "      <th>1</th>\n",
              "      <td>disgust</td>\n",
              "    </tr>\n",
              "    <tr>\n",
              "      <th>2</th>\n",
              "      <td>fear</td>\n",
              "    </tr>\n",
              "    <tr>\n",
              "      <th>3</th>\n",
              "      <td>joy</td>\n",
              "    </tr>\n",
              "    <tr>\n",
              "      <th>4</th>\n",
              "      <td>neutral</td>\n",
              "    </tr>\n",
              "    <tr>\n",
              "      <th>5</th>\n",
              "      <td>non-neutral</td>\n",
              "    </tr>\n",
              "    <tr>\n",
              "      <th>6</th>\n",
              "      <td>sadness</td>\n",
              "    </tr>\n",
              "    <tr>\n",
              "      <th>7</th>\n",
              "      <td>surprise</td>\n",
              "    </tr>\n",
              "  </tbody>\n",
              "</table>\n",
              "</div>"
            ],
            "text/plain": [
              "       emotion\n",
              "0        anger\n",
              "1      disgust\n",
              "2         fear\n",
              "3          joy\n",
              "4      neutral\n",
              "5  non-neutral\n",
              "6      sadness\n",
              "7     surprise"
            ]
          },
          "metadata": {
            "tags": []
          },
          "execution_count": 32
        }
      ]
    },
    {
      "cell_type": "markdown",
      "metadata": {
        "id": "YTZIXzffi2Vu",
        "colab_type": "text"
      },
      "source": [
        "# Make RNN model"
      ]
    },
    {
      "cell_type": "code",
      "metadata": {
        "id": "ppI-d7UUjpjK",
        "colab_type": "code",
        "colab": {}
      },
      "source": [
        "from tensorflow.keras.layers import SimpleRNN"
      ],
      "execution_count": 33,
      "outputs": []
    },
    {
      "cell_type": "code",
      "metadata": {
        "id": "43bf_ksXf_7D",
        "colab_type": "code",
        "colab": {
          "base_uri": "https://localhost:8080/",
          "height": 391
        },
        "outputId": "f724056d-05b6-4993-c76d-1d8d3f9d1d76"
      },
      "source": [
        "rnnModel = K.Sequential()\n",
        "rnnModel.add(Embedding(input_dim = INPUT_DIM, output_dim=EMBED_DIM, input_length=INPUT_LEN))\n",
        "rnnModel.add(SimpleRNN(RNN_DEPTH))\n",
        "rnnModel.add(Flatten())\n",
        "rnnModel.add(Dense(FIRST_DENSE))\n",
        "rnnModel.add(ReLU())\n",
        "rnnModel.add(Dense(OUTPUT_LEN))\n",
        "rnnModel.add(Softmax())\n",
        "\n",
        "rnnModel.summary()"
      ],
      "execution_count": 34,
      "outputs": [
        {
          "output_type": "stream",
          "text": [
            "Model: \"sequential_1\"\n",
            "_________________________________________________________________\n",
            "Layer (type)                 Output Shape              Param #   \n",
            "=================================================================\n",
            "embedding_1 (Embedding)      (None, 68, 1000)          4000000   \n",
            "_________________________________________________________________\n",
            "simple_rnn (SimpleRNN)       (None, 128)               144512    \n",
            "_________________________________________________________________\n",
            "flatten_1 (Flatten)          (None, 128)               0         \n",
            "_________________________________________________________________\n",
            "dense_2 (Dense)              (None, 64)                8256      \n",
            "_________________________________________________________________\n",
            "re_lu_1 (ReLU)               (None, 64)                0         \n",
            "_________________________________________________________________\n",
            "dense_3 (Dense)              (None, 8)                 520       \n",
            "_________________________________________________________________\n",
            "softmax_1 (Softmax)          (None, 8)                 0         \n",
            "=================================================================\n",
            "Total params: 4,153,288\n",
            "Trainable params: 4,153,288\n",
            "Non-trainable params: 0\n",
            "_________________________________________________________________\n"
          ],
          "name": "stdout"
        }
      ]
    },
    {
      "cell_type": "code",
      "metadata": {
        "id": "COGm0HbBiLTI",
        "colab_type": "code",
        "colab": {}
      },
      "source": [
        "rnnModel.compile(optimizer=\"Adam\", loss=K.losses.CategoricalCrossentropy())"
      ],
      "execution_count": 35,
      "outputs": []
    },
    {
      "cell_type": "code",
      "metadata": {
        "id": "tT8CZBmUilLT",
        "colab_type": "code",
        "colab": {
          "base_uri": "https://localhost:8080/",
          "height": 374
        },
        "outputId": "692d305e-8193-48d9-f501-a605b9d656f4"
      },
      "source": [
        "rnnModel.fit(x=x_in, y=y_onehot, batch_size=BATCH_SIZE, epochs=EPOCHS, shuffle=SHUFFLE)"
      ],
      "execution_count": 36,
      "outputs": [
        {
          "output_type": "stream",
          "text": [
            "Epoch 1/10\n",
            "106/106 [==============================] - 13s 124ms/step - loss: 1.5747\n",
            "Epoch 2/10\n",
            "106/106 [==============================] - 13s 121ms/step - loss: 1.2864\n",
            "Epoch 3/10\n",
            "106/106 [==============================] - 13s 122ms/step - loss: 0.8886\n",
            "Epoch 4/10\n",
            "106/106 [==============================] - 13s 122ms/step - loss: 0.6233\n",
            "Epoch 5/10\n",
            "106/106 [==============================] - 13s 123ms/step - loss: 0.4880\n",
            "Epoch 6/10\n",
            "106/106 [==============================] - 13s 122ms/step - loss: 0.4071\n",
            "Epoch 7/10\n",
            "106/106 [==============================] - 13s 123ms/step - loss: 0.3537\n",
            "Epoch 8/10\n",
            "106/106 [==============================] - 13s 123ms/step - loss: 0.3221\n",
            "Epoch 9/10\n",
            "106/106 [==============================] - 13s 122ms/step - loss: 0.3006\n",
            "Epoch 10/10\n",
            "106/106 [==============================] - 13s 120ms/step - loss: 0.2921\n"
          ],
          "name": "stdout"
        },
        {
          "output_type": "execute_result",
          "data": {
            "text/plain": [
              "<tensorflow.python.keras.callbacks.History at 0x7f459879bda0>"
            ]
          },
          "metadata": {
            "tags": []
          },
          "execution_count": 36
        }
      ]
    },
    {
      "cell_type": "markdown",
      "metadata": {
        "id": "yoGARyX4io3R",
        "colab_type": "text"
      },
      "source": [
        "# Make Validation Generator"
      ]
    },
    {
      "cell_type": "code",
      "metadata": {
        "id": "4OfTPGAMwhzm",
        "colab_type": "code",
        "colab": {}
      },
      "source": [
        "def validation_preprocessor(tokenizer):\n",
        "  with open('/content/EmotionLines/Friends/friends_dev.json', encoding='utf-8', mode='r') as f:\n",
        "    array = json.load(f)\n",
        "\n",
        "  data =[]\n",
        "  for i in range(len(array)):\n",
        "    data += array[i]\n",
        "  print(f\"Total length of data : {len(data)}\")\n",
        "  df = pd.DataFrame(data)\n",
        "\n",
        "    # change the value to dtype: Category\n",
        "  df['emotion'] = pd.Categorical(df['emotion'])\n",
        "\n",
        "  # cat(egory).codes print the code of category\n",
        "  emotion_codes = df.emotion.cat.codes\n",
        "\n",
        "  x_train = df.pop('utterance')\n",
        "  y_train = emotion_codes\n",
        "  y_onehot = tf.one_hot(y_train, depth=8)\n",
        "\n",
        "  tokenizer.fit_on_texts(x_train.values)\n",
        "  x_in = tokenizer.texts_to_sequences(x_train)\n",
        "  x_in = tf.keras.preprocessing.sequence.pad_sequences(x_in, maxlen=68)\n",
        "\n",
        "  return x_in, y_onehot"
      ],
      "execution_count": 37,
      "outputs": []
    },
    {
      "cell_type": "code",
      "metadata": {
        "id": "4W1swovGx_qb",
        "colab_type": "code",
        "colab": {
          "base_uri": "https://localhost:8080/",
          "height": 34
        },
        "outputId": "e94f2071-0b08-4fb6-b4ec-249ad142b426"
      },
      "source": [
        "x_in, y_onehot = validation_preprocessor(tokenizer)"
      ],
      "execution_count": 38,
      "outputs": [
        {
          "output_type": "stream",
          "text": [
            "Total length of data : 1178\n"
          ],
          "name": "stdout"
        }
      ]
    },
    {
      "cell_type": "code",
      "metadata": {
        "id": "2T0fEWhLyF2o",
        "colab_type": "code",
        "colab": {
          "base_uri": "https://localhost:8080/",
          "height": 51
        },
        "outputId": "49e3df40-bcfe-450e-8339-72853103afec"
      },
      "source": [
        "rnnModel.evaluate(x=x_in, y = y_onehot)"
      ],
      "execution_count": 44,
      "outputs": [
        {
          "output_type": "stream",
          "text": [
            "37/37 [==============================] - 1s 24ms/step - loss: 0.1509\n"
          ],
          "name": "stdout"
        },
        {
          "output_type": "execute_result",
          "data": {
            "text/plain": [
              "0.15094460546970367"
            ]
          },
          "metadata": {
            "tags": []
          },
          "execution_count": 44
        }
      ]
    },
    {
      "cell_type": "code",
      "metadata": {
        "id": "nT3ZHAeLyWS6",
        "colab_type": "code",
        "colab": {
          "base_uri": "https://localhost:8080/",
          "height": 51
        },
        "outputId": "7300d358-c7ce-4bd6-c404-1447dd5d67a1"
      },
      "source": [
        "model.evaluate(x=x_in, y = y_onehot)"
      ],
      "execution_count": 45,
      "outputs": [
        {
          "output_type": "stream",
          "text": [
            "37/37 [==============================] - 0s 5ms/step - loss: 3.4863\n"
          ],
          "name": "stdout"
        },
        {
          "output_type": "execute_result",
          "data": {
            "text/plain": [
              "3.4863157272338867"
            ]
          },
          "metadata": {
            "tags": []
          },
          "execution_count": 45
        }
      ]
    },
    {
      "cell_type": "markdown",
      "metadata": {
        "id": "2e16d3GUyej8",
        "colab_type": "text"
      },
      "source": [
        "# Make Multiple RNN model"
      ]
    },
    {
      "cell_type": "code",
      "metadata": {
        "id": "026cmcPBjtcT",
        "colab_type": "code",
        "colab": {
          "base_uri": "https://localhost:8080/",
          "height": 425
        },
        "outputId": "9f08a9c2-d518-44f4-c419-6dd52922eb73"
      },
      "source": [
        "rnnModel2 = K.Sequential()\n",
        "rnnModel2.add(Embedding(input_dim = INPUT_DIM, output_dim=EMBED_DIM, input_length=INPUT_LEN))\n",
        "rnnModel2.add(SimpleRNN(RNN_DEPTH, return_sequences=True))\n",
        "rnnModel2.add(SimpleRNN(RNN_DEPTH))\n",
        "rnnModel2.add(Flatten())\n",
        "rnnModel2.add(Dense(FIRST_DENSE))\n",
        "rnnModel2.add(ReLU())\n",
        "rnnModel2.add(Dense(OUTPUT_LEN))\n",
        "rnnModel2.add(Softmax())\n",
        "\n",
        "rnnModel2.summary()"
      ],
      "execution_count": 41,
      "outputs": [
        {
          "output_type": "stream",
          "text": [
            "Model: \"sequential_2\"\n",
            "_________________________________________________________________\n",
            "Layer (type)                 Output Shape              Param #   \n",
            "=================================================================\n",
            "embedding_2 (Embedding)      (None, 68, 1000)          4000000   \n",
            "_________________________________________________________________\n",
            "simple_rnn_1 (SimpleRNN)     (None, 68, 128)           144512    \n",
            "_________________________________________________________________\n",
            "simple_rnn_2 (SimpleRNN)     (None, 128)               32896     \n",
            "_________________________________________________________________\n",
            "flatten_2 (Flatten)          (None, 128)               0         \n",
            "_________________________________________________________________\n",
            "dense_4 (Dense)              (None, 64)                8256      \n",
            "_________________________________________________________________\n",
            "re_lu_2 (ReLU)               (None, 64)                0         \n",
            "_________________________________________________________________\n",
            "dense_5 (Dense)              (None, 8)                 520       \n",
            "_________________________________________________________________\n",
            "softmax_2 (Softmax)          (None, 8)                 0         \n",
            "=================================================================\n",
            "Total params: 4,186,184\n",
            "Trainable params: 4,186,184\n",
            "Non-trainable params: 0\n",
            "_________________________________________________________________\n"
          ],
          "name": "stdout"
        }
      ]
    },
    {
      "cell_type": "code",
      "metadata": {
        "id": "TGMRuY8klks0",
        "colab_type": "code",
        "colab": {}
      },
      "source": [
        "rnnModel2.compile(optimizer=\"Adam\", loss=K.losses.CategoricalCrossentropy())"
      ],
      "execution_count": 42,
      "outputs": []
    },
    {
      "cell_type": "code",
      "metadata": {
        "id": "Nhbgzm2GoEuW",
        "colab_type": "code",
        "colab": {
          "base_uri": "https://localhost:8080/",
          "height": 374
        },
        "outputId": "65aa54aa-33d3-4565-e002-47df626b2ee7"
      },
      "source": [
        "rnnModel2.fit(x=x_in, y=y_onehot, batch_size=BATCH_SIZE, epochs=EPOCHS, shuffle=SHUFFLE)"
      ],
      "execution_count": 48,
      "outputs": [
        {
          "output_type": "stream",
          "text": [
            "Epoch 1/10\n",
            "12/12 [==============================] - 2s 159ms/step - loss: 1.7643\n",
            "Epoch 2/10\n",
            "12/12 [==============================] - 2s 174ms/step - loss: 1.6060\n",
            "Epoch 3/10\n",
            "12/12 [==============================] - 2s 163ms/step - loss: 1.3229\n",
            "Epoch 4/10\n",
            "12/12 [==============================] - 2s 167ms/step - loss: 0.9244\n",
            "Epoch 5/10\n",
            "12/12 [==============================] - 2s 163ms/step - loss: 0.5940\n",
            "Epoch 6/10\n",
            "12/12 [==============================] - 2s 161ms/step - loss: 0.4119\n",
            "Epoch 7/10\n",
            "12/12 [==============================] - 2s 163ms/step - loss: 0.2785\n",
            "Epoch 8/10\n",
            "12/12 [==============================] - 2s 168ms/step - loss: 0.2167\n",
            "Epoch 9/10\n",
            "12/12 [==============================] - 2s 164ms/step - loss: 0.1831\n",
            "Epoch 10/10\n",
            "12/12 [==============================] - 2s 163ms/step - loss: 0.1553\n"
          ],
          "name": "stdout"
        },
        {
          "output_type": "execute_result",
          "data": {
            "text/plain": [
              "<tensorflow.python.keras.callbacks.History at 0x7f4596b95710>"
            ]
          },
          "metadata": {
            "tags": []
          },
          "execution_count": 48
        }
      ]
    },
    {
      "cell_type": "code",
      "metadata": {
        "id": "LnNZmUhzoHN7",
        "colab_type": "code",
        "colab": {
          "base_uri": "https://localhost:8080/",
          "height": 51
        },
        "outputId": "bd4fc93e-e2ad-4bf2-88ac-927542e87e36"
      },
      "source": [
        "rnnModel2.evaluate(x=x_in, y = y_onehot,batch_size=BATCH_SIZE)"
      ],
      "execution_count": 49,
      "outputs": [
        {
          "output_type": "stream",
          "text": [
            "12/12 [==============================] - 0s 39ms/step - loss: 0.1374\n"
          ],
          "name": "stdout"
        },
        {
          "output_type": "execute_result",
          "data": {
            "text/plain": [
              "0.13742001354694366"
            ]
          },
          "metadata": {
            "tags": []
          },
          "execution_count": 49
        }
      ]
    },
    {
      "cell_type": "markdown",
      "metadata": {
        "id": "C2447y-6pJeE",
        "colab_type": "text"
      },
      "source": [
        "# Make LSTM Model"
      ]
    },
    {
      "cell_type": "code",
      "metadata": {
        "id": "k9bWzhSuqC8i",
        "colab_type": "code",
        "colab": {
          "base_uri": "https://localhost:8080/",
          "height": 425
        },
        "outputId": "11be5130-8fcb-4c9c-a085-cd028e010d78"
      },
      "source": [
        "lstmModel = K.Sequential()\n",
        "lstmModel.add(Embedding(input_dim = INPUT_DIM, output_dim=EMBED_DIM, input_length=INPUT_LEN))\n",
        "lstmModel.add(SimpleRNN(RNN_DEPTH, return_sequences=True))\n",
        "lstmModel.add(SimpleRNN(RNN_DEPTH))\n",
        "lstmModel.add(Flatten())\n",
        "lstmModel.add(Dense(FIRST_DENSE))\n",
        "lstmModel.add(ReLU())\n",
        "lstmModel.add(Dense(OUTPUT_LEN))\n",
        "lstmModel.add(Softmax())\n",
        "\n",
        "lstmModel.summary()"
      ],
      "execution_count": 55,
      "outputs": [
        {
          "output_type": "stream",
          "text": [
            "Model: \"sequential_4\"\n",
            "_________________________________________________________________\n",
            "Layer (type)                 Output Shape              Param #   \n",
            "=================================================================\n",
            "embedding_4 (Embedding)      (None, 68, 1000)          4000000   \n",
            "_________________________________________________________________\n",
            "simple_rnn_5 (SimpleRNN)     (None, 68, 128)           144512    \n",
            "_________________________________________________________________\n",
            "simple_rnn_6 (SimpleRNN)     (None, 128)               32896     \n",
            "_________________________________________________________________\n",
            "flatten_4 (Flatten)          (None, 128)               0         \n",
            "_________________________________________________________________\n",
            "dense_8 (Dense)              (None, 64)                8256      \n",
            "_________________________________________________________________\n",
            "re_lu_4 (ReLU)               (None, 64)                0         \n",
            "_________________________________________________________________\n",
            "dense_9 (Dense)              (None, 8)                 520       \n",
            "_________________________________________________________________\n",
            "softmax_4 (Softmax)          (None, 8)                 0         \n",
            "=================================================================\n",
            "Total params: 4,186,184\n",
            "Trainable params: 4,186,184\n",
            "Non-trainable params: 0\n",
            "_________________________________________________________________\n"
          ],
          "name": "stdout"
        }
      ]
    },
    {
      "cell_type": "code",
      "metadata": {
        "id": "4IAdKm0MqMkU",
        "colab_type": "code",
        "colab": {}
      },
      "source": [
        "lstmModel.compile(optimizer=\"Adam\", loss=K.losses.CategoricalCrossentropy())"
      ],
      "execution_count": 66,
      "outputs": []
    },
    {
      "cell_type": "code",
      "metadata": {
        "id": "FvIbOgeXqPdz",
        "colab_type": "code",
        "colab": {
          "base_uri": "https://localhost:8080/",
          "height": 374
        },
        "outputId": "381f0555-b9ac-4154-ffa3-3ef4c9566358"
      },
      "source": [
        "lstmModel.fit(x=x_in, y=y_onehot, batch_size=BATCH_SIZE, epochs=EPOCHS, shuffle=SHUFFLE)"
      ],
      "execution_count": 81,
      "outputs": [
        {
          "output_type": "stream",
          "text": [
            "Epoch 1/10\n",
            "106/106 [==============================] - 20s 192ms/step - loss: 0.2882\n",
            "Epoch 2/10\n",
            "106/106 [==============================] - 21s 194ms/step - loss: 0.2885\n",
            "Epoch 3/10\n",
            "106/106 [==============================] - 21s 194ms/step - loss: 0.2903\n",
            "Epoch 4/10\n",
            "106/106 [==============================] - 21s 194ms/step - loss: 0.2731\n",
            "Epoch 5/10\n",
            "106/106 [==============================] - 20s 190ms/step - loss: 0.2551\n",
            "Epoch 6/10\n",
            "106/106 [==============================] - 20s 193ms/step - loss: 0.2397\n",
            "Epoch 7/10\n",
            "106/106 [==============================] - 20s 190ms/step - loss: 0.2349\n",
            "Epoch 8/10\n",
            "106/106 [==============================] - 20s 186ms/step - loss: 0.2249\n",
            "Epoch 9/10\n",
            "106/106 [==============================] - 20s 188ms/step - loss: 0.2283\n",
            "Epoch 10/10\n",
            "106/106 [==============================] - 20s 188ms/step - loss: 0.2861\n"
          ],
          "name": "stdout"
        },
        {
          "output_type": "execute_result",
          "data": {
            "text/plain": [
              "<tensorflow.python.keras.callbacks.History at 0x7f45922e6be0>"
            ]
          },
          "metadata": {
            "tags": []
          },
          "execution_count": 81
        }
      ]
    },
    {
      "cell_type": "code",
      "metadata": {
        "id": "QYlFx0w1qRga",
        "colab_type": "code",
        "colab": {}
      },
      "source": [
        ""
      ],
      "execution_count": null,
      "outputs": []
    }
  ]
}