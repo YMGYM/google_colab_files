{
  "nbformat": 4,
  "nbformat_minor": 0,
  "metadata": {
    "colab": {
      "name": "Incheon_travel.ipynb",
      "provenance": [],
      "collapsed_sections": [],
      "mount_file_id": "1Du9_C6dsGD75W13mVubPqlVLBgof3eO2",
      "authorship_tag": "ABX9TyMJTzDnX7mHc2ygZeiZvO1O",
      "include_colab_link": true
    },
    "kernelspec": {
      "name": "python3",
      "display_name": "Python 3"
    },
    "language_info": {
      "name": "python"
    },
    "accelerator": "GPU"
  },
  "cells": [
    {
      "cell_type": "markdown",
      "metadata": {
        "id": "view-in-github",
        "colab_type": "text"
      },
      "source": [
        "<a href=\"https://colab.research.google.com/github/YMGYM/google_colab_files/blob/master/Incheon_travel.ipynb\" target=\"_parent\"><img src=\"https://colab.research.google.com/assets/colab-badge.svg\" alt=\"Open In Colab\"/></a>"
      ]
    },
    {
      "cell_type": "code",
      "metadata": {
        "id": "R8WldcYlhB3I"
      },
      "source": [
        "import pandas as pd\n",
        "import numpy as np"
      ],
      "execution_count": 1,
      "outputs": []
    },
    {
      "cell_type": "code",
      "metadata": {
        "colab": {
          "base_uri": "https://localhost:8080/",
          "height": 1000
        },
        "id": "uIN_MIzKhw36",
        "outputId": "61a74983-9bce-43fb-a2e5-b464f946c461"
      },
      "source": [
        "data = pd.read_csv('/content/drive/MyDrive/Datasets/Incheon/Incheon.csv', encoding='euc-kr')\n",
        "data.head()"
      ],
      "execution_count": 2,
      "outputs": [
        {
          "output_type": "execute_result",
          "data": {
            "text/html": [
              "<div>\n",
              "<style scoped>\n",
              "    .dataframe tbody tr th:only-of-type {\n",
              "        vertical-align: middle;\n",
              "    }\n",
              "\n",
              "    .dataframe tbody tr th {\n",
              "        vertical-align: top;\n",
              "    }\n",
              "\n",
              "    .dataframe thead th {\n",
              "        text-align: right;\n",
              "    }\n",
              "</style>\n",
              "<table border=\"1\" class=\"dataframe\">\n",
              "  <thead>\n",
              "    <tr style=\"text-align: right;\">\n",
              "      <th></th>\n",
              "      <th>대분류</th>\n",
              "      <th>중분류</th>\n",
              "      <th>제목</th>\n",
              "      <th>주소</th>\n",
              "      <th>우편번호</th>\n",
              "      <th>전화번호</th>\n",
              "      <th>홈페이지</th>\n",
              "      <th>휴무일</th>\n",
              "      <th>개요</th>\n",
              "      <th>기본정보</th>\n",
              "      <th>시설안내</th>\n",
              "      <th>이용안내</th>\n",
              "      <th>교통안내</th>\n",
              "      <th>영문주소</th>\n",
              "      <th>영문제목</th>\n",
              "      <th>위도</th>\n",
              "      <th>경도</th>\n",
              "      <th>조회수</th>\n",
              "      <th>최초등록일시</th>\n",
              "    </tr>\n",
              "  </thead>\n",
              "  <tbody>\n",
              "    <tr>\n",
              "      <th>0</th>\n",
              "      <td>관광</td>\n",
              "      <td>역사유적</td>\n",
              "      <td>광성보</td>\n",
              "      <td>인천광역시 강화군 불은면 해안동로466번길 27</td>\n",
              "      <td>23047.0</td>\n",
              "      <td>032-930-7070</td>\n",
              "      <td>https://www.ghss.or.kr/user/facilities/tour/gw...</td>\n",
              "      <td>연중무휴</td>\n",
              "      <td>조선 광해군 10년(1618년)에 고려시대의 외성을 보수하고, 1656년 광성보를 ...</td>\n",
              "      <td>문화재지정여부및현황: 사적 제227호(1971.12.28 지정) 관리자: 강화군시설...</td>\n",
              "      <td>장애인 편의시설: - 휠체어 무료대여 가능 /- 장애인용 화장실 /- 전용주차구역 ...</td>\n",
              "      <td>이용시간: 09:00 ~ 18:00 관람소요시간: 50분 쉬는날: 연중무휴 입장료:...</td>\n",
              "      <td>오시는길: 초지교차로에서 '해안순환도로, 초지진' 방면으로 우회전 -  해안동로를 ...</td>\n",
              "      <td>27 Haeandong-ro 466beon-gil Bureun-myeon Gangh...</td>\n",
              "      <td>Gwangseongbo Fortress</td>\n",
              "      <td>37.665367</td>\n",
              "      <td>126.530252</td>\n",
              "      <td>1002.0</td>\n",
              "      <td>2016-12-01</td>\n",
              "    </tr>\n",
              "    <tr>\n",
              "      <th>1</th>\n",
              "      <td>관광</td>\n",
              "      <td>역사유적</td>\n",
              "      <td>갑곶돈대</td>\n",
              "      <td>인천광역시 강화군 강화읍 해안동로1366번길 18</td>\n",
              "      <td>23027.0</td>\n",
              "      <td>032-930-7076</td>\n",
              "      <td>NaN</td>\n",
              "      <td>연중무휴</td>\n",
              "      <td>갑곶돈은 고려가 1232년부터 1270년까지 도읍을 강화도로 옮겨 몽고와의 전쟁에서...</td>\n",
              "      <td>문화재지정여부및현황: 서적306호(1984.08.13 지정) 규모: 3,475㎡ 소...</td>\n",
              "      <td>장애인 편의시설: 전용 화장실 화장실: 남녀구분</td>\n",
              "      <td>개장기간: 상시개장 이용시간: 11~2월 09:00~17:00 /3~5월, 9월, ...</td>\n",
              "      <td>오시는길: 서울:올림픽대로(8.7km) → 김포한강로(14.0km) → 김포대로(1...</td>\n",
              "      <td>18 Haeandong-ro 1366beon-gil Ganghwa-eup Gangh...</td>\n",
              "      <td>Gapgotdondae Fortification</td>\n",
              "      <td>37.734300</td>\n",
              "      <td>126.515657</td>\n",
              "      <td>833.0</td>\n",
              "      <td>2016-12-01</td>\n",
              "    </tr>\n",
              "    <tr>\n",
              "      <th>2</th>\n",
              "      <td>관광</td>\n",
              "      <td>역사유적</td>\n",
              "      <td>참성단</td>\n",
              "      <td>인천광역시 강화군 화도면 해안남로1826번길 14</td>\n",
              "      <td>23062.0</td>\n",
              "      <td>032-930-7068</td>\n",
              "      <td>NaN</td>\n",
              "      <td>해당없음</td>\n",
              "      <td>참성단은 단군이 하늘에 제사를 올리던 제단이라고 전해지는 곳으로 제단은 다듬은 돌로...</td>\n",
              "      <td>문화재지정여부및현황: 사적 제136호 규모: 지름 4.5m, 단 1.98m 관광코스...</td>\n",
              "      <td>NaN</td>\n",
              "      <td>이용시간: 06:00~18:00 입장료: [개인] 어른 2,500원 군인·청소년 1...</td>\n",
              "      <td>오시는길: &lt;대중교통&gt; /송도 : 908(송도풍림아이원2단지) → 간선버스 700-...</td>\n",
              "      <td>14 Haeannam-ro 1826beon-gil Hwado-myeon Ganghw...</td>\n",
              "      <td>Chamseongdan Altar</td>\n",
              "      <td>37.613155</td>\n",
              "      <td>126.434892</td>\n",
              "      <td>522.0</td>\n",
              "      <td>2016-12-01</td>\n",
              "    </tr>\n",
              "    <tr>\n",
              "      <th>3</th>\n",
              "      <td>관광</td>\n",
              "      <td>역사유적</td>\n",
              "      <td>연미정(월곶돈대)</td>\n",
              "      <td>인천광역시 강화군 강화읍 해안북로 442</td>\n",
              "      <td>23021.0</td>\n",
              "      <td>032-932-5464</td>\n",
              "      <td>NaN</td>\n",
              "      <td>연중무휴(군작전 시 출입통제)</td>\n",
              "      <td>강화군 강화읍 월곶리에 위치한 연미정은 1995년 3월 1일 인천광역시 유형문화재 ...</td>\n",
              "      <td>문화재지정여부및현황: 인천광역시 유형문화재 제24호(1995.03.02 지정) 관광...</td>\n",
              "      <td>장애인 편의시설: 전용 화장실 화장실: 남녀구분 공중화장실</td>\n",
              "      <td>쉬는날: 연중무휴(군작전 시 출입통제) 주차시설: 주차가능</td>\n",
              "      <td>오시는길: 강화대교 - 강화경찰서 골목- 강화중학교 방향(10분 정도) - 검문소 ...</td>\n",
              "      <td>240-1, Wolgot-ri, Ganghwa-eup, Ganghwa-gun, In...</td>\n",
              "      <td>Yeonmijeong Pavilion</td>\n",
              "      <td>37.770989</td>\n",
              "      <td>126.511517</td>\n",
              "      <td>94.0</td>\n",
              "      <td>2016-12-01</td>\n",
              "    </tr>\n",
              "    <tr>\n",
              "      <th>4</th>\n",
              "      <td>관광</td>\n",
              "      <td>역사유적</td>\n",
              "      <td>고려궁지</td>\n",
              "      <td>인천광역시 강화군 강화읍 북문길 42</td>\n",
              "      <td>23030.0</td>\n",
              "      <td>032-930-3563</td>\n",
              "      <td>NaN</td>\n",
              "      <td>연중무휴</td>\n",
              "      <td>고려가 몽골군의 침략에 대항하기 위하여 도읍을 개경에서 강화로 옮긴 1232년부터 ...</td>\n",
              "      <td>문화재지정여부및현황: 사적 제133호 개관일: 1232년 설립자: 최우 규모: 7,...</td>\n",
              "      <td>장애인 편의시설: 전용 화장실 화장실: 남녀구분, 내부위치</td>\n",
              "      <td>체험안내: 09:00∼18:00 이용시간: 09:00∼18:00 관람소요시간: 약 ...</td>\n",
              "      <td>오시는길: (자가용) /서울:올림픽대로(11.5km)  → 김포한강로(14.0km)...</td>\n",
              "      <td>42 Bungmun-gil Ganghwa-eup Ganghwa-gun Incheon</td>\n",
              "      <td>Goryeogung Palace Site</td>\n",
              "      <td>37.752277</td>\n",
              "      <td>126.484499</td>\n",
              "      <td>686.0</td>\n",
              "      <td>2016-12-01</td>\n",
              "    </tr>\n",
              "  </tbody>\n",
              "</table>\n",
              "</div>"
            ],
            "text/plain": [
              "  대분류   중분류         제목  ...          경도     조회수      최초등록일시\n",
              "0  관광  역사유적        광성보  ...  126.530252  1002.0  2016-12-01\n",
              "1  관광  역사유적       갑곶돈대  ...  126.515657   833.0  2016-12-01\n",
              "2  관광  역사유적        참성단  ...  126.434892   522.0  2016-12-01\n",
              "3  관광  역사유적  연미정(월곶돈대)  ...  126.511517    94.0  2016-12-01\n",
              "4  관광  역사유적       고려궁지  ...  126.484499   686.0  2016-12-01\n",
              "\n",
              "[5 rows x 19 columns]"
            ]
          },
          "metadata": {},
          "execution_count": 2
        }
      ]
    },
    {
      "cell_type": "code",
      "metadata": {
        "colab": {
          "base_uri": "https://localhost:8080/"
        },
        "id": "ywM51a-Dhza6",
        "outputId": "7d29279e-fea9-4920-aaed-e8fd2c0d671b"
      },
      "source": [
        "description = data['개요']\n",
        "description.head()"
      ],
      "execution_count": null,
      "outputs": [
        {
          "output_type": "execute_result",
          "data": {
            "text/plain": [
              "0    조선 광해군 10년(1618년)에 고려시대의 외성을 보수하고, 1656년 광성보를 ...\n",
              "1    갑곶돈은 고려가 1232년부터 1270년까지 도읍을 강화도로 옮겨 몽고와의 전쟁에서...\n",
              "2    참성단은 단군이 하늘에 제사를 올리던 제단이라고 전해지는 곳으로 제단은 다듬은 돌로...\n",
              "3    강화군 강화읍 월곶리에 위치한 연미정은 1995년 3월 1일 인천광역시 유형문화재 ...\n",
              "4    고려가 몽골군의 침략에 대항하기 위하여 도읍을 개경에서 강화로 옮긴 1232년부터 ...\n",
              "Name: 개요, dtype: object"
            ]
          },
          "metadata": {},
          "execution_count": 6
        }
      ]
    },
    {
      "cell_type": "code",
      "metadata": {
        "id": "IZCjNWLTiQqF"
      },
      "source": [
        "description.to_csv(\"/content/drive/MyDrive/Datasets/Incheon/Incheon_desc.csv\")"
      ],
      "execution_count": null,
      "outputs": []
    },
    {
      "cell_type": "code",
      "metadata": {
        "colab": {
          "base_uri": "https://localhost:8080/"
        },
        "id": "48s7XdXkiAud",
        "outputId": "e76fa3f9-1a69-4514-d20c-bb073256fdb1"
      },
      "source": [
        "pip install git+https://github.com/naver/kor2vec.git"
      ],
      "execution_count": 3,
      "outputs": [
        {
          "output_type": "stream",
          "name": "stdout",
          "text": [
            "Collecting git+https://github.com/naver/kor2vec.git\n",
            "  Cloning https://github.com/naver/kor2vec.git to /tmp/pip-req-build-ftk_qf_d\n",
            "  Running command git clone -q https://github.com/naver/kor2vec.git /tmp/pip-req-build-ftk_qf_d\n",
            "Requirement already satisfied: torch>=0.4.0 in /usr/local/lib/python3.7/dist-packages (from kor2vec==1.0.1) (1.10.0+cu111)\n",
            "Requirement already satisfied: tqdm in /usr/local/lib/python3.7/dist-packages (from kor2vec==1.0.1) (4.62.3)\n",
            "Requirement already satisfied: numpy in /usr/local/lib/python3.7/dist-packages (from kor2vec==1.0.1) (1.19.5)\n",
            "Requirement already satisfied: typing-extensions in /usr/local/lib/python3.7/dist-packages (from torch>=0.4.0->kor2vec==1.0.1) (3.10.0.2)\n",
            "Building wheels for collected packages: kor2vec\n",
            "  Building wheel for kor2vec (setup.py) ... \u001b[?25l\u001b[?25hdone\n",
            "  Created wheel for kor2vec: filename=kor2vec-1.0.1-py3-none-any.whl size=21947 sha256=736a89aa877770ebda097c2966af16ebd7295b610431ced8bb541e04c55fbc0f\n",
            "  Stored in directory: /tmp/pip-ephem-wheel-cache-185h6591/wheels/8a/d1/88/f2f34690c3b96e08203522b1e2c95e8c9ccd8d61959448b48e\n",
            "Successfully built kor2vec\n",
            "Installing collected packages: kor2vec\n",
            "Successfully installed kor2vec-1.0.1\n"
          ]
        }
      ]
    },
    {
      "cell_type": "code",
      "metadata": {
        "id": "-WTIJx-HiGHM"
      },
      "source": [
        "from kor2vec import Kor2Vec"
      ],
      "execution_count": 4,
      "outputs": []
    },
    {
      "cell_type": "code",
      "metadata": {
        "id": "eVh6l2tpiLQM"
      },
      "source": [
        "kor2vec = Kor2Vec(embed_size=128)"
      ],
      "execution_count": 5,
      "outputs": []
    },
    {
      "cell_type": "code",
      "metadata": {
        "colab": {
          "base_uri": "https://localhost:8080/"
        },
        "id": "KVAY8JjMidan",
        "outputId": "03ab5272-9103-4142-f1e3-726a8763763a"
      },
      "source": [
        "kor2vec.train(\"/content/drive/MyDrive/Datasets/Incheon/Incheon_desc.csv\", \"/content/drive/MyDrive/Datasets/Incheon/Incheon_model\", batch_size=128) # takes some time"
      ],
      "execution_count": 7,
      "outputs": [
        {
          "output_type": "stream",
          "name": "stdout",
          "text": [
            "Reading Corpus lines\n"
          ]
        },
        {
          "output_type": "stream",
          "name": "stderr",
          "text": [
            "Spliting Lines: 100%|██████████| 5183/5183 [00:00<00:00, 224315.39it/s]\n",
            "Corpus Sampling: 100%|██████████| 5183/5183 [00:00<00:00, 8034.85it/s]\n"
          ]
        },
        {
          "output_type": "stream",
          "name": "stdout",
          "text": [
            "Training kor2vec\n",
            "Loading Word_sample corpus\n",
            "Loading corpus finished\n",
            "CUDA Available/count: True 1\n",
            "training on  cuda:0\n"
          ]
        },
        {
          "output_type": "stream",
          "name": "stderr",
          "text": [
            "EP 0: 100%|██████████| 1050/1050 [00:33<00:00, 31.32it/s]\n"
          ]
        },
        {
          "output_type": "stream",
          "name": "stdout",
          "text": [
            "{'epoch': 0, 'train_ep_loss': 1.471890666030702}\n"
          ]
        },
        {
          "output_type": "stream",
          "name": "stderr",
          "text": [
            "EP 1: 100%|██████████| 1050/1050 [00:32<00:00, 31.91it/s]\n"
          ]
        },
        {
          "output_type": "stream",
          "name": "stdout",
          "text": [
            "{'epoch': 1, 'train_ep_loss': 1.2347207914647602}\n"
          ]
        },
        {
          "output_type": "stream",
          "name": "stderr",
          "text": [
            "EP 2: 100%|██████████| 1050/1050 [00:32<00:00, 31.89it/s]\n"
          ]
        },
        {
          "output_type": "stream",
          "name": "stdout",
          "text": [
            "{'epoch': 2, 'train_ep_loss': 1.1897200460661026}\n"
          ]
        },
        {
          "output_type": "stream",
          "name": "stderr",
          "text": [
            "EP 3: 100%|██████████| 1050/1050 [00:32<00:00, 32.19it/s]\n"
          ]
        },
        {
          "output_type": "stream",
          "name": "stdout",
          "text": [
            "{'epoch': 3, 'train_ep_loss': 1.1539643009503682}\n"
          ]
        },
        {
          "output_type": "stream",
          "name": "stderr",
          "text": [
            "EP 4: 100%|██████████| 1050/1050 [00:32<00:00, 32.10it/s]\n"
          ]
        },
        {
          "output_type": "stream",
          "name": "stdout",
          "text": [
            "{'epoch': 4, 'train_ep_loss': 1.1227987346762702}\n"
          ]
        },
        {
          "output_type": "stream",
          "name": "stderr",
          "text": [
            "EP 5: 100%|██████████| 1050/1050 [00:32<00:00, 31.97it/s]\n"
          ]
        },
        {
          "output_type": "stream",
          "name": "stdout",
          "text": [
            "{'epoch': 5, 'train_ep_loss': 1.096848631188983}\n"
          ]
        },
        {
          "output_type": "stream",
          "name": "stderr",
          "text": [
            "EP 6: 100%|██████████| 1050/1050 [00:32<00:00, 32.50it/s]\n"
          ]
        },
        {
          "output_type": "stream",
          "name": "stdout",
          "text": [
            "{'epoch': 6, 'train_ep_loss': 1.0738939050265721}\n"
          ]
        },
        {
          "output_type": "stream",
          "name": "stderr",
          "text": [
            "EP 7: 100%|██████████| 1050/1050 [00:32<00:00, 32.22it/s]\n"
          ]
        },
        {
          "output_type": "stream",
          "name": "stdout",
          "text": [
            "{'epoch': 7, 'train_ep_loss': 1.053600940420514}\n"
          ]
        },
        {
          "output_type": "stream",
          "name": "stderr",
          "text": [
            "EP 8: 100%|██████████| 1050/1050 [00:32<00:00, 32.21it/s]\n"
          ]
        },
        {
          "output_type": "stream",
          "name": "stdout",
          "text": [
            "{'epoch': 8, 'train_ep_loss': 1.0348043729577745}\n"
          ]
        },
        {
          "output_type": "stream",
          "name": "stderr",
          "text": [
            "EP 9: 100%|██████████| 1050/1050 [00:32<00:00, 32.12it/s]\n"
          ]
        },
        {
          "output_type": "stream",
          "name": "stdout",
          "text": [
            "{'epoch': 9, 'train_ep_loss': 1.017789449464707}\n"
          ]
        }
      ]
    },
    {
      "cell_type": "code",
      "metadata": {
        "colab": {
          "base_uri": "https://localhost:8080/"
        },
        "id": "7okqW0mUlX7b",
        "outputId": "9cb6082a-08cf-4aed-ccaf-48975d0b12bd"
      },
      "source": [
        "data.iloc[10]"
      ],
      "execution_count": null,
      "outputs": [
        {
          "output_type": "execute_result",
          "data": {
            "text/plain": [
              "대분류                                                      관광\n",
              "중분류                                                    역사유적\n",
              "제목                                                     부평향교\n",
              "주소                                    인천광역시 계양구 향교로 19 부평향교\n",
              "우편번호                                                  21054\n",
              "전화번호                                           032-541-2924\n",
              "홈페이지                                                    NaN\n",
              "휴무일                                                    연중무휴\n",
              "개요        1127년(인종 5)에 현유(賢儒)의 위패를 봉안, 배향하고 지방의 중등교육과 지방...\n",
              "기본정보      문화재지정여부및현황: 인천유형문화재 제12호 개관일: 조선시대 규모: 9,596㎡ ...\n",
              "시설안내                                             화장실: 남녀구분 \n",
              "이용안내      개장기간: 상시개장 이용시간: 특별히 관람시간은 정해져 있지는 않으나 이른 새벽이나...\n",
              "교통안내      오시는길: <자가용> /서울:여의대로(2.6km)  → 국회대로(7.2km)  → ...\n",
              "영문주소                      19 Hyanggyo-ro Gyeyang-gu Incheon\n",
              "영문제목                      Bupyeonghyanggyo Confucian School\n",
              "위도                                                  37.5396\n",
              "경도                                                   126.72\n",
              "조회수                                                     173\n",
              "최초등록일시                                           2016-12-01\n",
              "Name: 10, dtype: object"
            ]
          },
          "metadata": {},
          "execution_count": 80
        }
      ]
    },
    {
      "cell_type": "code",
      "metadata": {
        "colab": {
          "base_uri": "https://localhost:8080/"
        },
        "id": "jYQ-V-HGnuJK",
        "outputId": "effc33d0-99ed-46ad-b2e1-bf43d6227073"
      },
      "source": [
        "type(list(description.values)[0])"
      ],
      "execution_count": null,
      "outputs": [
        {
          "output_type": "execute_result",
          "data": {
            "text/plain": [
              "str"
            ]
          },
          "metadata": {},
          "execution_count": 83
        }
      ]
    },
    {
      "cell_type": "code",
      "metadata": {
        "id": "ntHs9_lmiisD"
      },
      "source": [
        "x = kor2vec.to_seqs(tours, seq_len=30)"
      ],
      "execution_count": null,
      "outputs": []
    },
    {
      "cell_type": "code",
      "metadata": {
        "id": "Dw1GiPeFoSdn"
      },
      "source": [
        "tours = []\n",
        "for x in list(description.values)[0]:\n",
        "  try:\n",
        "    tmp = x.replace(\"\\r\", \"\")\n",
        "    tours.append(kor2vec.embedding(tmp))\n",
        "  except:\n",
        "    tours.append(kor2vec.embedding(\"없음\"))\n"
      ],
      "execution_count": null,
      "outputs": []
    },
    {
      "cell_type": "code",
      "metadata": {
        "id": "uHGe9I_YpMuT"
      },
      "source": [
        "import torch.nn as nn"
      ],
      "execution_count": null,
      "outputs": []
    },
    {
      "cell_type": "code",
      "metadata": {
        "colab": {
          "base_uri": "https://localhost:8080/"
        },
        "id": "FRrkXL_xroV_",
        "outputId": "9334e04e-38ac-48fb-f36e-0c72a3845f2d"
      },
      "source": [
        "target = data.iloc[0]\n",
        "target"
      ],
      "execution_count": null,
      "outputs": [
        {
          "output_type": "execute_result",
          "data": {
            "text/plain": [
              "대분류                                                      관광\n",
              "중분류                                                    역사유적\n",
              "제목                                                      광성보\n",
              "주소                               인천광역시 강화군 불은면 해안동로466번길 27\n",
              "우편번호                                                  23047\n",
              "전화번호                                           032-930-7070\n",
              "홈페이지      https://www.ghss.or.kr/user/facilities/tour/gw...\n",
              "휴무일                                                    연중무휴\n",
              "개요        조선 광해군 10년(1618년)에 고려시대의 외성을 보수하고, 1656년 광성보를 ...\n",
              "기본정보      문화재지정여부및현황: 사적 제227호(1971.12.28 지정) 관리자: 강화군시설...\n",
              "시설안내      장애인 편의시설: - 휠체어 무료대여 가능 /- 장애인용 화장실 /- 전용주차구역 ...\n",
              "이용안내      이용시간: 09:00 ~ 18:00 관람소요시간: 50분 쉬는날: 연중무휴 입장료:...\n",
              "교통안내      오시는길: 초지교차로에서 '해안순환도로, 초지진' 방면으로 우회전 -  해안동로를 ...\n",
              "영문주소      27 Haeandong-ro 466beon-gil Bureun-myeon Gangh...\n",
              "영문제목                                  Gwangseongbo Fortress\n",
              "위도                                                  37.6654\n",
              "경도                                                   126.53\n",
              "조회수                                                    1002\n",
              "최초등록일시                                           2016-12-01\n",
              "Name: 0, dtype: object"
            ]
          },
          "metadata": {},
          "execution_count": 61
        }
      ]
    },
    {
      "cell_type": "code",
      "metadata": {
        "id": "VY8ghil1rau8"
      },
      "source": [
        "description = description.dropna()"
      ],
      "execution_count": null,
      "outputs": []
    },
    {
      "cell_type": "code",
      "metadata": {
        "id": "5aWXVDZWszAw"
      },
      "source": [
        "tours = []\n",
        "for i, x in enumerate(description.values):\n",
        "  try:\n",
        "    tours.append(kor2vec.embedding(x))\n",
        "  except Exception as e:\n",
        "    print(e)\n",
        "    print(i)"
      ],
      "execution_count": null,
      "outputs": []
    },
    {
      "cell_type": "code",
      "metadata": {
        "id": "5yeyPMOSvDYF"
      },
      "source": [
        "tours_pad = nn.utils.rnn.pad_sequence(tours, batch_first=True)"
      ],
      "execution_count": null,
      "outputs": []
    },
    {
      "cell_type": "code",
      "metadata": {
        "colab": {
          "base_uri": "https://localhost:8080/"
        },
        "id": "Guz9byYr1YwN",
        "outputId": "cbec0e9b-4224-433d-fe4f-8935669636ec"
      },
      "source": [
        "tours_pad.shape"
      ],
      "execution_count": null,
      "outputs": [
        {
          "output_type": "execute_result",
          "data": {
            "text/plain": [
              "torch.Size([3958, 250, 128])"
            ]
          },
          "metadata": {},
          "execution_count": 137
        }
      ]
    },
    {
      "cell_type": "code",
      "metadata": {
        "colab": {
          "base_uri": "https://localhost:8080/"
        },
        "id": "aT1hZg1sxCS6",
        "outputId": "c07acad6-9753-4137-d79d-e5aaa607cc7d"
      },
      "source": [
        "tours_res = tours_pad.reshape(3958, -1)\n",
        "tours_res.shape"
      ],
      "execution_count": null,
      "outputs": [
        {
          "output_type": "execute_result",
          "data": {
            "text/plain": [
              "torch.Size([3958, 32000])"
            ]
          },
          "metadata": {},
          "execution_count": 162
        }
      ]
    },
    {
      "cell_type": "code",
      "metadata": {
        "id": "BUnvhlxkqrRB"
      },
      "source": [
        "cos = nn.CosineSimilarity(dim=1)"
      ],
      "execution_count": null,
      "outputs": []
    },
    {
      "cell_type": "code",
      "metadata": {
        "id": "wQqNrfo2r-Un"
      },
      "source": [
        "target = kor2vec.embedding(data.iloc[555]['개요'])"
      ],
      "execution_count": null,
      "outputs": []
    },
    {
      "cell_type": "code",
      "metadata": {
        "id": "LyHXbRwS1b60"
      },
      "source": [
        "reshape_target = nn.functional.pad(target, (0, 0, 0, 250-target.shape[0]))"
      ],
      "execution_count": null,
      "outputs": []
    },
    {
      "cell_type": "code",
      "metadata": {
        "id": "MzIo9WUq2Vg0"
      },
      "source": [
        "similarity = cos(reshape_target.unsqueeze(0).reshape(1,-1), tours_res)"
      ],
      "execution_count": null,
      "outputs": []
    },
    {
      "cell_type": "code",
      "metadata": {
        "id": "r_n6g6-lxiDh"
      },
      "source": [
        "result = similarity.argsort(descending=True)"
      ],
      "execution_count": null,
      "outputs": []
    },
    {
      "cell_type": "code",
      "metadata": {
        "colab": {
          "base_uri": "https://localhost:8080/"
        },
        "id": "kKrZrYiA3vu2",
        "outputId": "ac85a70f-7ae0-45b4-f0ae-acf2d8c527fc"
      },
      "source": [
        "for i in result[:10]:\n",
        "  print(description[i.item()])\n",
        "  print('---------------------------')"
      ],
      "execution_count": null,
      "outputs": [
        {
          "output_type": "stream",
          "name": "stdout",
          "text": [
            "대우스파랜드 24시목욕탕은 청천동에 위치해 있는 찜질방이다.넓고 깨끗한 내부로 인기가 많아 주말에는 누울 자리가 없을 정도로 꽉 찬다.수면실, 헬스장, 크리스탈방, 오락실, 황금숯방 등 여러 시설이 있고 목욕탕에 폭포 안마탕이 유명하다.\n",
            "---------------------------\n",
            "블루오션 목욕탕은 삼산동에 위치한 찜질방&사우나이다.넓은 내부와 다양한 편의시설로 목욕과 찜질,휴식을 한번에 즐길 수 있는 공간이다.목욕탕 안에는 갖가지 탕이 있어 몸의 피로를 풀 수 있으며 찜질방에도 다양한 사우나와 안마의자,수면실이 준비되어 있어 휴식을 취하기에 적합하다.\n",
            "---------------------------\n",
            "강화갯벌장어는 강화도에 위치한 셀프 장어구이 전문점이다.영어조합,어장직영 셀프장으로 다른 곳 보다 저렴하게 장어구이를 먹을 수 있어 많은 손님들이 찾고있다.깔끔하고 넓은 내부는 많은 인원을 수용 할 수 있어 단체모임과 회식 등에 적합하다.맑은 강화도 공기와 몸에 좋은 장어를 즐기고 싶다면 강화갯벌장어를 추천한다.\n",
            "---------------------------\n",
            "장수동에 위치한 넓은 주차시설을 가지고 있는 백숙 전문점이다.능이버섯백숙,영양탕,닭볶음탕,제주생오겹살이 맛있는 식당이다.조용한 분위기에서 회식을 하기에 적당한 장소이다.\n",
            "---------------------------\n",
            "인천시청 근처에 위치한 프렌차이즈업체인 원할머니보쌈이다.40년의 노하우를 담은 맛을 가지고 있으며, 3가지 원칙을 지키고 있다.40여년 탄탄히 쌓아온 노하우로 정통의 손맛을 이어나간다.또한 품질 좋은 돈육만을 엄선하여 만든 정성가득한 보쌈고기와 김치,족발을 맛볼 수 있다.마지막으로 첨단 생산공장을 통해 고품질 식자재만을 공급해 김치, 족발부문 HACCP 지정받았으며 철저한 유통관리 시스템을 통한 최고의 품질을 자랑한다.\n",
            "---------------------------\n",
            "삼치골목 내에 위치한 생선구이집이다.삼치구이를 비롯한 생선구이를 대표메뉴로 하며, 여러가지 생선을 함께 맛볼 수 있는 모듬 생선구이가 인기메뉴이다.또한 제절에 맞는 생선들을 구이로 맛 볼 수 있다.\n",
            "---------------------------\n",
            "부성해물탕은 동암 먹자골목에 위치해 있다.이곳은 해물 아구찜 전문점으로 유명한전통 맛집이다.그날 재료가 다 떨어지면 일찍 문을 닫을수도 있다고 한다.그러니 재료의 신선함은 말이 필요 없다.\n",
            "---------------------------\n",
            "청기와가마솥은 간석동에 위치한 음식점이다.나무와 풀이 우거져 있는 입구는 마치 산 속으로 몸보신 하러 온 기분이다.입구를 지나 가게 안으로 들어오면 삼계탕 등 다양한 메뉴들이 있고 그 맛 또한 일품이다.\n",
            "---------------------------\n",
            "밑반찬을 손수 만들기 때문에 먹음직스럽고 정갈하다.한가지 톤으로 배색되어 인테리어가 매우 깔끔하다.제주도 암퇘지만 선별해서 사용하기 때문에 독특한 식감을 즐길 수 있다.\n",
            "---------------------------\n",
            "부평구 십정동 열우물사거리 인근에 위치한 한우마당은 탁 트인 넓은 실내 공간이 인상적인 한우전문점이다.충북 음성에서 도축한 A++급 한우를 사용하고 있으며, 한우 뿐만 아니라 돼지고기도 취급하고 있다.회식 등 각종모임을 위한 장소로 제격인 곳이며, 비교적 합리적인 가격에 질좋은 한우를 맛볼 수 있는 곳이다.천엽, 간, 양배추샐러드, 가재미찜, 무생채와 절임배추, 깻잎부추무침 등 밑반찬 또한 깔끔하고 정갈한 스타일로 제공된다.\n",
            "---------------------------\n"
          ]
        }
      ]
    },
    {
      "cell_type": "code",
      "metadata": {
        "colab": {
          "base_uri": "https://localhost:8080/"
        },
        "id": "wyNcrqip4Pju",
        "outputId": "65b56991-5fe3-4787-be10-54d5937ecd98"
      },
      "source": [
        "description"
      ],
      "execution_count": null,
      "outputs": [
        {
          "output_type": "execute_result",
          "data": {
            "text/plain": [
              "0       조선 광해군 10년(1618년)에 고려시대의 외성을 보수하고, 1656년 광성보를 ...\n",
              "1       갑곶돈은 고려가 1232년부터 1270년까지 도읍을 강화도로 옮겨 몽고와의 전쟁에서...\n",
              "2       참성단은 단군이 하늘에 제사를 올리던 제단이라고 전해지는 곳으로 제단은 다듬은 돌로...\n",
              "3       강화군 강화읍 월곶리에 위치한 연미정은 1995년 3월 1일 인천광역시 유형문화재 ...\n",
              "4       고려가 몽골군의 침략에 대항하기 위하여 도읍을 개경에서 강화로 옮긴 1232년부터 ...\n",
              "                              ...                        \n",
              "3971    깔끔한 객실과 친절한 직원 응대서비스, 무료 와이파이 등을 사용 할 수 있는 가장 ...\n",
              "3972    인천국제공항과 김포공항을 40분이내에 이동 가능하며, 인천지하철2호선 검단사거리역에...\n",
              "3973    본 숙소는 동구 송림로터리에 위치하고 있으며 객실내에 다양한 최신시설이 완비되어 있...\n",
              "3974    서해에서 즐기는 일출, 싱그러움 가득한 초록빛 공원, 파란 인천 바다가 맞닿은 곳에...\n",
              "3975    리조트를 감싸고 있는 나지막한 산과 아름답게 펼쳐진 서해 바다, 머리칼과 피부에 닿...\n",
              "Name: 개요, Length: 3958, dtype: object"
            ]
          },
          "metadata": {},
          "execution_count": 192
        }
      ]
    },
    {
      "cell_type": "code",
      "metadata": {
        "id": "CjlTpPmv40zK"
      },
      "source": [
        ""
      ],
      "execution_count": null,
      "outputs": []
    }
  ]
}