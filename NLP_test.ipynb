{
  "nbformat": 4,
  "nbformat_minor": 0,
  "metadata": {
    "colab": {
      "name": "NLP_test.ipynb",
      "provenance": [],
      "collapsed_sections": [],
      "authorship_tag": "ABX9TyMUXC5EXhzWf3weYybH+11r",
      "include_colab_link": true
    },
    "kernelspec": {
      "name": "python3",
      "display_name": "Python 3"
    }
  },
  "cells": [
    {
      "cell_type": "markdown",
      "metadata": {
        "id": "view-in-github",
        "colab_type": "text"
      },
      "source": [
        "<a href=\"https://colab.research.google.com/github/YMGYM/google_colab_files/blob/master/NLP_test.ipynb\" target=\"_parent\"><img src=\"https://colab.research.google.com/assets/colab-badge.svg\" alt=\"Open In Colab\"/></a>"
      ]
    },
    {
      "cell_type": "markdown",
      "metadata": {
        "id": "MsSa241-rl4w",
        "colab_type": "text"
      },
      "source": [
        "# Overview"
      ]
    },
    {
      "cell_type": "markdown",
      "metadata": {
        "id": "384QfLOXgiVE",
        "colab_type": "text"
      },
      "source": [
        "이 노트북은 Made With ML의 교육 파일 https://github.com/madewithml/basics/blob/master/notebooks/14_Embeddings/14_TF_Embeddings.ipynb 을 연습한 노트북입니다.\n",
        "\n",
        "This notebook is for practice of https://github.com/madewithml/basics/blob/master/notebooks/14_Embeddings/14_TF_Embeddings.ipynb in Made With ML"
      ]
    },
    {
      "cell_type": "markdown",
      "metadata": {
        "id": "LOiYQNXhg4pJ",
        "colab_type": "text"
      },
      "source": [
        "# Data"
      ]
    },
    {
      "cell_type": "markdown",
      "metadata": {
        "id": "6ncvv6OlhWtT",
        "colab_type": "text"
      },
      "source": [
        "## Load data\n"
      ]
    },
    {
      "cell_type": "code",
      "metadata": {
        "id": "1Eh7PhtbhYdy",
        "colab_type": "code",
        "colab": {}
      },
      "source": [
        "import urllib"
      ],
      "execution_count": 0,
      "outputs": []
    },
    {
      "cell_type": "code",
      "metadata": {
        "id": "-SHePsMnhiCM",
        "colab_type": "code",
        "colab": {}
      },
      "source": [
        "DATA_FILE = 'harrypotter.txt'"
      ],
      "execution_count": 0,
      "outputs": []
    },
    {
      "cell_type": "code",
      "metadata": {
        "id": "wUY_sZYshkWp",
        "colab_type": "code",
        "colab": {}
      },
      "source": [
        "# github repository 에서 데이터를 읽어 옴\n",
        "url = \"https://raw.githubusercontent.com/madewithml/basics/master/data/harrypotter.txt\"\n",
        "response = urllib.request.urlopen(url)\n",
        "html = response.read()\n",
        "with open(DATA_FILE, 'wb') as fp:\n",
        "  fp.write(html) # 파일로 생성"
      ],
      "execution_count": 0,
      "outputs": []
    },
    {
      "cell_type": "markdown",
      "metadata": {
        "id": "36SKzufrh1dn",
        "colab_type": "text"
      },
      "source": [
        "## Preprocess"
      ]
    },
    {
      "cell_type": "code",
      "metadata": {
        "id": "uTxcva1Qh4d3",
        "colab_type": "code",
        "outputId": "874726aa-19f9-47ef-b475-6121271d2185",
        "colab": {
          "base_uri": "https://localhost:8080/",
          "height": 34
        }
      },
      "source": [
        "import tensorflow as tf\n",
        "tf.__version__"
      ],
      "execution_count": 5,
      "outputs": [
        {
          "output_type": "execute_result",
          "data": {
            "text/plain": [
              "'2.2.0'"
            ]
          },
          "metadata": {
            "tags": []
          },
          "execution_count": 5
        }
      ]
    },
    {
      "cell_type": "code",
      "metadata": {
        "id": "NkkxIjvjiYNk",
        "colab_type": "code",
        "outputId": "f7ccb023-9c74-45d6-d9bd-876bf05b5bf1",
        "colab": {
          "base_uri": "https://localhost:8080/",
          "height": 51
        }
      },
      "source": [
        "import nltk; nltk.download('punkt')\n",
        "\n",
        "from tensorflow.keras.preprocessing.text import text_to_word_sequence"
      ],
      "execution_count": 6,
      "outputs": [
        {
          "output_type": "stream",
          "text": [
            "[nltk_data] Downloading package punkt to /root/nltk_data...\n",
            "[nltk_data]   Unzipping tokenizers/punkt.zip.\n"
          ],
          "name": "stdout"
        }
      ]
    },
    {
      "cell_type": "markdown",
      "metadata": {
        "id": "unhgi0n3kjYa",
        "colab_type": "text"
      },
      "source": [
        "nltk.punkt 는 자연어 토큰화 모듈.\n",
        "토큰화에 대한 자세한 설명은 [여기](https://wikidocs.net/21698)를 참조.\n",
        "요약하면 주어진 corpus를 사용하기 쉽게 정제하는 것.\n",
        "`tf.keras.preprocessing.text.text_to_word_sequence` 는 문장을 단어의 연속으로 바꿔 줌. \n"
      ]
    },
    {
      "cell_type": "code",
      "metadata": {
        "id": "QEVjkXWqioFb",
        "colab_type": "code",
        "colab": {}
      },
      "source": [
        "SEED = 1234"
      ],
      "execution_count": 0,
      "outputs": []
    },
    {
      "cell_type": "code",
      "metadata": {
        "id": "ZsMj0L42jhYc",
        "colab_type": "code",
        "colab": {}
      },
      "source": [
        "tf.random.set_seed(SEED)"
      ],
      "execution_count": 0,
      "outputs": []
    },
    {
      "cell_type": "code",
      "metadata": {
        "id": "Yz6uEhiyjjNB",
        "colab_type": "code",
        "colab": {}
      },
      "source": [
        "FILTERS = \"!\\\"'#$%&()*+,_./:;<=>?@[\\\\]^_'{|}~\"\n",
        "LOWER = True"
      ],
      "execution_count": 0,
      "outputs": []
    },
    {
      "cell_type": "code",
      "metadata": {
        "id": "CKOlaVDQmGfq",
        "colab_type": "code",
        "outputId": "e53fcdd9-6a9c-40cb-98ba-c4bbe7d2c04f",
        "colab": {
          "base_uri": "https://localhost:8080/",
          "height": 34
        }
      },
      "source": [
        "tokenizer = nltk.data.load('tokenizers/punkt/english.pickle')\n",
        "with open(DATA_FILE, encoding='cp1252') as fp:\n",
        "  book = fp.read()\n",
        "sentences = tokenizer.tokenize(book)\n",
        "print(f\"{len(sentences)} sentences\")"
      ],
      "execution_count": 10,
      "outputs": [
        {
          "output_type": "stream",
          "text": [
            "15640 sentences\n"
          ],
          "name": "stdout"
        }
      ]
    },
    {
      "cell_type": "code",
      "metadata": {
        "id": "NEJCet51mmTx",
        "colab_type": "code",
        "outputId": "4b404bd2-589d-487d-ecec-25884c38695f",
        "colab": {
          "base_uri": "https://localhost:8080/",
          "height": 71
        }
      },
      "source": [
        "print (sentences[12])\n",
        "sentences = [text_to_word_sequence(text=sentence,filters=FILTERS,lower=LOWER, split=\" \") for sentence in sentences]\n",
        "print(sentences[12])"
      ],
      "execution_count": 11,
      "outputs": [
        {
          "output_type": "stream",
          "text": [
            "They turned right, into a wide driveway that led off the lane.\n",
            "['they', 'turned', 'right', 'into', 'a', 'wide', 'driveway', 'that', 'led', 'off', 'the', 'lane']\n"
          ],
          "name": "stdout"
        }
      ]
    },
    {
      "cell_type": "markdown",
      "metadata": {
        "id": "Qasb1GhZnTnZ",
        "colab_type": "text"
      },
      "source": [
        "`' '` 을 기점으로 단어를 잘라 리스트로 변환함</br>\n",
        "`lower` 옵션으로 소문자화 설정."
      ]
    },
    {
      "cell_type": "markdown",
      "metadata": {
        "id": "4a18o4iwoZF4",
        "colab_type": "text"
      },
      "source": [
        "# Word2Vec"
      ]
    },
    {
      "cell_type": "code",
      "metadata": {
        "id": "koIl9gLWUJAX",
        "colab_type": "code",
        "colab": {}
      },
      "source": [
        "import gensim\n",
        "from gensim.models import KeyedVectors\n",
        "from gensim.models import Word2Vec"
      ],
      "execution_count": 0,
      "outputs": []
    },
    {
      "cell_type": "code",
      "metadata": {
        "id": "ZUhQYZNHUNyO",
        "colab_type": "code",
        "colab": {}
      },
      "source": [
        "EMBEDDING_DIM = 100 # embedding 벡터\n",
        "WINDOW = 5\n",
        "MIN_COUNT = 3 # 3회 이하로 나온 단어는 무시\n",
        "SKIP_GRAM = 1 # 0 = CBOW\n",
        "NEGATIVE_SAMPLING = 20"
      ],
      "execution_count": 0,
      "outputs": []
    },
    {
      "cell_type": "code",
      "metadata": {
        "id": "vag5O1GKUktd",
        "colab_type": "code",
        "colab": {
          "base_uri": "https://localhost:8080/",
          "height": 34
        },
        "outputId": "a21e638c-0f52-4904-db47-e5eadeefe1fd"
      },
      "source": [
        "w2v = Word2Vec(sentences=sentences,size = EMBEDDING_DIM, window=WINDOW, min_count = MIN_COUNT, sg = SKIP_GRAM, negative=NEGATIVE_SAMPLING)\n"
      ],
      "execution_count": 14,
      "outputs": [
        {
          "output_type": "execute_result",
          "data": {
            "text/plain": [
              "<gensim.models.word2vec.Word2Vec at 0x7f984e26f4a8>"
            ]
          },
          "metadata": {
            "tags": []
          },
          "execution_count": 14
        }
      ]
    },
    {
      "cell_type": "code",
      "metadata": {
        "id": "lVJm_IZ1U5If",
        "colab_type": "code",
        "colab": {
          "base_uri": "https://localhost:8080/",
          "height": 34
        },
        "outputId": "ac06242c-67be-4267-ee6a-7de08d2ff03a"
      },
      "source": [
        "print(w2v)"
      ],
      "execution_count": 15,
      "outputs": [
        {
          "output_type": "stream",
          "text": [
            "Word2Vec(vocab=4943, size=100, alpha=0.025)\n"
          ],
          "name": "stdout"
        }
      ]
    },
    {
      "cell_type": "code",
      "metadata": {
        "id": "W0AWVAATVBKM",
        "colab_type": "code",
        "colab": {
          "base_uri": "https://localhost:8080/",
          "height": 374
        },
        "outputId": "786e3b85-9675-4a63-e89c-33f6a35abf7f"
      },
      "source": [
        "w2v.wv.get_vector(\"potter\")"
      ],
      "execution_count": 16,
      "outputs": [
        {
          "output_type": "execute_result",
          "data": {
            "text/plain": [
              "array([-0.10843298,  0.38545713,  0.12223504,  0.26258582, -0.31280458,\n",
              "        0.22254054,  0.11577268, -0.2509014 ,  0.1857895 , -0.17776072,\n",
              "        0.347347  ,  0.01689326,  0.35416615, -0.10278775, -0.5401966 ,\n",
              "        0.10000215,  0.25093687,  0.46258435,  0.12105945, -0.09162454,\n",
              "       -0.03919097,  0.11182539, -0.09754015,  0.01039702,  0.19383346,\n",
              "        0.31670126, -0.0358696 , -0.02457606, -0.01103017, -0.08125611,\n",
              "       -0.04146563,  0.0878893 , -0.13112989, -0.32162592,  0.11160581,\n",
              "       -0.6800684 , -0.7495768 ,  0.48708138,  0.2777411 , -0.02291858,\n",
              "        0.22839974, -0.07704158, -0.13653164,  0.2822896 , -0.18633609,\n",
              "       -0.47906038,  0.02551365, -0.3563436 ,  0.02351761,  0.26686895,\n",
              "       -0.28322816,  0.2381831 , -0.01051638, -0.20835297,  0.05199236,\n",
              "        0.44181558,  0.17598772,  0.18157701,  0.02440587, -0.1558699 ,\n",
              "        0.02801703,  0.15023282,  0.24762407, -0.06346117,  0.2866545 ,\n",
              "       -0.14945874,  0.06862597, -0.19184263, -0.19947653, -0.13165495,\n",
              "       -0.4191462 ,  0.04155152,  0.2479942 , -0.05620282, -0.3150846 ,\n",
              "        0.23762217,  0.20671944, -0.11853333, -0.11147427, -0.30401176,\n",
              "       -0.22440588,  0.00339286, -0.1659421 , -0.26847494,  0.5679199 ,\n",
              "        0.12116272, -0.09262005,  0.30411118,  0.18770806, -0.2193786 ,\n",
              "        0.14981608, -0.30820224, -0.0355502 , -0.24018654,  0.03874895,\n",
              "       -0.14609715, -0.05635395,  0.11650743, -0.18339966, -0.11583225],\n",
              "      dtype=float32)"
            ]
          },
          "metadata": {
            "tags": []
          },
          "execution_count": 16
        }
      ]
    },
    {
      "cell_type": "code",
      "metadata": {
        "id": "xKfhT37LWEgj",
        "colab_type": "code",
        "colab": {
          "base_uri": "https://localhost:8080/",
          "height": 156
        },
        "outputId": "269c90a8-992d-4a97-cfb1-379ab0c89ea5"
      },
      "source": [
        "w2v.wv.most_similar(positive=\"scar\", topn=5)"
      ],
      "execution_count": 17,
      "outputs": [
        {
          "output_type": "stream",
          "text": [
            "/usr/local/lib/python3.6/dist-packages/gensim/matutils.py:737: FutureWarning: Conversion of the second argument of issubdtype from `int` to `np.signedinteger` is deprecated. In future, it will be treated as `np.int64 == np.dtype(int).type`.\n",
            "  if np.issubdtype(vec.dtype, np.int):\n"
          ],
          "name": "stderr"
        },
        {
          "output_type": "execute_result",
          "data": {
            "text/plain": [
              "[('pain', 0.9542465806007385),\n",
              " ('forehead', 0.9327734112739563),\n",
              " ('mouth', 0.9205765724182129),\n",
              " ('burning', 0.9191080927848816),\n",
              " ('lips', 0.9140980243682861)]"
            ]
          },
          "metadata": {
            "tags": []
          },
          "execution_count": 17
        }
      ]
    },
    {
      "cell_type": "code",
      "metadata": {
        "id": "VfefBrYDWZcO",
        "colab_type": "code",
        "colab": {
          "base_uri": "https://localhost:8080/",
          "height": 71
        },
        "outputId": "606856a4-cb22-4d1d-cd6c-ab31185e9edd"
      },
      "source": [
        "w2v.wv.save_word2vec_format('model.bin', binary=True)\n",
        "w2v = KeyedVectors.load_word2vec_format('model.bin', binary=True)"
      ],
      "execution_count": 20,
      "outputs": [
        {
          "output_type": "stream",
          "text": [
            "/usr/local/lib/python3.6/dist-packages/smart_open/smart_open_lib.py:253: UserWarning: This function is deprecated, use smart_open.open instead. See the migration notes for details: https://github.com/RaRe-Technologies/smart_open/blob/master/README.rst#migrating-to-the-new-open-function\n",
            "  'See the migration notes for details: %s' % _MIGRATION_NOTES_URL\n"
          ],
          "name": "stderr"
        }
      ]
    },
    {
      "cell_type": "code",
      "metadata": {
        "id": "6SNkCSRIWuMb",
        "colab_type": "code",
        "colab": {}
      },
      "source": [
        ""
      ],
      "execution_count": 0,
      "outputs": []
    }
  ]
}