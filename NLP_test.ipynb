{
  "nbformat": 4,
  "nbformat_minor": 0,
  "metadata": {
    "colab": {
      "name": "NLP_test.ipynb",
      "provenance": [],
      "collapsed_sections": [],
      "authorship_tag": "ABX9TyPR5r9lFW1HTipM0iMgJ2vP",
      "include_colab_link": true
    },
    "kernelspec": {
      "name": "python3",
      "display_name": "Python 3"
    }
  },
  "cells": [
    {
      "cell_type": "markdown",
      "metadata": {
        "id": "view-in-github",
        "colab_type": "text"
      },
      "source": [
        "<a href=\"https://colab.research.google.com/github/YMGYM/google_colab_files/blob/master/NLP_test.ipynb\" target=\"_parent\"><img src=\"https://colab.research.google.com/assets/colab-badge.svg\" alt=\"Open In Colab\"/></a>"
      ]
    },
    {
      "cell_type": "markdown",
      "metadata": {
        "id": "MsSa241-rl4w",
        "colab_type": "text"
      },
      "source": [
        "# Overview"
      ]
    },
    {
      "cell_type": "markdown",
      "metadata": {
        "id": "384QfLOXgiVE",
        "colab_type": "text"
      },
      "source": [
        "이 노트북은 Made With ML의 교육 파일 https://github.com/madewithml/basics/blob/master/notebooks/14_Embeddings/14_TF_Embeddings.ipynb 을 연습한 노트북입니다.\n",
        "\n",
        "This notebook is for practice of https://github.com/madewithml/basics/blob/master/notebooks/14_Embeddings/14_TF_Embeddings.ipynb in Made With ML"
      ]
    },
    {
      "cell_type": "markdown",
      "metadata": {
        "id": "LOiYQNXhg4pJ",
        "colab_type": "text"
      },
      "source": [
        "# Data"
      ]
    },
    {
      "cell_type": "markdown",
      "metadata": {
        "id": "6ncvv6OlhWtT",
        "colab_type": "text"
      },
      "source": [
        "## Load data\n"
      ]
    },
    {
      "cell_type": "code",
      "metadata": {
        "id": "1Eh7PhtbhYdy",
        "colab_type": "code",
        "colab": {}
      },
      "source": [
        "import urllib"
      ],
      "execution_count": 0,
      "outputs": []
    },
    {
      "cell_type": "code",
      "metadata": {
        "id": "-SHePsMnhiCM",
        "colab_type": "code",
        "colab": {}
      },
      "source": [
        "DATA_FILE = 'harrypotter.txt'"
      ],
      "execution_count": 0,
      "outputs": []
    },
    {
      "cell_type": "code",
      "metadata": {
        "id": "wUY_sZYshkWp",
        "colab_type": "code",
        "colab": {}
      },
      "source": [
        "# github repository 에서 데이터를 읽어 옴\n",
        "url = \"https://raw.githubusercontent.com/madewithml/basics/master/data/harrypotter.txt\"\n",
        "response = urllib.request.urlopen(url)\n",
        "html = response.read()\n",
        "with open(DATA_FILE, 'wb') as fp:\n",
        "  fp.write(html) # 파일로 생성"
      ],
      "execution_count": 0,
      "outputs": []
    },
    {
      "cell_type": "markdown",
      "metadata": {
        "id": "36SKzufrh1dn",
        "colab_type": "text"
      },
      "source": [
        "## Preprocess"
      ]
    },
    {
      "cell_type": "code",
      "metadata": {
        "id": "uTxcva1Qh4d3",
        "colab_type": "code",
        "outputId": "93a1e749-0fbb-43ff-9d49-56dca2a4f187",
        "colab": {
          "base_uri": "https://localhost:8080/",
          "height": 34
        }
      },
      "source": [
        "import tensorflow as tf\n",
        "tf.__version__"
      ],
      "execution_count": 0,
      "outputs": [
        {
          "output_type": "execute_result",
          "data": {
            "text/plain": [
              "'2.2.0'"
            ]
          },
          "metadata": {
            "tags": []
          },
          "execution_count": 19
        }
      ]
    },
    {
      "cell_type": "code",
      "metadata": {
        "id": "NkkxIjvjiYNk",
        "colab_type": "code",
        "outputId": "47c4aab2-3f2c-4587-8ef1-18e6e397f197",
        "colab": {
          "base_uri": "https://localhost:8080/",
          "height": 51
        }
      },
      "source": [
        "import nltk; nltk.download('punkt')\n",
        "\n",
        "from tensorflow.keras.preprocessing.text import text_to_word_sequence"
      ],
      "execution_count": 0,
      "outputs": [
        {
          "output_type": "stream",
          "text": [
            "[nltk_data] Downloading package punkt to /root/nltk_data...\n",
            "[nltk_data]   Package punkt is already up-to-date!\n"
          ],
          "name": "stdout"
        }
      ]
    },
    {
      "cell_type": "markdown",
      "metadata": {
        "id": "unhgi0n3kjYa",
        "colab_type": "text"
      },
      "source": [
        "nltk.punkt 는 자연어 토큰화 모듈.\n",
        "토큰화에 대한 자세한 설명은 [여기](https://wikidocs.net/21698)를 참조.\n",
        "요약하면 주어진 corpus를 사용하기 쉽게 정제하는 것.\n",
        "`tf.keras.preprocessing.text.text_to_word_sequence` 는 문장을 단어의 연속으로 바꿔 줌. \n"
      ]
    },
    {
      "cell_type": "code",
      "metadata": {
        "id": "QEVjkXWqioFb",
        "colab_type": "code",
        "colab": {}
      },
      "source": [
        "SEED = 1234"
      ],
      "execution_count": 0,
      "outputs": []
    },
    {
      "cell_type": "code",
      "metadata": {
        "id": "ZsMj0L42jhYc",
        "colab_type": "code",
        "colab": {}
      },
      "source": [
        "tf.random.set_seed(SEED)"
      ],
      "execution_count": 0,
      "outputs": []
    },
    {
      "cell_type": "code",
      "metadata": {
        "id": "Yz6uEhiyjjNB",
        "colab_type": "code",
        "colab": {}
      },
      "source": [
        "FILTERS = \"!\\\"'#$%&()*+,_./:;<=>?@[\\\\]^_'{|}~\"\n",
        "LOWER = True"
      ],
      "execution_count": 0,
      "outputs": []
    },
    {
      "cell_type": "code",
      "metadata": {
        "id": "CKOlaVDQmGfq",
        "colab_type": "code",
        "outputId": "c8feceb3-9cd6-4c63-b414-1a7e47829043",
        "colab": {
          "base_uri": "https://localhost:8080/",
          "height": 34
        }
      },
      "source": [
        "tokenizer = nltk.data.load('tokenizers/punkt/english.pickle')\n",
        "with open(DATA_FILE, encoding='cp1252') as fp:\n",
        "  book = fp.read()\n",
        "sentences = tokenizer.tokenize(book)\n",
        "print(f\"{len(sentences)} sentences\")"
      ],
      "execution_count": 0,
      "outputs": [
        {
          "output_type": "stream",
          "text": [
            "15640 sentences\n"
          ],
          "name": "stdout"
        }
      ]
    },
    {
      "cell_type": "code",
      "metadata": {
        "id": "NEJCet51mmTx",
        "colab_type": "code",
        "outputId": "c4701b4c-71ee-4d81-d49a-cf2b6fe8e03f",
        "colab": {
          "base_uri": "https://localhost:8080/",
          "height": 71
        }
      },
      "source": [
        "print (sentences[12])\n",
        "sentences = [text_to_word_sequence(text=sentence,filters=FILTERS,lower=LOWER, split=\" \") for sentence in sentences]\n",
        "print(sentences[12])"
      ],
      "execution_count": 0,
      "outputs": [
        {
          "output_type": "stream",
          "text": [
            "They turned right, into a wide driveway that led off the lane.\n",
            "['they', 'turned', 'right', 'into', 'a', 'wide', 'driveway', 'that', 'led', 'off', 'the', 'lane']\n"
          ],
          "name": "stdout"
        }
      ]
    },
    {
      "cell_type": "markdown",
      "metadata": {
        "id": "Qasb1GhZnTnZ",
        "colab_type": "text"
      },
      "source": [
        "`' '` 을 기점으로 단어를 잘라 리스트로 변환함</br>\n",
        "`lower` 옵션으로 소문자화 설정."
      ]
    },
    {
      "cell_type": "code",
      "metadata": {
        "id": "4a18o4iwoZF4",
        "colab_type": "code",
        "colab": {}
      },
      "source": [
        ""
      ],
      "execution_count": 0,
      "outputs": []
    }
  ]
}