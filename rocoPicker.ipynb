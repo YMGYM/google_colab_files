{
  "nbformat": 4,
  "nbformat_minor": 0,
  "metadata": {
    "colab": {
      "name": "rocoPicker.ipynb",
      "provenance": [],
      "collapsed_sections": [],
      "mount_file_id": "1xx5IxU0Lu4QlRMXjXmyfgkVDgF5-UVvr",
      "authorship_tag": "ABX9TyOaUXlvfOLJ/mQ34+KsF6JO",
      "include_colab_link": true
    },
    "kernelspec": {
      "name": "python3",
      "display_name": "Python 3"
    },
    "accelerator": "GPU"
  },
  "cells": [
    {
      "cell_type": "markdown",
      "metadata": {
        "id": "view-in-github",
        "colab_type": "text"
      },
      "source": [
        "<a href=\"https://colab.research.google.com/github/YMGYM/google_colab_files/blob/master/rocoPicker.ipynb\" target=\"_parent\"><img src=\"https://colab.research.google.com/assets/colab-badge.svg\" alt=\"Open In Colab\"/></a>"
      ]
    },
    {
      "cell_type": "markdown",
      "metadata": {
        "id": "WI3A9k8rFlgR"
      },
      "source": [
        "# 데이터셋 준비"
      ]
    },
    {
      "cell_type": "code",
      "metadata": {
        "id": "yU5ZoqagFuEr"
      },
      "source": [
        "!unzip -q /content/drive/My\\ Drive/Datasets/RocoPicker_dataset.zip -d dataset"
      ],
      "execution_count": 1,
      "outputs": []
    },
    {
      "cell_type": "markdown",
      "metadata": {
        "id": "SaLsMNlXF4nb"
      },
      "source": [
        "# 텐서플로우 2.0설치;"
      ]
    },
    {
      "cell_type": "code",
      "metadata": {
        "id": "XXgwVfmPGeDX",
        "colab": {
          "base_uri": "https://localhost:8080/"
        },
        "outputId": "edfecde7-f07f-4d0c-b568-9e58d6f7dcc1"
      },
      "source": [
        "!pip install tensorflow==2.1.0 -q"
      ],
      "execution_count": null,
      "outputs": [
        {
          "output_type": "stream",
          "text": [
            "\u001b[K     |████████▉                       | 116.3MB 1.4MB/s eta 0:03:34\n",
            "\u001b[31mERROR: Operation cancelled by user\u001b[0m\n",
            "\u001b[?25h"
          ],
          "name": "stdout"
        }
      ]
    },
    {
      "cell_type": "code",
      "metadata": {
        "id": "KkfEp9c_GgJt"
      },
      "source": [
        "import tensorflow as tf"
      ],
      "execution_count": 2,
      "outputs": []
    },
    {
      "cell_type": "code",
      "metadata": {
        "id": "68x56DqGGhgO",
        "colab": {
          "base_uri": "https://localhost:8080/",
          "height": 35
        },
        "outputId": "d4624f80-4ce3-4bb8-c1ff-ef011587f16d"
      },
      "source": [
        "tf.__version__"
      ],
      "execution_count": 3,
      "outputs": [
        {
          "output_type": "execute_result",
          "data": {
            "application/vnd.google.colaboratory.intrinsic+json": {
              "type": "string"
            },
            "text/plain": [
              "'2.4.1'"
            ]
          },
          "metadata": {
            "tags": []
          },
          "execution_count": 3
        }
      ]
    },
    {
      "cell_type": "markdown",
      "metadata": {
        "id": "zbbPAnA_G5yC"
      },
      "source": [
        "# 필요한 모듈 임포트"
      ]
    },
    {
      "cell_type": "code",
      "metadata": {
        "id": "AUClJXcCHpfy"
      },
      "source": [
        "import numpy as np\n",
        "import matplotlib.pyplot as plt\n",
        "keras = tf.keras"
      ],
      "execution_count": 4,
      "outputs": []
    },
    {
      "cell_type": "markdown",
      "metadata": {
        "id": "5f7ISl5bHum_"
      },
      "source": [
        "# 이미지 제너레이터 생성"
      ]
    },
    {
      "cell_type": "code",
      "metadata": {
        "id": "YKQ6B33iIRI0",
        "colab": {
          "base_uri": "https://localhost:8080/"
        },
        "outputId": "d13c520c-556c-4f88-d4a0-ada3be1352fd"
      },
      "source": [
        "import pathlib\n",
        "train_dir = pathlib.Path('dataset/RocoPicker_dataset/train')\n",
        "num_of_train_images = len(list(train_dir.glob(\"*/*.png\"))) + len(list(train_dir.glob(\"*/*.jpg\")))\n",
        "num_of_train_images"
      ],
      "execution_count": 5,
      "outputs": [
        {
          "output_type": "execute_result",
          "data": {
            "text/plain": [
              "4551"
            ]
          },
          "metadata": {
            "tags": []
          },
          "execution_count": 5
        }
      ]
    },
    {
      "cell_type": "code",
      "metadata": {
        "colab": {
          "base_uri": "https://localhost:8080/"
        },
        "id": "qMvyZ4iuI1Ar",
        "outputId": "d9234da5-a89e-4c8a-ea80-3c856c2684d0"
      },
      "source": [
        "len(list(train_dir.glob(\"Not_Roco/*.png\"))) + len(list(train_dir.glob(\"Not_Roco/*.jpg\")))"
      ],
      "execution_count": 6,
      "outputs": [
        {
          "output_type": "execute_result",
          "data": {
            "text/plain": [
              "1976"
            ]
          },
          "metadata": {
            "tags": []
          },
          "execution_count": 6
        }
      ]
    },
    {
      "cell_type": "code",
      "metadata": {
        "id": "8WvzbBOQkaod"
      },
      "source": [
        ""
      ],
      "execution_count": 6,
      "outputs": []
    },
    {
      "cell_type": "code",
      "metadata": {
        "colab": {
          "base_uri": "https://localhost:8080/"
        },
        "id": "g2CXWm6hI_o9",
        "outputId": "8bf42537-8764-41e7-82bf-031f352fd2a8"
      },
      "source": [
        "len(list(train_dir.glob(\"Roco/*.png\")))+ len(list(train_dir.glob(\"Roco/*.jpg\")))"
      ],
      "execution_count": 7,
      "outputs": [
        {
          "output_type": "execute_result",
          "data": {
            "text/plain": [
              "2575"
            ]
          },
          "metadata": {
            "tags": []
          },
          "execution_count": 7
        }
      ]
    },
    {
      "cell_type": "code",
      "metadata": {
        "colab": {
          "base_uri": "https://localhost:8080/"
        },
        "id": "JjY6s_9SJJjF",
        "outputId": "0b18ce82-891b-46db-fa57-46a0da092c22"
      },
      "source": [
        "test_dir = pathlib.Path('dataset/RocoPicker_dataset/validation')\n",
        "len(list(test_dir.glob(\"Not_Roco/*.png\"))) + len(list(test_dir.glob(\"Not_Roco/*.jpg\")))"
      ],
      "execution_count": 8,
      "outputs": [
        {
          "output_type": "execute_result",
          "data": {
            "text/plain": [
              "200"
            ]
          },
          "metadata": {
            "tags": []
          },
          "execution_count": 8
        }
      ]
    },
    {
      "cell_type": "code",
      "metadata": {
        "colab": {
          "base_uri": "https://localhost:8080/"
        },
        "id": "Y5UyNG-kJZ5P",
        "outputId": "b1a40614-8975-4164-f76d-d923e906f728"
      },
      "source": [
        "len(list(test_dir.glob(\"Roco/*.png\"))) + len(list(test_dir.glob(\"Roco/*.jpg\")))"
      ],
      "execution_count": 9,
      "outputs": [
        {
          "output_type": "execute_result",
          "data": {
            "text/plain": [
              "200"
            ]
          },
          "metadata": {
            "tags": []
          },
          "execution_count": 9
        }
      ]
    },
    {
      "cell_type": "code",
      "metadata": {
        "id": "mG7yrYaVIGcX"
      },
      "source": [
        "imageGenerator = keras.preprocessing.image.ImageDataGenerator(\n",
        "    horizontal_flip=True, \n",
        "    rescale=1.0/255.0,\n",
        "    rotation_range=90, \n",
        "    width_shift_range=0.2, \n",
        "    height_shift_range=0.2, \n",
        "    shear_range=0.2, \n",
        "    zoom_range=0.3,\n",
        "    brightness_range=[0.5,1.3] )\n"
      ],
      "execution_count": 41,
      "outputs": []
    },
    {
      "cell_type": "markdown",
      "metadata": {
        "id": "zPcUXaWjKJj0"
      },
      "source": [
        "# 하이퍼파라미터"
      ]
    },
    {
      "cell_type": "code",
      "metadata": {
        "id": "n-hfCMIFKUGr"
      },
      "source": [
        "IMAGE_HEIGHT = 299 #https://towardsdatascience.com/review-xception-with-depthwise-separable-convolution-better-than-inception-v3-image-dc967dd42568\n",
        "IMAGE_WIDTH = 299\n",
        "BATCH_SIZE = 20"
      ],
      "execution_count": 11,
      "outputs": []
    },
    {
      "cell_type": "markdown",
      "metadata": {
        "id": "v4C8GItALC10"
      },
      "source": [
        "# 이미지 배치 데이터 생성"
      ]
    },
    {
      "cell_type": "code",
      "metadata": {
        "id": "Hu0W5sjILFQA",
        "colab": {
          "base_uri": "https://localhost:8080/"
        },
        "outputId": "c9cf5eee-0782-467e-863e-95e70f366dd9"
      },
      "source": [
        "generated_train_data = imageGenerator.flow_from_directory(train_dir, target_size=(IMAGE_HEIGHT, IMAGE_WIDTH), color_mode='rgb', classes=['Roco', 'Not_Roco'], batch_size = BATCH_SIZE, shuffle=True)"
      ],
      "execution_count": 43,
      "outputs": [
        {
          "output_type": "stream",
          "text": [
            "Found 4551 images belonging to 2 classes.\n"
          ],
          "name": "stdout"
        }
      ]
    },
    {
      "cell_type": "code",
      "metadata": {
        "id": "DUe8MNexU3tc",
        "colab": {
          "base_uri": "https://localhost:8080/"
        },
        "outputId": "ed6931f2-9918-4b00-e443-efbf9927db84"
      },
      "source": [
        "val_dir = pathlib.Path('dataset/RocoPicker_dataset/validation')\n",
        "generated_validation_data = imageGenerator.flow_from_directory(val_dir,  target_size=(IMAGE_HEIGHT, IMAGE_WIDTH), color_mode='rgb', classes=['Roco', 'Not_Roco'], batch_size = BATCH_SIZE, shuffle=True)"
      ],
      "execution_count": 44,
      "outputs": [
        {
          "output_type": "stream",
          "text": [
            "Found 400 images belonging to 2 classes.\n"
          ],
          "name": "stdout"
        }
      ]
    },
    {
      "cell_type": "markdown",
      "metadata": {
        "id": "L_rzcH5nLqMJ"
      },
      "source": [
        "# 배치 데이터 확인"
      ]
    },
    {
      "cell_type": "code",
      "metadata": {
        "id": "X26txvheLzYk"
      },
      "source": [
        "CLASS_NAMES = np.array(['Roco','Not_Roco'])"
      ],
      "execution_count": 13,
      "outputs": []
    },
    {
      "cell_type": "code",
      "metadata": {
        "id": "z2dxG1XRMAHD",
        "colab": {
          "base_uri": "https://localhost:8080/"
        },
        "outputId": "67d543a5-e2b6-4b13-d9cb-3376e8d988dc"
      },
      "source": [
        "CLASS_NAMES"
      ],
      "execution_count": 14,
      "outputs": [
        {
          "output_type": "execute_result",
          "data": {
            "text/plain": [
              "array(['Roco', 'Not_Roco'], dtype='<U8')"
            ]
          },
          "metadata": {
            "tags": []
          },
          "execution_count": 14
        }
      ]
    },
    {
      "cell_type": "code",
      "metadata": {
        "id": "TryXFsrbMCB7"
      },
      "source": [
        "def show_batch(image_batch, label_batch):\n",
        "  plt.figure(figsize=(10,10)) # 이미지 크기를 10, 10 으로 조정\n",
        "  for n in range(20):\n",
        "    ax = plt.subplot(4, 5, n+1) # 5행 5열로 잡은 것 중 n+1번째에 그림을 그림.\n",
        "    plt.imshow(image_batch[n])  # 이미지 표시\n",
        "    plt.title(CLASS_NAMES[label_batch[n]==1][0].title())\n",
        "    plt.axis('off')\n",
        "# ------------------------------------------------------------------\n",
        "\n",
        "import matplotlib.pyplot as plt\n",
        "\n",
        "image_batch, label_batch = next(generated_train_data)\n",
        "# show_batch(image_batch, label_batch)"
      ],
      "execution_count": 92,
      "outputs": []
    },
    {
      "cell_type": "code",
      "metadata": {
        "id": "TxIn6XbIB-bO",
        "colab": {
          "base_uri": "https://localhost:8080/"
        },
        "outputId": "40c5f048-6340-42f5-f33a-fafa7a0e4c2e"
      },
      "source": [
        "print(label_batch[6])"
      ],
      "execution_count": 46,
      "outputs": [
        {
          "output_type": "stream",
          "text": [
            "[1. 0.]\n"
          ],
          "name": "stdout"
        }
      ]
    },
    {
      "cell_type": "code",
      "metadata": {
        "id": "r8oSeh10NHWk",
        "colab": {
          "base_uri": "https://localhost:8080/",
          "height": 286
        },
        "outputId": "d5622c5b-1623-4461-8d11-3a92d162082a"
      },
      "source": [
        "plt.imshow(image_batch[6])"
      ],
      "execution_count": 23,
      "outputs": [
        {
          "output_type": "execute_result",
          "data": {
            "text/plain": [
              "<matplotlib.image.AxesImage at 0x7f980d52d310>"
            ]
          },
          "metadata": {
            "tags": []
          },
          "execution_count": 23
        },
        {
          "output_type": "display_data",
          "data": {
            "image/png": "[encoded data removed]",
            "text/plain": [
              "<Figure size 432x288 with 1 Axes>"
            ]
          },
          "metadata": {
            "tags": [],
            "needs_background": "light"
          }
        }
      ]
    },
    {
      "cell_type": "markdown",
      "metadata": {
        "id": "peEEJPYhOrY_"
      },
      "source": [
        "# 모델 생성\n",
        "https://www.tensorflow.org/tutorials/images/transfer_learning?hl=ko"
      ]
    },
    {
      "cell_type": "code",
      "metadata": {
        "id": "AA_dc_bGQKZp",
        "colab": {
          "base_uri": "https://localhost:8080/"
        },
        "outputId": "c7468e64-b24a-47b2-ba60-743166d96cf0"
      },
      "source": [
        "IMG_SHAPE = (IMAGE_HEIGHT,IMAGE_WIDTH,3)\n",
        "\n",
        "base_model = tf.keras.applications.MobileNetV2(input_shape = IMG_SHAPE, include_top = False)"
      ],
      "execution_count": 50,
      "outputs": [
        {
          "output_type": "stream",
          "text": [
            "WARNING:tensorflow:`input_shape` is undefined or non-square, or `rows` is not in [96, 128, 160, 192, 224]. Weights for input shape (224, 224) will be loaded as the default.\n"
          ],
          "name": "stdout"
        }
      ]
    },
    {
      "cell_type": "code",
      "metadata": {
        "id": "7opObr-vQUdS",
        "colab": {
          "base_uri": "https://localhost:8080/"
        },
        "outputId": "a6970f78-46eb-4a02-afdd-b351d6163d0f"
      },
      "source": [
        "base_model.summary()"
      ],
      "execution_count": 51,
      "outputs": [
        {
          "output_type": "stream",
          "text": [
            "Model: \"mobilenetv2_1.00_224\"\n",
            "__________________________________________________________________________________________________\n",
            "Layer (type)                    Output Shape         Param #     Connected to                     \n",
            "==================================================================================================\n",
            "input_3 (InputLayer)            [(None, 299, 299, 3) 0                                            \n",
            "__________________________________________________________________________________________________\n",
            "Conv1 (Conv2D)                  (None, 150, 150, 32) 864         input_3[0][0]                    \n",
            "__________________________________________________________________________________________________\n",
            "bn_Conv1 (BatchNormalization)   (None, 150, 150, 32) 128         Conv1[0][0]                      \n",
            "__________________________________________________________________________________________________\n",
            "Conv1_relu (ReLU)               (None, 150, 150, 32) 0           bn_Conv1[0][0]                   \n",
            "__________________________________________________________________________________________________\n",
            "expanded_conv_depthwise (Depthw (None, 150, 150, 32) 288         Conv1_relu[0][0]                 \n",
            "__________________________________________________________________________________________________\n",
            "expanded_conv_depthwise_BN (Bat (None, 150, 150, 32) 128         expanded_conv_depthwise[0][0]    \n",
            "__________________________________________________________________________________________________\n",
            "expanded_conv_depthwise_relu (R (None, 150, 150, 32) 0           expanded_conv_depthwise_BN[0][0] \n",
            "__________________________________________________________________________________________________\n",
            "expanded_conv_project (Conv2D)  (None, 150, 150, 16) 512         expanded_conv_depthwise_relu[0][0\n",
            "__________________________________________________________________________________________________\n",
            "expanded_conv_project_BN (Batch (None, 150, 150, 16) 64          expanded_conv_project[0][0]      \n",
            "__________________________________________________________________________________________________\n",
            "block_1_expand (Conv2D)         (None, 150, 150, 96) 1536        expanded_conv_project_BN[0][0]   \n",
            "__________________________________________________________________________________________________\n",
            "block_1_expand_BN (BatchNormali (None, 150, 150, 96) 384         block_1_expand[0][0]             \n",
            "__________________________________________________________________________________________________\n",
            "block_1_expand_relu (ReLU)      (None, 150, 150, 96) 0           block_1_expand_BN[0][0]          \n",
            "__________________________________________________________________________________________________\n",
            "block_1_pad (ZeroPadding2D)     (None, 151, 151, 96) 0           block_1_expand_relu[0][0]        \n",
            "__________________________________________________________________________________________________\n",
            "block_1_depthwise (DepthwiseCon (None, 75, 75, 96)   864         block_1_pad[0][0]                \n",
            "__________________________________________________________________________________________________\n",
            "block_1_depthwise_BN (BatchNorm (None, 75, 75, 96)   384         block_1_depthwise[0][0]          \n",
            "__________________________________________________________________________________________________\n",
            "block_1_depthwise_relu (ReLU)   (None, 75, 75, 96)   0           block_1_depthwise_BN[0][0]       \n",
            "__________________________________________________________________________________________________\n",
            "block_1_project (Conv2D)        (None, 75, 75, 24)   2304        block_1_depthwise_relu[0][0]     \n",
            "__________________________________________________________________________________________________\n",
            "block_1_project_BN (BatchNormal (None, 75, 75, 24)   96          block_1_project[0][0]            \n",
            "__________________________________________________________________________________________________\n",
            "block_2_expand (Conv2D)         (None, 75, 75, 144)  3456        block_1_project_BN[0][0]         \n",
            "__________________________________________________________________________________________________\n",
            "block_2_expand_BN (BatchNormali (None, 75, 75, 144)  576         block_2_expand[0][0]             \n",
            "__________________________________________________________________________________________________\n",
            "block_2_expand_relu (ReLU)      (None, 75, 75, 144)  0           block_2_expand_BN[0][0]          \n",
            "__________________________________________________________________________________________________\n",
            "block_2_depthwise (DepthwiseCon (None, 75, 75, 144)  1296        block_2_expand_relu[0][0]        \n",
            "__________________________________________________________________________________________________\n",
            "block_2_depthwise_BN (BatchNorm (None, 75, 75, 144)  576         block_2_depthwise[0][0]          \n",
            "__________________________________________________________________________________________________\n",
            "block_2_depthwise_relu (ReLU)   (None, 75, 75, 144)  0           block_2_depthwise_BN[0][0]       \n",
            "__________________________________________________________________________________________________\n",
            "block_2_project (Conv2D)        (None, 75, 75, 24)   3456        block_2_depthwise_relu[0][0]     \n",
            "__________________________________________________________________________________________________\n",
            "block_2_project_BN (BatchNormal (None, 75, 75, 24)   96          block_2_project[0][0]            \n",
            "__________________________________________________________________________________________________\n",
            "block_2_add (Add)               (None, 75, 75, 24)   0           block_1_project_BN[0][0]         \n",
            "                                                                 block_2_project_BN[0][0]         \n",
            "__________________________________________________________________________________________________\n",
            "block_3_expand (Conv2D)         (None, 75, 75, 144)  3456        block_2_add[0][0]                \n",
            "__________________________________________________________________________________________________\n",
            "block_3_expand_BN (BatchNormali (None, 75, 75, 144)  576         block_3_expand[0][0]             \n",
            "__________________________________________________________________________________________________\n",
            "block_3_expand_relu (ReLU)      (None, 75, 75, 144)  0           block_3_expand_BN[0][0]          \n",
            "__________________________________________________________________________________________________\n",
            "block_3_pad (ZeroPadding2D)     (None, 77, 77, 144)  0           block_3_expand_relu[0][0]        \n",
            "__________________________________________________________________________________________________\n",
            "block_3_depthwise (DepthwiseCon (None, 38, 38, 144)  1296        block_3_pad[0][0]                \n",
            "__________________________________________________________________________________________________\n",
            "block_3_depthwise_BN (BatchNorm (None, 38, 38, 144)  576         block_3_depthwise[0][0]          \n",
            "__________________________________________________________________________________________________\n",
            "block_3_depthwise_relu (ReLU)   (None, 38, 38, 144)  0           block_3_depthwise_BN[0][0]       \n",
            "__________________________________________________________________________________________________\n",
            "block_3_project (Conv2D)        (None, 38, 38, 32)   4608        block_3_depthwise_relu[0][0]     \n",
            "__________________________________________________________________________________________________\n",
            "block_3_project_BN (BatchNormal (None, 38, 38, 32)   128         block_3_project[0][0]            \n",
            "__________________________________________________________________________________________________\n",
            "block_4_expand (Conv2D)         (None, 38, 38, 192)  6144        block_3_project_BN[0][0]         \n",
            "__________________________________________________________________________________________________\n",
            "block_4_expand_BN (BatchNormali (None, 38, 38, 192)  768         block_4_expand[0][0]             \n",
            "__________________________________________________________________________________________________\n",
            "block_4_expand_relu (ReLU)      (None, 38, 38, 192)  0           block_4_expand_BN[0][0]          \n",
            "__________________________________________________________________________________________________\n",
            "block_4_depthwise (DepthwiseCon (None, 38, 38, 192)  1728        block_4_expand_relu[0][0]        \n",
            "__________________________________________________________________________________________________\n",
            "block_4_depthwise_BN (BatchNorm (None, 38, 38, 192)  768         block_4_depthwise[0][0]          \n",
            "__________________________________________________________________________________________________\n",
            "block_4_depthwise_relu (ReLU)   (None, 38, 38, 192)  0           block_4_depthwise_BN[0][0]       \n",
            "__________________________________________________________________________________________________\n",
            "block_4_project (Conv2D)        (None, 38, 38, 32)   6144        block_4_depthwise_relu[0][0]     \n",
            "__________________________________________________________________________________________________\n",
            "block_4_project_BN (BatchNormal (None, 38, 38, 32)   128         block_4_project[0][0]            \n",
            "__________________________________________________________________________________________________\n",
            "block_4_add (Add)               (None, 38, 38, 32)   0           block_3_project_BN[0][0]         \n",
            "                                                                 block_4_project_BN[0][0]         \n",
            "__________________________________________________________________________________________________\n",
            "block_5_expand (Conv2D)         (None, 38, 38, 192)  6144        block_4_add[0][0]                \n",
            "__________________________________________________________________________________________________\n",
            "block_5_expand_BN (BatchNormali (None, 38, 38, 192)  768         block_5_expand[0][0]             \n",
            "__________________________________________________________________________________________________\n",
            "block_5_expand_relu (ReLU)      (None, 38, 38, 192)  0           block_5_expand_BN[0][0]          \n",
            "__________________________________________________________________________________________________\n",
            "block_5_depthwise (DepthwiseCon (None, 38, 38, 192)  1728        block_5_expand_relu[0][0]        \n",
            "__________________________________________________________________________________________________\n",
            "block_5_depthwise_BN (BatchNorm (None, 38, 38, 192)  768         block_5_depthwise[0][0]          \n",
            "__________________________________________________________________________________________________\n",
            "block_5_depthwise_relu (ReLU)   (None, 38, 38, 192)  0           block_5_depthwise_BN[0][0]       \n",
            "__________________________________________________________________________________________________\n",
            "block_5_project (Conv2D)        (None, 38, 38, 32)   6144        block_5_depthwise_relu[0][0]     \n",
            "__________________________________________________________________________________________________\n",
            "block_5_project_BN (BatchNormal (None, 38, 38, 32)   128         block_5_project[0][0]            \n",
            "__________________________________________________________________________________________________\n",
            "block_5_add (Add)               (None, 38, 38, 32)   0           block_4_add[0][0]                \n",
            "                                                                 block_5_project_BN[0][0]         \n",
            "__________________________________________________________________________________________________\n",
            "block_6_expand (Conv2D)         (None, 38, 38, 192)  6144        block_5_add[0][0]                \n",
            "__________________________________________________________________________________________________\n",
            "block_6_expand_BN (BatchNormali (None, 38, 38, 192)  768         block_6_expand[0][0]             \n",
            "__________________________________________________________________________________________________\n",
            "block_6_expand_relu (ReLU)      (None, 38, 38, 192)  0           block_6_expand_BN[0][0]          \n",
            "__________________________________________________________________________________________________\n",
            "block_6_pad (ZeroPadding2D)     (None, 39, 39, 192)  0           block_6_expand_relu[0][0]        \n",
            "__________________________________________________________________________________________________\n",
            "block_6_depthwise (DepthwiseCon (None, 19, 19, 192)  1728        block_6_pad[0][0]                \n",
            "__________________________________________________________________________________________________\n",
            "block_6_depthwise_BN (BatchNorm (None, 19, 19, 192)  768         block_6_depthwise[0][0]          \n",
            "__________________________________________________________________________________________________\n",
            "block_6_depthwise_relu (ReLU)   (None, 19, 19, 192)  0           block_6_depthwise_BN[0][0]       \n",
            "__________________________________________________________________________________________________\n",
            "block_6_project (Conv2D)        (None, 19, 19, 64)   12288       block_6_depthwise_relu[0][0]     \n",
            "__________________________________________________________________________________________________\n",
            "block_6_project_BN (BatchNormal (None, 19, 19, 64)   256         block_6_project[0][0]            \n",
            "__________________________________________________________________________________________________\n",
            "block_7_expand (Conv2D)         (None, 19, 19, 384)  24576       block_6_project_BN[0][0]         \n",
            "__________________________________________________________________________________________________\n",
            "block_7_expand_BN (BatchNormali (None, 19, 19, 384)  1536        block_7_expand[0][0]             \n",
            "__________________________________________________________________________________________________\n",
            "block_7_expand_relu (ReLU)      (None, 19, 19, 384)  0           block_7_expand_BN[0][0]          \n",
            "__________________________________________________________________________________________________\n",
            "block_7_depthwise (DepthwiseCon (None, 19, 19, 384)  3456        block_7_expand_relu[0][0]        \n",
            "__________________________________________________________________________________________________\n",
            "block_7_depthwise_BN (BatchNorm (None, 19, 19, 384)  1536        block_7_depthwise[0][0]          \n",
            "__________________________________________________________________________________________________\n",
            "block_7_depthwise_relu (ReLU)   (None, 19, 19, 384)  0           block_7_depthwise_BN[0][0]       \n",
            "__________________________________________________________________________________________________\n",
            "block_7_project (Conv2D)        (None, 19, 19, 64)   24576       block_7_depthwise_relu[0][0]     \n",
            "__________________________________________________________________________________________________\n",
            "block_7_project_BN (BatchNormal (None, 19, 19, 64)   256         block_7_project[0][0]            \n",
            "__________________________________________________________________________________________________\n",
            "block_7_add (Add)               (None, 19, 19, 64)   0           block_6_project_BN[0][0]         \n",
            "                                                                 block_7_project_BN[0][0]         \n",
            "__________________________________________________________________________________________________\n",
            "block_8_expand (Conv2D)         (None, 19, 19, 384)  24576       block_7_add[0][0]                \n",
            "__________________________________________________________________________________________________\n",
            "block_8_expand_BN (BatchNormali (None, 19, 19, 384)  1536        block_8_expand[0][0]             \n",
            "__________________________________________________________________________________________________\n",
            "block_8_expand_relu (ReLU)      (None, 19, 19, 384)  0           block_8_expand_BN[0][0]          \n",
            "__________________________________________________________________________________________________\n",
            "block_8_depthwise (DepthwiseCon (None, 19, 19, 384)  3456        block_8_expand_relu[0][0]        \n",
            "__________________________________________________________________________________________________\n",
            "block_8_depthwise_BN (BatchNorm (None, 19, 19, 384)  1536        block_8_depthwise[0][0]          \n",
            "__________________________________________________________________________________________________\n",
            "block_8_depthwise_relu (ReLU)   (None, 19, 19, 384)  0           block_8_depthwise_BN[0][0]       \n",
            "__________________________________________________________________________________________________\n",
            "block_8_project (Conv2D)        (None, 19, 19, 64)   24576       block_8_depthwise_relu[0][0]     \n",
            "__________________________________________________________________________________________________\n",
            "block_8_project_BN (BatchNormal (None, 19, 19, 64)   256         block_8_project[0][0]            \n",
            "__________________________________________________________________________________________________\n",
            "block_8_add (Add)               (None, 19, 19, 64)   0           block_7_add[0][0]                \n",
            "                                                                 block_8_project_BN[0][0]         \n",
            "__________________________________________________________________________________________________\n",
            "block_9_expand (Conv2D)         (None, 19, 19, 384)  24576       block_8_add[0][0]                \n",
            "__________________________________________________________________________________________________\n",
            "block_9_expand_BN (BatchNormali (None, 19, 19, 384)  1536        block_9_expand[0][0]             \n",
            "__________________________________________________________________________________________________\n",
            "block_9_expand_relu (ReLU)      (None, 19, 19, 384)  0           block_9_expand_BN[0][0]          \n",
            "__________________________________________________________________________________________________\n",
            "block_9_depthwise (DepthwiseCon (None, 19, 19, 384)  3456        block_9_expand_relu[0][0]        \n",
            "__________________________________________________________________________________________________\n",
            "block_9_depthwise_BN (BatchNorm (None, 19, 19, 384)  1536        block_9_depthwise[0][0]          \n",
            "__________________________________________________________________________________________________\n",
            "block_9_depthwise_relu (ReLU)   (None, 19, 19, 384)  0           block_9_depthwise_BN[0][0]       \n",
            "__________________________________________________________________________________________________\n",
            "block_9_project (Conv2D)        (None, 19, 19, 64)   24576       block_9_depthwise_relu[0][0]     \n",
            "__________________________________________________________________________________________________\n",
            "block_9_project_BN (BatchNormal (None, 19, 19, 64)   256         block_9_project[0][0]            \n",
            "__________________________________________________________________________________________________\n",
            "block_9_add (Add)               (None, 19, 19, 64)   0           block_8_add[0][0]                \n",
            "                                                                 block_9_project_BN[0][0]         \n",
            "__________________________________________________________________________________________________\n",
            "block_10_expand (Conv2D)        (None, 19, 19, 384)  24576       block_9_add[0][0]                \n",
            "__________________________________________________________________________________________________\n",
            "block_10_expand_BN (BatchNormal (None, 19, 19, 384)  1536        block_10_expand[0][0]            \n",
            "__________________________________________________________________________________________________\n",
            "block_10_expand_relu (ReLU)     (None, 19, 19, 384)  0           block_10_expand_BN[0][0]         \n",
            "__________________________________________________________________________________________________\n",
            "block_10_depthwise (DepthwiseCo (None, 19, 19, 384)  3456        block_10_expand_relu[0][0]       \n",
            "__________________________________________________________________________________________________\n",
            "block_10_depthwise_BN (BatchNor (None, 19, 19, 384)  1536        block_10_depthwise[0][0]         \n",
            "__________________________________________________________________________________________________\n",
            "block_10_depthwise_relu (ReLU)  (None, 19, 19, 384)  0           block_10_depthwise_BN[0][0]      \n",
            "__________________________________________________________________________________________________\n",
            "block_10_project (Conv2D)       (None, 19, 19, 96)   36864       block_10_depthwise_relu[0][0]    \n",
            "__________________________________________________________________________________________________\n",
            "block_10_project_BN (BatchNorma (None, 19, 19, 96)   384         block_10_project[0][0]           \n",
            "__________________________________________________________________________________________________\n",
            "block_11_expand (Conv2D)        (None, 19, 19, 576)  55296       block_10_project_BN[0][0]        \n",
            "__________________________________________________________________________________________________\n",
            "block_11_expand_BN (BatchNormal (None, 19, 19, 576)  2304        block_11_expand[0][0]            \n",
            "__________________________________________________________________________________________________\n",
            "block_11_expand_relu (ReLU)     (None, 19, 19, 576)  0           block_11_expand_BN[0][0]         \n",
            "__________________________________________________________________________________________________\n",
            "block_11_depthwise (DepthwiseCo (None, 19, 19, 576)  5184        block_11_expand_relu[0][0]       \n",
            "__________________________________________________________________________________________________\n",
            "block_11_depthwise_BN (BatchNor (None, 19, 19, 576)  2304        block_11_depthwise[0][0]         \n",
            "__________________________________________________________________________________________________\n",
            "block_11_depthwise_relu (ReLU)  (None, 19, 19, 576)  0           block_11_depthwise_BN[0][0]      \n",
            "__________________________________________________________________________________________________\n",
            "block_11_project (Conv2D)       (None, 19, 19, 96)   55296       block_11_depthwise_relu[0][0]    \n",
            "__________________________________________________________________________________________________\n",
            "block_11_project_BN (BatchNorma (None, 19, 19, 96)   384         block_11_project[0][0]           \n",
            "__________________________________________________________________________________________________\n",
            "block_11_add (Add)              (None, 19, 19, 96)   0           block_10_project_BN[0][0]        \n",
            "                                                                 block_11_project_BN[0][0]        \n",
            "__________________________________________________________________________________________________\n",
            "block_12_expand (Conv2D)        (None, 19, 19, 576)  55296       block_11_add[0][0]               \n",
            "__________________________________________________________________________________________________\n",
            "block_12_expand_BN (BatchNormal (None, 19, 19, 576)  2304        block_12_expand[0][0]            \n",
            "__________________________________________________________________________________________________\n",
            "block_12_expand_relu (ReLU)     (None, 19, 19, 576)  0           block_12_expand_BN[0][0]         \n",
            "__________________________________________________________________________________________________\n",
            "block_12_depthwise (DepthwiseCo (None, 19, 19, 576)  5184        block_12_expand_relu[0][0]       \n",
            "__________________________________________________________________________________________________\n",
            "block_12_depthwise_BN (BatchNor (None, 19, 19, 576)  2304        block_12_depthwise[0][0]         \n",
            "__________________________________________________________________________________________________\n",
            "block_12_depthwise_relu (ReLU)  (None, 19, 19, 576)  0           block_12_depthwise_BN[0][0]      \n",
            "__________________________________________________________________________________________________\n",
            "block_12_project (Conv2D)       (None, 19, 19, 96)   55296       block_12_depthwise_relu[0][0]    \n",
            "__________________________________________________________________________________________________\n",
            "block_12_project_BN (BatchNorma (None, 19, 19, 96)   384         block_12_project[0][0]           \n",
            "__________________________________________________________________________________________________\n",
            "block_12_add (Add)              (None, 19, 19, 96)   0           block_11_add[0][0]               \n",
            "                                                                 block_12_project_BN[0][0]        \n",
            "__________________________________________________________________________________________________\n",
            "block_13_expand (Conv2D)        (None, 19, 19, 576)  55296       block_12_add[0][0]               \n",
            "__________________________________________________________________________________________________\n",
            "block_13_expand_BN (BatchNormal (None, 19, 19, 576)  2304        block_13_expand[0][0]            \n",
            "__________________________________________________________________________________________________\n",
            "block_13_expand_relu (ReLU)     (None, 19, 19, 576)  0           block_13_expand_BN[0][0]         \n",
            "__________________________________________________________________________________________________\n",
            "block_13_pad (ZeroPadding2D)    (None, 21, 21, 576)  0           block_13_expand_relu[0][0]       \n",
            "__________________________________________________________________________________________________\n",
            "block_13_depthwise (DepthwiseCo (None, 10, 10, 576)  5184        block_13_pad[0][0]               \n",
            "__________________________________________________________________________________________________\n",
            "block_13_depthwise_BN (BatchNor (None, 10, 10, 576)  2304        block_13_depthwise[0][0]         \n",
            "__________________________________________________________________________________________________\n",
            "block_13_depthwise_relu (ReLU)  (None, 10, 10, 576)  0           block_13_depthwise_BN[0][0]      \n",
            "__________________________________________________________________________________________________\n",
            "block_13_project (Conv2D)       (None, 10, 10, 160)  92160       block_13_depthwise_relu[0][0]    \n",
            "__________________________________________________________________________________________________\n",
            "block_13_project_BN (BatchNorma (None, 10, 10, 160)  640         block_13_project[0][0]           \n",
            "__________________________________________________________________________________________________\n",
            "block_14_expand (Conv2D)        (None, 10, 10, 960)  153600      block_13_project_BN[0][0]        \n",
            "__________________________________________________________________________________________________\n",
            "block_14_expand_BN (BatchNormal (None, 10, 10, 960)  3840        block_14_expand[0][0]            \n",
            "__________________________________________________________________________________________________\n",
            "block_14_expand_relu (ReLU)     (None, 10, 10, 960)  0           block_14_expand_BN[0][0]         \n",
            "__________________________________________________________________________________________________\n",
            "block_14_depthwise (DepthwiseCo (None, 10, 10, 960)  8640        block_14_expand_relu[0][0]       \n",
            "__________________________________________________________________________________________________\n",
            "block_14_depthwise_BN (BatchNor (None, 10, 10, 960)  3840        block_14_depthwise[0][0]         \n",
            "__________________________________________________________________________________________________\n",
            "block_14_depthwise_relu (ReLU)  (None, 10, 10, 960)  0           block_14_depthwise_BN[0][0]      \n",
            "__________________________________________________________________________________________________\n",
            "block_14_project (Conv2D)       (None, 10, 10, 160)  153600      block_14_depthwise_relu[0][0]    \n",
            "__________________________________________________________________________________________________\n",
            "block_14_project_BN (BatchNorma (None, 10, 10, 160)  640         block_14_project[0][0]           \n",
            "__________________________________________________________________________________________________\n",
            "block_14_add (Add)              (None, 10, 10, 160)  0           block_13_project_BN[0][0]        \n",
            "                                                                 block_14_project_BN[0][0]        \n",
            "__________________________________________________________________________________________________\n",
            "block_15_expand (Conv2D)        (None, 10, 10, 960)  153600      block_14_add[0][0]               \n",
            "__________________________________________________________________________________________________\n",
            "block_15_expand_BN (BatchNormal (None, 10, 10, 960)  3840        block_15_expand[0][0]            \n",
            "__________________________________________________________________________________________________\n",
            "block_15_expand_relu (ReLU)     (None, 10, 10, 960)  0           block_15_expand_BN[0][0]         \n",
            "__________________________________________________________________________________________________\n",
            "block_15_depthwise (DepthwiseCo (None, 10, 10, 960)  8640        block_15_expand_relu[0][0]       \n",
            "__________________________________________________________________________________________________\n",
            "block_15_depthwise_BN (BatchNor (None, 10, 10, 960)  3840        block_15_depthwise[0][0]         \n",
            "__________________________________________________________________________________________________\n",
            "block_15_depthwise_relu (ReLU)  (None, 10, 10, 960)  0           block_15_depthwise_BN[0][0]      \n",
            "__________________________________________________________________________________________________\n",
            "block_15_project (Conv2D)       (None, 10, 10, 160)  153600      block_15_depthwise_relu[0][0]    \n",
            "__________________________________________________________________________________________________\n",
            "block_15_project_BN (BatchNorma (None, 10, 10, 160)  640         block_15_project[0][0]           \n",
            "__________________________________________________________________________________________________\n",
            "block_15_add (Add)              (None, 10, 10, 160)  0           block_14_add[0][0]               \n",
            "                                                                 block_15_project_BN[0][0]        \n",
            "__________________________________________________________________________________________________\n",
            "block_16_expand (Conv2D)        (None, 10, 10, 960)  153600      block_15_add[0][0]               \n",
            "__________________________________________________________________________________________________\n",
            "block_16_expand_BN (BatchNormal (None, 10, 10, 960)  3840        block_16_expand[0][0]            \n",
            "__________________________________________________________________________________________________\n",
            "block_16_expand_relu (ReLU)     (None, 10, 10, 960)  0           block_16_expand_BN[0][0]         \n",
            "__________________________________________________________________________________________________\n",
            "block_16_depthwise (DepthwiseCo (None, 10, 10, 960)  8640        block_16_expand_relu[0][0]       \n",
            "__________________________________________________________________________________________________\n",
            "block_16_depthwise_BN (BatchNor (None, 10, 10, 960)  3840        block_16_depthwise[0][0]         \n",
            "__________________________________________________________________________________________________\n",
            "block_16_depthwise_relu (ReLU)  (None, 10, 10, 960)  0           block_16_depthwise_BN[0][0]      \n",
            "__________________________________________________________________________________________________\n",
            "block_16_project (Conv2D)       (None, 10, 10, 320)  307200      block_16_depthwise_relu[0][0]    \n",
            "__________________________________________________________________________________________________\n",
            "block_16_project_BN (BatchNorma (None, 10, 10, 320)  1280        block_16_project[0][0]           \n",
            "__________________________________________________________________________________________________\n",
            "Conv_1 (Conv2D)                 (None, 10, 10, 1280) 409600      block_16_project_BN[0][0]        \n",
            "__________________________________________________________________________________________________\n",
            "Conv_1_bn (BatchNormalization)  (None, 10, 10, 1280) 5120        Conv_1[0][0]                     \n",
            "__________________________________________________________________________________________________\n",
            "out_relu (ReLU)                 (None, 10, 10, 1280) 0           Conv_1_bn[0][0]                  \n",
            "==================================================================================================\n",
            "Total params: 2,257,984\n",
            "Trainable params: 2,223,872\n",
            "Non-trainable params: 34,112\n",
            "__________________________________________________________________________________________________\n"
          ],
          "name": "stdout"
        }
      ]
    },
    {
      "cell_type": "code",
      "metadata": {
        "id": "Yo0obEP_Qq5H"
      },
      "source": [
        "base_model.trainable = False"
      ],
      "execution_count": 52,
      "outputs": []
    },
    {
      "cell_type": "code",
      "metadata": {
        "id": "8gNPYRjMRw1z"
      },
      "source": [
        "from tensorflow.keras.layers import Dense, GlobalAveragePooling2D"
      ],
      "execution_count": 53,
      "outputs": []
    },
    {
      "cell_type": "code",
      "metadata": {
        "id": "5vw0Ng4WSIgx"
      },
      "source": [
        "global_average_layer = GlobalAveragePooling2D()\n",
        "prediction_layer = Dense(2, activation=\"softmax\")"
      ],
      "execution_count": 54,
      "outputs": []
    },
    {
      "cell_type": "code",
      "metadata": {
        "id": "e1saozKjSSIz"
      },
      "source": [
        "model = tf.keras.Sequential([\n",
        "                             base_model,\n",
        "                             global_average_layer,\n",
        "                             prediction_layer\n",
        "])"
      ],
      "execution_count": 55,
      "outputs": []
    },
    {
      "cell_type": "code",
      "metadata": {
        "id": "ndnPzNC8S9Im",
        "colab": {
          "base_uri": "https://localhost:8080/"
        },
        "outputId": "dd931d37-65c5-4e25-bd32-f0811810b59f"
      },
      "source": [
        "model.summary()"
      ],
      "execution_count": 56,
      "outputs": [
        {
          "output_type": "stream",
          "text": [
            "Model: \"sequential\"\n",
            "_________________________________________________________________\n",
            "Layer (type)                 Output Shape              Param #   \n",
            "=================================================================\n",
            "mobilenetv2_1.00_224 (Functi (None, 10, 10, 1280)      2257984   \n",
            "_________________________________________________________________\n",
            "global_average_pooling2d (Gl (None, 1280)              0         \n",
            "_________________________________________________________________\n",
            "dense (Dense)                (None, 2)                 2562      \n",
            "=================================================================\n",
            "Total params: 2,260,546\n",
            "Trainable params: 2,562\n",
            "Non-trainable params: 2,257,984\n",
            "_________________________________________________________________\n"
          ],
          "name": "stdout"
        }
      ]
    },
    {
      "cell_type": "code",
      "metadata": {
        "id": "LUZ0L8qUS_w-"
      },
      "source": [
        "model.compile(optimizer=tf.keras.optimizers.Adam(learning_rate=0.001), loss=tf.keras.losses.CategoricalCrossentropy(), metrics=['accuracy'])"
      ],
      "execution_count": 57,
      "outputs": []
    },
    {
      "cell_type": "markdown",
      "metadata": {
        "id": "BAOJvMJuXz6H"
      },
      "source": [
        "# 모델 로드"
      ]
    },
    {
      "cell_type": "code",
      "metadata": {
        "id": "PyAOyrx2BtvX"
      },
      "source": [
        "model = keras.models.load_model('/content/drive/My Drive/trained_model/rocopicker_Season_2')"
      ],
      "execution_count": 60,
      "outputs": []
    },
    {
      "cell_type": "markdown",
      "metadata": {
        "id": "1wrPCC0Xc73L"
      },
      "source": [
        "# 모델 학습"
      ]
    },
    {
      "cell_type": "code",
      "metadata": {
        "id": "n41cd8ogTo1n"
      },
      "source": [
        "MODEL_DIR = \"/content/drive/My\\ Drive/trained_model/rocopicker2_RMS\""
      ],
      "execution_count": null,
      "outputs": []
    },
    {
      "cell_type": "code",
      "metadata": {
        "id": "4Xa5sX5TUTr9",
        "colab": {
          "base_uri": "https://localhost:8080/"
        },
        "outputId": "faaf23ab-3cd8-4dd1-a506-d1dae798f88a"
      },
      "source": [
        "callbacks = [\n",
        "    keras.callbacks.ModelCheckpoint(\n",
        "        filepath='/content/drive/My Drive/trained_model/rocopicker_Season_2',\n",
        "        monitor='val_loss',\n",
        "        save_best_only=True,\n",
        "        verbose=1)\n",
        "]\n",
        "\n",
        "model.fit(generated_train_data, callbacks=callbacks, epochs=30, validation_data=generated_validation_data, class_weight={0 : 2575/4551 , 1: 1- 2575/4551})"
      ],
      "execution_count": 58,
      "outputs": [
        {
          "output_type": "stream",
          "text": [
            "Epoch 1/30\n",
            "228/228 [==============================] - 422s 2s/step - loss: 0.3188 - accuracy: 0.6299 - val_loss: 0.5620 - val_accuracy: 0.7250\n",
            "\n",
            "Epoch 00001: val_loss improved from inf to 0.56201, saving model to /content/drive/My Drive/trained_model/rocopicker_Season_2\n",
            "INFO:tensorflow:Assets written to: /content/drive/My Drive/trained_model/rocopicker_Season_2/assets\n",
            "Epoch 2/30\n",
            "228/228 [==============================] - 401s 2s/step - loss: 0.2587 - accuracy: 0.7306 - val_loss: 0.5786 - val_accuracy: 0.7050\n",
            "\n",
            "Epoch 00002: val_loss did not improve from 0.56201\n",
            "Epoch 3/30\n",
            "228/228 [==============================] - 374s 2s/step - loss: 0.2366 - accuracy: 0.7593 - val_loss: 0.5031 - val_accuracy: 0.7525\n",
            "\n",
            "Epoch 00003: val_loss improved from 0.56201 to 0.50307, saving model to /content/drive/My Drive/trained_model/rocopicker_Season_2\n",
            "INFO:tensorflow:Assets written to: /content/drive/My Drive/trained_model/rocopicker_Season_2/assets\n",
            "Epoch 4/30\n",
            "228/228 [==============================] - 369s 2s/step - loss: 0.2379 - accuracy: 0.7571 - val_loss: 0.4728 - val_accuracy: 0.7700\n",
            "\n",
            "Epoch 00004: val_loss improved from 0.50307 to 0.47278, saving model to /content/drive/My Drive/trained_model/rocopicker_Season_2\n",
            "INFO:tensorflow:Assets written to: /content/drive/My Drive/trained_model/rocopicker_Season_2/assets\n",
            "Epoch 5/30\n",
            "228/228 [==============================] - 364s 2s/step - loss: 0.2355 - accuracy: 0.7660 - val_loss: 0.4843 - val_accuracy: 0.7725\n",
            "\n",
            "Epoch 00005: val_loss did not improve from 0.47278\n",
            "Epoch 6/30\n",
            "228/228 [==============================] - 366s 2s/step - loss: 0.2285 - accuracy: 0.7744 - val_loss: 0.4488 - val_accuracy: 0.7650\n",
            "\n",
            "Epoch 00006: val_loss improved from 0.47278 to 0.44876, saving model to /content/drive/My Drive/trained_model/rocopicker_Season_2\n",
            "INFO:tensorflow:Assets written to: /content/drive/My Drive/trained_model/rocopicker_Season_2/assets\n",
            "Epoch 7/30\n",
            "228/228 [==============================] - 362s 2s/step - loss: 0.2277 - accuracy: 0.7842 - val_loss: 0.4525 - val_accuracy: 0.7775\n",
            "\n",
            "Epoch 00007: val_loss did not improve from 0.44876\n",
            "Epoch 8/30\n",
            "228/228 [==============================] - 363s 2s/step - loss: 0.2188 - accuracy: 0.7861 - val_loss: 0.4720 - val_accuracy: 0.7675\n",
            "\n",
            "Epoch 00008: val_loss did not improve from 0.44876\n",
            "Epoch 9/30\n",
            "228/228 [==============================] - 362s 2s/step - loss: 0.2279 - accuracy: 0.7829 - val_loss: 0.5061 - val_accuracy: 0.7450\n",
            "\n",
            "Epoch 00009: val_loss did not improve from 0.44876\n",
            "Epoch 10/30\n",
            "228/228 [==============================] - 362s 2s/step - loss: 0.2148 - accuracy: 0.7966 - val_loss: 0.4493 - val_accuracy: 0.7800\n",
            "\n",
            "Epoch 00010: val_loss did not improve from 0.44876\n",
            "Epoch 11/30\n",
            "228/228 [==============================] - 362s 2s/step - loss: 0.2106 - accuracy: 0.8005 - val_loss: 0.4967 - val_accuracy: 0.7475\n",
            "\n",
            "Epoch 00011: val_loss did not improve from 0.44876\n",
            "Epoch 12/30\n",
            "228/228 [==============================] - 361s 2s/step - loss: 0.2216 - accuracy: 0.7814 - val_loss: 0.4428 - val_accuracy: 0.8000\n",
            "\n",
            "Epoch 00012: val_loss improved from 0.44876 to 0.44282, saving model to /content/drive/My Drive/trained_model/rocopicker_Season_2\n",
            "INFO:tensorflow:Assets written to: /content/drive/My Drive/trained_model/rocopicker_Season_2/assets\n",
            "Epoch 13/30\n",
            "228/228 [==============================] - 362s 2s/step - loss: 0.2199 - accuracy: 0.7824 - val_loss: 0.4536 - val_accuracy: 0.7750\n",
            "\n",
            "Epoch 00013: val_loss did not improve from 0.44282\n",
            "Epoch 14/30\n",
            "228/228 [==============================] - 362s 2s/step - loss: 0.2113 - accuracy: 0.8021 - val_loss: 0.4131 - val_accuracy: 0.8175\n",
            "\n",
            "Epoch 00014: val_loss improved from 0.44282 to 0.41308, saving model to /content/drive/My Drive/trained_model/rocopicker_Season_2\n",
            "INFO:tensorflow:Assets written to: /content/drive/My Drive/trained_model/rocopicker_Season_2/assets\n",
            "Epoch 15/30\n",
            "228/228 [==============================] - 363s 2s/step - loss: 0.2100 - accuracy: 0.7972 - val_loss: 0.5165 - val_accuracy: 0.7375\n",
            "\n",
            "Epoch 00015: val_loss did not improve from 0.41308\n",
            "Epoch 16/30\n",
            "228/228 [==============================] - 366s 2s/step - loss: 0.2075 - accuracy: 0.8020 - val_loss: 0.4496 - val_accuracy: 0.7950\n",
            "\n",
            "Epoch 00016: val_loss did not improve from 0.41308\n",
            "Epoch 17/30\n",
            "228/228 [==============================] - 363s 2s/step - loss: 0.2141 - accuracy: 0.7910 - val_loss: 0.4623 - val_accuracy: 0.7700\n",
            "\n",
            "Epoch 00017: val_loss did not improve from 0.41308\n",
            "Epoch 18/30\n",
            "228/228 [==============================] - 362s 2s/step - loss: 0.2097 - accuracy: 0.7931 - val_loss: 0.4591 - val_accuracy: 0.7925\n",
            "\n",
            "Epoch 00018: val_loss did not improve from 0.41308\n",
            "Epoch 19/30\n",
            "228/228 [==============================] - 363s 2s/step - loss: 0.2207 - accuracy: 0.7883 - val_loss: 0.4708 - val_accuracy: 0.7525\n",
            "\n",
            "Epoch 00019: val_loss did not improve from 0.41308\n",
            "Epoch 20/30\n",
            "228/228 [==============================] - 363s 2s/step - loss: 0.2071 - accuracy: 0.8003 - val_loss: 0.4660 - val_accuracy: 0.7700\n",
            "\n",
            "Epoch 00020: val_loss did not improve from 0.41308\n",
            "Epoch 21/30\n",
            "228/228 [==============================] - 362s 2s/step - loss: 0.2081 - accuracy: 0.7973 - val_loss: 0.5233 - val_accuracy: 0.7325\n",
            "\n",
            "Epoch 00021: val_loss did not improve from 0.41308\n",
            "Epoch 22/30\n",
            "228/228 [==============================] - 361s 2s/step - loss: 0.2112 - accuracy: 0.7950 - val_loss: 0.5006 - val_accuracy: 0.7450\n",
            "\n",
            "Epoch 00022: val_loss did not improve from 0.41308\n",
            "Epoch 23/30\n",
            "228/228 [==============================] - 361s 2s/step - loss: 0.2085 - accuracy: 0.7918 - val_loss: 0.4209 - val_accuracy: 0.7825\n",
            "\n",
            "Epoch 00023: val_loss did not improve from 0.41308\n",
            "Epoch 24/30\n",
            "228/228 [==============================] - 363s 2s/step - loss: 0.2160 - accuracy: 0.7911 - val_loss: 0.4543 - val_accuracy: 0.7725\n",
            "\n",
            "Epoch 00024: val_loss did not improve from 0.41308\n",
            "Epoch 25/30\n",
            "228/228 [==============================] - 365s 2s/step - loss: 0.2097 - accuracy: 0.7960 - val_loss: 0.4240 - val_accuracy: 0.7875\n",
            "\n",
            "Epoch 00025: val_loss did not improve from 0.41308\n",
            "Epoch 26/30\n",
            "228/228 [==============================] - 369s 2s/step - loss: 0.2140 - accuracy: 0.7856 - val_loss: 0.5088 - val_accuracy: 0.7450\n",
            "\n",
            "Epoch 00026: val_loss did not improve from 0.41308\n",
            "Epoch 27/30\n",
            "228/228 [==============================] - 370s 2s/step - loss: 0.2121 - accuracy: 0.7950 - val_loss: 0.4626 - val_accuracy: 0.7700\n",
            "\n",
            "Epoch 00027: val_loss did not improve from 0.41308\n",
            "Epoch 28/30\n",
            "228/228 [==============================] - 373s 2s/step - loss: 0.2079 - accuracy: 0.8029 - val_loss: 0.4681 - val_accuracy: 0.7725\n",
            "\n",
            "Epoch 00028: val_loss did not improve from 0.41308\n",
            "Epoch 29/30\n",
            "228/228 [==============================] - 373s 2s/step - loss: 0.2011 - accuracy: 0.8097 - val_loss: 0.4421 - val_accuracy: 0.7900\n",
            "\n",
            "Epoch 00029: val_loss did not improve from 0.41308\n",
            "Epoch 30/30\n",
            "228/228 [==============================] - 372s 2s/step - loss: 0.2015 - accuracy: 0.8074 - val_loss: 0.5785 - val_accuracy: 0.7275\n",
            "\n",
            "Epoch 00030: val_loss did not improve from 0.41308\n"
          ],
          "name": "stdout"
        },
        {
          "output_type": "execute_result",
          "data": {
            "text/plain": [
              "<tensorflow.python.keras.callbacks.History at 0x7f980e495cd0>"
            ]
          },
          "metadata": {
            "tags": []
          },
          "execution_count": 58
        }
      ]
    },
    {
      "cell_type": "code",
      "metadata": {
        "id": "Rtl8HQZnzdYJ"
      },
      "source": [
        "model.save('/content/drive/My Drive/trained_model/rocopicker2_RMS2')"
      ],
      "execution_count": null,
      "outputs": []
    },
    {
      "cell_type": "code",
      "metadata": {
        "id": "RRwuqLoyyR--"
      },
      "source": [
        ""
      ],
      "execution_count": null,
      "outputs": []
    },
    {
      "cell_type": "markdown",
      "metadata": {
        "id": "5FGoBUuOaXHK"
      },
      "source": [
        "# 사진을 이용한 평가"
      ]
    },
    {
      "cell_type": "code",
      "metadata": {
        "id": "2jgZrEU00CPm"
      },
      "source": [
        "import cv2\n",
        "\n",
        "im = cv2.imread(\"/content/check08.jpg\").astype(np.float32) # 이미지 로드\n",
        "im = im * (1.0/255.0) # 이미지 정규화\n",
        "resized_img = cv2.resize(im, (299,299)) # 이미지 크기를 맞게 변형\n",
        "rgb_img = cv2.cvtColor(resized_img, cv2.COLOR_BGR2RGB)\n",
        "expdim_img = np.expand_dims(rgb_img, axis=0) # 배치는 1개"
      ],
      "execution_count": 84,
      "outputs": []
    },
    {
      "cell_type": "code",
      "metadata": {
        "id": "dP_UYxHt0ZCT",
        "colab": {
          "base_uri": "https://localhost:8080/"
        },
        "outputId": "b8c6f89d-29e3-4182-adb4-a9c7846dc40a"
      },
      "source": [
        "predict = model.predict(expdim_img)\n",
        "predict"
      ],
      "execution_count": 85,
      "outputs": [
        {
          "output_type": "execute_result",
          "data": {
            "text/plain": [
              "array([[0.88898176, 0.11101828]], dtype=float32)"
            ]
          },
          "metadata": {
            "tags": []
          },
          "execution_count": 85
        }
      ]
    },
    {
      "cell_type": "code",
      "metadata": {
        "id": "8Vw2S3VmMCnQ",
        "colab": {
          "base_uri": "https://localhost:8080/",
          "height": 286
        },
        "outputId": "b20e5660-0fe7-495b-8e26-7d2e75a047d3"
      },
      "source": [
        "plt.imshow(rgb_img)\n",
        "print(\"로코: {:0.3}%, Not_로코: {:0.3}%\".format(predict[0][0]*100, predict[0][1]*100))"
      ],
      "execution_count": 86,
      "outputs": [
        {
          "output_type": "stream",
          "text": [
            "로코: 88.9%, Not_로코: 11.1%\n"
          ],
          "name": "stdout"
        },
        {
          "output_type": "display_data",
          "data": {
            "image/png": "[encoded data removed]",
            "text/plain": [
              "<Figure size 432x288 with 1 Axes>"
            ]
          },
          "metadata": {
            "tags": [],
            "needs_background": "light"
          }
        }
      ]
    },
    {
      "cell_type": "markdown",
      "metadata": {
        "id": "0nJEJvWr9zAH"
      },
      "source": [
        "# Model evaluate (for debugging)"
      ]
    },
    {
      "cell_type": "code",
      "metadata": {
        "id": "mq9cGAUwAj0y",
        "colab": {
          "base_uri": "https://localhost:8080/",
          "height": 53
        },
        "outputId": "45b417ca-ec2a-4d65-cbe6-445ebec11ed6"
      },
      "source": [
        "model.evaluate(generated_validation_data)"
      ],
      "execution_count": null,
      "outputs": [
        {
          "output_type": "stream",
          "text": [
            "20/20 [==============================] - 225s 11s/step - loss: 0.5259 - accuracy: 0.7375\n"
          ],
          "name": "stdout"
        },
        {
          "output_type": "execute_result",
          "data": {
            "text/plain": [
              "[0.5258844941854477, 0.7375]"
            ]
          },
          "metadata": {
            "tags": []
          },
          "execution_count": 47
        }
      ]
    },
    {
      "cell_type": "code",
      "metadata": {
        "id": "kPC35BO_CmKq",
        "colab": {
          "base_uri": "https://localhost:8080/",
          "height": 35
        },
        "outputId": "6cc368dc-b0c4-4f43-b29f-179150b89463"
      },
      "source": [
        "model.inputs"
      ],
      "execution_count": null,
      "outputs": [
        {
          "output_type": "execute_result",
          "data": {
            "text/plain": [
              "[<tf.Tensor 'input_1:0' shape=(None, 299, 299, 3) dtype=float32>]"
            ]
          },
          "metadata": {
            "tags": []
          },
          "execution_count": 10
        }
      ]
    },
    {
      "cell_type": "code",
      "metadata": {
        "id": "1wpy6oUU1D3y"
      },
      "source": [
        ""
      ],
      "execution_count": null,
      "outputs": []
    },
    {
      "cell_type": "markdown",
      "metadata": {
        "id": "Ls9R5MovsvjO"
      },
      "source": [
        "# 텐서플로우 JS"
      ]
    },
    {
      "cell_type": "code",
      "metadata": {
        "id": "6yZnPuEAAXWN",
        "colab": {
          "base_uri": "https://localhost:8080/"
        },
        "outputId": "6a4a6925-d4e0-4323-ad63-94ede152151a"
      },
      "source": [
        "!pip install tensorflowjs"
      ],
      "execution_count": 80,
      "outputs": [
        {
          "output_type": "stream",
          "text": [
            "Collecting tensorflowjs\n",
            "\u001b[?25l  Downloading https://files.pythonhosted.org/packages/9c/a5/d778313aa845dcf8e6f0dcdf6b878fa4e24ca8e27e8e09eb80f6f52d347f/tensorflowjs-3.2.0-py3-none-any.whl (63kB)\n",
            "\r\u001b[K     |█████▏                          | 10kB 26.6MB/s eta 0:00:01\r\u001b[K     |██████████▍                     | 20kB 16.9MB/s eta 0:00:01\r\u001b[K     |███████████████▌                | 30kB 15.5MB/s eta 0:00:01\r\u001b[K     |████████████████████▊           | 40kB 15.1MB/s eta 0:00:01\r\u001b[K     |█████████████████████████▉      | 51kB 12.0MB/s eta 0:00:01\r\u001b[K     |███████████████████████████████ | 61kB 12.3MB/s eta 0:00:01\r\u001b[K     |████████████████████████████████| 71kB 6.9MB/s \n",
            "\u001b[?25hRequirement already satisfied: h5py<3,>=2.8.0 in /usr/local/lib/python3.7/dist-packages (from tensorflowjs) (2.10.0)\n",
            "Requirement already satisfied: six<2,>=1.12.0 in /usr/local/lib/python3.7/dist-packages (from tensorflowjs) (1.15.0)\n",
            "Requirement already satisfied: tensorflow<3,>=2.1.0 in /usr/local/lib/python3.7/dist-packages (from tensorflowjs) (2.4.1)\n",
            "Collecting tensorflow-hub<0.10,>=0.7.0\n",
            "\u001b[?25l  Downloading https://files.pythonhosted.org/packages/ac/83/a7df82744a794107641dad1decaad017d82e25f0e1f761ac9204829eef96/tensorflow_hub-0.9.0-py2.py3-none-any.whl (103kB)\n",
            "\r\u001b[K     |███▏                            | 10kB 28.4MB/s eta 0:00:01\r\u001b[K     |██████▍                         | 20kB 36.6MB/s eta 0:00:01\r\u001b[K     |█████████▌                      | 30kB 31.2MB/s eta 0:00:01\r\u001b[K     |████████████▊                   | 40kB 23.4MB/s eta 0:00:01\r\u001b[K     |███████████████▉                | 51kB 24.5MB/s eta 0:00:01\r\u001b[K     |███████████████████             | 61kB 22.1MB/s eta 0:00:01\r\u001b[K     |██████████████████████▏         | 71kB 20.5MB/s eta 0:00:01\r\u001b[K     |█████████████████████████▍      | 81kB 19.2MB/s eta 0:00:01\r\u001b[K     |████████████████████████████▋   | 92kB 20.7MB/s eta 0:00:01\r\u001b[K     |███████████████████████████████▊| 102kB 19.5MB/s eta 0:00:01\r\u001b[K     |████████████████████████████████| 112kB 19.5MB/s \n",
            "\u001b[?25hRequirement already satisfied: numpy>=1.7 in /usr/local/lib/python3.7/dist-packages (from h5py<3,>=2.8.0->tensorflowjs) (1.19.5)\n",
            "Requirement already satisfied: wrapt~=1.12.1 in /usr/local/lib/python3.7/dist-packages (from tensorflow<3,>=2.1.0->tensorflowjs) (1.12.1)\n",
            "Requirement already satisfied: wheel~=0.35 in /usr/local/lib/python3.7/dist-packages (from tensorflow<3,>=2.1.0->tensorflowjs) (0.36.2)\n",
            "Requirement already satisfied: tensorflow-estimator<2.5.0,>=2.4.0 in /usr/local/lib/python3.7/dist-packages (from tensorflow<3,>=2.1.0->tensorflowjs) (2.4.0)\n",
            "Requirement already satisfied: gast==0.3.3 in /usr/local/lib/python3.7/dist-packages (from tensorflow<3,>=2.1.0->tensorflowjs) (0.3.3)\n",
            "Requirement already satisfied: grpcio~=1.32.0 in /usr/local/lib/python3.7/dist-packages (from tensorflow<3,>=2.1.0->tensorflowjs) (1.32.0)\n",
            "Requirement already satisfied: protobuf>=3.9.2 in /usr/local/lib/python3.7/dist-packages (from tensorflow<3,>=2.1.0->tensorflowjs) (3.12.4)\n",
            "Requirement already satisfied: absl-py~=0.10 in /usr/local/lib/python3.7/dist-packages (from tensorflow<3,>=2.1.0->tensorflowjs) (0.10.0)\n",
            "Requirement already satisfied: keras-preprocessing~=1.1.2 in /usr/local/lib/python3.7/dist-packages (from tensorflow<3,>=2.1.0->tensorflowjs) (1.1.2)\n",
            "Requirement already satisfied: typing-extensions~=3.7.4 in /usr/local/lib/python3.7/dist-packages (from tensorflow<3,>=2.1.0->tensorflowjs) (3.7.4.3)\n",
            "Requirement already satisfied: opt-einsum~=3.3.0 in /usr/local/lib/python3.7/dist-packages (from tensorflow<3,>=2.1.0->tensorflowjs) (3.3.0)\n",
            "Requirement already satisfied: google-pasta~=0.2 in /usr/local/lib/python3.7/dist-packages (from tensorflow<3,>=2.1.0->tensorflowjs) (0.2.0)\n",
            "Requirement already satisfied: flatbuffers~=1.12.0 in /usr/local/lib/python3.7/dist-packages (from tensorflow<3,>=2.1.0->tensorflowjs) (1.12)\n",
            "Requirement already satisfied: astunparse~=1.6.3 in /usr/local/lib/python3.7/dist-packages (from tensorflow<3,>=2.1.0->tensorflowjs) (1.6.3)\n",
            "Requirement already satisfied: tensorboard~=2.4 in /usr/local/lib/python3.7/dist-packages (from tensorflow<3,>=2.1.0->tensorflowjs) (2.4.1)\n",
            "Requirement already satisfied: termcolor~=1.1.0 in /usr/local/lib/python3.7/dist-packages (from tensorflow<3,>=2.1.0->tensorflowjs) (1.1.0)\n",
            "Requirement already satisfied: setuptools in /usr/local/lib/python3.7/dist-packages (from protobuf>=3.9.2->tensorflow<3,>=2.1.0->tensorflowjs) (53.0.0)\n",
            "Requirement already satisfied: markdown>=2.6.8 in /usr/local/lib/python3.7/dist-packages (from tensorboard~=2.4->tensorflow<3,>=2.1.0->tensorflowjs) (3.3.4)\n",
            "Requirement already satisfied: google-auth<2,>=1.6.3 in /usr/local/lib/python3.7/dist-packages (from tensorboard~=2.4->tensorflow<3,>=2.1.0->tensorflowjs) (1.27.0)\n",
            "Requirement already satisfied: tensorboard-plugin-wit>=1.6.0 in /usr/local/lib/python3.7/dist-packages (from tensorboard~=2.4->tensorflow<3,>=2.1.0->tensorflowjs) (1.8.0)\n",
            "Requirement already satisfied: google-auth-oauthlib<0.5,>=0.4.1 in /usr/local/lib/python3.7/dist-packages (from tensorboard~=2.4->tensorflow<3,>=2.1.0->tensorflowjs) (0.4.2)\n",
            "Requirement already satisfied: werkzeug>=0.11.15 in /usr/local/lib/python3.7/dist-packages (from tensorboard~=2.4->tensorflow<3,>=2.1.0->tensorflowjs) (1.0.1)\n",
            "Requirement already satisfied: requests<3,>=2.21.0 in /usr/local/lib/python3.7/dist-packages (from tensorboard~=2.4->tensorflow<3,>=2.1.0->tensorflowjs) (2.23.0)\n",
            "Requirement already satisfied: importlib-metadata; python_version < \"3.8\" in /usr/local/lib/python3.7/dist-packages (from markdown>=2.6.8->tensorboard~=2.4->tensorflow<3,>=2.1.0->tensorflowjs) (3.7.0)\n",
            "Requirement already satisfied: pyasn1-modules>=0.2.1 in /usr/local/lib/python3.7/dist-packages (from google-auth<2,>=1.6.3->tensorboard~=2.4->tensorflow<3,>=2.1.0->tensorflowjs) (0.2.8)\n",
            "Requirement already satisfied: rsa<5,>=3.1.4; python_version >= \"3.6\" in /usr/local/lib/python3.7/dist-packages (from google-auth<2,>=1.6.3->tensorboard~=2.4->tensorflow<3,>=2.1.0->tensorflowjs) (4.7.2)\n",
            "Requirement already satisfied: cachetools<5.0,>=2.0.0 in /usr/local/lib/python3.7/dist-packages (from google-auth<2,>=1.6.3->tensorboard~=2.4->tensorflow<3,>=2.1.0->tensorflowjs) (4.2.1)\n",
            "Requirement already satisfied: requests-oauthlib>=0.7.0 in /usr/local/lib/python3.7/dist-packages (from google-auth-oauthlib<0.5,>=0.4.1->tensorboard~=2.4->tensorflow<3,>=2.1.0->tensorflowjs) (1.3.0)\n",
            "Requirement already satisfied: certifi>=2017.4.17 in /usr/local/lib/python3.7/dist-packages (from requests<3,>=2.21.0->tensorboard~=2.4->tensorflow<3,>=2.1.0->tensorflowjs) (2020.12.5)\n",
            "Requirement already satisfied: idna<3,>=2.5 in /usr/local/lib/python3.7/dist-packages (from requests<3,>=2.21.0->tensorboard~=2.4->tensorflow<3,>=2.1.0->tensorflowjs) (2.10)\n",
            "Requirement already satisfied: chardet<4,>=3.0.2 in /usr/local/lib/python3.7/dist-packages (from requests<3,>=2.21.0->tensorboard~=2.4->tensorflow<3,>=2.1.0->tensorflowjs) (3.0.4)\n",
            "Requirement already satisfied: urllib3!=1.25.0,!=1.25.1,<1.26,>=1.21.1 in /usr/local/lib/python3.7/dist-packages (from requests<3,>=2.21.0->tensorboard~=2.4->tensorflow<3,>=2.1.0->tensorflowjs) (1.24.3)\n",
            "Requirement already satisfied: zipp>=0.5 in /usr/local/lib/python3.7/dist-packages (from importlib-metadata; python_version < \"3.8\"->markdown>=2.6.8->tensorboard~=2.4->tensorflow<3,>=2.1.0->tensorflowjs) (3.4.0)\n",
            "Requirement already satisfied: pyasn1<0.5.0,>=0.4.6 in /usr/local/lib/python3.7/dist-packages (from pyasn1-modules>=0.2.1->google-auth<2,>=1.6.3->tensorboard~=2.4->tensorflow<3,>=2.1.0->tensorflowjs) (0.4.8)\n",
            "Requirement already satisfied: oauthlib>=3.0.0 in /usr/local/lib/python3.7/dist-packages (from requests-oauthlib>=0.7.0->google-auth-oauthlib<0.5,>=0.4.1->tensorboard~=2.4->tensorflow<3,>=2.1.0->tensorflowjs) (3.1.0)\n",
            "Installing collected packages: tensorflow-hub, tensorflowjs\n",
            "  Found existing installation: tensorflow-hub 0.11.0\n",
            "    Uninstalling tensorflow-hub-0.11.0:\n",
            "      Successfully uninstalled tensorflow-hub-0.11.0\n",
            "Successfully installed tensorflow-hub-0.9.0 tensorflowjs-3.2.0\n"
          ],
          "name": "stdout"
        }
      ]
    },
    {
      "cell_type": "code",
      "metadata": {
        "id": "hTPB9rbaAaKx",
        "colab": {
          "base_uri": "https://localhost:8080/"
        },
        "outputId": "f9b74dbc-ce16-4e14-ba72-826881e08a10"
      },
      "source": [
        "!tensorflowjs_converter --input_format keras \\\n",
        "                       /content/drive/My\\ Drive/trained_model/rocopicker_Season_2 \\\n",
        "                       /content/drive/My\\ Drive/trained_model/rocopicker_Season_2js"
      ],
      "execution_count": 88,
      "outputs": [
        {
          "output_type": "stream",
          "text": [
            "2021-02-28 11:00:53.652120: I tensorflow/stream_executor/platform/default/dso_loader.cc:49] Successfully opened dynamic library libcudart.so.10.1\n",
            "usage: TensorFlow.js model converters. [-h]\n",
            "                                       [--input_format {keras,tf_frozen_model,tf_saved_model,tf_hub,tfjs_layers_model,keras_saved_model}]\n",
            "                                       [--output_format {keras,tfjs_layers_model,keras_saved_model,tfjs_graph_model}]\n",
            "                                       [--signature_name SIGNATURE_NAME]\n",
            "                                       [--saved_model_tags SAVED_MODEL_TAGS]\n",
            "                                       [--quantize_float16 [QUANTIZE_FLOAT16]]\n",
            "                                       [--quantize_uint8 [QUANTIZE_UINT8]]\n",
            "                                       [--quantize_uint16 [QUANTIZE_UINT16]]\n",
            "                                       [--quantization_bytes {1,2}]\n",
            "                                       [--split_weights_by_layer] [--version]\n",
            "                                       [--skip_op_check]\n",
            "                                       [--strip_debug_ops STRIP_DEBUG_OPS]\n",
            "                                       [--weight_shard_size_bytes WEIGHT_SHARD_SIZE_BYTES]\n",
            "                                       [--output_node_names OUTPUT_NODE_NAMES]\n",
            "                                       [--control_flow_v2 CONTROL_FLOW_V2]\n",
            "                                       [--experiments EXPERIMENTS]\n",
            "                                       [--metadata METADATA]\n",
            "                                       [input_path] [output_path]\n",
            "TensorFlow.js model converters.: error: unrecognized arguments: /content/drive/My Drive/trained_model/rocopicker_Season_2js\n"
          ],
          "name": "stdout"
        }
      ]
    },
    {
      "cell_type": "code",
      "metadata": {
        "id": "tIoGTH4kA5iK",
        "colab": {
          "base_uri": "https://localhost:8080/"
        },
        "outputId": "a3dadb19-19a3-4169-a536-69fde8bd0864"
      },
      "source": [
        "import tensorflow as tf\n",
        "import tensorflowjs as tfjs\n",
        "\n",
        "model = tf.keras.models.load_model('/content/drive/My Drive/trained_model/rocopicker_Season_2')\n",
        "\n",
        "tfjs.converters.save_keras_model(model, '/content/drive/My Drive/trained_model/rocopickerjs')"
      ],
      "execution_count": 90,
      "outputs": [
        {
          "output_type": "stream",
          "text": [
            "/usr/local/lib/python3.7/dist-packages/tensorflowjs/converters/keras_h5_conversion.py:123: H5pyDeprecationWarning: The default file mode will change to 'r' (read-only) in h5py 3.0. To suppress this warning, pass the mode you need to h5py.File(), or set the global default h5.get_config().default_file_mode, or set the environment variable H5PY_DEFAULT_READONLY=1. Available modes are: 'r', 'r+', 'w', 'w-'/'x', 'a'. See the docs for details.\n",
            "  return h5py.File(h5file)\n"
          ],
          "name": "stderr"
        }
      ]
    },
    {
      "cell_type": "code",
      "metadata": {
        "id": "dFKnuZMLN8Eu",
        "colab": {
          "base_uri": "https://localhost:8080/",
          "height": 150
        },
        "outputId": "5cf5c1bc-6d99-4a6a-b0f5-d932d3bd9823"
      },
      "source": [
        "tensorflowjs_converter --input_format tfjs_layers_model --output_format tfjs_graph_model /content/drive/My\\ Drive/trained_model/rocopickerjs/model.json graph_model"
      ],
      "execution_count": null,
      "outputs": [
        {
          "output_type": "error",
          "ename": "SyntaxError",
          "evalue": "ignored",
          "traceback": [
            "\u001b[0;36m  File \u001b[0;32m\"<ipython-input-1-4de7b0228713>\"\u001b[0;36m, line \u001b[0;32m1\u001b[0m\n\u001b[0;31m    tensorflowjs_converter --input_format tfjs_layers_model --output_format tfjs_graph_model /content/drive/My\\ Drive/trained_model/rocopickerjs/model.json graph_model\u001b[0m\n\u001b[0m                                                          ^\u001b[0m\n\u001b[0;31mSyntaxError\u001b[0m\u001b[0;31m:\u001b[0m invalid syntax\n"
          ]
        }
      ]
    },
    {
      "cell_type": "code",
      "metadata": {
        "id": "mRkLF_gqT6Ah"
      },
      "source": [
        "model = tf.keras.models.load_model('/content/drive/My Drive/trained_model/rocopicker2')"
      ],
      "execution_count": null,
      "outputs": []
    },
    {
      "cell_type": "code",
      "metadata": {
        "id": "NBfgpU2pPQSC"
      },
      "source": [
        "model.save_weights('/content/drive/My Drive/trained_model/rocopicker3')"
      ],
      "execution_count": null,
      "outputs": []
    },
    {
      "cell_type": "code",
      "metadata": {
        "id": "6MD9kObJT-YR",
        "colab": {
          "base_uri": "https://localhost:8080/",
          "height": 122
        },
        "outputId": "a9e99bd1-cdf0-4595-a338-e3f5c8f61eaa"
      },
      "source": [
        "tf.saved_model.save(model,'/content/drive/My Drive/trained_model/rocopickerjs')"
      ],
      "execution_count": null,
      "outputs": [
        {
          "output_type": "stream",
          "text": [
            "WARNING:tensorflow:Skipping full serialization of Keras model <tensorflow.python.keras.saving.saved_model.load.Sequential object at 0x7f80ca92c518>, because its inputs are not defined.\n",
            "WARNING:tensorflow:From /usr/local/lib/python3.6/dist-packages/tensorflow_core/python/ops/resource_variable_ops.py:1786: calling BaseResourceVariable.__init__ (from tensorflow.python.ops.resource_variable_ops) with constraint is deprecated and will be removed in a future version.\n",
            "Instructions for updating:\n",
            "If using Keras pass *_constraint arguments to layers.\n",
            "INFO:tensorflow:Assets written to: /content/drive/My Drive/trained_model/rocopickerjs/assets\n"
          ],
          "name": "stdout"
        }
      ]
    },
    {
      "cell_type": "code",
      "metadata": {
        "id": "o20DhRtKV9kj",
        "colab": {
          "base_uri": "https://localhost:8080/",
          "height": 343
        },
        "outputId": "c920d7a6-2fb6-4fa2-9e05-4ed28b22801b"
      },
      "source": [
        "!tensorflowjs_converter --input_format=tf_saved_model input_path=/content/model output_path=/content/outputmodel"
      ],
      "execution_count": null,
      "outputs": [
        {
          "output_type": "stream",
          "text": [
            "Traceback (most recent call last):\n",
            "  File \"/usr/local/bin/tensorflowjs_converter\", line 8, in <module>\n",
            "    sys.exit(pip_main())\n",
            "  File \"/usr/local/lib/python3.6/dist-packages/tensorflowjs/converters/converter.py\", line 645, in pip_main\n",
            "    main([' '.join(sys.argv[1:])])\n",
            "  File \"/usr/local/lib/python3.6/dist-packages/tensorflowjs/converters/converter.py\", line 649, in main\n",
            "    convert(argv[0].split(' '))\n",
            "  File \"/usr/local/lib/python3.6/dist-packages/tensorflowjs/converters/converter.py\", line 595, in convert\n",
            "    strip_debug_ops=args.strip_debug_ops)\n",
            "  File \"/usr/local/lib/python3.6/dist-packages/tensorflowjs/converters/tf_saved_model_conversion_v2.py\", line 416, in convert_tf_saved_model\n",
            "    model = load(saved_model_dir, saved_model_tags)\n",
            "  File \"/usr/local/lib/python3.6/dist-packages/tensorflow_core/python/saved_model/load.py\", line 528, in load\n",
            "    return load_internal(export_dir, tags)\n",
            "  File \"/usr/local/lib/python3.6/dist-packages/tensorflow_core/python/saved_model/load.py\", line 537, in load_internal\n",
            "    saved_model_proto = loader_impl.parse_saved_model(export_dir)\n",
            "  File \"/usr/local/lib/python3.6/dist-packages/tensorflow_core/python/saved_model/loader_impl.py\", line 83, in parse_saved_model\n",
            "    constants.SAVED_MODEL_FILENAME_PB))\n",
            "OSError: SavedModel file does not exist at: input_path=/content/model/{saved_model.pbtxt|saved_model.pb}\n"
          ],
          "name": "stdout"
        }
      ]
    },
    {
      "cell_type": "code",
      "metadata": {
        "id": "agNqrUkAYADr"
      },
      "source": [
        "!cp -r /content/drive/My\\ Drive/trained_model/rocopicker2 /content/model"
      ],
      "execution_count": null,
      "outputs": []
    },
    {
      "cell_type": "code",
      "metadata": {
        "id": "zs_0Ac0vYw6o"
      },
      "source": [
        ""
      ],
      "execution_count": null,
      "outputs": []
    }
  ]
}