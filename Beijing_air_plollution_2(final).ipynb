{
  "nbformat": 4,
  "nbformat_minor": 0,
  "metadata": {
    "colab": {
      "name": "Beijing_air_plollution_2(final).ipynb의 사본",
      "provenance": [],
      "collapsed_sections": [],
      "toc_visible": true,
      "mount_file_id": "1y-pdxy-P2Z8wSWKW-VVEv3k7QFrcbl_H",
      "authorship_tag": "ABX9TyPdQUiua9cbM37d6Pzx9YQF",
      "include_colab_link": true
    },
    "kernelspec": {
      "name": "python3",
      "display_name": "Python 3"
    },
    "accelerator": "GPU"
  },
  "cells": [
    {
      "cell_type": "markdown",
      "metadata": {
        "id": "view-in-github",
        "colab_type": "text"
      },
      "source": [
        "<a href=\"https://colab.research.google.com/github/YMGYM/google_colab_files/blob/master/Beijing_air_plollution_2(final).ipynb\" target=\"_parent\"><img src=\"https://colab.research.google.com/assets/colab-badge.svg\" alt=\"Open In Colab\"/></a>"
      ]
    },
    {
      "cell_type": "markdown",
      "metadata": {
        "id": "hPythiWfQCnX",
        "colab_type": "text"
      },
      "source": [
        "# Introduction\n",
        "\n",
        "이 파일은 황철현, 신강욱의\n",
        "`미세먼지 예측 성능 개선을 위한 CNN-LSTM 결합 방법`\n",
        "논문의 구현 연습 파일입니다.\n",
        "\n",
        "데이터셋은 [Beijing PM2.5 데이터셋](https://www.kaggle.com/djhavera/beijing-pm25-data-data-set)\n",
        "을 사용했습니다."
      ]
    },
    {
      "cell_type": "markdown",
      "metadata": {
        "id": "hMnquIS4QfaO",
        "colab_type": "text"
      },
      "source": [
        "# Import All"
      ]
    },
    {
      "cell_type": "code",
      "metadata": {
        "id": "SJ9ZCMavQg_n",
        "colab_type": "code",
        "colab": {}
      },
      "source": [
        "import pandas as pd\n",
        "import numpy as np\n",
        "import tensorflow as tf\n",
        "import tensorflow.keras as K\n",
        "import matplotlib.pyplot as plt\n",
        "from sklearn.preprocessing import MinMaxScaler"
      ],
      "execution_count": 1,
      "outputs": []
    },
    {
      "cell_type": "markdown",
      "metadata": {
        "id": "miGdslSrQXBM",
        "colab_type": "text"
      },
      "source": [
        "# Load Data"
      ]
    },
    {
      "cell_type": "code",
      "metadata": {
        "id": "8xY3TOYzQbgv",
        "colab_type": "code",
        "colab": {
          "base_uri": "https://localhost:8080/",
          "height": 51
        },
        "outputId": "9f6d644e-8603-4299-a0ad-d443b8c84960"
      },
      "source": [
        "! unzip /content/drive/My\\ Drive/Datasets/beijing_air.zip -d data"
      ],
      "execution_count": 2,
      "outputs": [
        {
          "output_type": "stream",
          "text": [
            "Archive:  /content/drive/My Drive/Datasets/beijing_air.zip\n",
            "  inflating: data/PRSA_data_2010.1.1-2014.12.31.csv  \n"
          ],
          "name": "stdout"
        }
      ]
    },
    {
      "cell_type": "code",
      "metadata": {
        "id": "6R5W7oRhQ6Ow",
        "colab_type": "code",
        "colab": {}
      },
      "source": [
        "def get_data():\n",
        "  all_data = pd.read_csv('/content/data/PRSA_data_2010.1.1-2014.12.31.csv') # 전체 데이터\n",
        "  dropped_data = all_data.drop(['No', 'year', 'month', 'day', 'hour'],axis=1) # 필요 없는 데이터는 버림\n",
        "  pm25 = dropped_data.pop('pm2.5') # 미세먼지 데이터 확인\n",
        "  pm25 = pm25.fillna(method='pad')\n",
        "  \n",
        "  return pm25, dropped_data"
      ],
      "execution_count": 3,
      "outputs": []
    },
    {
      "cell_type": "markdown",
      "metadata": {
        "id": "I5dnAMuOR1N0",
        "colab_type": "text"
      },
      "source": [
        "# Make Normalize Dataset"
      ]
    },
    {
      "cell_type": "code",
      "metadata": {
        "id": "UhbeIxNDR1hX",
        "colab_type": "code",
        "colab": {}
      },
      "source": [
        "class PmScaler():\n",
        "  def __init__(self, pm25):\n",
        "    self.scaler = MinMaxScaler()\n",
        "    self.pm25 = pm25.fillna(1e-8, limit=1)\n",
        "    self.pm25 = self.pm25.fillna(method=\"pad\")\n",
        "    \n",
        "  def make_norlized_dataset(self, rate, x = None, data_len=2): \n",
        "    if x is None:\n",
        "      x = self.pm25[data_len-1:]\n",
        "    arrlen = int(len(x) * (rate) + 1)\n",
        "    if isinstance(x, type(np.array([]))) == False:\n",
        "      reshaped = x.to_numpy().reshape(-1,1)\n",
        "    else:\n",
        "      reshaped = x.reshape(-1,1)\n",
        "    scaled_data = self.scaler.fit_transform(reshaped)\n",
        "\n",
        "    train, val, test = scaled_data[:-1 * (arrlen * 2)], scaled_data[-1 * (arrlen * 2) : -1 * (arrlen)], scaled_data[-1 * (arrlen):]\n",
        "\n",
        "    return train[1:], val[1:], test[1:]\n",
        "  \n",
        "  def invert_scale(self, x):\n",
        "    inverse = self.scaler.inverse_transform(x)\n",
        "    return inverse"
      ],
      "execution_count": 4,
      "outputs": []
    },
    {
      "cell_type": "code",
      "metadata": {
        "id": "Ri1ktmAkpauR",
        "colab_type": "code",
        "colab": {}
      },
      "source": [
        "class ProxyDataScaler():\n",
        "  def __init__(self, data):\n",
        "    self.table = data\n",
        "    self.scaler = MinMaxScaler()\n",
        "    \n",
        "  def change_cbwd_data(self):\n",
        "    mapping = {}\n",
        "    cols = self.table[\"cbwd\"].value_counts().index\n",
        "\n",
        "    for i, col in enumerate(cols):\n",
        "      mapping[col] = i # mapping = {\"SE\" : 0, \"NW\": 1, \"cv\": 2, \"NE\":3}\n",
        "    self.table = self.table.replace({'cbwd' : mapping})\n",
        "    print(\"cbwd data changed to number : {SE : 0, NW: 1, cv: 2, NE:3} \")\n",
        "\n",
        "  def make_normalize_data(self):\n",
        "    self.norm_data = self.scaler.fit_transform(self.table)\n",
        "    return self.norm_data\n",
        "\n",
        "  def slice_proxy_data(self, time):\n",
        "    col_cnt = len(self.table.columns)\n",
        "    if (self.norm_data is not None): # 정규화된 데이터가 있는지 확인\n",
        "      print(\"norm_data detected\")\n",
        "\n",
        "      if isinstance(self.norm_data, type(np.array([]))) == False: # 데이터를 numpy 형식으로 변환\n",
        "        data = self.norm_data.to_numpy().astype(\"float32\")\n",
        "      else:\n",
        "        data = self.norm_data.astype(\"float32\")\n",
        "\n",
        "    else:\n",
        "      print(\"norm_data not detected\")\n",
        "      data = self.table.to_numpy().astype(\"float32\")\n",
        "\n",
        "    self.sliced_data = np.zeros(shape=(1,time,col_cnt))\n",
        "\n",
        "    for i in range((len(data)-time) + 1):\n",
        "      if i == 0:\n",
        "        self.sliced_data = data[:i+time].reshape(1, time,-1)\n",
        "      else:\n",
        "        self.sliced_data = np.vstack((self.sliced_data, data[i:i+time].reshape(1,time,-1)))\n",
        "        \n",
        "    return self.sliced_data\n",
        "\n",
        "  def split_data(self, data = None, rate = 0.1):\n",
        "    if data is None:\n",
        "      arrlen = int(len(self.sliced_data) * (rate) + 1)\n",
        "      data = self.sliced_data\n",
        "    else:\n",
        "      arrlen = int(len(data) * rate + 1)\n",
        "      data = data\n",
        "\n",
        "    train, val, test = data[:-1 * (arrlen * 2)], data[-1 * (arrlen * 2) : -1 * (arrlen)], data[-1 * (arrlen):]\n",
        "\n",
        "    return train, val, test"
      ],
      "execution_count": 5,
      "outputs": []
    },
    {
      "cell_type": "markdown",
      "metadata": {
        "id": "COffyY3ow6By",
        "colab_type": "text"
      },
      "source": [
        "# New LSTM Data generator"
      ]
    },
    {
      "cell_type": "code",
      "metadata": {
        "id": "weEk_Ih-w89V",
        "colab_type": "code",
        "colab": {}
      },
      "source": [
        "class LSTMInputGenerator(K.utils.Sequence):\n",
        "  def __init__(self, lstm_x, lstm_y, data_len, cnn_output, batch_size=1):\n",
        "    self.lstm_data_gen = K.preprocessing.sequence.TimeseriesGenerator(lstm_x, lstm_x, batch_size=batch_size, length=data_len, shuffle=False)\n",
        "    self.cnn_output = cnn_output[data_len-1:]\n",
        "    print(f\"lstm_data_gen len : {self.lstm_data_gen.__len__()}, cnn_output len : {len(self.cnn_output)}\")\n",
        "    self.batch_size = batch_size\n",
        "    \n",
        "  def __getitem__(self, index):\n",
        "    lstm_x, lstm_y = self.lstm_data_gen[index]\n",
        "    stack_data = self.cnn_output[index*self.batch_size : (index + 1)*self.batch_size].reshape(-1,1,1)\n",
        "    # print(f\"index : {index} / lstm_x shape : {lstm_x.shape} / stack_data.shape: {stack_data.shape}\")\n",
        "    return_x = np.concatenate((lstm_x, stack_data),axis=1)\n",
        "    return return_x, lstm_y\n",
        "    \n",
        "  def __len__(self):\n",
        "    return self.lstm_data_gen.__len__()"
      ],
      "execution_count": 6,
      "outputs": []
    },
    {
      "cell_type": "markdown",
      "metadata": {
        "id": "1iO5V6OhRZNJ",
        "colab_type": "text"
      },
      "source": [
        "# Entire Model"
      ]
    },
    {
      "cell_type": "code",
      "metadata": {
        "id": "arSPbMdqRepE",
        "colab_type": "code",
        "colab": {}
      },
      "source": [
        "class EntireModel():\n",
        "  def __init__(self, pm25, proxydata):\n",
        "    # -----------scaler 클래스 생성 -------------------\n",
        "    self.pm25 = pm25.fillna(1e-8, limit=1)\n",
        "    self.pm25 = self.pm25.fillna(method=\"pad\")\n",
        "    print(f\"pm25 length : {len(self.pm25)}\" )\n",
        "    self.proxydata = proxydata\n",
        "    print(f\"proxydata length : {len(self.proxydata)}\" )\n",
        "    self.pmScaler = PmScaler(pm25)\n",
        "    self.proxyScaler = ProxyDataScaler(proxydata)\n",
        "    \n",
        "    # ---------- train 용 callbacks -----------\n",
        "    self.lstm_callbacks = [K.callbacks.TensorBoard(log_dir='lstm_logs')]\n",
        "    self.cnn_callbacks = [K.callbacks.TensorBoard(log_dir='cnn_logs')]\n",
        "\n",
        "  def make_proxy_data_generator(self, data_len = 2):\n",
        "    # ---------- proxy 데이터 전처리 -----------\n",
        "    self.proxyScaler.change_cbwd_data() # 문자 데이터를 숫자 범주로\n",
        "    norm_data = self.proxyScaler.make_normalize_data() # 데이터 정규화\n",
        "    self.proxyScaler.slice_proxy_data(data_len) # 데이터 길이별로 자름\n",
        "    print(f\"sliced_data length : {len(self.proxyScaler.sliced_data)}// shape : {self.proxyScaler.sliced_data.shape} // data_len: {data_len}\" )\n",
        "    cnn_x_train, cnn_x_val, cnn_x_test = self.proxyScaler.split_data( rate = 0.1) # x 데이터 분할\n",
        "    print(f\"cnn_x_train : {len(cnn_x_train)}, {cnn_x_train.shape}, cnn_x_val : {len(cnn_x_val)}, cnn_x_test length: {len(cnn_x_test)}  // data_len: {data_len}\" )\n",
        "    self.grad_level = self._get_grad_pm25() # 미세먼지 변화량을 구함\n",
        "    print(f\"grad_level length : {len(self.grad_level)} // data_len: {data_len}\" )\n",
        "    cnn_y_train, cnn_y_val, cnn_y_test = self._cnn_y_split(self.grad_level, data_len) # y 데이터 분할\n",
        "    print(f\"cnn_y_train : {len(cnn_y_train)}, cnn_y_val : {len(cnn_y_val)}, cnn_x_test length: {len(cnn_y_test)}  // data_len: {data_len}\" )\n",
        "    # ---------- Data Generator 생성 ---------\n",
        "    self.cnn_train_data_gen = K.preprocessing.sequence.TimeseriesGenerator(cnn_x_train, cnn_y_train, length=1, batch_size = 128, shuffle=False)\n",
        "    self.cnn_val_data_gen = K.preprocessing.sequence.TimeseriesGenerator(cnn_x_val, cnn_y_val, length=1, batch_size = 128, shuffle=False)\n",
        "    self.cnn_test_data_gen = K.preprocessing.sequence.TimeseriesGenerator(cnn_x_test, cnn_y_test, length=1, batch_size = 1, shuffle=False)\n",
        "    print(f\"cnn_train_data_gen length : {self.cnn_train_data_gen.__len__()} // data_len: {data_len}\" )\n",
        "    # ----------- 모델 생성 --------------\n",
        "    print(\"Make CNN Model....\")\n",
        "    self.cnn_model = self._get_cnn_model(input_shape=(1, cnn_x_train.shape[1], cnn_x_train.shape[2]))\n",
        "\n",
        "  def make_lstm_data_generator(self, data_len = 15, batch_size = 1):\n",
        "    # ---------- pm25 데이터 전처리 -----------\n",
        "    pm25_x_train, pm25_x_val, pm25_x_test = self.pmScaler.make_norlized_dataset(rate = 0.1)\n",
        "    print(f\"pm25_x_train length : {len(pm25_x_train)}\" )\n",
        "    print(f\"pm25_x_val length : {len(pm25_x_val)}\" )\n",
        "    print(f\"pm25_x_test length : {len(pm25_x_test)}\" )\n",
        "    self.pm25_test = pm25_x_test\n",
        "\n",
        "    # ---------- pm25 Data Generator -------------\n",
        "    self.pm25_train_data_gen = K.preprocessing.sequence.TimeseriesGenerator(pm25_x_train, pm25_x_train, batch_size=batch_size, length=1, shuffle=False)\n",
        "    self.pm25_val_data_gen = K.preprocessing.sequence.TimeseriesGenerator(pm25_x_val, pm25_x_val, batch_size = batch_size, length=1, shuffle=False)\n",
        "    self.pm25_test_data_gen = K.preprocessing.sequence.TimeseriesGenerator(pm25_x_test, pm25_x_test, batch_size = 1, length=1, shuffle=False)\n",
        "\n",
        "    # ---------- CNN result ------------\n",
        "    print(\"get CNN output..\")\n",
        "    print(\"-----------get train output ---------\")\n",
        "    self.cnn_train_output = self.cnn_model.predict(self.cnn_train_data_gen)\n",
        "    print(f\"cnn_train_output length : {len(self.cnn_train_output)}\" )\n",
        "    cnn_train_output_gen = K.preprocessing.sequence.TimeseriesGenerator(self.cnn_train_output, self.cnn_train_output, batch_size = batch_size, length=1, shuffle=False)\n",
        "    rated_cnn_train_output = self._make_lstm_input(cnn_train_output_gen, self.pm25_train_data_gen)\n",
        "    print(f\"rated_cnn_train_output length : {len(rated_cnn_train_output)}\" )\n",
        "\n",
        "    print(\"-----------get validation output ---------\")\n",
        "    self.cnn_val_output = self.cnn_model.predict(self.cnn_val_data_gen)\n",
        "    print(f\"cnn_val_output length : {len(self.cnn_val_output)}\" )\n",
        "    cnn_val_output_gen = K.preprocessing.sequence.TimeseriesGenerator(self.cnn_val_output, self.cnn_val_output, batch_size = batch_size, length=1, shuffle=False)\n",
        "    rated_cnn_val_output = self._make_lstm_input(cnn_val_output_gen, self.pm25_val_data_gen)\n",
        "    print(f\"rated_cnn_val_output length : {len(rated_cnn_val_output)}\" )\n",
        "\n",
        "\n",
        "    print(\"-----------get test output ---------\")\n",
        "    self.cnn_test_output = self.cnn_model.predict(self.cnn_test_data_gen)\n",
        "    print(f\"cnn_test_output length : {len(self.cnn_test_output)}\" )\n",
        "    cnn_test_output_gen = K.preprocessing.sequence.TimeseriesGenerator(self.cnn_test_output, self.cnn_test_output, batch_size = batch_size, length=1, shuffle=False)\n",
        "    rated_cnn_test_output = self._make_lstm_input(cnn_test_output_gen, self.pm25_test_data_gen)\n",
        "\n",
        "    # ---------- LSTM data gen ---------\n",
        "    self.lstm_train_data_gen = LSTMInputGenerator(pm25_x_train, pm25_x_train, data_len, rated_cnn_train_output, batch_size = batch_size)\n",
        "    self.lstm_val_data_gen = LSTMInputGenerator(pm25_x_val, pm25_x_val, data_len, rated_cnn_val_output, batch_size = batch_size)\n",
        "    self.lstm_test_data_gen = LSTMInputGenerator(pm25_x_test, pm25_x_test, data_len, rated_cnn_test_output, batch_size = batch_size)\n",
        "\n",
        "    # ---------- 모델 생성\n",
        "    print(\"make LSTM model...\")\n",
        "    self.lstm_model = self._get_lstm_model(input_shape=(data_len + 1,1))\n",
        "\n",
        "  def cnn_model_fit(self, epochs=1):\n",
        "    self.cnn_model.fit(x=self.cnn_train_data_gen, epochs=epochs, validation_data=(self.cnn_val_data_gen), callbacks=self.cnn_callbacks)\n",
        "\n",
        "  def lstm_model_fit(self, epochs=1):\n",
        "    self.lstm_model.fit(x=self.lstm_train_data_gen, epochs=epochs, validation_data=self.lstm_val_data_gen, callbacks=self.lstm_callbacks)\n",
        "\n",
        "  def total_model_evaluate(self):\n",
        "    return self.lstm_model.evaluate(self.lstm_test_data_gen)\n",
        "\n",
        "  def total_model_predict(self, data = None):\n",
        "    if data is None:\n",
        "      data = self.lstm_test_data_gen\n",
        "    return self.lstm_model.predict(x=self.lstm_test_data_gen)\n",
        "\n",
        "  def _get_cnn_model(self, input_shape):\n",
        "    cnnModel = K.Sequential()\n",
        "    cnnModel.add(K.layers.Conv2DTranspose(32, (2,2), input_shape=input_shape, activation=\"relu\"))\n",
        "    cnnModel.add(K.layers.MaxPool2D(strides=2))\n",
        "    cnnModel.add(K.layers.Flatten())\n",
        "    cnnModel.add(K.layers.Dropout(0.1))\n",
        "    cnnModel.add(K.layers.Dense(100, activation=\"relu\"))\n",
        "    cnnModel.add(K.layers.ReLU())\n",
        "    cnnModel.add(K.layers.Dense(5, activation=\"softmax\"))\n",
        "    cnnModel.summary()\n",
        "    cnnModel.compile(optimizer=\"adam\", loss=\"MSE\")\n",
        "\n",
        "    return cnnModel\n",
        "\n",
        "  def _get_lstm_model(self, input_shape):\n",
        "    lstm_model = K.Sequential()\n",
        "    lstm_model.add(K.layers.LSTM(216, input_shape=input_shape))\n",
        "    lstm_model.add(K.layers.Dropout(0.3))\n",
        "    lstm_model.add(K.layers.Dense(128, activation=\"relu\"))\n",
        "    lstm_model.add(K.layers.Dropout(0.3))\n",
        "    lstm_model.add(K.layers.Dense(1, activation=\"sigmoid\"))\n",
        "    lstm_model.summary()\n",
        "    lstm_model.compile(optimizer=\"adam\", loss=\"MSE\")\n",
        "\n",
        "    return lstm_model\n",
        "\n",
        "  def _cnn_y_split(self, data, data_length, rate=0.1):\n",
        "    # cnn에 입력할 Y 데이터를 나눔\n",
        "    data = data[data_length-1:]\n",
        "    data = K.utils.to_categorical(data)\n",
        "    arrlen = int(len(data) * rate + 1)\n",
        "\n",
        "    train, val, test =  data[:-1 * (arrlen * 2)], data[-1 * (arrlen * 2) : -1 * (arrlen)], data[-1 * (arrlen):]\n",
        "    return train, val, test\n",
        "\n",
        "  def _get_grad_pm25(self):\n",
        "    # pm25 의 변화율을 구하고 범주화함\n",
        "    grad_data = self.pm25.pct_change()\n",
        "    grad_data = grad_data.fillna(method=\"pad\")\n",
        "    bins = [-9.166667e-02, -1e-15,1e-15, 1.212121e-01]\n",
        "    grad_level = np.digitize(grad_data, bins=bins, right=False)\n",
        "    return grad_level\n",
        "\n",
        "  def _get_rate(self, data):\n",
        "    # 변화율 별로 pm25의 예측량을 구해봄(임시)\n",
        "    index = data.argmax(axis=1)\n",
        "    rate = np.array([])\n",
        "    for i in range(len(index)):\n",
        "      if index[i] == 3:\n",
        "        rate = np.append(rate, 1)\n",
        "      else:\n",
        "        rate = np.append(rate, 1 + ((index[i]-3) * 0.25)) # 최대 50%의 변화율을 줘 봄\n",
        "    return rate\n",
        "  \n",
        "  def _compute_with_data(self, data, value):\n",
        "    # 예측량을 구함\n",
        "    rate = self._get_rate(data)\n",
        "    return rate * value.squeeze(axis=1)\n",
        "\n",
        "  def _make_lstm_input(self, cnn_output_gen, lstm_data_gen):\n",
        "    # 기존 lstm_input 에 위에서 구한 변화율을 곱한 뒤에 쌓음.\n",
        "    result = np.zeros(shape=(1,))\n",
        "    for i in range(cnn_output_gen.__len__()):\n",
        "      lx, ly = lstm_data_gen[i]\n",
        "      cx, cy = cnn_output_gen[i]\n",
        "      # print(f\"cx shape : {cx.shape}, lx shape : {lx.shape}\")\n",
        "      if i == 0:\n",
        "        result = self._compute_with_data(cx.squeeze(axis=1), lx.squeeze(axis=1))\n",
        "      else:\n",
        "        result = np.hstack((result, self._compute_with_data(cx.squeeze(axis=1), lx.squeeze(axis=1))))\n",
        "    return result\n",
        "        "
      ],
      "execution_count": 7,
      "outputs": []
    },
    {
      "cell_type": "markdown",
      "metadata": {
        "id": "Da1JnS-Q3rl-",
        "colab_type": "text"
      },
      "source": [
        "# Model Init"
      ]
    },
    {
      "cell_type": "code",
      "metadata": {
        "id": "OUOca31BqV8i",
        "colab_type": "code",
        "colab": {}
      },
      "source": [
        "pm25, proxy = get_data()"
      ],
      "execution_count": 16,
      "outputs": []
    },
    {
      "cell_type": "code",
      "metadata": {
        "id": "05e59Gkp4BwK",
        "colab_type": "code",
        "colab": {
          "base_uri": "https://localhost:8080/",
          "height": 51
        },
        "outputId": "f5622260-2f02-400f-d697-774e8a5167a3"
      },
      "source": [
        "model = EntireModel(pm25, proxy)"
      ],
      "execution_count": 17,
      "outputs": [
        {
          "output_type": "stream",
          "text": [
            "pm25 length : 43824\n",
            "proxydata length : 43824\n"
          ],
          "name": "stdout"
        }
      ]
    },
    {
      "cell_type": "code",
      "metadata": {
        "id": "u-eRVA1z4FPT",
        "colab_type": "code",
        "colab": {
          "base_uri": "https://localhost:8080/",
          "height": 527
        },
        "outputId": "5dad0b3f-0c7f-45bb-b362-f6225cca1e39"
      },
      "source": [
        "model.make_proxy_data_generator(data_len = 2)"
      ],
      "execution_count": 18,
      "outputs": [
        {
          "output_type": "stream",
          "text": [
            "cbwd data changed to number : {SE : 0, NW: 1, cv: 2, NE:3} \n",
            "norm_data detected\n",
            "sliced_data length : 43823// shape : (43823, 2, 7) // data_len: 2\n",
            "cnn_x_train : 35057, (35057, 2, 7), cnn_x_val : 4383, cnn_x_test length: 4383  // data_len: 2\n",
            "grad_level length : 43824 // data_len: 2\n",
            "cnn_y_train : 35057, cnn_y_val : 4383, cnn_x_test length: 4383  // data_len: 2\n",
            "cnn_train_data_gen length : 274 // data_len: 2\n",
            "Make CNN Model....\n",
            "Model: \"sequential_2\"\n",
            "_________________________________________________________________\n",
            "Layer (type)                 Output Shape              Param #   \n",
            "=================================================================\n",
            "conv2d_transpose_1 (Conv2DTr (None, 2, 3, 32)          928       \n",
            "_________________________________________________________________\n",
            "max_pooling2d_1 (MaxPooling2 (None, 1, 1, 32)          0         \n",
            "_________________________________________________________________\n",
            "flatten_1 (Flatten)          (None, 32)                0         \n",
            "_________________________________________________________________\n",
            "dropout_3 (Dropout)          (None, 32)                0         \n",
            "_________________________________________________________________\n",
            "dense_4 (Dense)              (None, 100)               3300      \n",
            "_________________________________________________________________\n",
            "re_lu_1 (ReLU)               (None, 100)               0         \n",
            "_________________________________________________________________\n",
            "dense_5 (Dense)              (None, 5)                 505       \n",
            "=================================================================\n",
            "Total params: 4,733\n",
            "Trainable params: 4,733\n",
            "Non-trainable params: 0\n",
            "_________________________________________________________________\n"
          ],
          "name": "stdout"
        }
      ]
    },
    {
      "cell_type": "code",
      "metadata": {
        "id": "WEkiK5cS6OYh",
        "colab_type": "code",
        "colab": {
          "base_uri": "https://localhost:8080/",
          "height": 71
        },
        "outputId": "7a32d915-77f2-45af-ac0d-c719581a54e2"
      },
      "source": [
        "model.cnn_model_fit(epochs=1)"
      ],
      "execution_count": 19,
      "outputs": [
        {
          "output_type": "stream",
          "text": [
            "  1/274 [..............................] - ETA: 0s - loss: 0.1604WARNING:tensorflow:Callbacks method `on_train_batch_end` is slow compared to the batch time (batch time: 0.0081s vs `on_train_batch_end` time: 0.0369s). Check your callbacks.\n",
            "274/274 [==============================] - 1s 5ms/step - loss: 0.1564 - val_loss: 0.1538\n"
          ],
          "name": "stdout"
        }
      ]
    },
    {
      "cell_type": "code",
      "metadata": {
        "id": "m9OVQONU9Im3",
        "colab_type": "code",
        "colab": {
          "base_uri": "https://localhost:8080/",
          "height": 595
        },
        "outputId": "823e2e55-1bda-412d-f1ee-d47af0f1e52b"
      },
      "source": [
        "model.make_lstm_data_generator(data_len = 15, batch_size=128)"
      ],
      "execution_count": 20,
      "outputs": [
        {
          "output_type": "stream",
          "text": [
            "pm25_x_train length : 35056\n",
            "pm25_x_val length : 4382\n",
            "pm25_x_test length : 4382\n",
            "get CNN output..\n",
            "-----------get train output ---------\n",
            "cnn_train_output length : 35056\n",
            "rated_cnn_train_output length : 35055\n",
            "-----------get validation output ---------\n",
            "cnn_val_output length : 4382\n",
            "rated_cnn_val_output length : 4381\n",
            "-----------get test output ---------\n",
            "cnn_test_output length : 4382\n",
            "lstm_data_gen len : 274, cnn_output len : 35041\n",
            "lstm_data_gen len : 35, cnn_output len : 4367\n",
            "lstm_data_gen len : 35, cnn_output len : 4367\n",
            "make LSTM model...\n",
            "Model: \"sequential_3\"\n",
            "_________________________________________________________________\n",
            "Layer (type)                 Output Shape              Param #   \n",
            "=================================================================\n",
            "lstm_1 (LSTM)                (None, 216)               188352    \n",
            "_________________________________________________________________\n",
            "dropout_4 (Dropout)          (None, 216)               0         \n",
            "_________________________________________________________________\n",
            "dense_6 (Dense)              (None, 128)               27776     \n",
            "_________________________________________________________________\n",
            "dropout_5 (Dropout)          (None, 128)               0         \n",
            "_________________________________________________________________\n",
            "dense_7 (Dense)              (None, 1)                 129       \n",
            "=================================================================\n",
            "Total params: 216,257\n",
            "Trainable params: 216,257\n",
            "Non-trainable params: 0\n",
            "_________________________________________________________________\n"
          ],
          "name": "stdout"
        }
      ]
    },
    {
      "cell_type": "code",
      "metadata": {
        "id": "ZwRdaKZiMc4e",
        "colab_type": "code",
        "colab": {
          "base_uri": "https://localhost:8080/",
          "height": 1000
        },
        "outputId": "f6399737-6b12-4048-a110-a7753e6c2e6f"
      },
      "source": [
        "model.lstm_model_fit(epochs=30)"
      ],
      "execution_count": 30,
      "outputs": [
        {
          "output_type": "stream",
          "text": [
            "Epoch 1/30\n",
            "  1/274 [..............................] - ETA: 0s - loss: 0.0010WARNING:tensorflow:Callbacks method `on_train_batch_end` is slow compared to the batch time (batch time: 0.0121s vs `on_train_batch_end` time: 0.0335s). Check your callbacks.\n",
            "274/274 [==============================] - 3s 12ms/step - loss: 0.0015 - val_loss: 0.0010\n",
            "Epoch 2/30\n",
            "274/274 [==============================] - 3s 11ms/step - loss: 0.0013 - val_loss: 9.0166e-04\n",
            "Epoch 3/30\n",
            "274/274 [==============================] - 3s 11ms/step - loss: 0.0011 - val_loss: 7.2695e-04\n",
            "Epoch 4/30\n",
            "274/274 [==============================] - 3s 11ms/step - loss: 0.0010 - val_loss: 6.6918e-04\n",
            "Epoch 5/30\n",
            "274/274 [==============================] - 3s 11ms/step - loss: 9.5445e-04 - val_loss: 6.4233e-04\n",
            "Epoch 6/30\n",
            "274/274 [==============================] - 3s 11ms/step - loss: 9.1543e-04 - val_loss: 6.6169e-04\n",
            "Epoch 7/30\n",
            "274/274 [==============================] - 3s 11ms/step - loss: 9.2257e-04 - val_loss: 7.2021e-04\n",
            "Epoch 8/30\n",
            "274/274 [==============================] - 3s 11ms/step - loss: 8.9620e-04 - val_loss: 7.0236e-04\n",
            "Epoch 9/30\n",
            "274/274 [==============================] - 3s 11ms/step - loss: 8.7305e-04 - val_loss: 6.0877e-04\n",
            "Epoch 10/30\n",
            "274/274 [==============================] - 3s 11ms/step - loss: 8.6755e-04 - val_loss: 6.3250e-04\n",
            "Epoch 11/30\n",
            "274/274 [==============================] - 3s 11ms/step - loss: 8.1064e-04 - val_loss: 6.9564e-04\n",
            "Epoch 12/30\n",
            "274/274 [==============================] - 3s 11ms/step - loss: 8.1581e-04 - val_loss: 6.1874e-04\n",
            "Epoch 13/30\n",
            "274/274 [==============================] - 3s 11ms/step - loss: 8.0604e-04 - val_loss: 6.4075e-04\n",
            "Epoch 14/30\n",
            "274/274 [==============================] - 3s 11ms/step - loss: 8.2322e-04 - val_loss: 6.7383e-04\n",
            "Epoch 15/30\n",
            "274/274 [==============================] - 3s 11ms/step - loss: 7.8114e-04 - val_loss: 6.4276e-04\n",
            "Epoch 16/30\n",
            "274/274 [==============================] - 3s 11ms/step - loss: 7.5705e-04 - val_loss: 6.0132e-04\n",
            "Epoch 17/30\n",
            "274/274 [==============================] - 3s 11ms/step - loss: 7.6101e-04 - val_loss: 6.0585e-04\n",
            "Epoch 18/30\n",
            "274/274 [==============================] - 3s 11ms/step - loss: 7.6226e-04 - val_loss: 6.2816e-04\n",
            "Epoch 19/30\n",
            "274/274 [==============================] - 3s 11ms/step - loss: 7.4062e-04 - val_loss: 6.7073e-04\n",
            "Epoch 20/30\n",
            "274/274 [==============================] - 3s 11ms/step - loss: 7.5776e-04 - val_loss: 6.4297e-04\n",
            "Epoch 21/30\n",
            "274/274 [==============================] - 3s 11ms/step - loss: 7.1943e-04 - val_loss: 6.5346e-04\n",
            "Epoch 22/30\n",
            "274/274 [==============================] - 3s 11ms/step - loss: 7.9022e-04 - val_loss: 6.2848e-04\n",
            "Epoch 23/30\n",
            "274/274 [==============================] - 3s 11ms/step - loss: 7.0741e-04 - val_loss: 6.4389e-04\n",
            "Epoch 24/30\n",
            "274/274 [==============================] - 3s 11ms/step - loss: 7.1517e-04 - val_loss: 6.2569e-04\n",
            "Epoch 25/30\n",
            "274/274 [==============================] - 3s 11ms/step - loss: 7.0283e-04 - val_loss: 6.1765e-04\n",
            "Epoch 26/30\n",
            "274/274 [==============================] - 3s 11ms/step - loss: 7.1639e-04 - val_loss: 6.1718e-04\n",
            "Epoch 27/30\n",
            "274/274 [==============================] - 3s 11ms/step - loss: 7.1531e-04 - val_loss: 5.9630e-04\n",
            "Epoch 28/30\n",
            "274/274 [==============================] - 3s 11ms/step - loss: 6.8551e-04 - val_loss: 6.4417e-04\n",
            "Epoch 29/30\n",
            "274/274 [==============================] - 3s 11ms/step - loss: 6.7646e-04 - val_loss: 6.2853e-04\n",
            "Epoch 30/30\n",
            "274/274 [==============================] - 3s 12ms/step - loss: 6.8750e-04 - val_loss: 6.4927e-04\n"
          ],
          "name": "stdout"
        }
      ]
    },
    {
      "cell_type": "code",
      "metadata": {
        "id": "OEDmXA7wuMH2",
        "colab_type": "code",
        "colab": {
          "base_uri": "https://localhost:8080/",
          "height": 51
        },
        "outputId": "28c0c8dc-3f16-4e83-a0c3-d3b5ceeb570a"
      },
      "source": [
        "model.total_model_evaluate()"
      ],
      "execution_count": 31,
      "outputs": [
        {
          "output_type": "stream",
          "text": [
            "35/35 [==============================] - 0s 5ms/step - loss: 3.7765e-04\n"
          ],
          "name": "stdout"
        },
        {
          "output_type": "execute_result",
          "data": {
            "text/plain": [
              "0.00037765433080494404"
            ]
          },
          "metadata": {
            "tags": []
          },
          "execution_count": 31
        }
      ]
    },
    {
      "cell_type": "code",
      "metadata": {
        "id": "yT-duD7y_N6s",
        "colab_type": "code",
        "colab": {}
      },
      "source": [
        "predict = model.total_model_predict()"
      ],
      "execution_count": 32,
      "outputs": []
    },
    {
      "cell_type": "code",
      "metadata": {
        "id": "TWmnZ3MuQDAL",
        "colab_type": "code",
        "colab": {
          "base_uri": "https://localhost:8080/",
          "height": 281
        },
        "outputId": "aef7c4d7-945f-42dd-acf6-6eabb6bdd1ff"
      },
      "source": [
        "plt.plot(model.pm25_test, label=\"Actual\")\n",
        "plt.plot(predict, label=\"Predicted\")\n",
        "plt.legend()\n",
        "plt.title(\"Compare Predict With Actual Data\")\n",
        "plt.show()"
      ],
      "execution_count": 34,
      "outputs": [
        {
          "output_type": "display_data",
          "data": {
            "image/png": "[encoded data removed]",
            "text/plain": [
              "<Figure size 432x288 with 1 Axes>"
            ]
          },
          "metadata": {
            "tags": [],
            "needs_background": "light"
          }
        }
      ]
    },
    {
      "cell_type": "code",
      "metadata": {
        "id": "uu9O30Aftg30",
        "colab_type": "code",
        "colab": {
          "base_uri": "https://localhost:8080/",
          "height": 156
        },
        "outputId": "8b84c4f8-e3ec-41ee-9a95-a1741acf7545"
      },
      "source": [
        "model.lstm_model.save('/content/drive/My Drive/trained_model/AirPollution')"
      ],
      "execution_count": 36,
      "outputs": [
        {
          "output_type": "stream",
          "text": [
            "WARNING:tensorflow:From /usr/local/lib/python3.6/dist-packages/tensorflow/python/training/tracking/tracking.py:111: Model.state_updates (from tensorflow.python.keras.engine.training) is deprecated and will be removed in a future version.\n",
            "Instructions for updating:\n",
            "This property should not be used in TensorFlow 2.0, as updates are applied automatically.\n",
            "WARNING:tensorflow:From /usr/local/lib/python3.6/dist-packages/tensorflow/python/training/tracking/tracking.py:111: Layer.updates (from tensorflow.python.keras.engine.base_layer) is deprecated and will be removed in a future version.\n",
            "Instructions for updating:\n",
            "This property should not be used in TensorFlow 2.0, as updates are applied automatically.\n",
            "INFO:tensorflow:Assets written to: /content/drive/My Drive/trained_model/AirPollution/assets\n"
          ],
          "name": "stdout"
        }
      ]
    },
    {
      "cell_type": "code",
      "metadata": {
        "id": "OK8yEEN7nq5r",
        "colab_type": "code",
        "colab": {}
      },
      "source": [
        "model.cnn_model.save"
      ],
      "execution_count": null,
      "outputs": []
    }
  ]
}