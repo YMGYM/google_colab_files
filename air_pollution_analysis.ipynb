{
  "nbformat": 4,
  "nbformat_minor": 0,
  "metadata": {
    "colab": {
      "name": "air_pollution_analysis.ipynb",
      "provenance": [],
      "collapsed_sections": [],
      "toc_visible": true,
      "mount_file_id": "1Rag7Yc-uRqb-Iex8qfEMVgf3-SGkkvfS",
      "authorship_tag": "ABX9TyOJHWFpnJILSt67R/e8r9Ny",
      "include_colab_link": true
    },
    "kernelspec": {
      "name": "python3",
      "display_name": "Python 3"
    }
  },
  "cells": [
    {
      "cell_type": "markdown",
      "metadata": {
        "id": "view-in-github",
        "colab_type": "text"
      },
      "source": [
        "<a href=\"https://colab.research.google.com/github/YMGYM/google_colab_files/blob/master/air_pollution_analysis.ipynb\" target=\"_parent\"><img src=\"https://colab.research.google.com/assets/colab-badge.svg\" alt=\"Open In Colab\"/></a>"
      ]
    },
    {
      "cell_type": "markdown",
      "metadata": {
        "id": "2Qua77I06KGE",
        "colab_type": "text"
      },
      "source": [
        "# Load Data"
      ]
    },
    {
      "cell_type": "markdown",
      "metadata": {
        "id": "Hmb6DoZ83N-K",
        "colab_type": "text"
      },
      "source": [
        "First, I used the data about air_polution data from \n",
        "Ministry of Environment"
      ]
    },
    {
      "cell_type": "code",
      "metadata": {
        "id": "dDpM34T-3ms_",
        "colab_type": "code",
        "colab": {}
      },
      "source": [
        "import pandas as pd\n",
        "import json\n",
        "import tensorflow as tf\n",
        "import tensorflow.keras as K\n",
        "import numpy as np"
      ],
      "execution_count": null,
      "outputs": []
    },
    {
      "cell_type": "markdown",
      "metadata": {
        "id": "TVgkB67t5kUT",
        "colab_type": "text"
      },
      "source": [
        "I got the tip from how to read the file with utf-8 encoding from [here](https://teddylee777.github.io/pandas/%EA%B3%B5%EA%B3%B5%EB%8D%B0%EC%9D%B4%ED%84%B0-%ED%95%9C%EA%B8%80%EA%B9%A8%EC%A7%90%ED%98%84%EC%83%81-%ED%95%B4%EA%B2%B0%EB%B0%A9%EB%B2%95)"
      ]
    },
    {
      "cell_type": "code",
      "metadata": {
        "id": "6Kdv14yD3nHA",
        "colab_type": "code",
        "colab": {}
      },
      "source": [
        "def read_data():\n",
        "  data = pd.read_csv(\"/content/drive/My Drive/Datasets/air_2019.csv\", encoding='utf-8')\n",
        "  return data"
      ],
      "execution_count": null,
      "outputs": []
    },
    {
      "cell_type": "code",
      "metadata": {
        "id": "kA3S6_Xz4HzX",
        "colab_type": "code",
        "colab": {}
      },
      "source": [
        "data = read_data()"
      ],
      "execution_count": null,
      "outputs": []
    },
    {
      "cell_type": "code",
      "metadata": {
        "id": "9PLOz0Hn5gfS",
        "colab_type": "code",
        "colab": {
          "base_uri": "https://localhost:8080/",
          "height": 606
        },
        "outputId": "d5c95ecc-12e5-4c83-fa1e-dfdc379befb0"
      },
      "source": [
        "data"
      ],
      "execution_count": null,
      "outputs": [
        {
          "output_type": "execute_result",
          "data": {
            "text/html": [
              "<div>\n",
              "<style scoped>\n",
              "    .dataframe tbody tr th:only-of-type {\n",
              "        vertical-align: middle;\n",
              "    }\n",
              "\n",
              "    .dataframe tbody tr th {\n",
              "        vertical-align: top;\n",
              "    }\n",
              "\n",
              "    .dataframe thead th {\n",
              "        text-align: right;\n",
              "    }\n",
              "</style>\n",
              "<table border=\"1\" class=\"dataframe\">\n",
              "  <thead>\n",
              "    <tr style=\"text-align: right;\">\n",
              "      <th></th>\n",
              "      <th>측정일자</th>\n",
              "      <th>권역코드</th>\n",
              "      <th>권역명</th>\n",
              "      <th>측정소코드</th>\n",
              "      <th>측정소명</th>\n",
              "      <th>미세먼지(㎍/㎥)</th>\n",
              "      <th>오존(ppm)</th>\n",
              "      <th>이산화질소농도(ppm)</th>\n",
              "      <th>일산화탄소농도(ppm)</th>\n",
              "      <th>아황산가스농도(ppm)</th>\n",
              "      <th>초미세먼지(㎍/㎥)</th>\n",
              "    </tr>\n",
              "  </thead>\n",
              "  <tbody>\n",
              "    <tr>\n",
              "      <th>0</th>\n",
              "      <td>20191231</td>\n",
              "      <td>100</td>\n",
              "      <td>도심권</td>\n",
              "      <td>111121</td>\n",
              "      <td>중구</td>\n",
              "      <td>26</td>\n",
              "      <td>18</td>\n",
              "      <td>0.023</td>\n",
              "      <td>0.012</td>\n",
              "      <td>0.4</td>\n",
              "      <td>0.002</td>\n",
              "    </tr>\n",
              "    <tr>\n",
              "      <th>1</th>\n",
              "      <td>20191231</td>\n",
              "      <td>100</td>\n",
              "      <td>도심권</td>\n",
              "      <td>111123</td>\n",
              "      <td>종로구</td>\n",
              "      <td>27</td>\n",
              "      <td>19</td>\n",
              "      <td>0.021</td>\n",
              "      <td>0.015</td>\n",
              "      <td>0.4</td>\n",
              "      <td>0.003</td>\n",
              "    </tr>\n",
              "    <tr>\n",
              "      <th>2</th>\n",
              "      <td>20191231</td>\n",
              "      <td>100</td>\n",
              "      <td>도심권</td>\n",
              "      <td>111131</td>\n",
              "      <td>용산구</td>\n",
              "      <td>14</td>\n",
              "      <td>15</td>\n",
              "      <td>0.020</td>\n",
              "      <td>0.015</td>\n",
              "      <td>0.4</td>\n",
              "      <td>0.003</td>\n",
              "    </tr>\n",
              "    <tr>\n",
              "      <th>3</th>\n",
              "      <td>20191231</td>\n",
              "      <td>101</td>\n",
              "      <td>서북권</td>\n",
              "      <td>111181</td>\n",
              "      <td>은평구</td>\n",
              "      <td>24</td>\n",
              "      <td>13</td>\n",
              "      <td>0.024</td>\n",
              "      <td>0.010</td>\n",
              "      <td>0.4</td>\n",
              "      <td>0.003</td>\n",
              "    </tr>\n",
              "    <tr>\n",
              "      <th>4</th>\n",
              "      <td>20191231</td>\n",
              "      <td>101</td>\n",
              "      <td>서북권</td>\n",
              "      <td>111191</td>\n",
              "      <td>서대문구</td>\n",
              "      <td>23</td>\n",
              "      <td>9</td>\n",
              "      <td>0.023</td>\n",
              "      <td>0.013</td>\n",
              "      <td>0.5</td>\n",
              "      <td>0.002</td>\n",
              "    </tr>\n",
              "    <tr>\n",
              "      <th>...</th>\n",
              "      <td>...</td>\n",
              "      <td>...</td>\n",
              "      <td>...</td>\n",
              "      <td>...</td>\n",
              "      <td>...</td>\n",
              "      <td>...</td>\n",
              "      <td>...</td>\n",
              "      <td>...</td>\n",
              "      <td>...</td>\n",
              "      <td>...</td>\n",
              "      <td>...</td>\n",
              "    </tr>\n",
              "    <tr>\n",
              "      <th>8891</th>\n",
              "      <td>20190101</td>\n",
              "      <td>103</td>\n",
              "      <td>서남권</td>\n",
              "      <td>111301</td>\n",
              "      <td>양천구</td>\n",
              "      <td>46</td>\n",
              "      <td>29</td>\n",
              "      <td>0.014</td>\n",
              "      <td>0.033</td>\n",
              "      <td>0.6</td>\n",
              "      <td>0.002</td>\n",
              "    </tr>\n",
              "    <tr>\n",
              "      <th>8892</th>\n",
              "      <td>20190101</td>\n",
              "      <td>104</td>\n",
              "      <td>동남권</td>\n",
              "      <td>111261</td>\n",
              "      <td>강남구</td>\n",
              "      <td>37</td>\n",
              "      <td>31</td>\n",
              "      <td>0.012</td>\n",
              "      <td>0.028</td>\n",
              "      <td>0.6</td>\n",
              "      <td>0.005</td>\n",
              "    </tr>\n",
              "    <tr>\n",
              "      <th>8893</th>\n",
              "      <td>20190101</td>\n",
              "      <td>104</td>\n",
              "      <td>동남권</td>\n",
              "      <td>111262</td>\n",
              "      <td>서초구</td>\n",
              "      <td>37</td>\n",
              "      <td>20</td>\n",
              "      <td>0.015</td>\n",
              "      <td>0.032</td>\n",
              "      <td>0.4</td>\n",
              "      <td>0.004</td>\n",
              "    </tr>\n",
              "    <tr>\n",
              "      <th>8894</th>\n",
              "      <td>20190101</td>\n",
              "      <td>104</td>\n",
              "      <td>동남권</td>\n",
              "      <td>111273</td>\n",
              "      <td>송파구</td>\n",
              "      <td>44</td>\n",
              "      <td>28</td>\n",
              "      <td>0.011</td>\n",
              "      <td>0.042</td>\n",
              "      <td>0.8</td>\n",
              "      <td>0.004</td>\n",
              "    </tr>\n",
              "    <tr>\n",
              "      <th>8895</th>\n",
              "      <td>20190101</td>\n",
              "      <td>104</td>\n",
              "      <td>동남권</td>\n",
              "      <td>111274</td>\n",
              "      <td>강동구</td>\n",
              "      <td>43</td>\n",
              "      <td>32</td>\n",
              "      <td>0.010</td>\n",
              "      <td>0.040</td>\n",
              "      <td>0.8</td>\n",
              "      <td>0.005</td>\n",
              "    </tr>\n",
              "  </tbody>\n",
              "</table>\n",
              "<p>8896 rows × 11 columns</p>\n",
              "</div>"
            ],
            "text/plain": [
              "          측정일자  권역코드  권역명  ...  일산화탄소농도(ppm) 아황산가스농도(ppm)  초미세먼지(㎍/㎥)\n",
              "0     20191231   100  도심권  ...         0.012          0.4       0.002\n",
              "1     20191231   100  도심권  ...         0.015          0.4       0.003\n",
              "2     20191231   100  도심권  ...         0.015          0.4       0.003\n",
              "3     20191231   101  서북권  ...         0.010          0.4       0.003\n",
              "4     20191231   101  서북권  ...         0.013          0.5       0.002\n",
              "...        ...   ...  ...  ...           ...          ...         ...\n",
              "8891  20190101   103  서남권  ...         0.033          0.6       0.002\n",
              "8892  20190101   104  동남권  ...         0.028          0.6       0.005\n",
              "8893  20190101   104  동남권  ...         0.032          0.4       0.004\n",
              "8894  20190101   104  동남권  ...         0.042          0.8       0.004\n",
              "8895  20190101   104  동남권  ...         0.040          0.8       0.005\n",
              "\n",
              "[8896 rows x 11 columns]"
            ]
          },
          "metadata": {
            "tags": []
          },
          "execution_count": 4
        }
      ]
    },
    {
      "cell_type": "markdown",
      "metadata": {
        "id": "N0Rcak436ijy",
        "colab_type": "text"
      },
      "source": [
        "Filtering data"
      ]
    },
    {
      "cell_type": "code",
      "metadata": {
        "id": "x4Ip4tAJ4cJs",
        "colab_type": "code",
        "colab": {
          "base_uri": "https://localhost:8080/",
          "height": 419
        },
        "outputId": "d6c628c5-ade2-4b84-a284-8b5af99a6f60"
      },
      "source": [
        "location = data['측정소명'] == \"중구\"\n",
        "\n",
        "dust_location = data[location]\n",
        "new_list = pd.DataFrame(dust_location['미세먼지(㎍/㎥)'])\n",
        "new_list"
      ],
      "execution_count": null,
      "outputs": [
        {
          "output_type": "execute_result",
          "data": {
            "text/html": [
              "<div>\n",
              "<style scoped>\n",
              "    .dataframe tbody tr th:only-of-type {\n",
              "        vertical-align: middle;\n",
              "    }\n",
              "\n",
              "    .dataframe tbody tr th {\n",
              "        vertical-align: top;\n",
              "    }\n",
              "\n",
              "    .dataframe thead th {\n",
              "        text-align: right;\n",
              "    }\n",
              "</style>\n",
              "<table border=\"1\" class=\"dataframe\">\n",
              "  <thead>\n",
              "    <tr style=\"text-align: right;\">\n",
              "      <th></th>\n",
              "      <th>미세먼지(㎍/㎥)</th>\n",
              "    </tr>\n",
              "  </thead>\n",
              "  <tbody>\n",
              "    <tr>\n",
              "      <th>0</th>\n",
              "      <td>26</td>\n",
              "    </tr>\n",
              "    <tr>\n",
              "      <th>25</th>\n",
              "      <td>36</td>\n",
              "    </tr>\n",
              "    <tr>\n",
              "      <th>50</th>\n",
              "      <td>46</td>\n",
              "    </tr>\n",
              "    <tr>\n",
              "      <th>75</th>\n",
              "      <td>43</td>\n",
              "    </tr>\n",
              "    <tr>\n",
              "      <th>100</th>\n",
              "      <td>34</td>\n",
              "    </tr>\n",
              "    <tr>\n",
              "      <th>...</th>\n",
              "      <td>...</td>\n",
              "    </tr>\n",
              "    <tr>\n",
              "      <th>8771</th>\n",
              "      <td>63</td>\n",
              "    </tr>\n",
              "    <tr>\n",
              "      <th>8796</th>\n",
              "      <td>55</td>\n",
              "    </tr>\n",
              "    <tr>\n",
              "      <th>8821</th>\n",
              "      <td>35</td>\n",
              "    </tr>\n",
              "    <tr>\n",
              "      <th>8846</th>\n",
              "      <td>31</td>\n",
              "    </tr>\n",
              "    <tr>\n",
              "      <th>8871</th>\n",
              "      <td>38</td>\n",
              "    </tr>\n",
              "  </tbody>\n",
              "</table>\n",
              "<p>356 rows × 1 columns</p>\n",
              "</div>"
            ],
            "text/plain": [
              "      미세먼지(㎍/㎥)\n",
              "0            26\n",
              "25           36\n",
              "50           46\n",
              "75           43\n",
              "100          34\n",
              "...         ...\n",
              "8771         63\n",
              "8796         55\n",
              "8821         35\n",
              "8846         31\n",
              "8871         38\n",
              "\n",
              "[356 rows x 1 columns]"
            ]
          },
          "metadata": {
            "tags": []
          },
          "execution_count": 5
        }
      ]
    },
    {
      "cell_type": "code",
      "metadata": {
        "id": "r2Yh-oxcPf7P",
        "colab_type": "code",
        "colab": {}
      },
      "source": [
        "def read_dust_data():\n",
        "  data = pd.read_excel(\"/content/drive/My Drive/Datasets/APIS/APIS_data.xlsx\", encoding='utf-8')\n",
        "  return data"
      ],
      "execution_count": null,
      "outputs": []
    },
    {
      "cell_type": "code",
      "metadata": {
        "id": "zsosHV9yhsjH",
        "colab_type": "code",
        "colab": {}
      },
      "source": [
        "data = read_dust_data()"
      ],
      "execution_count": null,
      "outputs": []
    },
    {
      "cell_type": "code",
      "metadata": {
        "id": "nbLlFkvyhuZN",
        "colab_type": "code",
        "colab": {
          "base_uri": "https://localhost:8080/",
          "height": 419
        },
        "outputId": "22f0d2ce-80fa-4771-e56a-248bdb7f1e8f"
      },
      "source": [
        "data"
      ],
      "execution_count": null,
      "outputs": [
        {
          "output_type": "execute_result",
          "data": {
            "text/html": [
              "<div>\n",
              "<style scoped>\n",
              "    .dataframe tbody tr th:only-of-type {\n",
              "        vertical-align: middle;\n",
              "    }\n",
              "\n",
              "    .dataframe tbody tr th {\n",
              "        vertical-align: top;\n",
              "    }\n",
              "\n",
              "    .dataframe thead th {\n",
              "        text-align: right;\n",
              "    }\n",
              "</style>\n",
              "<table border=\"1\" class=\"dataframe\">\n",
              "  <thead>\n",
              "    <tr style=\"text-align: right;\">\n",
              "      <th></th>\n",
              "      <th>1.0ug/m3</th>\n",
              "      <th>2.5ug/m3</th>\n",
              "    </tr>\n",
              "  </thead>\n",
              "  <tbody>\n",
              "    <tr>\n",
              "      <th>0</th>\n",
              "      <td>21</td>\n",
              "      <td>29</td>\n",
              "    </tr>\n",
              "    <tr>\n",
              "      <th>1</th>\n",
              "      <td>21</td>\n",
              "      <td>30</td>\n",
              "    </tr>\n",
              "    <tr>\n",
              "      <th>2</th>\n",
              "      <td>21</td>\n",
              "      <td>30</td>\n",
              "    </tr>\n",
              "    <tr>\n",
              "      <th>3</th>\n",
              "      <td>22</td>\n",
              "      <td>32</td>\n",
              "    </tr>\n",
              "    <tr>\n",
              "      <th>4</th>\n",
              "      <td>22</td>\n",
              "      <td>32</td>\n",
              "    </tr>\n",
              "    <tr>\n",
              "      <th>...</th>\n",
              "      <td>...</td>\n",
              "      <td>...</td>\n",
              "    </tr>\n",
              "    <tr>\n",
              "      <th>3327</th>\n",
              "      <td>25</td>\n",
              "      <td>37</td>\n",
              "    </tr>\n",
              "    <tr>\n",
              "      <th>3328</th>\n",
              "      <td>25</td>\n",
              "      <td>36</td>\n",
              "    </tr>\n",
              "    <tr>\n",
              "      <th>3329</th>\n",
              "      <td>26</td>\n",
              "      <td>37</td>\n",
              "    </tr>\n",
              "    <tr>\n",
              "      <th>3330</th>\n",
              "      <td>26</td>\n",
              "      <td>38</td>\n",
              "    </tr>\n",
              "    <tr>\n",
              "      <th>3331</th>\n",
              "      <td>26</td>\n",
              "      <td>38</td>\n",
              "    </tr>\n",
              "  </tbody>\n",
              "</table>\n",
              "<p>3332 rows × 2 columns</p>\n",
              "</div>"
            ],
            "text/plain": [
              "      1.0ug/m3  2.5ug/m3\n",
              "0           21        29\n",
              "1           21        30\n",
              "2           21        30\n",
              "3           22        32\n",
              "4           22        32\n",
              "...        ...       ...\n",
              "3327        25        37\n",
              "3328        25        36\n",
              "3329        26        37\n",
              "3330        26        38\n",
              "3331        26        38\n",
              "\n",
              "[3332 rows x 2 columns]"
            ]
          },
          "metadata": {
            "tags": []
          },
          "execution_count": 12
        }
      ]
    },
    {
      "cell_type": "markdown",
      "metadata": {
        "id": "jpMsYq3QlQqe",
        "colab_type": "text"
      },
      "source": [
        "# 공공데이터 받기"
      ]
    },
    {
      "cell_type": "code",
      "metadata": {
        "id": "40_TM7ZSnrfe",
        "colab_type": "code",
        "colab": {
          "base_uri": "https://localhost:8080/",
          "height": 88
        },
        "outputId": "a9e7d503-3174-472e-cf64-f448151555b1"
      },
      "source": [
        "import urllib\n",
        "from urllib.parse import urlencode, quote_plus, unquote\n",
        "from urllib.request import urlopen\n",
        "import requests\n",
        "\n",
        "decode_key = unquote('cELHrfnETp70pjPK90A%2F%2B2h4u9%2FNYVQ6o4e%2B1icLTH6TodaaaxmUvLfsCsRVvH4XvI6NqZSl4jC3grykXKEVTg%3D%3D')\n",
        "#-*- coding:utf-8 -*-\n",
        "# url = 'http://apis.data.go.kr/1360000/LivingWthrIdxService/getDiscomfortIdx' # 불쾌지수조회\n",
        "url = 'http://apis.data.go.kr/1360000/LivingWthrIdxService/getHeatFeelingIdx' \n",
        "queryParams = '?' + urlencode({ quote_plus('ServiceKey') : decode_key, quote_plus('pageNo') : '1', quote_plus('dataType') : 'XML', quote_plus('areaNo') : '1100000000', quote_plus('time') : '2020072506',quote_plus('requestCode') : 'A20'})\n",
        "\n",
        "request = requests.get(url + queryParams)\n",
        "# response = urlopen(request)\n",
        "print(request.text)"
      ],
      "execution_count": 17,
      "outputs": [
        {
          "output_type": "stream",
          "text": [
            "<?xml version=\"1.0\" encoding=\"UTF-8\"?>\r\n",
            "<response><header><resultCode>00</resultCode><resultMsg>NORMAL_SERVICE</resultMsg></header><body><dataType>XML</dataType><items><item><code>A20</code><areaNo>1100000000</areaNo><date>2020072506</date><h3>23</h3><h6>25</h6><h9>26</h9><h12>25</h12><h15>23</h15><h18>22</h18><h21>22</h21><h24>21</h24><h27>24</h27><h30>26</h30><h33>26</h33><h36>26</h36><h39>25</h39><h42>23</h42><h45>23</h45><h48>22</h48><h51>23</h51><h54>24</h54><h57>25</h57><h60>24</h60><h63>24</h63><h66>23</h66></item></items><numOfRows>10</numOfRows><pageNo>1</pageNo><totalCount>1</totalCount></body></response>\r\n",
            "\n"
          ],
          "name": "stdout"
        }
      ]
    },
    {
      "cell_type": "code",
      "metadata": {
        "id": "9LC59-llpv2K",
        "colab_type": "code",
        "colab": {}
      },
      "source": [
        "http://apis.data.go.kr/1360000/LivingWthrIdxService/getSenTaIdx?"
      ],
      "execution_count": null,
      "outputs": []
    }
  ]
}