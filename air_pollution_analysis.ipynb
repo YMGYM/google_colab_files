{
  "nbformat": 4,
  "nbformat_minor": 0,
  "metadata": {
    "colab": {
      "name": "air_pollution_analysis.ipynb",
      "provenance": [],
      "collapsed_sections": [],
      "toc_visible": true,
      "mount_file_id": "1Rag7Yc-uRqb-Iex8qfEMVgf3-SGkkvfS",
      "authorship_tag": "ABX9TyOV7R4lQTnS/mtiUt3c577e",
      "include_colab_link": true
    },
    "kernelspec": {
      "name": "python3",
      "display_name": "Python 3"
    }
  },
  "cells": [
    {
      "cell_type": "markdown",
      "metadata": {
        "id": "view-in-github",
        "colab_type": "text"
      },
      "source": [
        "<a href=\"https://colab.research.google.com/github/YMGYM/google_colab_files/blob/master/air_pollution_analysis.ipynb\" target=\"_parent\"><img src=\"https://colab.research.google.com/assets/colab-badge.svg\" alt=\"Open In Colab\"/></a>"
      ]
    },
    {
      "cell_type": "markdown",
      "metadata": {
        "id": "2Qua77I06KGE",
        "colab_type": "text"
      },
      "source": [
        "# Load Data"
      ]
    },
    {
      "cell_type": "markdown",
      "metadata": {
        "id": "Hmb6DoZ83N-K",
        "colab_type": "text"
      },
      "source": [
        "First, I used the data about air_polution data from \n",
        "Ministry of Environment"
      ]
    },
    {
      "cell_type": "code",
      "metadata": {
        "id": "dDpM34T-3ms_",
        "colab_type": "code",
        "colab": {}
      },
      "source": [
        "import pandas as pd\n",
        "import json\n",
        "import tensorflow as tf\n",
        "import tensorflow.keras as K\n",
        "import numpy as np"
      ],
      "execution_count": null,
      "outputs": []
    },
    {
      "cell_type": "markdown",
      "metadata": {
        "id": "TVgkB67t5kUT",
        "colab_type": "text"
      },
      "source": [
        "I got the tip from how to read the file with utf-8 encoding from [here](https://teddylee777.github.io/pandas/%EA%B3%B5%EA%B3%B5%EB%8D%B0%EC%9D%B4%ED%84%B0-%ED%95%9C%EA%B8%80%EA%B9%A8%EC%A7%90%ED%98%84%EC%83%81-%ED%95%B4%EA%B2%B0%EB%B0%A9%EB%B2%95)"
      ]
    },
    {
      "cell_type": "code",
      "metadata": {
        "id": "6Kdv14yD3nHA",
        "colab_type": "code",
        "colab": {}
      },
      "source": [
        "def read_data():\n",
        "  data = pd.read_csv(\"/content/drive/My Drive/Datasets/air_2019.csv\", encoding='utf-8')\n",
        "  return data"
      ],
      "execution_count": null,
      "outputs": []
    },
    {
      "cell_type": "code",
      "metadata": {
        "id": "kA3S6_Xz4HzX",
        "colab_type": "code",
        "colab": {}
      },
      "source": [
        "data = read_data()"
      ],
      "execution_count": null,
      "outputs": []
    },
    {
      "cell_type": "code",
      "metadata": {
        "id": "9PLOz0Hn5gfS",
        "colab_type": "code",
        "colab": {
          "base_uri": "https://localhost:8080/",
          "height": 606
        },
        "outputId": "d5c95ecc-12e5-4c83-fa1e-dfdc379befb0"
      },
      "source": [
        "data"
      ],
      "execution_count": null,
      "outputs": [
        {
          "output_type": "execute_result",
          "data": {
            "text/html": [
              "<div>\n",
              "<style scoped>\n",
              "    .dataframe tbody tr th:only-of-type {\n",
              "        vertical-align: middle;\n",
              "    }\n",
              "\n",
              "    .dataframe tbody tr th {\n",
              "        vertical-align: top;\n",
              "    }\n",
              "\n",
              "    .dataframe thead th {\n",
              "        text-align: right;\n",
              "    }\n",
              "</style>\n",
              "<table border=\"1\" class=\"dataframe\">\n",
              "  <thead>\n",
              "    <tr style=\"text-align: right;\">\n",
              "      <th></th>\n",
              "      <th>측정일자</th>\n",
              "      <th>권역코드</th>\n",
              "      <th>권역명</th>\n",
              "      <th>측정소코드</th>\n",
              "      <th>측정소명</th>\n",
              "      <th>미세먼지(㎍/㎥)</th>\n",
              "      <th>오존(ppm)</th>\n",
              "      <th>이산화질소농도(ppm)</th>\n",
              "      <th>일산화탄소농도(ppm)</th>\n",
              "      <th>아황산가스농도(ppm)</th>\n",
              "      <th>초미세먼지(㎍/㎥)</th>\n",
              "    </tr>\n",
              "  </thead>\n",
              "  <tbody>\n",
              "    <tr>\n",
              "      <th>0</th>\n",
              "      <td>20191231</td>\n",
              "      <td>100</td>\n",
              "      <td>도심권</td>\n",
              "      <td>111121</td>\n",
              "      <td>중구</td>\n",
              "      <td>26</td>\n",
              "      <td>18</td>\n",
              "      <td>0.023</td>\n",
              "      <td>0.012</td>\n",
              "      <td>0.4</td>\n",
              "      <td>0.002</td>\n",
              "    </tr>\n",
              "    <tr>\n",
              "      <th>1</th>\n",
              "      <td>20191231</td>\n",
              "      <td>100</td>\n",
              "      <td>도심권</td>\n",
              "      <td>111123</td>\n",
              "      <td>종로구</td>\n",
              "      <td>27</td>\n",
              "      <td>19</td>\n",
              "      <td>0.021</td>\n",
              "      <td>0.015</td>\n",
              "      <td>0.4</td>\n",
              "      <td>0.003</td>\n",
              "    </tr>\n",
              "    <tr>\n",
              "      <th>2</th>\n",
              "      <td>20191231</td>\n",
              "      <td>100</td>\n",
              "      <td>도심권</td>\n",
              "      <td>111131</td>\n",
              "      <td>용산구</td>\n",
              "      <td>14</td>\n",
              "      <td>15</td>\n",
              "      <td>0.020</td>\n",
              "      <td>0.015</td>\n",
              "      <td>0.4</td>\n",
              "      <td>0.003</td>\n",
              "    </tr>\n",
              "    <tr>\n",
              "      <th>3</th>\n",
              "      <td>20191231</td>\n",
              "      <td>101</td>\n",
              "      <td>서북권</td>\n",
              "      <td>111181</td>\n",
              "      <td>은평구</td>\n",
              "      <td>24</td>\n",
              "      <td>13</td>\n",
              "      <td>0.024</td>\n",
              "      <td>0.010</td>\n",
              "      <td>0.4</td>\n",
              "      <td>0.003</td>\n",
              "    </tr>\n",
              "    <tr>\n",
              "      <th>4</th>\n",
              "      <td>20191231</td>\n",
              "      <td>101</td>\n",
              "      <td>서북권</td>\n",
              "      <td>111191</td>\n",
              "      <td>서대문구</td>\n",
              "      <td>23</td>\n",
              "      <td>9</td>\n",
              "      <td>0.023</td>\n",
              "      <td>0.013</td>\n",
              "      <td>0.5</td>\n",
              "      <td>0.002</td>\n",
              "    </tr>\n",
              "    <tr>\n",
              "      <th>...</th>\n",
              "      <td>...</td>\n",
              "      <td>...</td>\n",
              "      <td>...</td>\n",
              "      <td>...</td>\n",
              "      <td>...</td>\n",
              "      <td>...</td>\n",
              "      <td>...</td>\n",
              "      <td>...</td>\n",
              "      <td>...</td>\n",
              "      <td>...</td>\n",
              "      <td>...</td>\n",
              "    </tr>\n",
              "    <tr>\n",
              "      <th>8891</th>\n",
              "      <td>20190101</td>\n",
              "      <td>103</td>\n",
              "      <td>서남권</td>\n",
              "      <td>111301</td>\n",
              "      <td>양천구</td>\n",
              "      <td>46</td>\n",
              "      <td>29</td>\n",
              "      <td>0.014</td>\n",
              "      <td>0.033</td>\n",
              "      <td>0.6</td>\n",
              "      <td>0.002</td>\n",
              "    </tr>\n",
              "    <tr>\n",
              "      <th>8892</th>\n",
              "      <td>20190101</td>\n",
              "      <td>104</td>\n",
              "      <td>동남권</td>\n",
              "      <td>111261</td>\n",
              "      <td>강남구</td>\n",
              "      <td>37</td>\n",
              "      <td>31</td>\n",
              "      <td>0.012</td>\n",
              "      <td>0.028</td>\n",
              "      <td>0.6</td>\n",
              "      <td>0.005</td>\n",
              "    </tr>\n",
              "    <tr>\n",
              "      <th>8893</th>\n",
              "      <td>20190101</td>\n",
              "      <td>104</td>\n",
              "      <td>동남권</td>\n",
              "      <td>111262</td>\n",
              "      <td>서초구</td>\n",
              "      <td>37</td>\n",
              "      <td>20</td>\n",
              "      <td>0.015</td>\n",
              "      <td>0.032</td>\n",
              "      <td>0.4</td>\n",
              "      <td>0.004</td>\n",
              "    </tr>\n",
              "    <tr>\n",
              "      <th>8894</th>\n",
              "      <td>20190101</td>\n",
              "      <td>104</td>\n",
              "      <td>동남권</td>\n",
              "      <td>111273</td>\n",
              "      <td>송파구</td>\n",
              "      <td>44</td>\n",
              "      <td>28</td>\n",
              "      <td>0.011</td>\n",
              "      <td>0.042</td>\n",
              "      <td>0.8</td>\n",
              "      <td>0.004</td>\n",
              "    </tr>\n",
              "    <tr>\n",
              "      <th>8895</th>\n",
              "      <td>20190101</td>\n",
              "      <td>104</td>\n",
              "      <td>동남권</td>\n",
              "      <td>111274</td>\n",
              "      <td>강동구</td>\n",
              "      <td>43</td>\n",
              "      <td>32</td>\n",
              "      <td>0.010</td>\n",
              "      <td>0.040</td>\n",
              "      <td>0.8</td>\n",
              "      <td>0.005</td>\n",
              "    </tr>\n",
              "  </tbody>\n",
              "</table>\n",
              "<p>8896 rows × 11 columns</p>\n",
              "</div>"
            ],
            "text/plain": [
              "          측정일자  권역코드  권역명  ...  일산화탄소농도(ppm) 아황산가스농도(ppm)  초미세먼지(㎍/㎥)\n",
              "0     20191231   100  도심권  ...         0.012          0.4       0.002\n",
              "1     20191231   100  도심권  ...         0.015          0.4       0.003\n",
              "2     20191231   100  도심권  ...         0.015          0.4       0.003\n",
              "3     20191231   101  서북권  ...         0.010          0.4       0.003\n",
              "4     20191231   101  서북권  ...         0.013          0.5       0.002\n",
              "...        ...   ...  ...  ...           ...          ...         ...\n",
              "8891  20190101   103  서남권  ...         0.033          0.6       0.002\n",
              "8892  20190101   104  동남권  ...         0.028          0.6       0.005\n",
              "8893  20190101   104  동남권  ...         0.032          0.4       0.004\n",
              "8894  20190101   104  동남권  ...         0.042          0.8       0.004\n",
              "8895  20190101   104  동남권  ...         0.040          0.8       0.005\n",
              "\n",
              "[8896 rows x 11 columns]"
            ]
          },
          "metadata": {
            "tags": []
          },
          "execution_count": 4
        }
      ]
    },
    {
      "cell_type": "markdown",
      "metadata": {
        "id": "N0Rcak436ijy",
        "colab_type": "text"
      },
      "source": [
        "Filtering data"
      ]
    },
    {
      "cell_type": "code",
      "metadata": {
        "id": "x4Ip4tAJ4cJs",
        "colab_type": "code",
        "colab": {
          "base_uri": "https://localhost:8080/",
          "height": 419
        },
        "outputId": "d6c628c5-ade2-4b84-a284-8b5af99a6f60"
      },
      "source": [
        "location = data['측정소명'] == \"중구\"\n",
        "\n",
        "dust_location = data[location]\n",
        "new_list = pd.DataFrame(dust_location['미세먼지(㎍/㎥)'])\n",
        "new_list"
      ],
      "execution_count": null,
      "outputs": [
        {
          "output_type": "execute_result",
          "data": {
            "text/html": [
              "<div>\n",
              "<style scoped>\n",
              "    .dataframe tbody tr th:only-of-type {\n",
              "        vertical-align: middle;\n",
              "    }\n",
              "\n",
              "    .dataframe tbody tr th {\n",
              "        vertical-align: top;\n",
              "    }\n",
              "\n",
              "    .dataframe thead th {\n",
              "        text-align: right;\n",
              "    }\n",
              "</style>\n",
              "<table border=\"1\" class=\"dataframe\">\n",
              "  <thead>\n",
              "    <tr style=\"text-align: right;\">\n",
              "      <th></th>\n",
              "      <th>미세먼지(㎍/㎥)</th>\n",
              "    </tr>\n",
              "  </thead>\n",
              "  <tbody>\n",
              "    <tr>\n",
              "      <th>0</th>\n",
              "      <td>26</td>\n",
              "    </tr>\n",
              "    <tr>\n",
              "      <th>25</th>\n",
              "      <td>36</td>\n",
              "    </tr>\n",
              "    <tr>\n",
              "      <th>50</th>\n",
              "      <td>46</td>\n",
              "    </tr>\n",
              "    <tr>\n",
              "      <th>75</th>\n",
              "      <td>43</td>\n",
              "    </tr>\n",
              "    <tr>\n",
              "      <th>100</th>\n",
              "      <td>34</td>\n",
              "    </tr>\n",
              "    <tr>\n",
              "      <th>...</th>\n",
              "      <td>...</td>\n",
              "    </tr>\n",
              "    <tr>\n",
              "      <th>8771</th>\n",
              "      <td>63</td>\n",
              "    </tr>\n",
              "    <tr>\n",
              "      <th>8796</th>\n",
              "      <td>55</td>\n",
              "    </tr>\n",
              "    <tr>\n",
              "      <th>8821</th>\n",
              "      <td>35</td>\n",
              "    </tr>\n",
              "    <tr>\n",
              "      <th>8846</th>\n",
              "      <td>31</td>\n",
              "    </tr>\n",
              "    <tr>\n",
              "      <th>8871</th>\n",
              "      <td>38</td>\n",
              "    </tr>\n",
              "  </tbody>\n",
              "</table>\n",
              "<p>356 rows × 1 columns</p>\n",
              "</div>"
            ],
            "text/plain": [
              "      미세먼지(㎍/㎥)\n",
              "0            26\n",
              "25           36\n",
              "50           46\n",
              "75           43\n",
              "100          34\n",
              "...         ...\n",
              "8771         63\n",
              "8796         55\n",
              "8821         35\n",
              "8846         31\n",
              "8871         38\n",
              "\n",
              "[356 rows x 1 columns]"
            ]
          },
          "metadata": {
            "tags": []
          },
          "execution_count": 5
        }
      ]
    },
    {
      "cell_type": "code",
      "metadata": {
        "id": "r2Yh-oxcPf7P",
        "colab_type": "code",
        "colab": {}
      },
      "source": [
        "def read_dust_data():\n",
        "  data = pd.read_excel(\"/content/drive/My Drive/Datasets/APIS/APIS_data.xlsx\", encoding='utf-8')\n",
        "  return data"
      ],
      "execution_count": null,
      "outputs": []
    },
    {
      "cell_type": "code",
      "metadata": {
        "id": "zsosHV9yhsjH",
        "colab_type": "code",
        "colab": {}
      },
      "source": [
        "data = read_dust_data()"
      ],
      "execution_count": null,
      "outputs": []
    },
    {
      "cell_type": "code",
      "metadata": {
        "id": "nbLlFkvyhuZN",
        "colab_type": "code",
        "colab": {
          "base_uri": "https://localhost:8080/",
          "height": 419
        },
        "outputId": "22f0d2ce-80fa-4771-e56a-248bdb7f1e8f"
      },
      "source": [
        "data"
      ],
      "execution_count": null,
      "outputs": [
        {
          "output_type": "execute_result",
          "data": {
            "text/html": [
              "<div>\n",
              "<style scoped>\n",
              "    .dataframe tbody tr th:only-of-type {\n",
              "        vertical-align: middle;\n",
              "    }\n",
              "\n",
              "    .dataframe tbody tr th {\n",
              "        vertical-align: top;\n",
              "    }\n",
              "\n",
              "    .dataframe thead th {\n",
              "        text-align: right;\n",
              "    }\n",
              "</style>\n",
              "<table border=\"1\" class=\"dataframe\">\n",
              "  <thead>\n",
              "    <tr style=\"text-align: right;\">\n",
              "      <th></th>\n",
              "      <th>1.0ug/m3</th>\n",
              "      <th>2.5ug/m3</th>\n",
              "    </tr>\n",
              "  </thead>\n",
              "  <tbody>\n",
              "    <tr>\n",
              "      <th>0</th>\n",
              "      <td>21</td>\n",
              "      <td>29</td>\n",
              "    </tr>\n",
              "    <tr>\n",
              "      <th>1</th>\n",
              "      <td>21</td>\n",
              "      <td>30</td>\n",
              "    </tr>\n",
              "    <tr>\n",
              "      <th>2</th>\n",
              "      <td>21</td>\n",
              "      <td>30</td>\n",
              "    </tr>\n",
              "    <tr>\n",
              "      <th>3</th>\n",
              "      <td>22</td>\n",
              "      <td>32</td>\n",
              "    </tr>\n",
              "    <tr>\n",
              "      <th>4</th>\n",
              "      <td>22</td>\n",
              "      <td>32</td>\n",
              "    </tr>\n",
              "    <tr>\n",
              "      <th>...</th>\n",
              "      <td>...</td>\n",
              "      <td>...</td>\n",
              "    </tr>\n",
              "    <tr>\n",
              "      <th>3327</th>\n",
              "      <td>25</td>\n",
              "      <td>37</td>\n",
              "    </tr>\n",
              "    <tr>\n",
              "      <th>3328</th>\n",
              "      <td>25</td>\n",
              "      <td>36</td>\n",
              "    </tr>\n",
              "    <tr>\n",
              "      <th>3329</th>\n",
              "      <td>26</td>\n",
              "      <td>37</td>\n",
              "    </tr>\n",
              "    <tr>\n",
              "      <th>3330</th>\n",
              "      <td>26</td>\n",
              "      <td>38</td>\n",
              "    </tr>\n",
              "    <tr>\n",
              "      <th>3331</th>\n",
              "      <td>26</td>\n",
              "      <td>38</td>\n",
              "    </tr>\n",
              "  </tbody>\n",
              "</table>\n",
              "<p>3332 rows × 2 columns</p>\n",
              "</div>"
            ],
            "text/plain": [
              "      1.0ug/m3  2.5ug/m3\n",
              "0           21        29\n",
              "1           21        30\n",
              "2           21        30\n",
              "3           22        32\n",
              "4           22        32\n",
              "...        ...       ...\n",
              "3327        25        37\n",
              "3328        25        36\n",
              "3329        26        37\n",
              "3330        26        38\n",
              "3331        26        38\n",
              "\n",
              "[3332 rows x 2 columns]"
            ]
          },
          "metadata": {
            "tags": []
          },
          "execution_count": 12
        }
      ]
    },
    {
      "cell_type": "markdown",
      "metadata": {
        "id": "jpMsYq3QlQqe",
        "colab_type": "text"
      },
      "source": [
        "# 공공데이터 받기"
      ]
    },
    {
      "cell_type": "code",
      "metadata": {
        "id": "40_TM7ZSnrfe",
        "colab_type": "code",
        "colab": {}
      },
      "source": [
        "import urllib\n",
        "from urllib.parse import urlencode, quote_plus, unquote\n",
        "from urllib.request import urlopen\n",
        "import requests\n",
        "import json\n",
        "\n",
        "\n",
        "DECODE_KEY = unquote('cELHrfnETp70pjPK90A%2F%2B2h4u9%2FNYVQ6o4e%2B1icLTH6TodaaaxmUvLfsCsRVvH4XvI6NqZSl4jC3grykXKEVTg%3D%3D')\n"
      ],
      "execution_count": 8,
      "outputs": []
    },
    {
      "cell_type": "code",
      "metadata": {
        "id": "JVQ-S62LlnDy",
        "colab_type": "code",
        "colab": {}
      },
      "source": [
        "def api_Living_Reading(key, feature, time):\n",
        "  #-*- coding:utf-8 -*-\n",
        "  url = f\"http://apis.data.go.kr/1360000/LivingWthrIdxService/{feature}\"\n",
        "  \n",
        "  queryParams = '?' + urlencode({ quote_plus('ServiceKey') : key, quote_plus('pageNo') : '1', quote_plus('dataType') : 'JSON', quote_plus('areaNo') : '1100000000', quote_plus('time') : time,quote_plus('requestCode') : 'A20'})\n",
        "  request = requests.get(url + queryParams)\n",
        "\n",
        "  json_data = json.loads(request.text)\n",
        "  return json_data[\"response\"]['body'][\"items\"][\"item\"][0]"
      ],
      "execution_count": 9,
      "outputs": []
    },
    {
      "cell_type": "code",
      "metadata": {
        "id": "p9BIbhGhj52-",
        "colab_type": "code",
        "colab": {}
      },
      "source": [
        "items = api_Living_Reading(DECODE_KEY, 'getHeatFeelingIdx', '2020072706')"
      ],
      "execution_count": 44,
      "outputs": []
    },
    {
      "cell_type": "code",
      "metadata": {
        "id": "qKF0xvvOlcIo",
        "colab_type": "code",
        "colab": {
          "base_uri": "https://localhost:8080/",
          "height": 35
        },
        "outputId": "1df841e0-7d28-41d9-f2e0-6490d2cd732d"
      },
      "source": [
        "heatfeeling = items['h3'] # 더위체감지수\n",
        "heatfeeling"
      ],
      "execution_count": 45,
      "outputs": [
        {
          "output_type": "execute_result",
          "data": {
            "application/vnd.google.colaboratory.intrinsic+json": {
              "type": "string"
            },
            "text/plain": [
              "'23'"
            ]
          },
          "metadata": {
            "tags": []
          },
          "execution_count": 45
        }
      ]
    },
    {
      "cell_type": "code",
      "metadata": {
        "id": "iCqe27zW5U9d",
        "colab_type": "code",
        "colab": {}
      },
      "source": [
        "items = api_Living_Reading(DECODE_KEY, 'getDiscomfortIdx', '2020072706')"
      ],
      "execution_count": 46,
      "outputs": []
    },
    {
      "cell_type": "code",
      "metadata": {
        "id": "px6xtUiO7EHs",
        "colab_type": "code",
        "colab": {
          "base_uri": "https://localhost:8080/",
          "height": 35
        },
        "outputId": "ae6c7c22-b6c6-4c02-f277-a24cc8613cd6"
      },
      "source": [
        "discomfort = items['h3'] # 불쾌지수\n",
        "discomfort"
      ],
      "execution_count": 47,
      "outputs": [
        {
          "output_type": "execute_result",
          "data": {
            "application/vnd.google.colaboratory.intrinsic+json": {
              "type": "string"
            },
            "text/plain": [
              "'73'"
            ]
          },
          "metadata": {
            "tags": []
          },
          "execution_count": 47
        }
      ]
    },
    {
      "cell_type": "code",
      "metadata": {
        "id": "wSbQk9sQ7FFy",
        "colab_type": "code",
        "colab": {}
      },
      "source": [
        "items = api_Living_Reading(DECODE_KEY, 'getUVIdx', '2020072723')"
      ],
      "execution_count": 55,
      "outputs": []
    },
    {
      "cell_type": "code",
      "metadata": {
        "id": "5krXCUoG7QV_",
        "colab_type": "code",
        "colab": {
          "base_uri": "https://localhost:8080/",
          "height": 35
        },
        "outputId": "0d046acf-5eb0-4b32-a6fb-ca4b24be2075"
      },
      "source": [
        "uv = items['today'] # 자외선지수\n",
        "uv"
      ],
      "execution_count": 56,
      "outputs": [
        {
          "output_type": "execute_result",
          "data": {
            "application/vnd.google.colaboratory.intrinsic+json": {
              "type": "string"
            },
            "text/plain": [
              "''"
            ]
          },
          "metadata": {
            "tags": []
          },
          "execution_count": 56
        }
      ]
    },
    {
      "cell_type": "code",
      "metadata": {
        "id": "M6B5ux7r7RNW",
        "colab_type": "code",
        "colab": {}
      },
      "source": [
        "items = api_Living_Reading(DECODE_KEY, 'getSenTaIdx', '2020072723')"
      ],
      "execution_count": 53,
      "outputs": []
    },
    {
      "cell_type": "code",
      "metadata": {
        "id": "-B5IRKFs7fwk",
        "colab_type": "code",
        "colab": {
          "base_uri": "https://localhost:8080/",
          "height": 35
        },
        "outputId": "7293f83d-7e03-49f9-b454-ff686cb2ecdc"
      },
      "source": [
        "heat = items['h3'] # 체감온도\n",
        "heat"
      ],
      "execution_count": 54,
      "outputs": [
        {
          "output_type": "execute_result",
          "data": {
            "application/vnd.google.colaboratory.intrinsic+json": {
              "type": "string"
            },
            "text/plain": [
              "'23'"
            ]
          },
          "metadata": {
            "tags": []
          },
          "execution_count": 54
        }
      ]
    },
    {
      "cell_type": "markdown",
      "metadata": {
        "id": "-YVQ8MzG7gVI",
        "colab_type": "text"
      },
      "source": [
        "## Time Module"
      ]
    },
    {
      "cell_type": "code",
      "metadata": {
        "id": "WnElsac3wog2",
        "colab_type": "code",
        "colab": {
          "base_uri": "https://localhost:8080/",
          "height": 54
        },
        "outputId": "cdbfb418-dc2b-4604-fced-21b0df4ec6c8"
      },
      "source": [
        "import time\n",
        "\n",
        "now = time.localtime()\n",
        "now"
      ],
      "execution_count": 1,
      "outputs": [
        {
          "output_type": "execute_result",
          "data": {
            "text/plain": [
              "time.struct_time(tm_year=2020, tm_mon=7, tm_mday=28, tm_hour=14, tm_min=10, tm_sec=47, tm_wday=1, tm_yday=210, tm_isdst=0)"
            ]
          },
          "metadata": {
            "tags": []
          },
          "execution_count": 1
        }
      ]
    },
    {
      "cell_type": "code",
      "metadata": {
        "id": "wDWJtwN8wuZs",
        "colab_type": "code",
        "colab": {}
      },
      "source": [
        "DATE = f\"{now.tm_year}{now.tm_mon:02d}{now.tm_mday:02d}{now.tm_hour:02d}\""
      ],
      "execution_count": 6,
      "outputs": []
    },
    {
      "cell_type": "code",
      "metadata": {
        "id": "KrPCfixyxWBz",
        "colab_type": "code",
        "colab": {
          "base_uri": "https://localhost:8080/",
          "height": 35
        },
        "outputId": "ed5e68be-64dd-4038-cf54-dd20321b9cb6"
      },
      "source": [
        "DATE"
      ],
      "execution_count": 5,
      "outputs": [
        {
          "output_type": "execute_result",
          "data": {
            "application/vnd.google.colaboratory.intrinsic+json": {
              "type": "string"
            },
            "text/plain": [
              "'2020072814'"
            ]
          },
          "metadata": {
            "tags": []
          },
          "execution_count": 5
        }
      ]
    },
    {
      "cell_type": "code",
      "metadata": {
        "id": "lTcWSNd2xXIa",
        "colab_type": "code",
        "colab": {}
      },
      "source": [
        "items = api_Living_Reading(DECODE_KEY, 'getDiscomfortIdx', DATE)"
      ],
      "execution_count": 10,
      "outputs": []
    },
    {
      "cell_type": "code",
      "metadata": {
        "id": "LCo9-yL6xiyM",
        "colab_type": "code",
        "colab": {
          "base_uri": "https://localhost:8080/",
          "height": 442
        },
        "outputId": "4d7c8d9e-d547-4a34-f421-94e5db8a148c"
      },
      "source": [
        "items"
      ],
      "execution_count": 11,
      "outputs": [
        {
          "output_type": "execute_result",
          "data": {
            "text/plain": [
              "{'areaNo': '1100000000',\n",
              " 'code': 'A06',\n",
              " 'date': '2020072812',\n",
              " 'h12': '74',\n",
              " 'h15': '74',\n",
              " 'h18': '74',\n",
              " 'h21': '76',\n",
              " 'h24': '77',\n",
              " 'h27': '77',\n",
              " 'h3': '77',\n",
              " 'h30': '79',\n",
              " 'h33': '75',\n",
              " 'h36': '76',\n",
              " 'h39': '74',\n",
              " 'h42': '74',\n",
              " 'h45': '75',\n",
              " 'h48': '76',\n",
              " 'h51': '77',\n",
              " 'h54': '78',\n",
              " 'h57': '76',\n",
              " 'h6': '78',\n",
              " 'h60': '74',\n",
              " 'h63': '',\n",
              " 'h66': '',\n",
              " 'h9': '75'}"
            ]
          },
          "metadata": {
            "tags": []
          },
          "execution_count": 11
        }
      ]
    },
    {
      "cell_type": "code",
      "metadata": {
        "id": "M0YvoMPHzThi",
        "colab_type": "code",
        "colab": {}
      },
      "source": [
        "items = api_Living_Reading(DECODE_KEY, 'getAirDiffusionIdx', DATE)"
      ],
      "execution_count": 18,
      "outputs": []
    },
    {
      "cell_type": "code",
      "metadata": {
        "id": "6-arqO-FzWym",
        "colab_type": "code",
        "colab": {
          "base_uri": "https://localhost:8080/",
          "height": 35
        },
        "outputId": "8c17c0ed-0196-4f56-d466-79a1776a4507"
      },
      "source": [
        "items['h3'] # 대기확산지수"
      ],
      "execution_count": 20,
      "outputs": [
        {
          "output_type": "execute_result",
          "data": {
            "application/vnd.google.colaboratory.intrinsic+json": {
              "type": "string"
            },
            "text/plain": [
              "'50'"
            ]
          },
          "metadata": {
            "tags": []
          },
          "execution_count": 20
        }
      ]
    },
    {
      "cell_type": "markdown",
      "metadata": {
        "id": "z0m6JZffxnWA",
        "colab_type": "text"
      },
      "source": [
        "## If time is same..."
      ]
    },
    {
      "cell_type": "code",
      "metadata": {
        "id": "vF440xd6ycgd",
        "colab_type": "code",
        "colab": {}
      },
      "source": [
        "lasttime = DATE"
      ],
      "execution_count": 14,
      "outputs": []
    },
    {
      "cell_type": "code",
      "metadata": {
        "id": "0l_kDTgHxzRM",
        "colab_type": "code",
        "colab": {}
      },
      "source": [
        "if lasttime != DATE:\n",
        "  lasttime = DATE"
      ],
      "execution_count": 15,
      "outputs": []
    },
    {
      "cell_type": "markdown",
      "metadata": {
        "id": "kcFoFcIOyaH_",
        "colab_type": "text"
      },
      "source": [
        "## overall function"
      ]
    },
    {
      "cell_type": "code",
      "metadata": {
        "id": "WzM4lM9UykMx",
        "colab_type": "code",
        "colab": {}
      },
      "source": [
        "import urllib\n",
        "from urllib.parse import urlencode, quote_plus, unquote\n",
        "from urllib.request import urlopen\n",
        "import requests\n",
        "import json\n",
        "import time"
      ],
      "execution_count": 17,
      "outputs": []
    },
    {
      "cell_type": "code",
      "metadata": {
        "id": "HgTzcucty2-A",
        "colab_type": "code",
        "colab": {}
      },
      "source": [
        "now = time.localtime()"
      ],
      "execution_count": null,
      "outputs": []
    },
    {
      "cell_type": "code",
      "metadata": {
        "id": "tdbciuW0ytR2",
        "colab_type": "code",
        "colab": {}
      },
      "source": [
        "DECODE_KEY = unquote('cELHrfnETp70pjPK90A%2F%2B2h4u9%2FNYVQ6o4e%2B1icLTH6TodaaaxmUvLfsCsRVvH4XvI6NqZSl4jC3grykXKEVTg%3D%3D')\n",
        "DATE = f\"{now.tm_year}{now.tm_mon:02d}{now.tm_mday:02d}{now.tm_hour:02d}\"\n",
        "QUERY = ['getHeatFeelingIdx','getDiscomfortIdx','getUVIdx','getSenTaIdx','getAirDiffusionIdx']\n",
        "lasttime = \"\""
      ],
      "execution_count": 40,
      "outputs": []
    },
    {
      "cell_type": "code",
      "metadata": {
        "id": "xO5OPD0ZzhdB",
        "colab_type": "code",
        "colab": {}
      },
      "source": [
        "def api_Living_Reading(key, feature, time, areano='1100000000'):\n",
        "  #-*- coding:utf-8 -*-\n",
        "  url = f\"http://apis.data.go.kr/1360000/LivingWthrIdxService/{feature}\"\n",
        "  \n",
        "  queryParams = '?' + urlencode({ quote_plus('ServiceKey') : key, quote_plus('pageNo') : '1', quote_plus('dataType') : 'JSON', quote_plus('areaNo') : areano, quote_plus('time') : time, quote_plus('requestCode') : 'A20'})\n",
        "  request = requests.get(url + queryParams)\n",
        "  json_data = json.loads(request.text)\n",
        "\n",
        "  if feature == 'getUVIdx':\n",
        "    return json_data[\"response\"]['body'][\"items\"][\"item\"][0]['today']\n",
        "  else:\n",
        "    return json_data[\"response\"]['body'][\"items\"][\"item\"][0]['h3']"
      ],
      "execution_count": 26,
      "outputs": []
    },
    {
      "cell_type": "code",
      "metadata": {
        "id": "Gv6abpbB0AUD",
        "colab_type": "code",
        "colab": {}
      },
      "source": [
        "def get_living_weather_data(key, query, time, lasttime,result, areano='1100000000'):\n",
        "  if lasttime == DATE:\n",
        "    return result, lasttime\n",
        "  else:\n",
        "    lasttime = DATE\n",
        "    print(\"Receiving now data\")\n",
        "    for feature in QUERY:\n",
        "      result[feature] = api_Living_Reading(DECODE_KEY, feature, DATE)\n",
        "    return result, lasttime"
      ],
      "execution_count": 62,
      "outputs": []
    },
    {
      "cell_type": "code",
      "metadata": {
        "id": "6EEKbcg22dlA",
        "colab_type": "code",
        "colab": {}
      },
      "source": [
        "result, lasttime = get_living_weather_data(DECODE_KEY,QUERY,DATE,lasttime,result)"
      ],
      "execution_count": 63,
      "outputs": []
    },
    {
      "cell_type": "code",
      "metadata": {
        "id": "mal71zyZ0r0h",
        "colab_type": "code",
        "colab": {
          "base_uri": "https://localhost:8080/",
          "height": 102
        },
        "outputId": "ab77bcbc-5ef2-4be2-856d-946388568dae"
      },
      "source": [
        "result"
      ],
      "execution_count": 64,
      "outputs": [
        {
          "output_type": "execute_result",
          "data": {
            "text/plain": [
              "{'getAirDiffusionIdx': '50',\n",
              " 'getDiscomfortIdx': '77',\n",
              " 'getHeatFeelingIdx': '24',\n",
              " 'getSenTaIdx': '24',\n",
              " 'getUVIdx': '6'}"
            ]
          },
          "metadata": {
            "tags": []
          },
          "execution_count": 64
        }
      ]
    },
    {
      "cell_type": "markdown",
      "metadata": {
        "id": "ADCaPqtx0w5h",
        "colab_type": "text"
      },
      "source": [
        "# Public Air Dust Data Read"
      ]
    },
    {
      "cell_type": "code",
      "metadata": {
        "id": "aKhJDU9kYiBk",
        "colab_type": "code",
        "colab": {}
      },
      "source": [
        "import urllib\n",
        "from urllib.parse import urlencode, quote_plus, unquote\n",
        "from urllib.request import urlopen\n",
        "import requests\n",
        "import json\n",
        "import time"
      ],
      "execution_count": 2,
      "outputs": []
    },
    {
      "cell_type": "code",
      "metadata": {
        "id": "Prf3yb7AXp8M",
        "colab_type": "code",
        "colab": {
          "base_uri": "https://localhost:8080/",
          "height": 34
        },
        "outputId": "bac6ff4d-04fd-43ab-81f9-6852c0b45551"
      },
      "source": [
        "\n",
        "url = f\"http://openapi.airkorea.or.kr/openapi/services/rest/ArpltnStatsSvc/getMsrstnAcctoLastDcsnDnsty\"\n",
        "\n",
        "#-*- coding:utf-8 -*-\n",
        "DECODE_KEY = unquote('cELHrfnETp70pjPK90A%2F%2B2h4u9%2FNYVQ6o4e%2B1icLTH6TodaaaxmUvLfsCsRVvH4XvI6NqZSl4jC3grykXKEVTg%3D%3D') \n",
        "queryParams = '?' + urlencode({ quote_plus('ServiceKey') : DECODE_KEY, quote_plus('stationName') : '종로구', quote_plus('searchCondition') : 'DAILY' })\n",
        "request = requests.get(url + queryParams)\n",
        "\n",
        "request\n",
        "\n"
      ],
      "execution_count": 28,
      "outputs": [
        {
          "output_type": "execute_result",
          "data": {
            "text/plain": [
              "<Response [200]>"
            ]
          },
          "metadata": {
            "tags": []
          },
          "execution_count": 28
        }
      ]
    },
    {
      "cell_type": "code",
      "metadata": {
        "id": "SI-yMSCHZjO_",
        "colab_type": "code",
        "colab": {}
      },
      "source": [
        "request = requests.get('http://openapi.airkorea.or.kr/openapi/services/rest/ArpltnStatsSvc/getDatePollutnStatInfo?serviceKey=cELHrfnETp70pjPK90A%2F%2B2h4u9%2FNYVQ6o4e%2B1icLTH6TodaaaxmUvLfsCsRVvH4XvI6NqZSl4jC3grykXKEVTg%3D%3D&numOfRows=10&pageNo=1&searchDataTime=2008-01&statArticleCondition=%EB%8F%84%EC%8B%9C%EB%8C%80%EA%B8%B0&')"
      ],
      "execution_count": 19,
      "outputs": []
    },
    {
      "cell_type": "code",
      "metadata": {
        "id": "o75NVb4eearE",
        "colab_type": "code",
        "colab": {
          "base_uri": "https://localhost:8080/",
          "height": 171
        },
        "outputId": "9d97b416-af71-4806-d965-14b2ee27fb5c"
      },
      "source": [
        "request.text"
      ],
      "execution_count": 29,
      "outputs": [
        {
          "output_type": "execute_result",
          "data": {
            "application/vnd.google.colaboratory.intrinsic+json": {
              "type": "string"
            },
            "text/plain": [
              "'<?xml version=\"1.0\" encoding=\"UTF-8\"?>\\r\\n\\r\\n\\r\\n\\r\\n\\r\\n<response>\\r\\n\\t<header>\\r\\n\\t\\t<resultCode>00</resultCode>\\r\\n\\t\\t<resultMsg>NORMAL SERVICE.</resultMsg>\\r\\n\\t</header>\\r\\n\\t<body>\\r\\n\\t\\t<items>\\r\\n\\t\\t\\t\\r\\n\\t\\t\\t\\t<item>\\r\\n\\t\\t\\t\\t\\t<dataTime>2006-01-01</dataTime>\\r\\n\\t\\t\\t\\t\\t<so2Avg> 0.008</so2Avg>\\r\\n\\t\\t\\t\\t\\t<coAvg> 0.8</coAvg>\\r\\n\\t\\t\\t\\t\\t<o3Avg> 0.002</o3Avg>\\r\\n\\t\\t\\t\\t\\t<no2Avg> 0.039</no2Avg>\\r\\n\\t\\t\\t\\t\\t<pm10Avg>   59</pm10Avg>\\r\\n\\t\\t\\t\\t</item>\\r\\n\\t\\t\\t\\r\\n\\t\\t\\t\\t<item>\\r\\n\\t\\t\\t\\t\\t<dataTime>2006-01-02</dataTime>\\r\\n\\t\\t\\t\\t\\t<so2Avg> 0.008</so2Avg>\\r\\n\\t\\t\\t\\t\\t<coAvg> 0.7</coAvg>\\r\\n\\t\\t\\t\\t\\t<o3Avg> 0.010</o3Avg>\\r\\n\\t\\t\\t\\t\\t<no2Avg> 0.028</no2Avg>\\r\\n\\t\\t\\t\\t\\t<pm10Avg>   65</pm10Avg>\\r\\n\\t\\t\\t\\t</item>\\r\\n\\t\\t\\t\\r\\n\\t\\t\\t\\t<item>\\r\\n\\t\\t\\t\\t\\t<dataTime>2006-01-03</dataTime>\\r\\n\\t\\t\\t\\t\\t<so2Avg> 0.007</so2Avg>\\r\\n\\t\\t\\t\\t\\t<coAvg> 0.5</coAvg>\\r\\n\\t\\t\\t\\t\\t<o3Avg> 0.015</o3Avg>\\r\\n\\t\\t\\t\\t\\t<no2Avg> 0.022</no2Avg>\\r\\n\\t\\t\\t\\t\\t<pm10Avg>   30</pm10Avg>\\r\\n\\t\\t\\t\\t</item>\\r\\n\\t\\t\\t\\r\\n\\t\\t\\t\\t<item>\\r\\n\\t\\t\\t\\t\\t<dataTime>2006-01-04</dataTime>\\r\\n\\t\\t\\t\\t\\t<so2Avg> 0.006</so2Avg>\\r\\n\\t\\t\\t\\t\\t<coAvg> 0.4</coAvg>\\r\\n\\t\\t\\t\\t\\t<o3Avg> 0.015</o3Avg>\\r\\n\\t\\t\\t\\t\\t<no2Avg> 0.018</no2Avg>\\r\\n\\t\\t\\t\\t\\t<pm10Avg>   27</pm10Avg>\\r\\n\\t\\t\\t\\t</item>\\r\\n\\t\\t\\t\\r\\n\\t\\t\\t\\t<item>\\r\\n\\t\\t\\t\\t\\t<dataTime>2006-01-05</dataTime>\\r\\n\\t\\t\\t\\t\\t<so2Avg> 0.005</so2Avg>\\r\\n\\t\\t\\t\\t\\t<coAvg> 0.5</coAvg>\\r\\n\\t\\t\\t\\t\\t<o3Avg> 0.012</o3Avg>\\r\\n\\t\\t\\t\\t\\t<no2Avg> 0.025</no2Avg>\\r\\n\\t\\t\\t\\t\\t<pm10Avg>   33</pm10Avg>\\r\\n\\t\\t\\t\\t</item>\\r\\n\\t\\t\\t\\r\\n\\t\\t\\t\\t<item>\\r\\n\\t\\t\\t\\t\\t<dataTime>2006-01-06</dataTime>\\r\\n\\t\\t\\t\\t\\t<so2Avg> 0.006</so2Avg>\\r\\n\\t\\t\\t\\t\\t<coAvg> 0.5</coAvg>\\r\\n\\t\\t\\t\\t\\t<o3Avg> 0.013</o3Avg>\\r\\n\\t\\t\\t\\t\\t<no2Avg> 0.022</no2Avg>\\r\\n\\t\\t\\t\\t\\t<pm10Avg>   35</pm10Avg>\\r\\n\\t\\t\\t\\t</item>\\r\\n\\t\\t\\t\\r\\n\\t\\t\\t\\t<item>\\r\\n\\t\\t\\t\\t\\t<dataTime>2006-01-07</dataTime>\\r\\n\\t\\t\\t\\t\\t<so2Avg> 0.006</so2Avg>\\r\\n\\t\\t\\t\\t\\t<coAvg> 0.5</coAvg>\\r\\n\\t\\t\\t\\t\\t<o3Avg> 0.012</o3Avg>\\r\\n\\t\\t\\t\\t\\t<no2Avg> 0.023</no2Avg>\\r\\n\\t\\t\\t\\t\\t<pm10Avg>   34</pm10Avg>\\r\\n\\t\\t\\t\\t</item>\\r\\n\\t\\t\\t\\r\\n\\t\\t\\t\\t<item>\\r\\n\\t\\t\\t\\t\\t<dataTime>2006-01-08</dataTime>\\r\\n\\t\\t\\t\\t\\t<so2Avg> 0.006</so2Avg>\\r\\n\\t\\t\\t\\t\\t<coAvg> 0.9</coAvg>\\r\\n\\t\\t\\t\\t\\t<o3Avg> 0.006</o3Avg>\\r\\n\\t\\t\\t\\t\\t<no2Avg> 0.040</no2Avg>\\r\\n\\t\\t\\t\\t\\t<pm10Avg>   39</pm10Avg>\\r\\n\\t\\t\\t\\t</item>\\r\\n\\t\\t\\t\\r\\n\\t\\t\\t\\t<item>\\r\\n\\t\\t\\t\\t\\t<dataTime>2006-01-09</dataTime>\\r\\n\\t\\t\\t\\t\\t<so2Avg> 0.008</so2Avg>\\r\\n\\t\\t\\t\\t\\t<coAvg> 1.1</coAvg>\\r\\n\\t\\t\\t\\t\\t<o3Avg> 0.002</o3Avg>\\r\\n\\t\\t\\t\\t\\t<no2Avg> 0.051</no2Avg>\\r\\n\\t\\t\\t\\t\\t<pm10Avg>   53</pm10Avg>\\r\\n\\t\\t\\t\\t</item>\\r\\n\\t\\t\\t\\r\\n\\t\\t\\t\\t<item>\\r\\n\\t\\t\\t\\t\\t<dataTime>2006-01-10</dataTime>\\r\\n\\t\\t\\t\\t\\t<so2Avg> 0.009</so2Avg>\\r\\n\\t\\t\\t\\t\\t<coAvg> 1.1</coAvg>\\r\\n\\t\\t\\t\\t\\t<o3Avg> 0.005</o3Avg>\\r\\n\\t\\t\\t\\t\\t<no2Avg> 0.046</no2Avg>\\r\\n\\t\\t\\t\\t\\t<pm10Avg>   78</pm10Avg>\\r\\n\\t\\t\\t\\t</item>\\r\\n\\t\\t\\t\\r\\n\\t\\t</items>\\r\\n\\t\\t\\t<numOfRows>10</numOfRows>\\r\\n\\t\\t\\t<pageNo>1</pageNo>\\r\\n\\t\\t\\t<totalCount>4345</totalCount>\\r\\n\\t</body>\\r\\n</response>\\r\\n'"
            ]
          },
          "metadata": {
            "tags": []
          },
          "execution_count": 29
        }
      ]
    },
    {
      "cell_type": "code",
      "metadata": {
        "id": "hjQOknWLemk5",
        "colab_type": "code",
        "colab": {}
      },
      "source": [
        ""
      ],
      "execution_count": null,
      "outputs": []
    }
  ]
}