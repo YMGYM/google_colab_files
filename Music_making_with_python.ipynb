{
  "nbformat": 4,
  "nbformat_minor": 0,
  "metadata": {
    "colab": {
      "name": "Music_making_with_python",
      "provenance": [],
      "collapsed_sections": [],
      "toc_visible": true,
      "mount_file_id": "1yTrXaGSNzYoo_y19rCNJ7Nsv2v5fcYaz",
      "authorship_tag": "ABX9TyP0/6IrfaxT23jM45DziYv3",
      "include_colab_link": true
    },
    "kernelspec": {
      "name": "python3",
      "display_name": "Python 3"
    }
  },
  "cells": [
    {
      "cell_type": "markdown",
      "metadata": {
        "id": "view-in-github",
        "colab_type": "text"
      },
      "source": [
        "<a href=\"https://colab.research.google.com/github/YMGYM/google_colab_files/blob/master/Music_making_with_python.ipynb\" target=\"_parent\"><img src=\"https://colab.research.google.com/assets/colab-badge.svg\" alt=\"Open In Colab\"/></a>"
      ]
    },
    {
      "cell_type": "markdown",
      "metadata": {
        "id": "kjjAGrhzwWDs",
        "colab_type": "text"
      },
      "source": [
        "# Intro\n",
        "this is my practice for [this post](https://tykimos.github.io/2018/09/14/How_to_Generate_Music_using_a_LSTM_Neural_Network_in_Keras/)"
      ]
    },
    {
      "cell_type": "code",
      "metadata": {
        "id": "I1IN7I0yug5f",
        "colab_type": "code",
        "colab": {
          "base_uri": "https://localhost:8080/",
          "height": 119
        },
        "outputId": "fda5d10a-44b8-492c-e40d-0a84d3d3873d"
      },
      "source": [
        "!git clone https://github.com/Skuldur/Classical-Piano-Composer.git /content/drive/My\\ Drive/Datasets/FFsong"
      ],
      "execution_count": null,
      "outputs": [
        {
          "output_type": "stream",
          "text": [
            "Cloning into '/content/drive/My Drive/Datasets/FFsong'...\n",
            "remote: Enumerating objects: 334, done.\u001b[K\n",
            "remote: Total 334 (delta 0), reused 0 (delta 0), pack-reused 334\u001b[K\n",
            "Receiving objects: 100% (334/334), 721.79 MiB | 17.69 MiB/s, done.\n",
            "Resolving deltas: 100% (41/41), done.\n",
            "Checking out files: 100% (101/101), done.\n"
          ],
          "name": "stdout"
        }
      ]
    },
    {
      "cell_type": "markdown",
      "metadata": {
        "id": "sn775Ug3wNR7",
        "colab_type": "text"
      },
      "source": [
        "# Preparing Data"
      ]
    },
    {
      "cell_type": "code",
      "metadata": {
        "id": "41LYksz5vawR",
        "colab_type": "code",
        "colab": {}
      },
      "source": [
        "from music21 import converter, instrument, note, chord\n",
        "import glob # 파일들의 리스트를 뽑는 라이브러리\n",
        "import numpy as np"
      ],
      "execution_count": 1,
      "outputs": []
    },
    {
      "cell_type": "code",
      "metadata": {
        "id": "Kl5hBKMPwh2o",
        "colab_type": "code",
        "colab": {
          "base_uri": "https://localhost:8080/",
          "height": 1000
        },
        "outputId": "e5706569-c492-4ca6-878c-3c670594dd9a"
      },
      "source": [
        "notes = []\n",
        "for file in glob.glob('/content/drive/My Drive/Datasets/FFsong/midi_songs/*.mid'):\n",
        "  midi = converter.parse(file)\n",
        "  notes_to_parse = None\n",
        "  try:\n",
        "    parts = instrument.partitionByInstrument(midi) # 각각의 악기별로 파티션을 나누고, 다른 파트들들 하나로 합쳐줌\n",
        "  except TypeError:\n",
        "    print('## 1 {} file occur error'.format(file))\n",
        "  if parts:\n",
        "    print('## 2 {} file has instaument parts'.format(file))\n",
        "    notes_to_parse = parts.parts[0].recurse() # 값들의 리스트를 반복할 수 있는 iterator 리턴\n",
        "  else:\n",
        "    print('## 3 {} file has notes in a flat structure'.format(file))\n",
        "    notes_to_parse = midi.flat.notes\n",
        "\n",
        "  for element in notes_to_parse:\n",
        "    if isinstance(element, note.Note): # element 가 <music21.note.Note E-> 74.0 형태\n",
        "      notes.append(str(element.pitch))\n",
        "    elif isinstance(element, chord.Chord): # element 가 <music21.chord.Chord F3 A3> 79.0 형태\n",
        "      notes.append('.'.join(str(n) for n in element.normalOrder))"
      ],
      "execution_count": 2,
      "outputs": [
        {
          "output_type": "stream",
          "text": [
            "## 2 /content/drive/My Drive/Datasets/FFsong/midi_songs/0fithos.mid file has instaument parts\n",
            "## 2 /content/drive/My Drive/Datasets/FFsong/midi_songs/8.mid file has instaument parts\n",
            "## 2 /content/drive/My Drive/Datasets/FFsong/midi_songs/AT.mid file has instaument parts\n",
            "## 2 /content/drive/My Drive/Datasets/FFsong/midi_songs/BlueStone_LastDungeon.mid file has instaument parts\n",
            "## 2 /content/drive/My Drive/Datasets/FFsong/midi_songs/Cids.mid file has instaument parts\n",
            "## 2 /content/drive/My Drive/Datasets/FFsong/midi_songs/DOS.mid file has instaument parts\n",
            "## 2 /content/drive/My Drive/Datasets/FFsong/midi_songs/Eternal_Harvest.mid file has instaument parts\n",
            "## 2 /content/drive/My Drive/Datasets/FFsong/midi_songs/EyesOnMePiano.mid file has instaument parts\n",
            "## 2 /content/drive/My Drive/Datasets/FFsong/midi_songs/FF3_Battle_(Piano).mid file has instaument parts\n",
            "## 2 /content/drive/My Drive/Datasets/FFsong/midi_songs/FF3_Third_Phase_Final_(Piano).mid file has instaument parts\n",
            "## 2 /content/drive/My Drive/Datasets/FFsong/midi_songs/FF4.mid file has instaument parts\n",
            "## 2 /content/drive/My Drive/Datasets/FFsong/midi_songs/FF6epitaph_piano.mid file has instaument parts\n",
            "## 2 /content/drive/My Drive/Datasets/FFsong/midi_songs/FF8_Shuffle_or_boogie_pc.mid file has instaument parts\n",
            "## 2 /content/drive/My Drive/Datasets/FFsong/midi_songs/FFIII_Edgar_And_Sabin_Piano.mid file has instaument parts\n",
            "## 2 /content/drive/My Drive/Datasets/FFsong/midi_songs/FFIXQuMarshP.mid file has instaument parts\n",
            "## 2 /content/drive/My Drive/Datasets/FFsong/midi_songs/FFIX_Piano.mid file has instaument parts\n",
            "## 2 /content/drive/My Drive/Datasets/FFsong/midi_songs/FFVII_BATTLE.mid file has instaument parts\n",
            "## 2 /content/drive/My Drive/Datasets/FFsong/midi_songs/FFX_-_Ending_Theme_(Piano_Version)_-_by_Angel_FF.mid file has instaument parts\n",
            "## 2 /content/drive/My Drive/Datasets/FFsong/midi_songs/Ff4-BattleLust.mid file has instaument parts\n",
            "## 2 /content/drive/My Drive/Datasets/FFsong/midi_songs/Ff7-Cinco.mid file has instaument parts\n",
            "## 2 /content/drive/My Drive/Datasets/FFsong/midi_songs/Ff7-Jenova_Absolute.mid file has instaument parts\n",
            "## 2 /content/drive/My Drive/Datasets/FFsong/midi_songs/Ff7-One_Winged.mid file has instaument parts\n",
            "## 2 /content/drive/My Drive/Datasets/FFsong/midi_songs/Fiend_Battle_(Piano).mid file has instaument parts\n",
            "## 2 /content/drive/My Drive/Datasets/FFsong/midi_songs/Fierce_Battle_(Piano).mid file has instaument parts\n",
            "## 2 /content/drive/My Drive/Datasets/FFsong/midi_songs/Final_Fantasy_7_-_Judgement_Day_Piano.mid file has instaument parts\n",
            "## 2 /content/drive/My Drive/Datasets/FFsong/midi_songs/Final_Fantasy_Matouyas_Cave_Piano.mid file has instaument parts\n",
            "## 2 /content/drive/My Drive/Datasets/FFsong/midi_songs/Finalfantasy5gilgameshp.mid file has instaument parts\n",
            "## 2 /content/drive/My Drive/Datasets/FFsong/midi_songs/Finalfantasy6fanfarecomplete.mid file has instaument parts\n",
            "## 2 /content/drive/My Drive/Datasets/FFsong/midi_songs/Fyw_piano.mid file has instaument parts\n",
            "## 2 /content/drive/My Drive/Datasets/FFsong/midi_songs/Gold_Silver_Rival_Battle.mid file has instaument parts\n",
            "## 2 /content/drive/My Drive/Datasets/FFsong/midi_songs/HighwindTakestotheSkies.mid file has instaument parts\n",
            "## 2 /content/drive/My Drive/Datasets/FFsong/midi_songs/In_Zanarkand.mid file has instaument parts\n",
            "## 2 /content/drive/My Drive/Datasets/FFsong/midi_songs/JENOVA.mid file has instaument parts\n",
            "## 2 /content/drive/My Drive/Datasets/FFsong/midi_songs/Kingdom_Hearts_Dearly_Beloved.mid file has instaument parts\n",
            "## 2 /content/drive/My Drive/Datasets/FFsong/midi_songs/Kingdom_Hearts_Traverse_Town.mid file has instaument parts\n",
            "## 2 /content/drive/My Drive/Datasets/FFsong/midi_songs/Life_Stream.mid file has instaument parts\n",
            "## 2 /content/drive/My Drive/Datasets/FFsong/midi_songs/OTD5YA.mid file has instaument parts\n",
            "## 2 /content/drive/My Drive/Datasets/FFsong/midi_songs/Oppressed.mid file has instaument parts\n",
            "## 2 /content/drive/My Drive/Datasets/FFsong/midi_songs/Rachel_Piano_tempofix.mid file has instaument parts\n",
            "## 2 /content/drive/My Drive/Datasets/FFsong/midi_songs/Rydia_pc.mid file has instaument parts\n",
            "## 2 /content/drive/My Drive/Datasets/FFsong/midi_songs/Still_Alive-1.mid file has instaument parts\n",
            "## 2 /content/drive/My Drive/Datasets/FFsong/midi_songs/Suteki_Da_Ne_(Piano_Version).mid file has instaument parts\n",
            "## 2 /content/drive/My Drive/Datasets/FFsong/midi_songs/VincentPiano.mid file has instaument parts\n",
            "## 2 /content/drive/My Drive/Datasets/FFsong/midi_songs/ViviinAlexandria.mid file has instaument parts\n",
            "## 2 /content/drive/My Drive/Datasets/FFsong/midi_songs/Zelda_Overworld.mid file has instaument parts\n",
            "## 2 /content/drive/My Drive/Datasets/FFsong/midi_songs/ahead_on_our_way_piano.mid file has instaument parts\n",
            "## 2 /content/drive/My Drive/Datasets/FFsong/midi_songs/balamb.mid file has instaument parts\n",
            "## 2 /content/drive/My Drive/Datasets/FFsong/midi_songs/bcm.mid file has instaument parts\n",
            "## 2 /content/drive/My Drive/Datasets/FFsong/midi_songs/braska.mid file has instaument parts\n",
            "## 2 /content/drive/My Drive/Datasets/FFsong/midi_songs/caitsith.mid file has instaument parts\n",
            "## 2 /content/drive/My Drive/Datasets/FFsong/midi_songs/cosmo.mid file has instaument parts\n",
            "## 2 /content/drive/My Drive/Datasets/FFsong/midi_songs/costadsol.mid file has instaument parts\n",
            "## 2 /content/drive/My Drive/Datasets/FFsong/midi_songs/dayafter.mid file has instaument parts\n",
            "## 2 /content/drive/My Drive/Datasets/FFsong/midi_songs/decisive.mid file has instaument parts\n",
            "## 2 /content/drive/My Drive/Datasets/FFsong/midi_songs/dontbeafraid.mid file has instaument parts\n",
            "## 2 /content/drive/My Drive/Datasets/FFsong/midi_songs/electric_de_chocobo.mid file has instaument parts\n",
            "## 2 /content/drive/My Drive/Datasets/FFsong/midi_songs/ff11_awakening_piano.mid file has instaument parts\n",
            "## 2 /content/drive/My Drive/Datasets/FFsong/midi_songs/ff1battp.mid file has instaument parts\n",
            "## 2 /content/drive/My Drive/Datasets/FFsong/midi_songs/ff4-airship.mid file has instaument parts\n",
            "## 2 /content/drive/My Drive/Datasets/FFsong/midi_songs/ff4-fight1.mid file has instaument parts\n",
            "## 2 /content/drive/My Drive/Datasets/FFsong/midi_songs/ff4-town.mid file has instaument parts\n",
            "## 2 /content/drive/My Drive/Datasets/FFsong/midi_songs/ff4_piano_collections-main_theme.mid file has instaument parts\n",
            "## 2 /content/drive/My Drive/Datasets/FFsong/midi_songs/ff4pclov.mid file has instaument parts\n",
            "## 2 /content/drive/My Drive/Datasets/FFsong/midi_songs/ff6shap.mid file has instaument parts\n",
            "## 2 /content/drive/My Drive/Datasets/FFsong/midi_songs/ff7-mainmidi.mid file has instaument parts\n",
            "## 2 /content/drive/My Drive/Datasets/FFsong/midi_songs/ff7themep.mid file has instaument parts\n",
            "## 2 /content/drive/My Drive/Datasets/FFsong/midi_songs/ff8-lfp.mid file has instaument parts\n",
            "## 2 /content/drive/My Drive/Datasets/FFsong/midi_songs/figaro.mid file has instaument parts\n",
            "## 2 /content/drive/My Drive/Datasets/FFsong/midi_songs/fortresscondor.mid file has instaument parts\n",
            "## 2 /content/drive/My Drive/Datasets/FFsong/midi_songs/gerudo.mid file has instaument parts\n",
            "## 2 /content/drive/My Drive/Datasets/FFsong/midi_songs/goldsaucer.mid file has instaument parts\n",
            "## 2 /content/drive/My Drive/Datasets/FFsong/midi_songs/great_war.mid file has instaument parts\n",
            "## 2 /content/drive/My Drive/Datasets/FFsong/midi_songs/lurk_in_dark.mid file has instaument parts\n",
            "## 2 /content/drive/My Drive/Datasets/FFsong/midi_songs/mining.mid file has instaument parts\n",
            "## 2 /content/drive/My Drive/Datasets/FFsong/midi_songs/path_of_repentance.mid file has instaument parts\n",
            "## 2 /content/drive/My Drive/Datasets/FFsong/midi_songs/pkelite4.mid file has instaument parts\n",
            "## 2 /content/drive/My Drive/Datasets/FFsong/midi_songs/redwings.mid file has instaument parts\n",
            "## 2 /content/drive/My Drive/Datasets/FFsong/midi_songs/relmstheme-piano.mid file has instaument parts\n",
            "## 2 /content/drive/My Drive/Datasets/FFsong/midi_songs/roseofmay-piano.mid file has instaument parts\n",
            "## 2 /content/drive/My Drive/Datasets/FFsong/midi_songs/rufus.mid file has instaument parts\n",
            "## 2 /content/drive/My Drive/Datasets/FFsong/midi_songs/sandy.mid file has instaument parts\n",
            "## 2 /content/drive/My Drive/Datasets/FFsong/midi_songs/sera_.mid file has instaument parts\n",
            "## 2 /content/drive/My Drive/Datasets/FFsong/midi_songs/sobf.mid file has instaument parts\n",
            "## 2 /content/drive/My Drive/Datasets/FFsong/midi_songs/thenightmarebegins.mid file has instaument parts\n",
            "## 2 /content/drive/My Drive/Datasets/FFsong/midi_songs/thoughts.mid file has instaument parts\n",
            "## 2 /content/drive/My Drive/Datasets/FFsong/midi_songs/tifap.mid file has instaument parts\n",
            "## 2 /content/drive/My Drive/Datasets/FFsong/midi_songs/tpirtsd-piano.mid file has instaument parts\n",
            "## 2 /content/drive/My Drive/Datasets/FFsong/midi_songs/traitor.mid file has instaument parts\n",
            "## 2 /content/drive/My Drive/Datasets/FFsong/midi_songs/ultimafro.mid file has instaument parts\n",
            "## 2 /content/drive/My Drive/Datasets/FFsong/midi_songs/ultros.mid file has instaument parts\n",
            "## 2 /content/drive/My Drive/Datasets/FFsong/midi_songs/waltz_de_choco.mid file has instaument parts\n",
            "## 2 /content/drive/My Drive/Datasets/FFsong/midi_songs/z_aeristhemepiano.mid file has instaument parts\n"
          ],
          "name": "stdout"
        }
      ]
    },
    {
      "cell_type": "code",
      "metadata": {
        "id": "YMy_STeNySwS",
        "colab_type": "code",
        "colab": {
          "base_uri": "https://localhost:8080/",
          "height": 34
        },
        "outputId": "8af8d746-65de-4ecd-d2de-95dcf19e3841"
      },
      "source": [
        "len(notes)"
      ],
      "execution_count": 3,
      "outputs": [
        {
          "output_type": "execute_result",
          "data": {
            "text/plain": [
              "57177"
            ]
          },
          "metadata": {
            "tags": []
          },
          "execution_count": 3
        }
      ]
    },
    {
      "cell_type": "markdown",
      "metadata": {
        "id": "amMD5lWOy8zp",
        "colab_type": "text"
      },
      "source": [
        "# preprocessing"
      ]
    },
    {
      "cell_type": "code",
      "metadata": {
        "id": "qpTcHSk90YYA",
        "colab_type": "code",
        "colab": {}
      },
      "source": [
        "sequence_length = 100\n",
        "# 모든 계이름의 이름을 pitchnames 변수에 저장함\n",
        "# set: 중복 피함, sorted:정렬\n",
        "pitchnames = sorted(set(item for item in notes))\n",
        "\n",
        "# 계이름을 숫자로 바꾸는 딕셔너리 생성\n",
        "note_to_int = dict((note, number) for number, note in enumerate(pitchnames))\n",
        "network_input = []\n",
        "network_output = []"
      ],
      "execution_count": 4,
      "outputs": []
    },
    {
      "cell_type": "code",
      "metadata": {
        "id": "k6b0VFGd1aVP",
        "colab_type": "code",
        "colab": {}
      },
      "source": [
        "for i in range(0, len(notes) - sequence_length, 1):\n",
        "  sequence_in = notes[i:i+ sequence_length]\n",
        "  sequence_out = notes[i+sequence_length]\n",
        "  network_input.append([note_to_int[char] for char in sequence_in])\n",
        "  network_output.append(note_to_int[sequence_out])\n",
        "\n",
        "n_patterns = len(network_input)"
      ],
      "execution_count": 5,
      "outputs": []
    },
    {
      "cell_type": "code",
      "metadata": {
        "id": "d-wne7KV1bdO",
        "colab_type": "code",
        "colab": {
          "base_uri": "https://localhost:8080/",
          "height": 34
        },
        "outputId": "9b1e11fa-237c-4c15-e575-f53cb7570835"
      },
      "source": [
        "# 데이터 입력 형태를 LTSM에 맞게 변환\n",
        "network_input = np.reshape(network_input, (n_patterns, sequence_length, 1))\n",
        "\n",
        "from keras.utils import np_utils\n",
        "\n",
        "# 입력값 정규화\n",
        "n_vocab = len(set(notes))\n",
        "network_input = network_input / float(n_vocab)\n",
        "network_output = np_utils.to_categorical(network_output)"
      ],
      "execution_count": 8,
      "outputs": [
        {
          "output_type": "stream",
          "text": [
            "Using TensorFlow backend.\n"
          ],
          "name": "stderr"
        }
      ]
    },
    {
      "cell_type": "code",
      "metadata": {
        "id": "ms_ifA_d2tSE",
        "colab_type": "code",
        "colab": {
          "base_uri": "https://localhost:8080/",
          "height": 34
        },
        "outputId": "018298eb-0087-4ccc-cdb6-d23aa79bb2df"
      },
      "source": [
        "network_output.shape"
      ],
      "execution_count": 11,
      "outputs": [
        {
          "output_type": "execute_result",
          "data": {
            "text/plain": [
              "(57077, 358)"
            ]
          },
          "metadata": {
            "tags": []
          },
          "execution_count": 11
        }
      ]
    },
    {
      "cell_type": "markdown",
      "metadata": {
        "id": "XSJctfgKWKV1",
        "colab_type": "text"
      },
      "source": [
        "# Make Model"
      ]
    },
    {
      "cell_type": "code",
      "metadata": {
        "id": "OZShFxQIWWgN",
        "colab_type": "code",
        "colab": {}
      },
      "source": [
        "from keras.models import Sequential\n",
        "from keras.layers import Dense, Dropout, LSTM, Activation, BatchNormalization\n",
        "from keras.callbacks import ModelCheckpoint"
      ],
      "execution_count": 12,
      "outputs": []
    },
    {
      "cell_type": "code",
      "metadata": {
        "id": "rAaQGSk8WrbG",
        "colab_type": "code",
        "colab": {}
      },
      "source": [
        "model = Sequential()\n",
        "model.add(LSTM(256, input_shape=(network_input.shape[0], network_input.shape[1]), return_sequences=True))\n",
        "model.add(Dropout(0.3))\n",
        "model.add(LSTM(512, return_sequences=True, recurrent_dropout=0.3))\n",
        "model.add(LSTM(512))\n",
        "model.add(BatchNormalization())\n",
        "model.add(Dropout(0.3))\n",
        "model.add(Dense(256))\n",
        "model.add(Activation('relu'))\n",
        "model.add(BatchNormalization())\n",
        "model.add(Dropout(0.3))\n",
        "model.add(Dense(n_vocab))\n",
        "model.add(Activation(\"softmax\"))\n",
        "model.compile(loss=\"categorical_crossentropy\", optimizer=\"rmsprop\")"
      ],
      "execution_count": 20,
      "outputs": []
    },
    {
      "cell_type": "code",
      "metadata": {
        "id": "m-x2TqIOXs1o",
        "colab_type": "code",
        "colab": {
          "base_uri": "https://localhost:8080/",
          "height": 561
        },
        "outputId": "896fb2cb-2b90-4f4f-936c-5877cb911a1b"
      },
      "source": [
        "model.summary()"
      ],
      "execution_count": 21,
      "outputs": [
        {
          "output_type": "stream",
          "text": [
            "Model: \"sequential_4\"\n",
            "_________________________________________________________________\n",
            "Layer (type)                 Output Shape              Param #   \n",
            "=================================================================\n",
            "lstm_10 (LSTM)               (None, 57077, 256)        365568    \n",
            "_________________________________________________________________\n",
            "dropout_9 (Dropout)          (None, 57077, 256)        0         \n",
            "_________________________________________________________________\n",
            "lstm_11 (LSTM)               (None, 57077, 512)        1574912   \n",
            "_________________________________________________________________\n",
            "lstm_12 (LSTM)               (None, 512)               2099200   \n",
            "_________________________________________________________________\n",
            "batch_normalization_2 (Batch (None, 512)               2048      \n",
            "_________________________________________________________________\n",
            "dropout_10 (Dropout)         (None, 512)               0         \n",
            "_________________________________________________________________\n",
            "dense_6 (Dense)              (None, 256)               131328    \n",
            "_________________________________________________________________\n",
            "activation_4 (Activation)    (None, 256)               0         \n",
            "_________________________________________________________________\n",
            "batch_normalization_3 (Batch (None, 256)               1024      \n",
            "_________________________________________________________________\n",
            "dropout_11 (Dropout)         (None, 256)               0         \n",
            "_________________________________________________________________\n",
            "dense_7 (Dense)              (None, 358)               92006     \n",
            "_________________________________________________________________\n",
            "activation_5 (Activation)    (None, 358)               0         \n",
            "=================================================================\n",
            "Total params: 4,266,086\n",
            "Trainable params: 4,264,550\n",
            "Non-trainable params: 1,536\n",
            "_________________________________________________________________\n"
          ],
          "name": "stdout"
        }
      ]
    },
    {
      "cell_type": "markdown",
      "metadata": {
        "id": "2PbbRmxfXxFg",
        "colab_type": "text"
      },
      "source": [
        "## load weight"
      ]
    },
    {
      "cell_type": "code",
      "metadata": {
        "id": "FwshQpwPX2ZF",
        "colab_type": "code",
        "colab": {
          "base_uri": "https://localhost:8080/",
          "height": 324
        },
        "outputId": "97f3d394-c4f8-4061-fc76-170198ffa64c"
      },
      "source": [
        "model.load_weights(\"/content/drive/My Drive/Datasets/FFsong/weights.hdf5\")"
      ],
      "execution_count": 23,
      "outputs": [
        {
          "output_type": "error",
          "ename": "ValueError",
          "evalue": "ignored",
          "traceback": [
            "\u001b[0;31m---------------------------------------------------------------------------\u001b[0m",
            "\u001b[0;31mValueError\u001b[0m                                Traceback (most recent call last)",
            "\u001b[0;32m<ipython-input-23-1dbe58e2918a>\u001b[0m in \u001b[0;36m<module>\u001b[0;34m()\u001b[0m\n\u001b[0;32m----> 1\u001b[0;31m \u001b[0mmodel\u001b[0m\u001b[0;34m.\u001b[0m\u001b[0mload_weights\u001b[0m\u001b[0;34m(\u001b[0m\u001b[0;34m\"/content/drive/My Drive/Datasets/FFsong/weights.hdf5\"\u001b[0m\u001b[0;34m)\u001b[0m\u001b[0;34m\u001b[0m\u001b[0;34m\u001b[0m\u001b[0m\n\u001b[0m",
            "\u001b[0;32m/usr/local/lib/python3.6/dist-packages/keras/engine/saving.py\u001b[0m in \u001b[0;36mload_wrapper\u001b[0;34m(*args, **kwargs)\u001b[0m\n\u001b[1;32m    490\u001b[0m                 \u001b[0mos\u001b[0m\u001b[0;34m.\u001b[0m\u001b[0mremove\u001b[0m\u001b[0;34m(\u001b[0m\u001b[0mtmp_filepath\u001b[0m\u001b[0;34m)\u001b[0m\u001b[0;34m\u001b[0m\u001b[0;34m\u001b[0m\u001b[0m\n\u001b[1;32m    491\u001b[0m             \u001b[0;32mreturn\u001b[0m \u001b[0mres\u001b[0m\u001b[0;34m\u001b[0m\u001b[0;34m\u001b[0m\u001b[0m\n\u001b[0;32m--> 492\u001b[0;31m         \u001b[0;32mreturn\u001b[0m \u001b[0mload_function\u001b[0m\u001b[0;34m(\u001b[0m\u001b[0;34m*\u001b[0m\u001b[0margs\u001b[0m\u001b[0;34m,\u001b[0m \u001b[0;34m**\u001b[0m\u001b[0mkwargs\u001b[0m\u001b[0;34m)\u001b[0m\u001b[0;34m\u001b[0m\u001b[0;34m\u001b[0m\u001b[0m\n\u001b[0m\u001b[1;32m    493\u001b[0m \u001b[0;34m\u001b[0m\u001b[0m\n\u001b[1;32m    494\u001b[0m     \u001b[0;32mreturn\u001b[0m \u001b[0mload_wrapper\u001b[0m\u001b[0;34m\u001b[0m\u001b[0;34m\u001b[0m\u001b[0m\n",
            "\u001b[0;32m/usr/local/lib/python3.6/dist-packages/keras/engine/network.py\u001b[0m in \u001b[0;36mload_weights\u001b[0;34m(self, filepath, by_name, skip_mismatch, reshape)\u001b[0m\n\u001b[1;32m   1228\u001b[0m             \u001b[0;32melse\u001b[0m\u001b[0;34m:\u001b[0m\u001b[0;34m\u001b[0m\u001b[0;34m\u001b[0m\u001b[0m\n\u001b[1;32m   1229\u001b[0m                 saving.load_weights_from_hdf5_group(\n\u001b[0;32m-> 1230\u001b[0;31m                     f, self.layers, reshape=reshape)\n\u001b[0m\u001b[1;32m   1231\u001b[0m             \u001b[0;32mif\u001b[0m \u001b[0mhasattr\u001b[0m\u001b[0;34m(\u001b[0m\u001b[0mf\u001b[0m\u001b[0;34m,\u001b[0m \u001b[0;34m'close'\u001b[0m\u001b[0;34m)\u001b[0m\u001b[0;34m:\u001b[0m\u001b[0;34m\u001b[0m\u001b[0;34m\u001b[0m\u001b[0m\n\u001b[1;32m   1232\u001b[0m                 \u001b[0mf\u001b[0m\u001b[0;34m.\u001b[0m\u001b[0mclose\u001b[0m\u001b[0;34m(\u001b[0m\u001b[0;34m)\u001b[0m\u001b[0;34m\u001b[0m\u001b[0;34m\u001b[0m\u001b[0m\n",
            "\u001b[0;32m/usr/local/lib/python3.6/dist-packages/keras/engine/saving.py\u001b[0m in \u001b[0;36mload_weights_from_hdf5_group\u001b[0;34m(f, layers, reshape)\u001b[0m\n\u001b[1;32m   1235\u001b[0m                              ' elements.')\n\u001b[1;32m   1236\u001b[0m         \u001b[0mweight_value_tuples\u001b[0m \u001b[0;34m+=\u001b[0m \u001b[0mzip\u001b[0m\u001b[0;34m(\u001b[0m\u001b[0msymbolic_weights\u001b[0m\u001b[0;34m,\u001b[0m \u001b[0mweight_values\u001b[0m\u001b[0;34m)\u001b[0m\u001b[0;34m\u001b[0m\u001b[0;34m\u001b[0m\u001b[0m\n\u001b[0;32m-> 1237\u001b[0;31m     \u001b[0mK\u001b[0m\u001b[0;34m.\u001b[0m\u001b[0mbatch_set_value\u001b[0m\u001b[0;34m(\u001b[0m\u001b[0mweight_value_tuples\u001b[0m\u001b[0;34m)\u001b[0m\u001b[0;34m\u001b[0m\u001b[0;34m\u001b[0m\u001b[0m\n\u001b[0m\u001b[1;32m   1238\u001b[0m \u001b[0;34m\u001b[0m\u001b[0m\n\u001b[1;32m   1239\u001b[0m \u001b[0;34m\u001b[0m\u001b[0m\n",
            "\u001b[0;32m/usr/local/lib/python3.6/dist-packages/keras/backend/tensorflow_backend.py\u001b[0m in \u001b[0;36mbatch_set_value\u001b[0;34m(tuples)\u001b[0m\n\u001b[1;32m   2958\u001b[0m             \u001b[0;31m`\u001b[0m\u001b[0mvalue\u001b[0m\u001b[0;31m`\u001b[0m \u001b[0mshould\u001b[0m \u001b[0mbe\u001b[0m \u001b[0ma\u001b[0m \u001b[0mNumpy\u001b[0m \u001b[0marray\u001b[0m\u001b[0;34m.\u001b[0m\u001b[0;34m\u001b[0m\u001b[0;34m\u001b[0m\u001b[0m\n\u001b[1;32m   2959\u001b[0m     \"\"\"\n\u001b[0;32m-> 2960\u001b[0;31m     \u001b[0mtf_keras_backend\u001b[0m\u001b[0;34m.\u001b[0m\u001b[0mbatch_set_value\u001b[0m\u001b[0;34m(\u001b[0m\u001b[0mtuples\u001b[0m\u001b[0;34m)\u001b[0m\u001b[0;34m\u001b[0m\u001b[0;34m\u001b[0m\u001b[0m\n\u001b[0m\u001b[1;32m   2961\u001b[0m \u001b[0;34m\u001b[0m\u001b[0m\n\u001b[1;32m   2962\u001b[0m \u001b[0;34m\u001b[0m\u001b[0m\n",
            "\u001b[0;32m/usr/local/lib/python3.6/dist-packages/tensorflow/python/keras/backend.py\u001b[0m in \u001b[0;36mbatch_set_value\u001b[0;34m(tuples)\u001b[0m\n\u001b[1;32m   3382\u001b[0m   \u001b[0;32mif\u001b[0m \u001b[0mops\u001b[0m\u001b[0;34m.\u001b[0m\u001b[0mexecuting_eagerly_outside_functions\u001b[0m\u001b[0;34m(\u001b[0m\u001b[0;34m)\u001b[0m\u001b[0;34m:\u001b[0m\u001b[0;34m\u001b[0m\u001b[0;34m\u001b[0m\u001b[0m\n\u001b[1;32m   3383\u001b[0m     \u001b[0;32mfor\u001b[0m \u001b[0mx\u001b[0m\u001b[0;34m,\u001b[0m \u001b[0mvalue\u001b[0m \u001b[0;32min\u001b[0m \u001b[0mtuples\u001b[0m\u001b[0;34m:\u001b[0m\u001b[0;34m\u001b[0m\u001b[0;34m\u001b[0m\u001b[0m\n\u001b[0;32m-> 3384\u001b[0;31m       \u001b[0mx\u001b[0m\u001b[0;34m.\u001b[0m\u001b[0massign\u001b[0m\u001b[0;34m(\u001b[0m\u001b[0mnp\u001b[0m\u001b[0;34m.\u001b[0m\u001b[0masarray\u001b[0m\u001b[0;34m(\u001b[0m\u001b[0mvalue\u001b[0m\u001b[0;34m,\u001b[0m \u001b[0mdtype\u001b[0m\u001b[0;34m=\u001b[0m\u001b[0mdtype\u001b[0m\u001b[0;34m(\u001b[0m\u001b[0mx\u001b[0m\u001b[0;34m)\u001b[0m\u001b[0;34m)\u001b[0m\u001b[0;34m)\u001b[0m\u001b[0;34m\u001b[0m\u001b[0;34m\u001b[0m\u001b[0m\n\u001b[0m\u001b[1;32m   3385\u001b[0m   \u001b[0;32melse\u001b[0m\u001b[0;34m:\u001b[0m\u001b[0;34m\u001b[0m\u001b[0;34m\u001b[0m\u001b[0m\n\u001b[1;32m   3386\u001b[0m     \u001b[0;32mwith\u001b[0m \u001b[0mget_graph\u001b[0m\u001b[0;34m(\u001b[0m\u001b[0;34m)\u001b[0m\u001b[0;34m.\u001b[0m\u001b[0mas_default\u001b[0m\u001b[0;34m(\u001b[0m\u001b[0;34m)\u001b[0m\u001b[0;34m:\u001b[0m\u001b[0;34m\u001b[0m\u001b[0;34m\u001b[0m\u001b[0m\n",
            "\u001b[0;32m/usr/local/lib/python3.6/dist-packages/tensorflow/python/ops/resource_variable_ops.py\u001b[0m in \u001b[0;36massign\u001b[0;34m(self, value, use_locking, name, read_value)\u001b[0m\n\u001b[1;32m    844\u001b[0m     \u001b[0;32mwith\u001b[0m \u001b[0m_handle_graph\u001b[0m\u001b[0;34m(\u001b[0m\u001b[0mself\u001b[0m\u001b[0;34m.\u001b[0m\u001b[0mhandle\u001b[0m\u001b[0;34m)\u001b[0m\u001b[0;34m:\u001b[0m\u001b[0;34m\u001b[0m\u001b[0;34m\u001b[0m\u001b[0m\n\u001b[1;32m    845\u001b[0m       \u001b[0mvalue_tensor\u001b[0m \u001b[0;34m=\u001b[0m \u001b[0mops\u001b[0m\u001b[0;34m.\u001b[0m\u001b[0mconvert_to_tensor\u001b[0m\u001b[0;34m(\u001b[0m\u001b[0mvalue\u001b[0m\u001b[0;34m,\u001b[0m \u001b[0mdtype\u001b[0m\u001b[0;34m=\u001b[0m\u001b[0mself\u001b[0m\u001b[0;34m.\u001b[0m\u001b[0mdtype\u001b[0m\u001b[0;34m)\u001b[0m\u001b[0;34m\u001b[0m\u001b[0;34m\u001b[0m\u001b[0m\n\u001b[0;32m--> 846\u001b[0;31m       \u001b[0mself\u001b[0m\u001b[0;34m.\u001b[0m\u001b[0m_shape\u001b[0m\u001b[0;34m.\u001b[0m\u001b[0massert_is_compatible_with\u001b[0m\u001b[0;34m(\u001b[0m\u001b[0mvalue_tensor\u001b[0m\u001b[0;34m.\u001b[0m\u001b[0mshape\u001b[0m\u001b[0;34m)\u001b[0m\u001b[0;34m\u001b[0m\u001b[0;34m\u001b[0m\u001b[0m\n\u001b[0m\u001b[1;32m    847\u001b[0m       assign_op = gen_resource_variable_ops.assign_variable_op(\n\u001b[1;32m    848\u001b[0m           self.handle, value_tensor, name=name)\n",
            "\u001b[0;32m/usr/local/lib/python3.6/dist-packages/tensorflow/python/framework/tensor_shape.py\u001b[0m in \u001b[0;36massert_is_compatible_with\u001b[0;34m(self, other)\u001b[0m\n\u001b[1;32m   1115\u001b[0m     \"\"\"\n\u001b[1;32m   1116\u001b[0m     \u001b[0;32mif\u001b[0m \u001b[0;32mnot\u001b[0m \u001b[0mself\u001b[0m\u001b[0;34m.\u001b[0m\u001b[0mis_compatible_with\u001b[0m\u001b[0;34m(\u001b[0m\u001b[0mother\u001b[0m\u001b[0;34m)\u001b[0m\u001b[0;34m:\u001b[0m\u001b[0;34m\u001b[0m\u001b[0;34m\u001b[0m\u001b[0m\n\u001b[0;32m-> 1117\u001b[0;31m       \u001b[0;32mraise\u001b[0m \u001b[0mValueError\u001b[0m\u001b[0;34m(\u001b[0m\u001b[0;34m\"Shapes %s and %s are incompatible\"\u001b[0m \u001b[0;34m%\u001b[0m \u001b[0;34m(\u001b[0m\u001b[0mself\u001b[0m\u001b[0;34m,\u001b[0m \u001b[0mother\u001b[0m\u001b[0;34m)\u001b[0m\u001b[0;34m)\u001b[0m\u001b[0;34m\u001b[0m\u001b[0;34m\u001b[0m\u001b[0m\n\u001b[0m\u001b[1;32m   1118\u001b[0m \u001b[0;34m\u001b[0m\u001b[0m\n\u001b[1;32m   1119\u001b[0m   \u001b[0;32mdef\u001b[0m \u001b[0mmost_specific_compatible_shape\u001b[0m\u001b[0;34m(\u001b[0m\u001b[0mself\u001b[0m\u001b[0;34m,\u001b[0m \u001b[0mother\u001b[0m\u001b[0;34m)\u001b[0m\u001b[0;34m:\u001b[0m\u001b[0;34m\u001b[0m\u001b[0;34m\u001b[0m\u001b[0m\n",
            "\u001b[0;31mValueError\u001b[0m: Shapes (100, 1024) and (1, 2048) are incompatible"
          ]
        }
      ]
    },
    {
      "cell_type": "code",
      "metadata": {
        "id": "vVcdrcAKYAat",
        "colab_type": "code",
        "colab": {}
      },
      "source": [
        ""
      ],
      "execution_count": null,
      "outputs": []
    }
  ]
}