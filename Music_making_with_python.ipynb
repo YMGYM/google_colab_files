{
  "nbformat": 4,
  "nbformat_minor": 0,
  "metadata": {
    "colab": {
      "name": "Music_making_with_python",
      "provenance": [],
      "collapsed_sections": [],
      "mount_file_id": "1yTrXaGSNzYoo_y19rCNJ7Nsv2v5fcYaz",
      "authorship_tag": "ABX9TyMWQ42UYb1t1S9Q1yOFJ9UG",
      "include_colab_link": true
    },
    "kernelspec": {
      "name": "python3",
      "display_name": "Python 3"
    }
  },
  "cells": [
    {
      "cell_type": "markdown",
      "metadata": {
        "id": "view-in-github",
        "colab_type": "text"
      },
      "source": [
        "<a href=\"https://colab.research.google.com/github/YMGYM/google_colab_files/blob/master/Music_making_with_python.ipynb\" target=\"_parent\"><img src=\"https://colab.research.google.com/assets/colab-badge.svg\" alt=\"Open In Colab\"/></a>"
      ]
    },
    {
      "cell_type": "markdown",
      "metadata": {
        "id": "kjjAGrhzwWDs",
        "colab_type": "text"
      },
      "source": [
        "# Intro\n",
        "this is my practice for [this post](https://tykimos.github.io/2018/09/14/How_to_Generate_Music_using_a_LSTM_Neural_Network_in_Keras/)"
      ]
    },
    {
      "cell_type": "code",
      "metadata": {
        "id": "I1IN7I0yug5f",
        "colab_type": "code",
        "colab": {
          "base_uri": "https://localhost:8080/",
          "height": 119
        },
        "outputId": "fda5d10a-44b8-492c-e40d-0a84d3d3873d"
      },
      "source": [
        "!git clone https://github.com/Skuldur/Classical-Piano-Composer.git /content/drive/My\\ Drive/Datasets/FFsong"
      ],
      "execution_count": 2,
      "outputs": [
        {
          "output_type": "stream",
          "text": [
            "Cloning into '/content/drive/My Drive/Datasets/FFsong'...\n",
            "remote: Enumerating objects: 334, done.\u001b[K\n",
            "remote: Total 334 (delta 0), reused 0 (delta 0), pack-reused 334\u001b[K\n",
            "Receiving objects: 100% (334/334), 721.79 MiB | 17.69 MiB/s, done.\n",
            "Resolving deltas: 100% (41/41), done.\n",
            "Checking out files: 100% (101/101), done.\n"
          ],
          "name": "stdout"
        }
      ]
    },
    {
      "cell_type": "markdown",
      "metadata": {
        "id": "sn775Ug3wNR7",
        "colab_type": "text"
      },
      "source": [
        "# Preparing Data"
      ]
    },
    {
      "cell_type": "code",
      "metadata": {
        "id": "41LYksz5vawR",
        "colab_type": "code",
        "colab": {}
      },
      "source": [
        "from music21 import converter, instrument, note, chord\n",
        "import glob # 파일들의 리스트를 뽑는 라이브러리\n",
        "import numpy as np"
      ],
      "execution_count": 34,
      "outputs": []
    },
    {
      "cell_type": "code",
      "metadata": {
        "id": "Kl5hBKMPwh2o",
        "colab_type": "code",
        "colab": {
          "base_uri": "https://localhost:8080/",
          "height": 1000
        },
        "outputId": "38e1614c-873b-4f1d-a357-28a712102ecb"
      },
      "source": [
        "notes = []\n",
        "for file in glob.glob('/content/drive/My Drive/Datasets/FFsong/midi_songs/*.mid'):\n",
        "  midi = converter.parse(file)\n",
        "  notes_to_parse = None\n",
        "  try:\n",
        "    parts = instrument.partitionByInstrument(midi) # 각각의 악기별로 파티션을 나누고, 다른 파트들들 하나로 합쳐줌\n",
        "  except TypeError:\n",
        "    print('## 1 {} file occur error'.format(file))\n",
        "  if parts:\n",
        "    print('## 2 {} file has instaument parts'.format(file))\n",
        "    notes_to_parse = parts.parts[0].recurse() # 값들의 리스트를 반복할 수 있는 iterator 리턴\n",
        "  else:\n",
        "    print('## 3 {} file has notes in a flat structure'.format(file))\n",
        "    notes_to_parse = midi.flat.notes\n",
        "\n",
        "  for element in notes_to_parse:\n",
        "    if isinstance(element, note.Note): # element 가 <music21.note.Note E-> 74.0 형태\n",
        "      notes.append(str(element.pitch))\n",
        "    elif isinstance(element, chord.Chord): # element 가 <music21.chord.Chord F3 A3> 79.0 형태\n",
        "      notes.append('.'.join(str(n) for n in element.normalOrder))"
      ],
      "execution_count": 27,
      "outputs": [
        {
          "output_type": "stream",
          "text": [
            "## 2 /content/drive/My Drive/Datasets/FFsong/midi_songs/0fithos.mid file has instaument parts\n",
            "## 2 /content/drive/My Drive/Datasets/FFsong/midi_songs/8.mid file has instaument parts\n",
            "## 2 /content/drive/My Drive/Datasets/FFsong/midi_songs/AT.mid file has instaument parts\n",
            "## 2 /content/drive/My Drive/Datasets/FFsong/midi_songs/BlueStone_LastDungeon.mid file has instaument parts\n",
            "## 2 /content/drive/My Drive/Datasets/FFsong/midi_songs/Cids.mid file has instaument parts\n",
            "## 2 /content/drive/My Drive/Datasets/FFsong/midi_songs/DOS.mid file has instaument parts\n",
            "## 2 /content/drive/My Drive/Datasets/FFsong/midi_songs/Eternal_Harvest.mid file has instaument parts\n",
            "## 2 /content/drive/My Drive/Datasets/FFsong/midi_songs/EyesOnMePiano.mid file has instaument parts\n",
            "## 2 /content/drive/My Drive/Datasets/FFsong/midi_songs/FF3_Battle_(Piano).mid file has instaument parts\n",
            "## 2 /content/drive/My Drive/Datasets/FFsong/midi_songs/FF3_Third_Phase_Final_(Piano).mid file has instaument parts\n",
            "## 2 /content/drive/My Drive/Datasets/FFsong/midi_songs/FF4.mid file has instaument parts\n",
            "## 2 /content/drive/My Drive/Datasets/FFsong/midi_songs/FF6epitaph_piano.mid file has instaument parts\n",
            "## 2 /content/drive/My Drive/Datasets/FFsong/midi_songs/FF8_Shuffle_or_boogie_pc.mid file has instaument parts\n",
            "## 2 /content/drive/My Drive/Datasets/FFsong/midi_songs/FFIII_Edgar_And_Sabin_Piano.mid file has instaument parts\n",
            "## 2 /content/drive/My Drive/Datasets/FFsong/midi_songs/FFIXQuMarshP.mid file has instaument parts\n",
            "## 2 /content/drive/My Drive/Datasets/FFsong/midi_songs/FFIX_Piano.mid file has instaument parts\n",
            "## 2 /content/drive/My Drive/Datasets/FFsong/midi_songs/FFVII_BATTLE.mid file has instaument parts\n",
            "## 2 /content/drive/My Drive/Datasets/FFsong/midi_songs/FFX_-_Ending_Theme_(Piano_Version)_-_by_Angel_FF.mid file has instaument parts\n",
            "## 2 /content/drive/My Drive/Datasets/FFsong/midi_songs/Ff4-BattleLust.mid file has instaument parts\n",
            "## 2 /content/drive/My Drive/Datasets/FFsong/midi_songs/Ff7-Cinco.mid file has instaument parts\n",
            "## 2 /content/drive/My Drive/Datasets/FFsong/midi_songs/Ff7-Jenova_Absolute.mid file has instaument parts\n",
            "## 2 /content/drive/My Drive/Datasets/FFsong/midi_songs/Ff7-One_Winged.mid file has instaument parts\n",
            "## 2 /content/drive/My Drive/Datasets/FFsong/midi_songs/Fiend_Battle_(Piano).mid file has instaument parts\n",
            "## 2 /content/drive/My Drive/Datasets/FFsong/midi_songs/Fierce_Battle_(Piano).mid file has instaument parts\n",
            "## 2 /content/drive/My Drive/Datasets/FFsong/midi_songs/Final_Fantasy_7_-_Judgement_Day_Piano.mid file has instaument parts\n",
            "## 2 /content/drive/My Drive/Datasets/FFsong/midi_songs/Final_Fantasy_Matouyas_Cave_Piano.mid file has instaument parts\n",
            "## 2 /content/drive/My Drive/Datasets/FFsong/midi_songs/Finalfantasy5gilgameshp.mid file has instaument parts\n",
            "## 2 /content/drive/My Drive/Datasets/FFsong/midi_songs/Finalfantasy6fanfarecomplete.mid file has instaument parts\n",
            "## 2 /content/drive/My Drive/Datasets/FFsong/midi_songs/Fyw_piano.mid file has instaument parts\n",
            "## 2 /content/drive/My Drive/Datasets/FFsong/midi_songs/Gold_Silver_Rival_Battle.mid file has instaument parts\n",
            "## 2 /content/drive/My Drive/Datasets/FFsong/midi_songs/HighwindTakestotheSkies.mid file has instaument parts\n",
            "## 2 /content/drive/My Drive/Datasets/FFsong/midi_songs/In_Zanarkand.mid file has instaument parts\n",
            "## 2 /content/drive/My Drive/Datasets/FFsong/midi_songs/JENOVA.mid file has instaument parts\n",
            "## 2 /content/drive/My Drive/Datasets/FFsong/midi_songs/Kingdom_Hearts_Dearly_Beloved.mid file has instaument parts\n",
            "## 2 /content/drive/My Drive/Datasets/FFsong/midi_songs/Kingdom_Hearts_Traverse_Town.mid file has instaument parts\n",
            "## 2 /content/drive/My Drive/Datasets/FFsong/midi_songs/Life_Stream.mid file has instaument parts\n",
            "## 2 /content/drive/My Drive/Datasets/FFsong/midi_songs/OTD5YA.mid file has instaument parts\n",
            "## 2 /content/drive/My Drive/Datasets/FFsong/midi_songs/Oppressed.mid file has instaument parts\n",
            "## 2 /content/drive/My Drive/Datasets/FFsong/midi_songs/Rachel_Piano_tempofix.mid file has instaument parts\n",
            "## 2 /content/drive/My Drive/Datasets/FFsong/midi_songs/Rydia_pc.mid file has instaument parts\n",
            "## 2 /content/drive/My Drive/Datasets/FFsong/midi_songs/Still_Alive-1.mid file has instaument parts\n",
            "## 2 /content/drive/My Drive/Datasets/FFsong/midi_songs/Suteki_Da_Ne_(Piano_Version).mid file has instaument parts\n",
            "## 2 /content/drive/My Drive/Datasets/FFsong/midi_songs/VincentPiano.mid file has instaument parts\n",
            "## 2 /content/drive/My Drive/Datasets/FFsong/midi_songs/ViviinAlexandria.mid file has instaument parts\n",
            "## 2 /content/drive/My Drive/Datasets/FFsong/midi_songs/Zelda_Overworld.mid file has instaument parts\n",
            "## 2 /content/drive/My Drive/Datasets/FFsong/midi_songs/ahead_on_our_way_piano.mid file has instaument parts\n",
            "## 2 /content/drive/My Drive/Datasets/FFsong/midi_songs/balamb.mid file has instaument parts\n",
            "## 2 /content/drive/My Drive/Datasets/FFsong/midi_songs/bcm.mid file has instaument parts\n",
            "## 2 /content/drive/My Drive/Datasets/FFsong/midi_songs/braska.mid file has instaument parts\n",
            "## 2 /content/drive/My Drive/Datasets/FFsong/midi_songs/caitsith.mid file has instaument parts\n",
            "## 2 /content/drive/My Drive/Datasets/FFsong/midi_songs/cosmo.mid file has instaument parts\n",
            "## 2 /content/drive/My Drive/Datasets/FFsong/midi_songs/costadsol.mid file has instaument parts\n",
            "## 2 /content/drive/My Drive/Datasets/FFsong/midi_songs/dayafter.mid file has instaument parts\n",
            "## 2 /content/drive/My Drive/Datasets/FFsong/midi_songs/decisive.mid file has instaument parts\n",
            "## 2 /content/drive/My Drive/Datasets/FFsong/midi_songs/dontbeafraid.mid file has instaument parts\n",
            "## 2 /content/drive/My Drive/Datasets/FFsong/midi_songs/electric_de_chocobo.mid file has instaument parts\n",
            "## 2 /content/drive/My Drive/Datasets/FFsong/midi_songs/ff11_awakening_piano.mid file has instaument parts\n",
            "## 2 /content/drive/My Drive/Datasets/FFsong/midi_songs/ff1battp.mid file has instaument parts\n",
            "## 2 /content/drive/My Drive/Datasets/FFsong/midi_songs/ff4-airship.mid file has instaument parts\n",
            "## 2 /content/drive/My Drive/Datasets/FFsong/midi_songs/ff4-fight1.mid file has instaument parts\n",
            "## 2 /content/drive/My Drive/Datasets/FFsong/midi_songs/ff4-town.mid file has instaument parts\n",
            "## 2 /content/drive/My Drive/Datasets/FFsong/midi_songs/ff4_piano_collections-main_theme.mid file has instaument parts\n",
            "## 2 /content/drive/My Drive/Datasets/FFsong/midi_songs/ff4pclov.mid file has instaument parts\n",
            "## 2 /content/drive/My Drive/Datasets/FFsong/midi_songs/ff6shap.mid file has instaument parts\n",
            "## 2 /content/drive/My Drive/Datasets/FFsong/midi_songs/ff7-mainmidi.mid file has instaument parts\n",
            "## 2 /content/drive/My Drive/Datasets/FFsong/midi_songs/ff7themep.mid file has instaument parts\n",
            "## 2 /content/drive/My Drive/Datasets/FFsong/midi_songs/ff8-lfp.mid file has instaument parts\n",
            "## 2 /content/drive/My Drive/Datasets/FFsong/midi_songs/figaro.mid file has instaument parts\n",
            "## 2 /content/drive/My Drive/Datasets/FFsong/midi_songs/fortresscondor.mid file has instaument parts\n",
            "## 2 /content/drive/My Drive/Datasets/FFsong/midi_songs/gerudo.mid file has instaument parts\n",
            "## 2 /content/drive/My Drive/Datasets/FFsong/midi_songs/goldsaucer.mid file has instaument parts\n",
            "## 2 /content/drive/My Drive/Datasets/FFsong/midi_songs/great_war.mid file has instaument parts\n",
            "## 2 /content/drive/My Drive/Datasets/FFsong/midi_songs/lurk_in_dark.mid file has instaument parts\n",
            "## 2 /content/drive/My Drive/Datasets/FFsong/midi_songs/mining.mid file has instaument parts\n",
            "## 2 /content/drive/My Drive/Datasets/FFsong/midi_songs/path_of_repentance.mid file has instaument parts\n",
            "## 2 /content/drive/My Drive/Datasets/FFsong/midi_songs/pkelite4.mid file has instaument parts\n",
            "## 2 /content/drive/My Drive/Datasets/FFsong/midi_songs/redwings.mid file has instaument parts\n",
            "## 2 /content/drive/My Drive/Datasets/FFsong/midi_songs/relmstheme-piano.mid file has instaument parts\n",
            "## 2 /content/drive/My Drive/Datasets/FFsong/midi_songs/roseofmay-piano.mid file has instaument parts\n",
            "## 2 /content/drive/My Drive/Datasets/FFsong/midi_songs/rufus.mid file has instaument parts\n",
            "## 2 /content/drive/My Drive/Datasets/FFsong/midi_songs/sandy.mid file has instaument parts\n",
            "## 2 /content/drive/My Drive/Datasets/FFsong/midi_songs/sera_.mid file has instaument parts\n",
            "## 2 /content/drive/My Drive/Datasets/FFsong/midi_songs/sobf.mid file has instaument parts\n",
            "## 2 /content/drive/My Drive/Datasets/FFsong/midi_songs/thenightmarebegins.mid file has instaument parts\n",
            "## 2 /content/drive/My Drive/Datasets/FFsong/midi_songs/thoughts.mid file has instaument parts\n",
            "## 2 /content/drive/My Drive/Datasets/FFsong/midi_songs/tifap.mid file has instaument parts\n",
            "## 2 /content/drive/My Drive/Datasets/FFsong/midi_songs/tpirtsd-piano.mid file has instaument parts\n",
            "## 2 /content/drive/My Drive/Datasets/FFsong/midi_songs/traitor.mid file has instaument parts\n",
            "## 2 /content/drive/My Drive/Datasets/FFsong/midi_songs/ultimafro.mid file has instaument parts\n",
            "## 2 /content/drive/My Drive/Datasets/FFsong/midi_songs/ultros.mid file has instaument parts\n",
            "## 2 /content/drive/My Drive/Datasets/FFsong/midi_songs/waltz_de_choco.mid file has instaument parts\n",
            "## 2 /content/drive/My Drive/Datasets/FFsong/midi_songs/z_aeristhemepiano.mid file has instaument parts\n"
          ],
          "name": "stdout"
        }
      ]
    },
    {
      "cell_type": "code",
      "metadata": {
        "id": "YMy_STeNySwS",
        "colab_type": "code",
        "colab": {
          "base_uri": "https://localhost:8080/",
          "height": 34
        },
        "outputId": "4ec78739-c2d6-4c33-e778-c176e2007879"
      },
      "source": [
        "len(notes)"
      ],
      "execution_count": 28,
      "outputs": [
        {
          "output_type": "execute_result",
          "data": {
            "text/plain": [
              "57177"
            ]
          },
          "metadata": {
            "tags": []
          },
          "execution_count": 28
        }
      ]
    },
    {
      "cell_type": "markdown",
      "metadata": {
        "id": "amMD5lWOy8zp",
        "colab_type": "text"
      },
      "source": [
        "# preprocessing"
      ]
    },
    {
      "cell_type": "code",
      "metadata": {
        "id": "qpTcHSk90YYA",
        "colab_type": "code",
        "colab": {}
      },
      "source": [
        "sequence_length = 100\n",
        "# 모든 계이름의 이름을 pitchnames 변수에 저장함\n",
        "# set: 중복 피함, sorted:정렬\n",
        "pitchnames = sorted(set(item for item in notes))\n",
        "\n",
        "# 계이름을 숫자로 바꾸는 딕셔너리 생성\n",
        "note_to_int = dict((note, number) for number, note in enumerate(pitchnames))\n",
        "network_input = []\n",
        "network_output = []"
      ],
      "execution_count": 29,
      "outputs": []
    },
    {
      "cell_type": "code",
      "metadata": {
        "id": "k6b0VFGd1aVP",
        "colab_type": "code",
        "colab": {}
      },
      "source": [
        "for i in range(0, len(notes) - sequence_length, 1):\n",
        "  sequence_in = notes[i:i+ sequence_length]\n",
        "  sequence_out = notes[i+sequence_length]\n",
        "  network_input.append([note_to_int[char] for char in sequence_in])\n",
        "  network_output.append(note_to_int[sequence_out])\n",
        "\n",
        "n_patterns = len(network_input)"
      ],
      "execution_count": 30,
      "outputs": []
    },
    {
      "cell_type": "code",
      "metadata": {
        "id": "d-wne7KV1bdO",
        "colab_type": "code",
        "colab": {
          "base_uri": "https://localhost:8080/",
          "height": 215
        },
        "outputId": "a4cb5343-0fc8-4d17-bc00-e77b8d0db743"
      },
      "source": [
        "# 데이터 입력 형태를 LTSM에 맞게 변환\n",
        "network_input = np.reshape(network_input, (n_patterns, sequence_length, 1))\n",
        "\n",
        "# 입력값 정규화\n",
        "network_input = network_input / float(n_vocab)\n",
        "network_output = np.utils.to_categorical(network_output)"
      ],
      "execution_count": 35,
      "outputs": [
        {
          "output_type": "error",
          "ename": "NameError",
          "evalue": "ignored",
          "traceback": [
            "\u001b[0;31m---------------------------------------------------------------------------\u001b[0m",
            "\u001b[0;31mNameError\u001b[0m                                 Traceback (most recent call last)",
            "\u001b[0;32m<ipython-input-35-60b3a2e591d7>\u001b[0m in \u001b[0;36m<module>\u001b[0;34m()\u001b[0m\n\u001b[1;32m      3\u001b[0m \u001b[0;34m\u001b[0m\u001b[0m\n\u001b[1;32m      4\u001b[0m \u001b[0;31m# 입력값 정규화\u001b[0m\u001b[0;34m\u001b[0m\u001b[0;34m\u001b[0m\u001b[0;34m\u001b[0m\u001b[0m\n\u001b[0;32m----> 5\u001b[0;31m \u001b[0mnetwork_input\u001b[0m \u001b[0;34m=\u001b[0m \u001b[0mnetwork_input\u001b[0m\u001b[0;34m/\u001b[0m\u001b[0mfloat\u001b[0m\u001b[0;34m(\u001b[0m\u001b[0mn_vocab\u001b[0m\u001b[0;34m)\u001b[0m\u001b[0;34m\u001b[0m\u001b[0;34m\u001b[0m\u001b[0m\n\u001b[0m\u001b[1;32m      6\u001b[0m \u001b[0mnetwork_output\u001b[0m \u001b[0;34m=\u001b[0m \u001b[0mnp\u001b[0m\u001b[0;34m.\u001b[0m\u001b[0mutils\u001b[0m\u001b[0;34m.\u001b[0m\u001b[0mto_categorical\u001b[0m\u001b[0;34m(\u001b[0m\u001b[0mnetwork_output\u001b[0m\u001b[0;34m)\u001b[0m\u001b[0;34m\u001b[0m\u001b[0;34m\u001b[0m\u001b[0m\n",
            "\u001b[0;31mNameError\u001b[0m: name 'n_vocab' is not defined"
          ]
        }
      ]
    },
    {
      "cell_type": "code",
      "metadata": {
        "id": "ms_ifA_d2tSE",
        "colab_type": "code",
        "colab": {}
      },
      "source": [
        ""
      ],
      "execution_count": null,
      "outputs": []
    }
  ]
}