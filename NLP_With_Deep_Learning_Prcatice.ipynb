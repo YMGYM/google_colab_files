{
  "nbformat": 4,
  "nbformat_minor": 0,
  "metadata": {
    "colab": {
      "name": "NLP_With_Deep_Learning_Prcatice.ipynb",
      "provenance": [],
      "toc_visible": true,
      "authorship_tag": "ABX9TyPU9f5hFMP+Ns4CnsyKACRb",
      "include_colab_link": true
    },
    "kernelspec": {
      "name": "python3",
      "display_name": "Python 3"
    }
  },
  "cells": [
    {
      "cell_type": "markdown",
      "metadata": {
        "id": "view-in-github",
        "colab_type": "text"
      },
      "source": [
        "<a href=\"https://colab.research.google.com/github/YMGYM/google_colab_files/blob/master/NLP_With_Deep_Learning_Prcatice.ipynb\" target=\"_parent\"><img src=\"https://colab.research.google.com/assets/colab-badge.svg\" alt=\"Open In Colab\"/></a>"
      ]
    },
    {
      "cell_type": "markdown",
      "metadata": {
        "id": "QilqMbGmmR9N",
        "colab_type": "text"
      },
      "source": [
        "# Intro\n",
        "이것은 https://wikidocs.net/24996 의 실습입니다"
      ]
    },
    {
      "cell_type": "markdown",
      "metadata": {
        "id": "nNoW8pZY0eUm",
        "colab_type": "text"
      },
      "source": [
        "# import dataset"
      ]
    },
    {
      "cell_type": "code",
      "metadata": {
        "id": "jWf9OW3M0fzq",
        "colab_type": "code",
        "colab": {}
      },
      "source": [
        "import pandas as pd\n",
        "import urllib3\n",
        "import zipfile\n",
        "import shutil\n",
        "import os\n",
        "from tensorflow.keras.preprocessing.sequence import pad_sequences\n",
        "from tensorflow.keras.utils import to_categorical"
      ],
      "execution_count": 1,
      "outputs": []
    },
    {
      "cell_type": "code",
      "metadata": {
        "id": "wmvJ8THj0q6J",
        "colab_type": "code",
        "colab": {}
      },
      "source": [
        "http = urllib3.PoolManager()\n",
        "url = 'http://www.manythings.org/anki/fra-eng.zip'\n",
        "filename = 'fra-eng.zip'\n",
        "path = os.getcwd()\n",
        "zipfilename = os.path.join(path, filename)\n",
        "\n",
        "with http.request(\"GET\", url, preload_content=False) as r, open(zipfilename, 'wb') as out_file:\n",
        "  shutil.copyfileobj(r, out_file)\n",
        "\n",
        "with zipfile.ZipFile(zipfilename, 'r') as zip_ref:\n",
        "  zip_ref.extractall(path)"
      ],
      "execution_count": 3,
      "outputs": []
    },
    {
      "cell_type": "code",
      "metadata": {
        "id": "BSPHK-Fe1ZGD",
        "colab_type": "code",
        "colab": {
          "base_uri": "https://localhost:8080/",
          "height": 34
        },
        "outputId": "639d0da6-3678-4cbb-bacd-e7832a916ce7"
      },
      "source": [
        "lines = pd.read_csv(\"fra.txt\", names=['src', 'tar', 'copy'], sep='\\t')\n",
        "len(lines)"
      ],
      "execution_count": 11,
      "outputs": [
        {
          "output_type": "execute_result",
          "data": {
            "text/plain": [
              "178009"
            ]
          },
          "metadata": {
            "tags": []
          },
          "execution_count": 11
        }
      ]
    },
    {
      "cell_type": "code",
      "metadata": {
        "id": "rtx2LlHG11Ss",
        "colab_type": "code",
        "colab": {
          "base_uri": "https://localhost:8080/",
          "height": 419
        },
        "outputId": "4959fa9d-f6a6-4cdb-db76-f4f3521359eb"
      },
      "source": [
        "lines"
      ],
      "execution_count": 12,
      "outputs": [
        {
          "output_type": "execute_result",
          "data": {
            "text/html": [
              "<div>\n",
              "<style scoped>\n",
              "    .dataframe tbody tr th:only-of-type {\n",
              "        vertical-align: middle;\n",
              "    }\n",
              "\n",
              "    .dataframe tbody tr th {\n",
              "        vertical-align: top;\n",
              "    }\n",
              "\n",
              "    .dataframe thead th {\n",
              "        text-align: right;\n",
              "    }\n",
              "</style>\n",
              "<table border=\"1\" class=\"dataframe\">\n",
              "  <thead>\n",
              "    <tr style=\"text-align: right;\">\n",
              "      <th></th>\n",
              "      <th>src</th>\n",
              "      <th>tar</th>\n",
              "      <th>copy</th>\n",
              "    </tr>\n",
              "  </thead>\n",
              "  <tbody>\n",
              "    <tr>\n",
              "      <th>0</th>\n",
              "      <td>Go.</td>\n",
              "      <td>Va !</td>\n",
              "      <td>CC-BY 2.0 (France) Attribution: tatoeba.org #2...</td>\n",
              "    </tr>\n",
              "    <tr>\n",
              "      <th>1</th>\n",
              "      <td>Hi.</td>\n",
              "      <td>Salut !</td>\n",
              "      <td>CC-BY 2.0 (France) Attribution: tatoeba.org #5...</td>\n",
              "    </tr>\n",
              "    <tr>\n",
              "      <th>2</th>\n",
              "      <td>Hi.</td>\n",
              "      <td>Salut.</td>\n",
              "      <td>CC-BY 2.0 (France) Attribution: tatoeba.org #5...</td>\n",
              "    </tr>\n",
              "    <tr>\n",
              "      <th>3</th>\n",
              "      <td>Run!</td>\n",
              "      <td>Cours !</td>\n",
              "      <td>CC-BY 2.0 (France) Attribution: tatoeba.org #9...</td>\n",
              "    </tr>\n",
              "    <tr>\n",
              "      <th>4</th>\n",
              "      <td>Run!</td>\n",
              "      <td>Courez !</td>\n",
              "      <td>CC-BY 2.0 (France) Attribution: tatoeba.org #9...</td>\n",
              "    </tr>\n",
              "    <tr>\n",
              "      <th>...</th>\n",
              "      <td>...</td>\n",
              "      <td>...</td>\n",
              "      <td>...</td>\n",
              "    </tr>\n",
              "    <tr>\n",
              "      <th>178004</th>\n",
              "      <td>Top-down economics never works, said Obama. \"T...</td>\n",
              "      <td>« L'économie en partant du haut vers le bas, ç...</td>\n",
              "      <td>CC-BY 2.0 (France) Attribution: tatoeba.org #1...</td>\n",
              "    </tr>\n",
              "    <tr>\n",
              "      <th>178005</th>\n",
              "      <td>A carbon footprint is the amount of carbon dio...</td>\n",
              "      <td>Une empreinte carbone est la somme de pollutio...</td>\n",
              "      <td>CC-BY 2.0 (France) Attribution: tatoeba.org #1...</td>\n",
              "    </tr>\n",
              "    <tr>\n",
              "      <th>178006</th>\n",
              "      <td>Death is something that we're often discourage...</td>\n",
              "      <td>La mort est une chose qu'on nous décourage sou...</td>\n",
              "      <td>CC-BY 2.0 (France) Attribution: tatoeba.org #1...</td>\n",
              "    </tr>\n",
              "    <tr>\n",
              "      <th>178007</th>\n",
              "      <td>Since there are usually multiple websites on a...</td>\n",
              "      <td>Puisqu'il y a de multiples sites web sur chaqu...</td>\n",
              "      <td>CC-BY 2.0 (France) Attribution: tatoeba.org #9...</td>\n",
              "    </tr>\n",
              "    <tr>\n",
              "      <th>178008</th>\n",
              "      <td>If someone who doesn't know your background sa...</td>\n",
              "      <td>Si quelqu'un qui ne connaît pas vos antécédent...</td>\n",
              "      <td>CC-BY 2.0 (France) Attribution: tatoeba.org #9...</td>\n",
              "    </tr>\n",
              "  </tbody>\n",
              "</table>\n",
              "<p>178009 rows × 3 columns</p>\n",
              "</div>"
            ],
            "text/plain": [
              "                                                      src  ...                                               copy\n",
              "0                                                     Go.  ...  CC-BY 2.0 (France) Attribution: tatoeba.org #2...\n",
              "1                                                     Hi.  ...  CC-BY 2.0 (France) Attribution: tatoeba.org #5...\n",
              "2                                                     Hi.  ...  CC-BY 2.0 (France) Attribution: tatoeba.org #5...\n",
              "3                                                    Run!  ...  CC-BY 2.0 (France) Attribution: tatoeba.org #9...\n",
              "4                                                    Run!  ...  CC-BY 2.0 (France) Attribution: tatoeba.org #9...\n",
              "...                                                   ...  ...                                                ...\n",
              "178004  Top-down economics never works, said Obama. \"T...  ...  CC-BY 2.0 (France) Attribution: tatoeba.org #1...\n",
              "178005  A carbon footprint is the amount of carbon dio...  ...  CC-BY 2.0 (France) Attribution: tatoeba.org #1...\n",
              "178006  Death is something that we're often discourage...  ...  CC-BY 2.0 (France) Attribution: tatoeba.org #1...\n",
              "178007  Since there are usually multiple websites on a...  ...  CC-BY 2.0 (France) Attribution: tatoeba.org #9...\n",
              "178008  If someone who doesn't know your background sa...  ...  CC-BY 2.0 (France) Attribution: tatoeba.org #9...\n",
              "\n",
              "[178009 rows x 3 columns]"
            ]
          },
          "metadata": {
            "tags": []
          },
          "execution_count": 12
        }
      ]
    },
    {
      "cell_type": "code",
      "metadata": {
        "id": "ZdufWppi1_mG",
        "colab_type": "code",
        "colab": {}
      },
      "source": [
        "lines = lines.loc[:, 'src':'tar']\n",
        "lines = lines[0:60000]"
      ],
      "execution_count": 13,
      "outputs": []
    },
    {
      "cell_type": "code",
      "metadata": {
        "id": "UDRTjHID2IFa",
        "colab_type": "code",
        "colab": {
          "base_uri": "https://localhost:8080/",
          "height": 359
        },
        "outputId": "ba7a0e02-9550-48bd-cad4-c3d0a6a3fe29"
      },
      "source": [
        "lines.sample(10)"
      ],
      "execution_count": 15,
      "outputs": [
        {
          "output_type": "execute_result",
          "data": {
            "text/html": [
              "<div>\n",
              "<style scoped>\n",
              "    .dataframe tbody tr th:only-of-type {\n",
              "        vertical-align: middle;\n",
              "    }\n",
              "\n",
              "    .dataframe tbody tr th {\n",
              "        vertical-align: top;\n",
              "    }\n",
              "\n",
              "    .dataframe thead th {\n",
              "        text-align: right;\n",
              "    }\n",
              "</style>\n",
              "<table border=\"1\" class=\"dataframe\">\n",
              "  <thead>\n",
              "    <tr style=\"text-align: right;\">\n",
              "      <th></th>\n",
              "      <th>src</th>\n",
              "      <th>tar</th>\n",
              "    </tr>\n",
              "  </thead>\n",
              "  <tbody>\n",
              "    <tr>\n",
              "      <th>16202</th>\n",
              "      <td>School is boring.</td>\n",
              "      <td>L'école, c'est ennuyeux !</td>\n",
              "    </tr>\n",
              "    <tr>\n",
              "      <th>38764</th>\n",
              "      <td>Tom won't believe it.</td>\n",
              "      <td>Tom n'y croira pas.</td>\n",
              "    </tr>\n",
              "    <tr>\n",
              "      <th>36634</th>\n",
              "      <td>I'm not quitting now.</td>\n",
              "      <td>Je ne vais pas abandonner maintenant.</td>\n",
              "    </tr>\n",
              "    <tr>\n",
              "      <th>57864</th>\n",
              "      <td>There are a lot of rats.</td>\n",
              "      <td>Il y a beaucoup de rats.</td>\n",
              "    </tr>\n",
              "    <tr>\n",
              "      <th>33487</th>\n",
              "      <td>You need to move on.</td>\n",
              "      <td>Il te faut avancer.</td>\n",
              "    </tr>\n",
              "    <tr>\n",
              "      <th>26345</th>\n",
              "      <td>The wind blew hard.</td>\n",
              "      <td>Le vent soufflait fort.</td>\n",
              "    </tr>\n",
              "    <tr>\n",
              "      <th>32208</th>\n",
              "      <td>This is one of mine.</td>\n",
              "      <td>C'est l'une des miennes.</td>\n",
              "    </tr>\n",
              "    <tr>\n",
              "      <th>43712</th>\n",
              "      <td>Listen to your mother.</td>\n",
              "      <td>Écoute ta mère !</td>\n",
              "    </tr>\n",
              "    <tr>\n",
              "      <th>28429</th>\n",
              "      <td>Did I embarrass you?</td>\n",
              "      <td>Vous ai-je embarrassés ?</td>\n",
              "    </tr>\n",
              "    <tr>\n",
              "      <th>11721</th>\n",
              "      <td>I'm your friend.</td>\n",
              "      <td>Je suis votre amie.</td>\n",
              "    </tr>\n",
              "  </tbody>\n",
              "</table>\n",
              "</div>"
            ],
            "text/plain": [
              "                            src                                    tar\n",
              "16202         School is boring.              L'école, c'est ennuyeux !\n",
              "38764     Tom won't believe it.                    Tom n'y croira pas.\n",
              "36634     I'm not quitting now.  Je ne vais pas abandonner maintenant.\n",
              "57864  There are a lot of rats.               Il y a beaucoup de rats.\n",
              "33487      You need to move on.                    Il te faut avancer.\n",
              "26345       The wind blew hard.                Le vent soufflait fort.\n",
              "32208      This is one of mine.               C'est l'une des miennes.\n",
              "43712    Listen to your mother.                       Écoute ta mère !\n",
              "28429      Did I embarrass you?               Vous ai-je embarrassés ?\n",
              "11721          I'm your friend.                    Je suis votre amie."
            ]
          },
          "metadata": {
            "tags": []
          },
          "execution_count": 15
        }
      ]
    },
    {
      "cell_type": "markdown",
      "metadata": {
        "id": "7NH3ajyu685L",
        "colab_type": "text"
      },
      "source": [
        "# make CharSet\n",
        "글자수 Set을 만들면 쉽게 중복을 안 셀수 있다..."
      ]
    },
    {
      "cell_type": "code",
      "metadata": {
        "id": "ujlWc32s2I4x",
        "colab_type": "code",
        "colab": {}
      },
      "source": [
        "src_vocab = set()\n",
        "\n",
        "for line in lines.src: # 1줄씩 읽기\n",
        "  for char in line: # 1개씩 읽기\n",
        "    src_vocab.add(char)"
      ],
      "execution_count": 16,
      "outputs": []
    },
    {
      "cell_type": "code",
      "metadata": {
        "id": "Qcm3u4Dp7ZDC",
        "colab_type": "code",
        "colab": {
          "base_uri": "https://localhost:8080/",
          "height": 1000
        },
        "outputId": "4bedc625-83e8-4668-ea98-cfafbfcb6e80"
      },
      "source": [
        "src_vocab"
      ],
      "execution_count": 17,
      "outputs": [
        {
          "output_type": "execute_result",
          "data": {
            "text/plain": [
              "{' ',\n",
              " '!',\n",
              " '\"',\n",
              " '$',\n",
              " '%',\n",
              " '&',\n",
              " \"'\",\n",
              " ',',\n",
              " '-',\n",
              " '.',\n",
              " '/',\n",
              " '0',\n",
              " '1',\n",
              " '2',\n",
              " '3',\n",
              " '4',\n",
              " '5',\n",
              " '6',\n",
              " '7',\n",
              " '8',\n",
              " '9',\n",
              " ':',\n",
              " '?',\n",
              " 'A',\n",
              " 'B',\n",
              " 'C',\n",
              " 'D',\n",
              " 'E',\n",
              " 'F',\n",
              " 'G',\n",
              " 'H',\n",
              " 'I',\n",
              " 'J',\n",
              " 'K',\n",
              " 'L',\n",
              " 'M',\n",
              " 'N',\n",
              " 'O',\n",
              " 'P',\n",
              " 'Q',\n",
              " 'R',\n",
              " 'S',\n",
              " 'T',\n",
              " 'U',\n",
              " 'V',\n",
              " 'W',\n",
              " 'X',\n",
              " 'Y',\n",
              " 'Z',\n",
              " 'a',\n",
              " 'b',\n",
              " 'c',\n",
              " 'd',\n",
              " 'e',\n",
              " 'f',\n",
              " 'g',\n",
              " 'h',\n",
              " 'i',\n",
              " 'j',\n",
              " 'k',\n",
              " 'l',\n",
              " 'm',\n",
              " 'n',\n",
              " 'o',\n",
              " 'p',\n",
              " 'q',\n",
              " 'r',\n",
              " 's',\n",
              " 't',\n",
              " 'u',\n",
              " 'v',\n",
              " 'w',\n",
              " 'x',\n",
              " 'y',\n",
              " 'z',\n",
              " 'é',\n",
              " '’',\n",
              " '€'}"
            ]
          },
          "metadata": {
            "tags": []
          },
          "execution_count": 17
        }
      ]
    },
    {
      "cell_type": "code",
      "metadata": {
        "id": "_EbCoUbO7aMA",
        "colab_type": "code",
        "colab": {}
      },
      "source": [
        "tar_vocab = set()\n",
        "for line in lines.tar:\n",
        "  for char in line:\n",
        "    tar_vocab.add(char)"
      ],
      "execution_count": 19,
      "outputs": []
    },
    {
      "cell_type": "code",
      "metadata": {
        "id": "MGYSWk_-AUq8",
        "colab_type": "code",
        "colab": {
          "base_uri": "https://localhost:8080/",
          "height": 51
        },
        "outputId": "6fbdc657-972f-410f-937b-b744692771e0"
      },
      "source": [
        "print(len(src_vocab ) + 1)\n",
        "print(len(tar_vocab ) + 1)"
      ],
      "execution_count": 21,
      "outputs": [
        {
          "output_type": "stream",
          "text": [
            "79\n",
            "104\n"
          ],
          "name": "stdout"
        }
      ]
    },
    {
      "cell_type": "markdown",
      "metadata": {
        "id": "BvcWZlq9AqQs",
        "colab_type": "text"
      },
      "source": [
        "# 글자단위 인코딩"
      ]
    },
    {
      "cell_type": "code",
      "metadata": {
        "id": "j3KVfERZA6QD",
        "colab_type": "code",
        "colab": {}
      },
      "source": [
        "src_to_index = dict([(word, i+1) for i, word in enumerate(src_vocab)])\n",
        "tar_to_index = dict([(word, i+1) for i, word in enumerate(tar_vocab)])"
      ],
      "execution_count": 22,
      "outputs": []
    },
    {
      "cell_type": "code",
      "metadata": {
        "id": "S1jKyr0OBDdm",
        "colab_type": "code",
        "colab": {
          "base_uri": "https://localhost:8080/",
          "height": 1000
        },
        "outputId": "be5efe9e-4dc6-466e-ed92-3891e7e7cb55"
      },
      "source": [
        "src_to_index"
      ],
      "execution_count": 23,
      "outputs": [
        {
          "output_type": "execute_result",
          "data": {
            "text/plain": [
              "{' ': 7,\n",
              " '!': 54,\n",
              " '\"': 13,\n",
              " '$': 28,\n",
              " '%': 72,\n",
              " '&': 70,\n",
              " \"'\": 46,\n",
              " ',': 60,\n",
              " '-': 74,\n",
              " '.': 21,\n",
              " '/': 38,\n",
              " '0': 44,\n",
              " '1': 59,\n",
              " '2': 61,\n",
              " '3': 51,\n",
              " '4': 23,\n",
              " '5': 22,\n",
              " '6': 77,\n",
              " '7': 48,\n",
              " '8': 49,\n",
              " '9': 15,\n",
              " ':': 73,\n",
              " '?': 27,\n",
              " 'A': 31,\n",
              " 'B': 36,\n",
              " 'C': 71,\n",
              " 'D': 65,\n",
              " 'E': 69,\n",
              " 'F': 39,\n",
              " 'G': 35,\n",
              " 'H': 53,\n",
              " 'I': 64,\n",
              " 'J': 18,\n",
              " 'K': 24,\n",
              " 'L': 33,\n",
              " 'M': 43,\n",
              " 'N': 62,\n",
              " 'O': 67,\n",
              " 'P': 11,\n",
              " 'Q': 66,\n",
              " 'R': 37,\n",
              " 'S': 76,\n",
              " 'T': 68,\n",
              " 'U': 5,\n",
              " 'V': 9,\n",
              " 'W': 75,\n",
              " 'X': 12,\n",
              " 'Y': 41,\n",
              " 'Z': 8,\n",
              " 'a': 3,\n",
              " 'b': 63,\n",
              " 'c': 16,\n",
              " 'd': 42,\n",
              " 'e': 40,\n",
              " 'f': 58,\n",
              " 'g': 1,\n",
              " 'h': 26,\n",
              " 'i': 57,\n",
              " 'j': 47,\n",
              " 'k': 2,\n",
              " 'l': 56,\n",
              " 'm': 45,\n",
              " 'n': 10,\n",
              " 'o': 78,\n",
              " 'p': 32,\n",
              " 'q': 14,\n",
              " 'r': 55,\n",
              " 's': 19,\n",
              " 't': 30,\n",
              " 'u': 29,\n",
              " 'v': 17,\n",
              " 'w': 6,\n",
              " 'x': 52,\n",
              " 'y': 20,\n",
              " 'z': 34,\n",
              " 'é': 4,\n",
              " '’': 25,\n",
              " '€': 50}"
            ]
          },
          "metadata": {
            "tags": []
          },
          "execution_count": 23
        }
      ]
    },
    {
      "cell_type": "code",
      "metadata": {
        "id": "YAGrR2dOBEe9",
        "colab_type": "code",
        "colab": {}
      },
      "source": [
        ""
      ],
      "execution_count": null,
      "outputs": []
    }
  ]
}