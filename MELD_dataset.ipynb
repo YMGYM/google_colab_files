{
  "nbformat": 4,
  "nbformat_minor": 0,
  "metadata": {
    "colab": {
      "name": "MELD_dataset.ipynb",
      "provenance": [],
      "collapsed_sections": [],
      "toc_visible": true,
      "mount_file_id": "1nOmLole6VkWRXhY2um8x2EOCZXIdDCg2",
      "authorship_tag": "ABX9TyMuAkXT+b6PAWFBycDLPwpe",
      "include_colab_link": true
    },
    "kernelspec": {
      "name": "python3",
      "display_name": "Python 3"
    }
  },
  "cells": [
    {
      "cell_type": "markdown",
      "metadata": {
        "id": "view-in-github",
        "colab_type": "text"
      },
      "source": [
        "<a href=\"https://colab.research.google.com/github/YMGYM/google_colab_files/blob/master/MELD_dataset.ipynb\" target=\"_parent\"><img src=\"https://colab.research.google.com/assets/colab-badge.svg\" alt=\"Open In Colab\"/></a>"
      ]
    },
    {
      "cell_type": "markdown",
      "metadata": {
        "id": "yN9tsnFpCun1",
        "colab_type": "text"
      },
      "source": [
        "# MELD Dataset"
      ]
    },
    {
      "cell_type": "markdown",
      "metadata": {
        "id": "EgFnJnPyCxHg",
        "colab_type": "text"
      },
      "source": [
        "This file is for open and analize the dataset\n",
        "[MELD](https://github.com/declare-lab/MELD)"
      ]
    },
    {
      "cell_type": "code",
      "metadata": {
        "id": "McnHNAD3By29",
        "colab_type": "code",
        "colab": {}
      },
      "source": [
        "import pandas as pd"
      ],
      "execution_count": 0,
      "outputs": []
    },
    {
      "cell_type": "code",
      "metadata": {
        "id": "VOKevXk_C7Fv",
        "colab_type": "code",
        "colab": {}
      },
      "source": [
        "csv_read = pd.read_csv('https://raw.githubusercontent.com/declare-lab/MELD/master/data/MELD/train_sent_emo.csv')"
      ],
      "execution_count": 0,
      "outputs": []
    },
    {
      "cell_type": "code",
      "metadata": {
        "id": "Va-opF3LDSSS",
        "colab_type": "code",
        "colab": {
          "base_uri": "https://localhost:8080/",
          "height": 864
        },
        "outputId": "4cbddce9-2f5e-4977-d4b4-850bc119aaed"
      },
      "source": [
        "# 헐 되네\n",
        "csv_read"
      ],
      "execution_count": 4,
      "outputs": [
        {
          "output_type": "execute_result",
          "data": {
            "text/html": [
              "<div>\n",
              "<style scoped>\n",
              "    .dataframe tbody tr th:only-of-type {\n",
              "        vertical-align: middle;\n",
              "    }\n",
              "\n",
              "    .dataframe tbody tr th {\n",
              "        vertical-align: top;\n",
              "    }\n",
              "\n",
              "    .dataframe thead th {\n",
              "        text-align: right;\n",
              "    }\n",
              "</style>\n",
              "<table border=\"1\" class=\"dataframe\">\n",
              "  <thead>\n",
              "    <tr style=\"text-align: right;\">\n",
              "      <th></th>\n",
              "      <th>Sr No.</th>\n",
              "      <th>Utterance</th>\n",
              "      <th>Speaker</th>\n",
              "      <th>Emotion</th>\n",
              "      <th>Sentiment</th>\n",
              "      <th>Dialogue_ID</th>\n",
              "      <th>Utterance_ID</th>\n",
              "      <th>Season</th>\n",
              "      <th>Episode</th>\n",
              "      <th>StartTime</th>\n",
              "      <th>EndTime</th>\n",
              "    </tr>\n",
              "  </thead>\n",
              "  <tbody>\n",
              "    <tr>\n",
              "      <th>0</th>\n",
              "      <td>1</td>\n",
              "      <td>also I was the point person on my companys tr...</td>\n",
              "      <td>Chandler</td>\n",
              "      <td>neutral</td>\n",
              "      <td>neutral</td>\n",
              "      <td>0</td>\n",
              "      <td>0</td>\n",
              "      <td>8</td>\n",
              "      <td>21</td>\n",
              "      <td>00:16:16,059</td>\n",
              "      <td>00:16:21,731</td>\n",
              "    </tr>\n",
              "    <tr>\n",
              "      <th>1</th>\n",
              "      <td>2</td>\n",
              "      <td>You mustve had your hands full.</td>\n",
              "      <td>The Interviewer</td>\n",
              "      <td>neutral</td>\n",
              "      <td>neutral</td>\n",
              "      <td>0</td>\n",
              "      <td>1</td>\n",
              "      <td>8</td>\n",
              "      <td>21</td>\n",
              "      <td>00:16:21,940</td>\n",
              "      <td>00:16:23,442</td>\n",
              "    </tr>\n",
              "    <tr>\n",
              "      <th>2</th>\n",
              "      <td>3</td>\n",
              "      <td>That I did. That I did.</td>\n",
              "      <td>Chandler</td>\n",
              "      <td>neutral</td>\n",
              "      <td>neutral</td>\n",
              "      <td>0</td>\n",
              "      <td>2</td>\n",
              "      <td>8</td>\n",
              "      <td>21</td>\n",
              "      <td>00:16:23,442</td>\n",
              "      <td>00:16:26,389</td>\n",
              "    </tr>\n",
              "    <tr>\n",
              "      <th>3</th>\n",
              "      <td>4</td>\n",
              "      <td>So lets talk a little bit about your duties.</td>\n",
              "      <td>The Interviewer</td>\n",
              "      <td>neutral</td>\n",
              "      <td>neutral</td>\n",
              "      <td>0</td>\n",
              "      <td>3</td>\n",
              "      <td>8</td>\n",
              "      <td>21</td>\n",
              "      <td>00:16:26,820</td>\n",
              "      <td>00:16:29,572</td>\n",
              "    </tr>\n",
              "    <tr>\n",
              "      <th>4</th>\n",
              "      <td>5</td>\n",
              "      <td>My duties?  All right.</td>\n",
              "      <td>Chandler</td>\n",
              "      <td>surprise</td>\n",
              "      <td>positive</td>\n",
              "      <td>0</td>\n",
              "      <td>4</td>\n",
              "      <td>8</td>\n",
              "      <td>21</td>\n",
              "      <td>00:16:34,452</td>\n",
              "      <td>00:16:40,917</td>\n",
              "    </tr>\n",
              "    <tr>\n",
              "      <th>...</th>\n",
              "      <td>...</td>\n",
              "      <td>...</td>\n",
              "      <td>...</td>\n",
              "      <td>...</td>\n",
              "      <td>...</td>\n",
              "      <td>...</td>\n",
              "      <td>...</td>\n",
              "      <td>...</td>\n",
              "      <td>...</td>\n",
              "      <td>...</td>\n",
              "      <td>...</td>\n",
              "    </tr>\n",
              "    <tr>\n",
              "      <th>9984</th>\n",
              "      <td>10474</td>\n",
              "      <td>You or me?</td>\n",
              "      <td>Chandler</td>\n",
              "      <td>neutral</td>\n",
              "      <td>neutral</td>\n",
              "      <td>1038</td>\n",
              "      <td>13</td>\n",
              "      <td>2</td>\n",
              "      <td>3</td>\n",
              "      <td>00:00:48,173</td>\n",
              "      <td>00:00:50,799</td>\n",
              "    </tr>\n",
              "    <tr>\n",
              "      <th>9985</th>\n",
              "      <td>10475</td>\n",
              "      <td>I got it. Uh, Joey, women don't have Adam's ap...</td>\n",
              "      <td>Ross</td>\n",
              "      <td>neutral</td>\n",
              "      <td>neutral</td>\n",
              "      <td>1038</td>\n",
              "      <td>14</td>\n",
              "      <td>2</td>\n",
              "      <td>3</td>\n",
              "      <td>00:00:51,009</td>\n",
              "      <td>00:00:53,594</td>\n",
              "    </tr>\n",
              "    <tr>\n",
              "      <th>9986</th>\n",
              "      <td>10476</td>\n",
              "      <td>You guys are messing with me, right?</td>\n",
              "      <td>Joey</td>\n",
              "      <td>surprise</td>\n",
              "      <td>positive</td>\n",
              "      <td>1038</td>\n",
              "      <td>15</td>\n",
              "      <td>2</td>\n",
              "      <td>3</td>\n",
              "      <td>00:01:00,518</td>\n",
              "      <td>00:01:03,520</td>\n",
              "    </tr>\n",
              "    <tr>\n",
              "      <th>9987</th>\n",
              "      <td>10477</td>\n",
              "      <td>Yeah.</td>\n",
              "      <td>All</td>\n",
              "      <td>neutral</td>\n",
              "      <td>neutral</td>\n",
              "      <td>1038</td>\n",
              "      <td>16</td>\n",
              "      <td>2</td>\n",
              "      <td>3</td>\n",
              "      <td>00:01:05,398</td>\n",
              "      <td>00:01:07,274</td>\n",
              "    </tr>\n",
              "    <tr>\n",
              "      <th>9988</th>\n",
              "      <td>10478</td>\n",
              "      <td>That was a good one. For a second there, I was...</td>\n",
              "      <td>Joey</td>\n",
              "      <td>joy</td>\n",
              "      <td>positive</td>\n",
              "      <td>1038</td>\n",
              "      <td>17</td>\n",
              "      <td>2</td>\n",
              "      <td>3</td>\n",
              "      <td>00:01:08,401</td>\n",
              "      <td>00:01:12,071</td>\n",
              "    </tr>\n",
              "  </tbody>\n",
              "</table>\n",
              "<p>9989 rows × 11 columns</p>\n",
              "</div>"
            ],
            "text/plain": [
              "      Sr No.  ...       EndTime\n",
              "0          1  ...  00:16:21,731\n",
              "1          2  ...  00:16:23,442\n",
              "2          3  ...  00:16:26,389\n",
              "3          4  ...  00:16:29,572\n",
              "4          5  ...  00:16:40,917\n",
              "...      ...  ...           ...\n",
              "9984   10474  ...  00:00:50,799\n",
              "9985   10475  ...  00:00:53,594\n",
              "9986   10476  ...  00:01:03,520\n",
              "9987   10477  ...  00:01:07,274\n",
              "9988   10478  ...  00:01:12,071\n",
              "\n",
              "[9989 rows x 11 columns]"
            ]
          },
          "metadata": {
            "tags": []
          },
          "execution_count": 4
        }
      ]
    },
    {
      "cell_type": "code",
      "metadata": {
        "id": "2PwFVoB-DU-s",
        "colab_type": "code",
        "colab": {}
      },
      "source": [
        "import tensorflow as tf\n",
        "import tensorflow.keras as K"
      ],
      "execution_count": 0,
      "outputs": []
    },
    {
      "cell_type": "code",
      "metadata": {
        "id": "bKYnzWN8D602",
        "colab_type": "code",
        "colab": {
          "base_uri": "https://localhost:8080/",
          "height": 34
        },
        "outputId": "373d2b83-1ec0-4dbe-def6-d85128859edf"
      },
      "source": [
        "csv_read.shape"
      ],
      "execution_count": 6,
      "outputs": [
        {
          "output_type": "execute_result",
          "data": {
            "text/plain": [
              "(9989, 11)"
            ]
          },
          "metadata": {
            "tags": []
          },
          "execution_count": 6
        }
      ]
    },
    {
      "cell_type": "code",
      "metadata": {
        "id": "S_WDcJT-EWyR",
        "colab_type": "code",
        "colab": {
          "base_uri": "https://localhost:8080/",
          "height": 34
        },
        "outputId": "b6e8fd9c-363b-4da5-9cbd-b659f33f95a4"
      },
      "source": [
        "len(csv_read)"
      ],
      "execution_count": 8,
      "outputs": [
        {
          "output_type": "execute_result",
          "data": {
            "text/plain": [
              "9989"
            ]
          },
          "metadata": {
            "tags": []
          },
          "execution_count": 8
        }
      ]
    },
    {
      "cell_type": "markdown",
      "metadata": {
        "id": "6nIKJDDDEa8E",
        "colab_type": "text"
      },
      "source": [
        "# 공식 피클 데이터"
      ]
    },
    {
      "cell_type": "code",
      "metadata": {
        "id": "f2uSkPLdFdTb",
        "colab_type": "code",
        "colab": {}
      },
      "source": [
        "import pickle\n",
        "# 데이터파일\n",
        "data, W, vocab, word_idx_map, max_sentence_length, label_index = pickle.load(open('/content/drive/My Drive/Datasets/MELD/features/data_emotion.p', 'rb'))"
      ],
      "execution_count": 0,
      "outputs": []
    },
    {
      "cell_type": "code",
      "metadata": {
        "id": "lpXfT4R2Gg3H",
        "colab_type": "code",
        "colab": {}
      },
      "source": [
        ""
      ],
      "execution_count": 0,
      "outputs": []
    },
    {
      "cell_type": "code",
      "metadata": {
        "id": "comFjfjFGl6c",
        "colab_type": "code",
        "colab": {}
      },
      "source": [
        "train_text_CNN_emb, val_text_CNN_emb, test_text_CNN_emb = pickle.load(open('/content/drive/My Drive/Datasets/MELD/features/text_glove_CNN_emotion.pkl', 'rb'))"
      ],
      "execution_count": 0,
      "outputs": []
    },
    {
      "cell_type": "code",
      "metadata": {
        "id": "ZoNnERzlH1iP",
        "colab_type": "code",
        "colab": {
          "base_uri": "https://localhost:8080/",
          "height": 34
        },
        "outputId": "a06d43c0-5b73-4bbd-d03a-c6a13880853e"
      },
      "source": [
        "# CNN 을 사용한 텍스트 임베딩 (h값..)\n",
        "# dial_utt\n",
        "train_text_CNN_emb['0_0'].shape"
      ],
      "execution_count": 32,
      "outputs": [
        {
          "output_type": "execute_result",
          "data": {
            "text/plain": [
              "(100,)"
            ]
          },
          "metadata": {
            "tags": []
          },
          "execution_count": 32
        }
      ]
    },
    {
      "cell_type": "code",
      "metadata": {
        "id": "7ointfwXIS5K",
        "colab_type": "code",
        "colab": {}
      },
      "source": [
        "DIAL = '1'\n",
        "UTTER = '1'\n",
        "STATUS = 'train'"
      ],
      "execution_count": 0,
      "outputs": []
    },
    {
      "cell_type": "code",
      "metadata": {
        "id": "VWkyZ8GFSnKV",
        "colab_type": "code",
        "colab": {
          "base_uri": "https://localhost:8080/",
          "height": 34
        },
        "outputId": "9f607ddf-c2ec-4b54-a76b-4a74fe3f5a48"
      },
      "source": [
        "train_text_CNN_emb[DIAL + '_' + UTTER].shape"
      ],
      "execution_count": 84,
      "outputs": [
        {
          "output_type": "execute_result",
          "data": {
            "text/plain": [
              "(100,)"
            ]
          },
          "metadata": {
            "tags": []
          },
          "execution_count": 84
        }
      ]
    },
    {
      "cell_type": "code",
      "metadata": {
        "id": "K3lcGD4MJSvD",
        "colab_type": "code",
        "colab": {
          "base_uri": "https://localhost:8080/",
          "height": 419
        },
        "outputId": "cf51076e-0af3-4770-b241-dde90d292321"
      },
      "source": [
        " df = pd.DataFrame(data)\n",
        " df"
      ],
      "execution_count": 60,
      "outputs": [
        {
          "output_type": "execute_result",
          "data": {
            "text/html": [
              "<div>\n",
              "<style scoped>\n",
              "    .dataframe tbody tr th:only-of-type {\n",
              "        vertical-align: middle;\n",
              "    }\n",
              "\n",
              "    .dataframe tbody tr th {\n",
              "        vertical-align: top;\n",
              "    }\n",
              "\n",
              "    .dataframe thead th {\n",
              "        text-align: right;\n",
              "    }\n",
              "</style>\n",
              "<table border=\"1\" class=\"dataframe\">\n",
              "  <thead>\n",
              "    <tr style=\"text-align: right;\">\n",
              "      <th></th>\n",
              "      <th>y</th>\n",
              "      <th>dialog</th>\n",
              "      <th>utterance</th>\n",
              "      <th>text</th>\n",
              "      <th>num_words</th>\n",
              "      <th>split</th>\n",
              "    </tr>\n",
              "  </thead>\n",
              "  <tbody>\n",
              "    <tr>\n",
              "      <th>0</th>\n",
              "      <td>neutral</td>\n",
              "      <td>0</td>\n",
              "      <td>0</td>\n",
              "      <td>also i was the point person on my company s tr...</td>\n",
              "      <td>19</td>\n",
              "      <td>train</td>\n",
              "    </tr>\n",
              "    <tr>\n",
              "      <th>1</th>\n",
              "      <td>neutral</td>\n",
              "      <td>0</td>\n",
              "      <td>1</td>\n",
              "      <td>you must ve had your hands full</td>\n",
              "      <td>7</td>\n",
              "      <td>train</td>\n",
              "    </tr>\n",
              "    <tr>\n",
              "      <th>2</th>\n",
              "      <td>neutral</td>\n",
              "      <td>0</td>\n",
              "      <td>2</td>\n",
              "      <td>that i did that i did</td>\n",
              "      <td>6</td>\n",
              "      <td>train</td>\n",
              "    </tr>\n",
              "    <tr>\n",
              "      <th>3</th>\n",
              "      <td>neutral</td>\n",
              "      <td>0</td>\n",
              "      <td>3</td>\n",
              "      <td>so let s talk a little bit about your duties</td>\n",
              "      <td>10</td>\n",
              "      <td>train</td>\n",
              "    </tr>\n",
              "    <tr>\n",
              "      <th>4</th>\n",
              "      <td>neutral</td>\n",
              "      <td>0</td>\n",
              "      <td>5</td>\n",
              "      <td>now you ll be heading a whole division , so yo...</td>\n",
              "      <td>17</td>\n",
              "      <td>train</td>\n",
              "    </tr>\n",
              "    <tr>\n",
              "      <th>...</th>\n",
              "      <td>...</td>\n",
              "      <td>...</td>\n",
              "      <td>...</td>\n",
              "      <td>...</td>\n",
              "      <td>...</td>\n",
              "      <td>...</td>\n",
              "    </tr>\n",
              "    <tr>\n",
              "      <th>13703</th>\n",
              "      <td>anger</td>\n",
              "      <td>279</td>\n",
              "      <td>2</td>\n",
              "      <td>you stole them from me !</td>\n",
              "      <td>6</td>\n",
              "      <td>test</td>\n",
              "    </tr>\n",
              "    <tr>\n",
              "      <th>13704</th>\n",
              "      <td>anger</td>\n",
              "      <td>279</td>\n",
              "      <td>3</td>\n",
              "      <td>you stole them from me ! !</td>\n",
              "      <td>7</td>\n",
              "      <td>test</td>\n",
              "    </tr>\n",
              "    <tr>\n",
              "      <th>13705</th>\n",
              "      <td>anger</td>\n",
              "      <td>279</td>\n",
              "      <td>4</td>\n",
              "      <td>gimme them !</td>\n",
              "      <td>3</td>\n",
              "      <td>test</td>\n",
              "    </tr>\n",
              "    <tr>\n",
              "      <th>13706</th>\n",
              "      <td>anger</td>\n",
              "      <td>279</td>\n",
              "      <td>7</td>\n",
              "      <td>look , i really need some help , okay ? why ? ...</td>\n",
              "      <td>29</td>\n",
              "      <td>test</td>\n",
              "    </tr>\n",
              "    <tr>\n",
              "      <th>13707</th>\n",
              "      <td>anger</td>\n",
              "      <td>279</td>\n",
              "      <td>10</td>\n",
              "      <td>yeah , fade the accent out and people will thi...</td>\n",
              "      <td>24</td>\n",
              "      <td>test</td>\n",
              "    </tr>\n",
              "  </tbody>\n",
              "</table>\n",
              "<p>13708 rows × 6 columns</p>\n",
              "</div>"
            ],
            "text/plain": [
              "             y dialog  ... num_words  split\n",
              "0      neutral      0  ...        19  train\n",
              "1      neutral      0  ...         7  train\n",
              "2      neutral      0  ...         6  train\n",
              "3      neutral      0  ...        10  train\n",
              "4      neutral      0  ...        17  train\n",
              "...        ...    ...  ...       ...    ...\n",
              "13703    anger    279  ...         6   test\n",
              "13704    anger    279  ...         7   test\n",
              "13705    anger    279  ...         3   test\n",
              "13706    anger    279  ...        29   test\n",
              "13707    anger    279  ...        24   test\n",
              "\n",
              "[13708 rows x 6 columns]"
            ]
          },
          "metadata": {
            "tags": []
          },
          "execution_count": 60
        }
      ]
    },
    {
      "cell_type": "code",
      "metadata": {
        "id": "0eobmfZwNHBd",
        "colab_type": "code",
        "colab": {
          "base_uri": "https://localhost:8080/",
          "height": 419
        },
        "outputId": "89c8870f-80bb-4a33-a3be-172f9f55c447"
      },
      "source": [
        "# train 데이터만 골라내자\n",
        "# https://hogni.tistory.com/9 참고\n",
        "is_train = (df['split'] == 'train')\n",
        "train_dataset = df[is_train]\n",
        "train_dataset"
      ],
      "execution_count": 68,
      "outputs": [
        {
          "output_type": "execute_result",
          "data": {
            "text/html": [
              "<div>\n",
              "<style scoped>\n",
              "    .dataframe tbody tr th:only-of-type {\n",
              "        vertical-align: middle;\n",
              "    }\n",
              "\n",
              "    .dataframe tbody tr th {\n",
              "        vertical-align: top;\n",
              "    }\n",
              "\n",
              "    .dataframe thead th {\n",
              "        text-align: right;\n",
              "    }\n",
              "</style>\n",
              "<table border=\"1\" class=\"dataframe\">\n",
              "  <thead>\n",
              "    <tr style=\"text-align: right;\">\n",
              "      <th></th>\n",
              "      <th>y</th>\n",
              "      <th>dialog</th>\n",
              "      <th>utterance</th>\n",
              "      <th>text</th>\n",
              "      <th>num_words</th>\n",
              "      <th>split</th>\n",
              "    </tr>\n",
              "  </thead>\n",
              "  <tbody>\n",
              "    <tr>\n",
              "      <th>0</th>\n",
              "      <td>neutral</td>\n",
              "      <td>0</td>\n",
              "      <td>0</td>\n",
              "      <td>also i was the point person on my company s tr...</td>\n",
              "      <td>19</td>\n",
              "      <td>train</td>\n",
              "    </tr>\n",
              "    <tr>\n",
              "      <th>1</th>\n",
              "      <td>neutral</td>\n",
              "      <td>0</td>\n",
              "      <td>1</td>\n",
              "      <td>you must ve had your hands full</td>\n",
              "      <td>7</td>\n",
              "      <td>train</td>\n",
              "    </tr>\n",
              "    <tr>\n",
              "      <th>2</th>\n",
              "      <td>neutral</td>\n",
              "      <td>0</td>\n",
              "      <td>2</td>\n",
              "      <td>that i did that i did</td>\n",
              "      <td>6</td>\n",
              "      <td>train</td>\n",
              "    </tr>\n",
              "    <tr>\n",
              "      <th>3</th>\n",
              "      <td>neutral</td>\n",
              "      <td>0</td>\n",
              "      <td>3</td>\n",
              "      <td>so let s talk a little bit about your duties</td>\n",
              "      <td>10</td>\n",
              "      <td>train</td>\n",
              "    </tr>\n",
              "    <tr>\n",
              "      <th>4</th>\n",
              "      <td>neutral</td>\n",
              "      <td>0</td>\n",
              "      <td>5</td>\n",
              "      <td>now you ll be heading a whole division , so yo...</td>\n",
              "      <td>17</td>\n",
              "      <td>train</td>\n",
              "    </tr>\n",
              "    <tr>\n",
              "      <th>...</th>\n",
              "      <td>...</td>\n",
              "      <td>...</td>\n",
              "      <td>...</td>\n",
              "      <td>...</td>\n",
              "      <td>...</td>\n",
              "      <td>...</td>\n",
              "    </tr>\n",
              "    <tr>\n",
              "      <th>13205</th>\n",
              "      <td>anger</td>\n",
              "      <td>1035</td>\n",
              "      <td>0</td>\n",
              "      <td>what about me ? ! you you just said i could !</td>\n",
              "      <td>12</td>\n",
              "      <td>train</td>\n",
              "    </tr>\n",
              "    <tr>\n",
              "      <th>13206</th>\n",
              "      <td>anger</td>\n",
              "      <td>1035</td>\n",
              "      <td>2</td>\n",
              "      <td>i can t believe you re not picking me</td>\n",
              "      <td>9</td>\n",
              "      <td>train</td>\n",
              "    </tr>\n",
              "    <tr>\n",
              "      <th>13207</th>\n",
              "      <td>anger</td>\n",
              "      <td>1035</td>\n",
              "      <td>5</td>\n",
              "      <td>fine , y know what , that s it from now on , j...</td>\n",
              "      <td>23</td>\n",
              "      <td>train</td>\n",
              "    </tr>\n",
              "    <tr>\n",
              "      <th>13208</th>\n",
              "      <td>anger</td>\n",
              "      <td>1036</td>\n",
              "      <td>10</td>\n",
              "      <td>a week ?</td>\n",
              "      <td>3</td>\n",
              "      <td>train</td>\n",
              "    </tr>\n",
              "    <tr>\n",
              "      <th>13209</th>\n",
              "      <td>anger</td>\n",
              "      <td>1036</td>\n",
              "      <td>15</td>\n",
              "      <td>no !</td>\n",
              "      <td>2</td>\n",
              "      <td>train</td>\n",
              "    </tr>\n",
              "  </tbody>\n",
              "</table>\n",
              "<p>9989 rows × 6 columns</p>\n",
              "</div>"
            ],
            "text/plain": [
              "             y dialog  ... num_words  split\n",
              "0      neutral      0  ...        19  train\n",
              "1      neutral      0  ...         7  train\n",
              "2      neutral      0  ...         6  train\n",
              "3      neutral      0  ...        10  train\n",
              "4      neutral      0  ...        17  train\n",
              "...        ...    ...  ...       ...    ...\n",
              "13205    anger   1035  ...        12  train\n",
              "13206    anger   1035  ...         9  train\n",
              "13207    anger   1035  ...        23  train\n",
              "13208    anger   1036  ...         3  train\n",
              "13209    anger   1036  ...         2  train\n",
              "\n",
              "[9989 rows x 6 columns]"
            ]
          },
          "metadata": {
            "tags": []
          },
          "execution_count": 68
        }
      ]
    },
    {
      "cell_type": "code",
      "metadata": {
        "id": "ul63GzzrO3i7",
        "colab_type": "code",
        "colab": {
          "base_uri": "https://localhost:8080/",
          "height": 34
        },
        "outputId": "639409db-60b1-4bbe-c811-070760609067"
      },
      "source": [
        "len(train_dataset)"
      ],
      "execution_count": 69,
      "outputs": [
        {
          "output_type": "execute_result",
          "data": {
            "text/plain": [
              "9989"
            ]
          },
          "metadata": {
            "tags": []
          },
          "execution_count": 69
        }
      ]
    },
    {
      "cell_type": "code",
      "metadata": {
        "id": "tKHNMac1JhGf",
        "colab_type": "code",
        "colab": {
          "base_uri": "https://localhost:8080/",
          "height": 142
        },
        "outputId": "22e44358-ec47-4a84-ae96-e548d05a0c82"
      },
      "source": [
        "# 조건이 여러 개인 경우 테스트\n",
        "dial, utter = '0', '0'\n",
        "condition1 = df['dialog'] == dial\n",
        "condition2 = df['utterance'] == utter\n",
        "result_table = df[condition1 & condition2]\n",
        "result_table"
      ],
      "execution_count": 85,
      "outputs": [
        {
          "output_type": "execute_result",
          "data": {
            "text/html": [
              "<div>\n",
              "<style scoped>\n",
              "    .dataframe tbody tr th:only-of-type {\n",
              "        vertical-align: middle;\n",
              "    }\n",
              "\n",
              "    .dataframe tbody tr th {\n",
              "        vertical-align: top;\n",
              "    }\n",
              "\n",
              "    .dataframe thead th {\n",
              "        text-align: right;\n",
              "    }\n",
              "</style>\n",
              "<table border=\"1\" class=\"dataframe\">\n",
              "  <thead>\n",
              "    <tr style=\"text-align: right;\">\n",
              "      <th></th>\n",
              "      <th>y</th>\n",
              "      <th>dialog</th>\n",
              "      <th>utterance</th>\n",
              "      <th>text</th>\n",
              "      <th>num_words</th>\n",
              "      <th>split</th>\n",
              "    </tr>\n",
              "  </thead>\n",
              "  <tbody>\n",
              "    <tr>\n",
              "      <th>0</th>\n",
              "      <td>neutral</td>\n",
              "      <td>0</td>\n",
              "      <td>0</td>\n",
              "      <td>also i was the point person on my company s tr...</td>\n",
              "      <td>19</td>\n",
              "      <td>train</td>\n",
              "    </tr>\n",
              "    <tr>\n",
              "      <th>7791</th>\n",
              "      <td>surprise</td>\n",
              "      <td>0</td>\n",
              "      <td>0</td>\n",
              "      <td>why do all you re coffee mugs have numbers on ...</td>\n",
              "      <td>13</td>\n",
              "      <td>test</td>\n",
              "    </tr>\n",
              "    <tr>\n",
              "      <th>9114</th>\n",
              "      <td>sadness</td>\n",
              "      <td>0</td>\n",
              "      <td>0</td>\n",
              "      <td>oh my god , he s lost it he s totally lost it</td>\n",
              "      <td>13</td>\n",
              "      <td>val</td>\n",
              "    </tr>\n",
              "  </tbody>\n",
              "</table>\n",
              "</div>"
            ],
            "text/plain": [
              "             y dialog  ... num_words  split\n",
              "0      neutral      0  ...        19  train\n",
              "7791  surprise      0  ...        13   test\n",
              "9114   sadness      0  ...        13    val\n",
              "\n",
              "[3 rows x 6 columns]"
            ]
          },
          "metadata": {
            "tags": []
          },
          "execution_count": 85
        }
      ]
    },
    {
      "cell_type": "markdown",
      "metadata": {
        "id": "eVF9L5hBJ2eO",
        "colab_type": "text"
      },
      "source": [
        "# Tensorflow Generator"
      ]
    },
    {
      "cell_type": "code",
      "metadata": {
        "id": "G0zNYn_RQuyK",
        "colab_type": "code",
        "colab": {}
      },
      "source": [
        ""
      ],
      "execution_count": 0,
      "outputs": []
    }
  ]
}