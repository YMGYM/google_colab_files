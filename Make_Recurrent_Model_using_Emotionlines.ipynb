{
  "nbformat": 4,
  "nbformat_minor": 0,
  "metadata": {
    "colab": {
      "name": "Make Recurrent Model using Emotionlines.ipynb",
      "provenance": [],
      "collapsed_sections": [],
      "mount_file_id": "1VqrQ9QXWjMwRzrzmu37h7Q72DF82dMcm",
      "authorship_tag": "ABX9TyM1VB+Gww4Q7QrUHLfMnXgS",
      "include_colab_link": true
    },
    "kernelspec": {
      "name": "python3",
      "display_name": "Python 3"
    }
  },
  "cells": [
    {
      "cell_type": "markdown",
      "metadata": {
        "id": "view-in-github",
        "colab_type": "text"
      },
      "source": [
        "<a href=\"https://colab.research.google.com/github/YMGYM/google_colab_files/blob/master/Make_Recurrent_Model_using_Emotionlines.ipynb\" target=\"_parent\"><img src=\"https://colab.research.google.com/assets/colab-badge.svg\" alt=\"Open In Colab\"/></a>"
      ]
    },
    {
      "cell_type": "markdown",
      "metadata": {
        "id": "W7Zb0zcGuM3x",
        "colab_type": "text"
      },
      "source": [
        "# Load Data"
      ]
    },
    {
      "cell_type": "markdown",
      "metadata": {
        "id": "2p9TeeAXY8gV",
        "colab_type": "text"
      },
      "source": [
        "Use EmotionLine Dataset\n",
        "I downloaded it to my GoogleDrive"
      ]
    },
    {
      "cell_type": "code",
      "metadata": {
        "id": "U2OuBXEyZAEQ",
        "colab_type": "code",
        "colab": {
          "base_uri": "https://localhost:8080/",
          "height": 85
        },
        "outputId": "81c32e14-cde4-4bca-e005-88b742b9447e"
      },
      "source": [
        "! tar -xvzf /content/drive/My\\ Drive/Datasets/Emotionlines/EmotionLines_friends_annotation.tar.gz"
      ],
      "execution_count": 3,
      "outputs": [
        {
          "output_type": "stream",
          "text": [
            "EmotionLines/Friends/friends_train.json\n",
            "EmotionLines/Friends/friends_dev.json\n",
            "EmotionLines/Friends/friends_test.json\n",
            "EmotionLines/README\n"
          ],
          "name": "stdout"
        }
      ]
    },
    {
      "cell_type": "code",
      "metadata": {
        "id": "U411UkQ6ZGd_",
        "colab_type": "code",
        "colab": {}
      },
      "source": [
        "import pandas as pd\n",
        "import json\n",
        "import tensorflow as tf\n",
        "import tensorflow.keras as tf\n",
        "import numpy as np"
      ],
      "execution_count": 12,
      "outputs": []
    },
    {
      "cell_type": "markdown",
      "metadata": {
        "id": "ArSrh45ObFvc",
        "colab_type": "text"
      },
      "source": [
        "# Data Preprocessing"
      ]
    },
    {
      "cell_type": "code",
      "metadata": {
        "id": "h7nSeNk9bYtf",
        "colab_type": "code",
        "colab": {}
      },
      "source": [
        "def make_dataframe():\n",
        "  with open('/content/EmotionLines/Friends/friends_train.json', encoding='utf-8', mode='r'):\n",
        "    array = json.load(f)\n",
        "\n",
        "  data = []\n",
        "  for i in range(len(array)):\n",
        "    data += array[i]\n",
        "  print(f\"Data loaded...\\n total size of data : {len(data)}\")\n",
        "  df = pd.Dataframe(data)\n",
        "  print(df.head())\n",
        "  return df"
      ],
      "execution_count": 11,
      "outputs": []
    },
    {
      "cell_type": "code",
      "metadata": {
        "id": "vSYFP8CVcoyB",
        "colab_type": "code",
        "colab": {}
      },
      "source": [
        "def make_dataset(df, purpose=\"train\"):\n",
        "  # make x value\n",
        "  x_train = df.utterence\n",
        "  \n",
        "  # make the value to dtype: Category\n",
        "  df['emotion'] = pd.Categorical(df['emotion'])\n",
        "  ys = df.emotion.cat.codes\n",
        "  y_onehot = tf.one_hot(ys, depth=8)\n",
        "\n",
        "  print(f\"x_{purpose} : {x_train.shpe} \\n y_{purpose} : {y_onehot.shape}\")\n",
        "  return x_train, y_onehot"
      ],
      "execution_count": null,
      "outputs": []
    },
    {
      "cell_type": "code",
      "metadata": {
        "id": "p97vJ4MWpxg3",
        "colab_type": "code",
        "colab": {}
      },
      "source": [
        "def text_tokenizer(tokenizer, xs, maxlen):\n",
        "  tokenizer.fit_on_texts(xs.values)\n",
        "  x_in = tokenizer.text_to_sequence(xs)\n",
        "  pad_x = tf.keras.preprocessing.sequence.pad_sequences(x_in, maxlen=maxlen)\n",
        "\n",
        "  return pad_x"
      ],
      "execution_count": null,
      "outputs": []
    }
  ]
}